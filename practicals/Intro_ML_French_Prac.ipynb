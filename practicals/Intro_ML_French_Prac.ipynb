{
  "cells": [
    {
      "cell_type": "markdown",
      "metadata": {
        "id": "m2s4kN_QPQVe"
      },
      "source": [
        "# **Dive into Machine Learning: Learning by Implementing**\n",
        "\n",
        "<img src=\"https://static.javatpoint.com/tutorial/machine-learning/images/introduction-to-machine-learning.png\" width=\"60%\" />\n",
        "\n",
        "*Before you start*\n",
        "\n",
        "Use this link to access the practical and save a copy.\n",
        "\n",
        "<a href=\"https://colab.research.google.com/github/deep-learning-indaba/indaba-pracs-2023/blob/5-feat-introduction-to-ml-practical/practicals/Intro_ML_English_Prac.ipynb\" target=\"_parent\"><img src=\"https://colab.research.google.com/assets/colab-badge.svg\" alt=\"Open In Colab\"/></a> [Change colab link to point to prac.]\n",
        "\n",
        "© Deep Learning Indaba 2023. Apache License 2.0.\n",
        "\n",
        "**Authors:**\n",
        "\n",
        "**Reviewers:**\n",
        "\n",
        "**Introduction:**\n",
        "\n",
        "Dans ce tutoriel, nous explorerons les fondamentaux du machine learning. Nous allons apprendre comment creer et entrainer un classeur d'apprentissage automatique. Nous allons nous familiariser avec les concept sur la function cout et son optimization.\n",
        "\n",
        "**Topics:**\n",
        "\n",
        "Sujets: Apprentissage Supervisé, Reseaux des Neurones, Calcul Numerique.\n",
        "\n",
        "Level: <font color='grey'>`Debutant`\n",
        "\n",
        "\n",
        "**Objectifs::**\n",
        "\n",
        "- Comprendre les base des l'apprentissage machine(automatique)\n",
        "- Entrainer une modele de regression lineaire \n",
        "- Entrainer une reseau de neuronnes pour la classification a plusiers classes.\n",
        "\n",
        "**Prerequisites:**\n",
        "\n",
        "- Familiarity with [Numpy](https://numpy.org/doc/stable/user/quickstart.html).\n",
        "\n",
        "**Outline:**\n",
        "\n",
        ">[Hands-on Introduction to Machine Learning](#scrollTo=m2s4kN_QPQVe)\n",
        "\n",
        ">>[What is machine learning](#scrollTo=FVw9C8GugkAj)\n",
        "\n",
        ">>>[1.1 Types of machine learning problems - Beginner](#scrollTo=v2k8dcYR9Hvb)\n",
        "\n",
        ">>>[1.2 Data - Beginner](#scrollTo=1KK-dbRw730T)\n",
        "\n",
        ">>[Regression](#scrollTo=e9NW58_3hAg2)\n",
        "\n",
        ">>>[2.1 Linear regression - Beginner](#scrollTo=bA_2coZvhAg3)\n",
        "\n",
        ">>>>[Loss function and optimization - Beginner](#scrollTo=hNJgESq_LP4R)\n",
        "\n",
        ">>>>[Training the model using Jax - Beginner](#scrollTo=q9dQh9DdLYPE)\n",
        "\n",
        ">>>[2.2 Non linear regression and neural networks  - Beginner](#scrollTo=BKtMEnRkhAg9)\n",
        "\n",
        ">>>>[Model representation - Beginner](#scrollTo=XStsgHB2MarI)\n",
        "\n",
        ">>>>[Activation functions - Beginner](#scrollTo=fkpytbBzMvMj)\n",
        "\n",
        ">>>>[Building a simple neural network model with Jax - Beginner](#scrollTo=3Wrxt2orM7sk)\n",
        "\n",
        ">>[Classification](#scrollTo=fbTsk0MdhAhC)\n",
        "\n",
        ">>>[3.1 Logistic regression - Beginner](#scrollTo=wMgxJU0TOX6O)\n",
        "\n",
        ">>>>[Logits and sigmoid activation function - Beginner](#scrollTo=SE1L3rmaO4UP)\n",
        "\n",
        ">>>>[Extending to Multi-class classification](#scrollTo=HjQNjDC2cG2t)\n",
        "\n",
        ">>>>[Building a simple neural network for classification - Beginner](#scrollTo=EcXXE56hPOhK)\n",
        "\n",
        ">>>>[Training the model - Beginner](#scrollTo=GcSvlekHPWxW)\n",
        "\n",
        ">>>>[Evaluating the model - Beginner](#scrollTo=sGPvmGWkP1fT)\n",
        "\n",
        ">>[Conclusion](#scrollTo=fV3YG7QOZD-B)\n",
        "\n",
        ">>>[Appendix](#scrollTo=742JhcnAxTof)\n",
        "\n",
        ">>>[Basis of JAX [OPTIONAL] - Beginner](#scrollTo=742JhcnAxTof)\n",
        "\n",
        ">>>>[JAX and NumPy - Differences ❌](#scrollTo=etSsvtmQz9L9)\n",
        "\n",
        ">>>>[JAX arrays are immutable, while NumPy arrays are not.](#scrollTo=mgu5mHNZ1Esn)\n",
        "\n",
        ">>>>[Randomness in NumPy vs JAX](#scrollTo=Ik_8oN9m1_zS)\n",
        "\n",
        ">>>>>[In Numpy, PRNG is based on a global state.](#scrollTo=jaWE-uiW2G4p)\n",
        "\n",
        ">>>>>[In JAX, PRNG is explicit.](#scrollTo=eNQW9JwK4Yp6)\n",
        "\n",
        ">>>[Derivation of partial derivatives for exercise 2 [OPTIONAL]](#scrollTo=kh_8f4gKyufu)\n",
        "\n",
        ">>>[Intuition for multi-class CE loss: exercise 3 [OPTIONAL]](#scrollTo=fRYbQvz01Zlm)\n",
        "\n",
        ">>[Feedback](#scrollTo=o1ndpYE50BpG)\n"
      ]
    },
    {
      "cell_type": "code",
      "execution_count": 1,
      "metadata": {
        "colab": {
          "base_uri": "https://localhost:8080/"
        },
        "id": "4boGA9rYdt9l",
        "outputId": "2a4dece7-e955-464d-e9c7-a1822e414750"
      },
      "outputs": [
        {
          "name": "stdout",
          "output_type": "stream",
          "text": [
            "\u001b[?25l     \u001b[90m━━━━━━━━━━━━━━━━━━━━━━━━━━━━━━━━━━━━━━━━\u001b[0m \u001b[32m0.0/98.2 kB\u001b[0m \u001b[31m?\u001b[0m eta \u001b[36m-:--:--\u001b[0m\r\u001b[2K     \u001b[91m━━━━━━━━━━━━━━━━━━━━━━━━━━━━━━━━━━━━━\u001b[0m\u001b[91m╸\u001b[0m\u001b[90m━━\u001b[0m \u001b[32m92.2/98.2 kB\u001b[0m \u001b[31m3.0 MB/s\u001b[0m eta \u001b[36m0:00:01\u001b[0m\r\u001b[2K     \u001b[90m━━━━━━━━━━━━━━━━━━━━━━━━━━━━━━━━━━━━━━━━\u001b[0m \u001b[32m98.2/98.2 kB\u001b[0m \u001b[31m2.5 MB/s\u001b[0m eta \u001b[36m0:00:00\u001b[0m\n",
            "\u001b[?25h\u001b[?25l     \u001b[90m━━━━━━━━━━━━━━━━━━━━━━━━━━━━━━━━━━━━━━━━\u001b[0m \u001b[32m0.0/77.9 kB\u001b[0m \u001b[31m?\u001b[0m eta \u001b[36m-:--:--\u001b[0m\r\u001b[2K     \u001b[90m━━━━━━━━━━━━━━━━━━━━━━━━━━━━━━━━━━━━━━━━\u001b[0m \u001b[32m77.9/77.9 kB\u001b[0m \u001b[31m10.2 MB/s\u001b[0m eta \u001b[36m0:00:00\u001b[0m\n",
            "\u001b[?25h  Preparing metadata (setup.py) ... \u001b[?25l\u001b[?25hdone\n",
            "  Building wheel for ml-collections (setup.py) ... \u001b[?25l\u001b[?25hdone\n"
          ]
        }
      ],
      "source": [
        "## Install and import anything required. Capture hides the output from the cell.\n",
        "# @title Install and import required packages. (Run Cell)\n",
        "!pip install -q clu\n",
        "\n",
        "import jax\n",
        "import jax.numpy as jnp\n",
        "import flax\n",
        "import flax.linen as nn\n",
        "from typing import NamedTuple, Any, Dict\n",
        "\n",
        "import matplotlib.pyplot as plt\n",
        "import numpy as np\n",
        "\n",
        "from clu import parameter_overview\n",
        "\n",
        "from sklearn.datasets import fetch_openml\n"
      ]
    },
    {
      "cell_type": "markdown",
      "metadata": {
        "id": "FVw9C8GugkAj"
      },
      "source": [
        "# **Qu'est-ce que l'apprentissage automatique (Machine Learning)**\n",
        "\n",
        "Dans les deux decenies passes, le domaine de l'intelliegnce artificielle a evoluer d'un domaine utilisé uniquement par les informaticiens, mathematiciens, et physiciens  à un domaine appliqué dans tous domaine. C'est actuellement utiliser par tous humain d'un domaine a un autre. Les appications comme youtube et netflix que nous utilisons au jour le jour utilize l'IA pour suggerer le contenue que nous pouvons aimer.\n",
        "<center>\n",
        "<img src=\"https://www.simplilearn.com/ice9/free_resources_article_thumb/AIvsML.png\" width=\"80%\"/>\n",
        "</center>"
      ]
    },
    {
      "cell_type": "markdown",
      "metadata": {
        "id": "6pRWdqAi7FTZ"
      },
      "source": [
        "L'IA c'est une science qui a pour objectif le development des systemes intelligent. **L'apprentissage automatique** est un sous ensemble de l'IA qui apprend des données en utilisant les techiques de la modellisation statitstiques. **L'apprentissage profond ou deep learning** c'est un sous ensenmble de l'apprentissage machine qui utilise les reseaux des neurones artificielles pour la modelisations."
      ]
    },
    {
      "cell_type": "markdown",
      "metadata": {
        "id": "v2k8dcYR9Hvb"
      },
      "source": [
        "### 1.1 Types des problemes d'appentissage automatique.- <font color='blue'>`Beginner`</font>\n",
        "\n",
        "L'apprentissage automatique se base sur l'apprentissage sur le données.  Lors de la formulation d'un probleme d'apprentissage automatique, la premiere question a se posee est de savoir quel type de tache nous avons. En general les taches du machine learning peuvent etre diviser en 3 categories.\n",
        "\n",
        "<center>\n",
        "<img src=\"https://www.researchgate.net/publication/354960266/figure/fig1/AS:1075175843983363@1633353305883/The-main-types-of-machine-learning-Main-approaches-include-classification-and.png\" width=\"80%\" />\n",
        "</center>\n",
        "\n",
        "<font color='red'>Apprentissage non supervisee: </font>: Dans l'apprentissage non supervise, nour avons des données non labelisée et l'objectif est de trouvers des patterns, structures ou relations entre les. donees sans explicit guidance. L'agorithm essayes de grouper les donnes smiliares et reduire leur dimension pour trouver les structures cachés.\n",
        "\n",
        "<font color='red'>Unsupervised Learning</font>: In unsupervised learning, the algorithm is given an unlabeled dataset, and the goal is to find patterns, structures, or relationships within the data without labels. The algorithm tries to group similar data points or reduce the dimensionality of the data to reveal underlying structures.\n",
        "\n",
        "<font color='red'>Reinforcement learning:</font>: Dans le reinforcement learning , l'argorithm apprend a prendre des decision grace a son interaction avec un environment. L'apprenant, (agent ) recoit un feedback comme un rewards(encouragement ) ou penalite en function des ses actions. Ensuite il apprend a maximiser le cummalitaive reward au cour du temp.\n",
        "\n",
        "**Exercise 1.1**: Pour chaque tache suivante, identifier a quelle categorie elle appartient.\n",
        "  -  Apprendre un robot a marcher.\n",
        "  -  Prediction meteo\n",
        "  - Classification des emails spam\n",
        "  - Apprendre a un ordinateur a jouer aux echecs\n",
        "  -  Grouper les differentes types de revues de films."
      ]
    },
    {
      "cell_type": "code",
      "execution_count": null,
      "metadata": {
        "cellView": "form",
        "id": "cLaRGDzv4wR2"
      },
      "outputs": [],
      "source": [
        "# @title Solution - Exercise (Try not to peek until you've given it a good try!')\n",
        "print(\"Teaching a robot how to walk -- Reinforcement learning\")\n",
        "print(\"Weather prediction -- Supervised learning\")\n",
        "print(\"Spam email classification -- Supervised learning\")\n",
        "print(\"Teach a computer how to play chess -- Reinforcement learning\")\n",
        "print(\"Grouping together different kinds of movie reviews -- Unsupervised learning\")"
      ]
    },
    {
      "cell_type": "markdown",
      "metadata": {
        "id": "1KK-dbRw730T"
      },
      "source": [
        "### 1.2 Les données - <font color='blue'>`Beginner`</font>\n",
        "A la fin du tutoriel nous allons construire un classeur pour le dataset des nombres. Ce dataset possede les images des nombres ecrits à la main.\n",
        "\n",
        "Avant de continuer avec les concepts de l'apprentissage automatique, nous allons visualiser quelques images."
      ]
    },
    {
      "cell_type": "markdown",
      "metadata": {
        "id": "w8g4rsOy_86b"
      },
      "source": [
        "We will use [sklearn](https://scikit-learn.org/stable/modules/generated/sklearn.datasets.fetch_openml.html) to load the data."
      ]
    },
    {
      "cell_type": "code",
      "execution_count": null,
      "metadata": {
        "colab": {
          "base_uri": "https://localhost:8080/"
        },
        "id": "h3uN_gxbG2Em",
        "outputId": "33485987-ede6-493b-a86a-ce7652814034"
      },
      "outputs": [
        {
          "name": "stderr",
          "output_type": "stream",
          "text": [
            "/usr/local/lib/python3.10/dist-packages/sklearn/datasets/_openml.py:968: FutureWarning: The default value of `parser` will change from `'liac-arff'` to `'auto'` in 1.4. You can set `parser='auto'` to silence this warning. Therefore, an `ImportError` will be raised from 1.4 if the dataset is dense and pandas is not installed. Note that the pandas parser may return different data types. See the Notes Section in fetch_openml's API doc for details.\n",
            "  warn(\n"
          ]
        },
        {
          "name": "stdout",
          "output_type": "stream",
          "text": [
            "Images have shape: (70000, 784), and labels have shape: (70000,)\n",
            "Number of classes is: 10\n",
            "Minimum value in images is: 0.0\n",
            "Maximum value in images is: 255.0\n"
          ]
        }
      ],
      "source": [
        "# Load the MNIST digits dataset\n",
        "mnist = fetch_openml(name='mnist_784', version=1, as_frame=False)\n",
        "# Extract the data and labels\n",
        "images, labels = mnist.data, mnist.target\n",
        "\n",
        "# Convert labels to integers (they are originally stored as strings)\n",
        "labels = labels.astype(int)\n",
        "\n",
        "# Print shapes of the data\n",
        "print(f\"Images have shape: {images.shape}, and labels have shape: {labels.shape}\")\n",
        "\n",
        "# Verify that we have 10 classes\n",
        "print(f\"Number of classes is: {len(np.unique(labels))}\")\n",
        "\n",
        "# Print the min and max values of the images\n",
        "print(f\"Minimum value in images is: {np.min(images)}\")\n",
        "print(f\"Maximum value in images is: {np.max(images)}\")"
      ]
    },
    {
      "cell_type": "markdown",
      "metadata": {
        "id": "bNV9b-6bH45y"
      },
      "source": [
        "Notre ensemble d'aprrentissge consist de 70000 images en noir et blanc. Chaque image est convertie en un vecteur de taille 784 a partir de sa forme originale 28x28. Nous allons utiliser le code suivant pour afficher quelques images. Notez que chaque fois que vous executez la cellule suivante, vous obtiendrez des images differentes affichees car nous echantillonnons aleatoirement a chaque fois."
      ]
    },
    {
      "cell_type": "code",
      "execution_count": null,
      "metadata": {
        "cellView": "form",
        "colab": {
          "base_uri": "https://localhost:8080/",
          "height": 746
        },
        "id": "-qXlDhYWH_mW",
        "outputId": "ab73d746-8d66-4cfc-df72-5e2e778170c8"
      },
      "outputs": [
        {
          "data": {
            "image/png": "[encoded data removed]",
            "text/plain": [
              "<Figure size 800x800 with 24 Axes>"
            ]
          },
          "metadata": {},
          "output_type": "display_data"
        }
      ],
      "source": [
        "# @title Plot images\n",
        "def plot_images(images, labels):\n",
        "  rows = 4\n",
        "  cols = 6\n",
        "  num_images = images.shape[0]\n",
        "\n",
        "  fig, axes = plt.subplots(rows, cols, figsize=(8, 8))\n",
        "\n",
        "  for ir in range(rows):\n",
        "    for ic in range(cols):\n",
        "      sample = np.random.randint(0, num_images)\n",
        "      image = images[sample].reshape(28, 28)\n",
        "      axes[ir, ic].imshow(image, cmap='gray')\n",
        "      axes[ir, ic].axis('off')\n",
        "      axes[ir, ic].set_title(f\"Digit {labels[sample]}\")\n",
        "\n",
        "  plt.tight_layout()\n",
        "  plt.show()\n",
        "\n",
        "plot_images(images, labels)"
      ]
    },
    {
      "cell_type": "markdown",
      "metadata": {
        "id": "jzHwlZp2WfKM"
      },
      "source": [
        "**Excercise:** Run the cell above multiple times and look at the images. Can you identify some images that may be difficult to classify?"
      ]
    },
    {
      "cell_type": "markdown",
      "metadata": {
        "id": "e9NW58_3hAg2"
      },
      "source": [
        "## **Regression**\n",
        "\n",
        "Avant de construire notre classifieur de chiffres, nous devons d'abord comprendre quelques concepts clés de l'apprentissage automatique."
      ]
    },
    {
      "cell_type": "markdown",
      "metadata": {
        "id": "1ME59aXJRwE3"
      },
      "source": [
        "La figure ci-dessous c'est une representation des donnees generees en utilisant la fonction sinus. En general, nous avons besoin de trouver une fonction qui mappe les entrees dans une dimension a des sorties dans une autre dimension. Le processus de trouver une telle fonction est appele **model** est communement appele dans divers domaines comme **regression**. Dans l'apprentissage automatique, cela fait reference a la recherche d'une fonction qui mappe un ensemble de valeurs numeriques appelees **features** a un autre ensemble de valeurs numeriques appelees **labels**. Si la fonction est lineaire, le processus est appele **regression lineaire**."
      ]
    },
    {
      "cell_type": "code",
      "execution_count": 2,
      "metadata": {
        "cellView": "form",
        "colab": {
          "base_uri": "https://localhost:8080/",
          "height": 564
        },
        "id": "kDix480DPCgA",
        "outputId": "19d8049e-8275-417a-dbde-c92703791149"
      },
      "outputs": [
        {
          "data": {
            "image/png": "[encoded data removed]",
            "text/plain": [
              "<Figure size 800x600 with 1 Axes>"
            ]
          },
          "metadata": {},
          "output_type": "display_data"
        }
      ],
      "source": [
        "# @title Helper code to plot a Sine curve\n",
        "amplitude = 2\n",
        "x = np.linspace(0, 2*np.pi, 1000)\n",
        "y = amplitude*np.sin(x) + np.random.randn(1000)*0.1   # Calculate y values using the sine function\n",
        "yfit = amplitude*np.sin(x)\n",
        "\n",
        "plt.figure(figsize=(8, 6))\n",
        "plt.scatter(x, y, label=\"data\", color='red')\n",
        "plt.plot(x, yfit, label=f'Sine Curve with Amplitude = {amplitude}', color='black')\n",
        "plt.title('Sine Curve')\n",
        "plt.xlabel('x')\n",
        "plt.ylabel('y')\n",
        "plt.legend()\n",
        "# plt.grid()\n",
        "plt.show()"
      ]
    },
    {
      "cell_type": "markdown",
      "metadata": {
        "id": "bA_2coZvhAg3"
      },
      "source": [
        "### 2.1 Linear regression - <font color='blue'>`Beginner`</font>"
      ]
    },
    {
      "cell_type": "markdown",
      "metadata": {
        "id": "GGTQetYgNBda"
      },
      "source": [
        "Supposons que nous avons une dataset, avec des element $y$ representant les labels et les elements $\\mathbf{x}$ representant nos variables.\n",
        "Notre objectif est de trouver une fonction $f$ qui mappe les variables $\\mathbf{x} \\in \\mathbb{R}^d$ a la variable cible $y$:\n",
        "\n",
        " 1.\n",
        "\n",
        "Les modeles de regression lineare peuvent etre representer mathematicament comme suit:\n",
        "$$ f(\\mathbf{x}) = \\mathbf{w}^T \\mathbf{x} + b,$$\n",
        "Avec $\\mathbf{w} \\in \\mathbb{R}^d$. $\\mathbf{w}$ et $b$ sont les parametres du modele communement appele poids. Le terme $b$ est communement appele le biais et peut etre inclu dans $\\mathbf{w}$ en etendant le vecteur de caracteristiques $\\mathbf{x}$ avec 1.\n",
        "\n",
        "Une facon intuitive de comprendre les equations ci-dessus est de se rappeler l'equation d'une ligne $$y \\, = \\, mx + c,$$ avec les poids et le biais correspondant a la pente et l'intercept, $m$ et $c$ respectivement.\n",
        "\n",
        "**Note: pour le reste du tutoriel, nous utiliserons le framework JAX. Si vous n'etes pas familier avec JAX, veuillez d'abord suivre la section facultative de l'annexe sur [JAX](#scrollTo=742JhcnAxTof) avant de continuer.**"
      ]
    },
    {
      "cell_type": "markdown",
      "metadata": {
        "id": "1SVA5XSjcfpH"
      },
      "source": [
        "Code demonstration: linear model"
      ]
    },
    {
      "cell_type": "code",
      "execution_count": null,
      "metadata": {
        "id": "sBe3ytk5WyvD"
      },
      "outputs": [],
      "source": [
        "# Example implementation of a linear function computation.\n",
        "\n",
        "x_key = jax.random.PRNGKey(0)\n",
        "dim = 10\n",
        "x = jax.random.uniform(x_key, (dim,))\n",
        "\n",
        "w_key = jax.random.PRNGKey(1)\n",
        "w = jax.random.uniform(w_key, (dim,))\n",
        "\n",
        "b_key = jax.random.PRNGKey(2)\n",
        "b = jax.random.uniform(b_key, (1,))\n",
        "\n",
        "y = jnp.dot(w,x) + b  # can also be achieved using: y = x @ w + b"
      ]
    },
    {
      "cell_type": "markdown",
      "metadata": {
        "id": "LH73KxFOdAMK"
      },
      "source": [
        "**Code task:**\n",
        "\n",
        "Dans ce code nous avons demontré comment calculer la sortie d'une model de regression lineare avec un seul example dans notre donnée d'apprentrissage. Lorsque nous implementons les modeles d'apprentissage automatique nous tirons l'avantages de l'Algebre Lineare et et des ressources informatiques disponibles pour traiter des lots de données en une seule fois.\n",
        "\n",
        "Avec une dataset ou ensemble d'apprentissage X in R, ecrire une function qui applique la regression lineare sur un lot des données x."
      ]
    },
    {
      "cell_type": "code",
      "execution_count": null,
      "metadata": {
        "id": "-Psjm_oQY_b7"
      },
      "outputs": [],
      "source": [
        "# @title Run this to generate the data\n",
        "# store the parameters in a dictionary\n",
        "params = dict(w=w, b=b)\n",
        "\n",
        "batch_size = 5\n",
        "X = jax.random.uniform(x_key, (batch_size, dim))\n",
        "data = jax.random.uniform(x_key, (batch_size,))"
      ]
    },
    {
      "cell_type": "code",
      "execution_count": null,
      "metadata": {
        "id": "Qh-eOfEdh-f0"
      },
      "outputs": [],
      "source": [
        "def linear_model(params: Any, X: jnp.ndarray) -> jnp.ndarray:\n",
        "  # complete this code\n",
        "  w = params['w']\n",
        "  b = ... # update me. hint look at the above line for w\n",
        "\n",
        "  # compute m = f(x) here using w,b and X\n",
        "  m = ... # update me.\n",
        "\n",
        "  return m\n"
      ]
    },
    {
      "cell_type": "code",
      "execution_count": null,
      "metadata": {
        "id": "1iL92mYSlCkM"
      },
      "outputs": [],
      "source": [
        "# @title Run me to test your code\n",
        "\n",
        "def test_linear_model():\n",
        "  assert (linear_model(params, X) == X @ w + b).all()\n",
        "  print(\"Nice! Your answer looks correct.\")\n",
        "\n",
        "test_linear_model()"
      ]
    },
    {
      "cell_type": "code",
      "execution_count": null,
      "metadata": {
        "id": "yFR2NtnTKgJK"
      },
      "outputs": [],
      "source": [
        "# @title Solution - linear model (Try not to peek until you've given it a good try!')\n",
        "def linear_model(params: Dict[str, jnp.ndarray], X: jnp.ndarray) -> jnp.ndarray:\n",
        "  # complete this code\n",
        "  w = params['w']\n",
        "  b = params['b']\n",
        "\n",
        "  # compute m = f(x) here using w,b and X\n",
        "  m = X @ w + b\n",
        "\n",
        "  return m"
      ]
    },
    {
      "cell_type": "markdown",
      "metadata": {
        "id": "hNJgESq_LP4R"
      },
      "source": [
        "#### La function cout et son optimization - <font color='blue'>`Beginner`</font>\n"
      ]
    },
    {
      "cell_type": "markdown",
      "metadata": {
        "id": "zV6jTdQN2NvO"
      },
      "source": [
        "**Loss function**\n",
        "\n",
        "Quant nous utilisons un model pour apprendre a partir des données, nous avons besoin d'une function qui mesure la performance du model. Cette function est appele **function cout**. Elle mesure la quantite d'erreur entre notre model et les données."
      ]
    },
    {
      "cell_type": "code",
      "execution_count": null,
      "metadata": {
        "cellView": "form",
        "colab": {
          "base_uri": "https://localhost:8080/",
          "height": 564
        },
        "id": "HI8NPCQn3gn1",
        "outputId": "dce8e3cd-0076-40a7-a87e-582bae3e8552"
      },
      "outputs": [
        {
          "data": {
            "image/png": "[encoded data removed]",
            "text/plain": [
              "<Figure size 1000x600 with 1 Axes>"
            ]
          },
          "metadata": {},
          "output_type": "display_data"
        }
      ],
      "source": [
        "# @title Helper code to plot errors\n",
        "\n",
        "# Set random seed for reproducibility\n",
        "np.random.seed(42)\n",
        "\n",
        "# Number of points to generate\n",
        "num_points = 20\n",
        "\n",
        "# Generate random points and lines\n",
        "points_x = np.random.rand(num_points)\n",
        "slope_random_line = np.random.rand()\n",
        "intercept_random_line = np.random.rand()\n",
        "\n",
        "points_y = slope_random_line*points_x + intercept_random_line + np.random.normal(0, 1, num_points)*0.15\n",
        "\n",
        "# Function to calculate distance from point (x, y) to the line y = mx + b\n",
        "def distance_to_line(x, y, m, b):\n",
        "    return abs(y - m * x - b) / np.sqrt(1 + m**2)\n",
        "\n",
        "# Calculate distances from each point to the random line\n",
        "distances = distance_to_line(points_x, points_y, slope_random_line, intercept_random_line)\n",
        "\n",
        "# Create the scatter plot\n",
        "plt.figure(figsize=(10, 6))\n",
        "\n",
        "# Plot the random line\n",
        "plt.plot(np.sort(points_x), slope_random_line * np.sort(points_x) + intercept_random_line, c='blue', label='Model')\n",
        "\n",
        "# Plot the points\n",
        "plt.scatter(points_x, points_y, c='red', label='Data', marker='o', s=50)\n",
        "\n",
        "# Plot lines from each point to the random line (in different colors)\n",
        "for i in range(num_points):\n",
        "    plt.plot([points_x[i], points_x[i]], [points_y[i], slope_random_line * points_x[i] + intercept_random_line],\n",
        "             c='green', alpha=0.7)\n",
        "\n",
        "plt.xlabel('X')\n",
        "plt.ylabel('Y')\n",
        "plt.title(\"Errors for each data point\")\n",
        "plt.legend()\n",
        "plt.show()"
      ]
    },
    {
      "cell_type": "markdown",
      "metadata": {
        "id": "Fj_aG5jG3b8K"
      },
      "source": [
        "\n",
        "Considerer la figure ci-dessous avec les points en rouge. Si la ligne bleue est notre model, alors les lignes verticales representent les erreurs que nous faisons sur chaque point de données. La function cout essaye de capturer l'erreur total que nous faisons pour chaque point de données. Une function cout que nous pouvons utiliser dans ce cas est l'erreur moyenne quadratique entre les valeurs predites et les vraies valeurs.\n",
        "\n",
        "\n",
        "C'est equivalent a la somme de toutes les distances en vert. Cela peut etre ecrit mathematiquement comme suit:\n",
        "$$ \\mathcal{L}(\\mathbb{θ}) \\, = \\, \\frac{1}{m}∑_{i}({y_i - \\hat{y}_i})^2,$$\n",
        "Avec $\\mathbb{θ} = [\\mathbf{w}, b]$,  $\\mathcal{L}$ denote la function cout, $\\hat{y}$ represente la valeur predite par le model et $m$ est le nombre total des points de données.\n",
        "\n",
        "En inserrant la fonction de regression lineare dans la function cout, nous obtenons:\n",
        "\n",
        "$$\\mathcal{L}(\\mathbb{θ}) \\, = \\, \\frac{1}{m}∑_{i}(y_i - \\mathbf{w}^T\\mathbf{x}_i - b)^2. $$\n",
        "\n",
        "\n",
        "<font color='red'>Note: il existe differentes functions cout que nous pouvons utiliser dans ce cas. Vous pouvez voir d'autres functions cout communes [ici](https://www.geeksforgeeks.org/ml-common-loss-functions/).</font>\n",
        "\n"
      ]
    },
    {
      "cell_type": "markdown",
      "metadata": {
        "id": "coIwS0_5I-p-"
      },
      "source": [
        "**Code task:** Implement the loss function above using the linear model function defined above.\n",
        "\n"
      ]
    },
    {
      "cell_type": "code",
      "execution_count": null,
      "metadata": {
        "id": "C5ji0ISCJWQ3"
      },
      "outputs": [],
      "source": [
        "def loss_fn(params: Dict[str, jnp.array], X: jnp.array, y: jnp.array):\n",
        "  # complete this code\n",
        "\n",
        "  pred = linear_model(params, X)\n",
        "\n",
        "  loss = ... # your code here\n",
        "\n",
        "  return 0"
      ]
    },
    {
      "cell_type": "code",
      "execution_count": null,
      "metadata": {
        "id": "O0m0EZVqMUw7"
      },
      "outputs": [],
      "source": [
        "# @ Run to test my code\n",
        "def test_linear_loss_fn():\n",
        "  pred = linear_model(params, X)\n",
        "  loss = jnp.mean((pred-y)**2)\n",
        "  assert loss_fn(params, X, data) == loss\n",
        "  print(\"Nice! Your answer looks correct.\")\n",
        "\n",
        "test_linear_loss_fn()"
      ]
    },
    {
      "cell_type": "code",
      "execution_count": null,
      "metadata": {
        "id": "ehK1Y1pgZ83Y"
      },
      "outputs": [],
      "source": [
        "# @title Sample solution (Try not to peek until you've given it a good try!')\n",
        "def loss_fn(params: Dict[str, jnp.array], X: jnp.array, y: jnp.array):\n",
        "  # complete this code\n",
        "\n",
        "  pred = linear_model(params, X)\n",
        "\n",
        "  loss = jnp.mean((m-y)**2)\n",
        "\n",
        "  return loss"
      ]
    },
    {
      "cell_type": "markdown",
      "metadata": {
        "id": "NM7aMj_A75M_"
      },
      "source": [
        "**Excercise:** Dicuss in groups how we can find the parameters, $\\mathbb{θ}$."
      ]
    },
    {
      "cell_type": "markdown",
      "metadata": {
        "id": "7SwSstfO9hml"
      },
      "source": [
        "**What is optimization?**\n",
        "** C'est Quoi l'optimization?**\n",
        "\n",
        "L'optimization comme son nom l'indique, c'est la procedure de trouver les parametres optimales du models. ie un ensemble des parametres qui minimize la function cout. Mathematically this is represented as follows\n",
        "\n",
        "\n",
        "\n",
        "$$\\hat{\\theta} \\,= \\, \\underset{\\mathbf{\\theta}}{\\operatorname{argmin}} \\frac{1}{m}∑_{i}(y_i - \\mathbf{w}^T\\mathbf{x}_i - b)^2.$$"
      ]
    },
    {
      "cell_type": "markdown",
      "metadata": {
        "id": "kxUMu1HP_D-m"
      },
      "source": [
        "<font color='red'> How do we optimise </font>: The figure below is an example plot of the loss at different values of $\\mathbf{w}$ and $b$ for a straight line. The minimum value is indicated with the star. Our goal in optimization is to identify this point.   "
      ]
    },
    {
      "cell_type": "code",
      "execution_count": null,
      "metadata": {
        "cellView": "form",
        "colab": {
          "base_uri": "https://localhost:8080/",
          "height": 448
        },
        "id": "ZjZAVVBK_Fsd",
        "outputId": "a54c0818-7645-4182-80ad-8c5b84a42de4"
      },
      "outputs": [
        {
          "data": {
            "image/png": "[encoded data removed]",
            "text/plain": [
              "<Figure size 800x500 with 2 Axes>"
            ]
          },
          "metadata": {},
          "output_type": "display_data"
        }
      ],
      "source": [
        "# @title Helper code (to visualise loss landscape)\n",
        "# Define the loss function (Mean Squared Error)\n",
        "from matplotlib.colors import LogNorm\n",
        "\n",
        "def loss_function(y_true, y_pred):\n",
        "    return np.mean((y_true - y_pred) ** 2)\n",
        "\n",
        "# Create a grid of weight (slope) and bias (intercept) values\n",
        "weight_values = np.linspace(-10, 10, 200)\n",
        "bias_values = np.linspace(-10, 10, 200)\n",
        "weight_grid, bias_grid = np.meshgrid(weight_values, bias_values)\n",
        "\n",
        "# Generate random data points for demonstration\n",
        "np.random.seed(0)\n",
        "x = np.linspace(0, 20, 200)\n",
        "y_true = 3 * x + 5 + 0.1 * np.random.normal(0, 1, 200)\n",
        "y_min = 3*x + 5\n",
        "minima = np.array([5, 3])\n",
        "loss_min = loss_function(y_true, y_min)\n",
        "\n",
        "# Compute the loss for each combination of weight and bias values\n",
        "loss_grid = np.zeros_like(weight_grid)\n",
        "for i in range(len(weight_values)):\n",
        "    for j in range(len(bias_values)):\n",
        "        y_pred = weight_values[i] * x + bias_values[j]\n",
        "        loss_grid[i, j] = loss_function(y_true, y_pred)\n",
        "\n",
        "fig = plt.figure(figsize=(8, 5))\n",
        "ax = plt.axes(projection='3d', elev=50, azim=-50)\n",
        "\n",
        "surf = ax.plot_surface(weight_grid, bias_grid, loss_grid, norm=LogNorm(), rstride=1, cstride=1,\n",
        "                edgecolor='none', alpha=.8, cmap=plt.cm.jet)\n",
        "ax.plot(*minima, loss_min, 'r*', markersize=10)\n",
        "\n",
        "ax.set_xlabel('$w$')\n",
        "ax.set_ylabel('$b$')\n",
        "# Remove z-axis ticks and labels\n",
        "ax.set_zticks([])\n",
        "ax.set_zticklabels([])\n",
        "\n",
        "# Add color bar for reference\n",
        "cbar = plt.colorbar(surf, shrink=0.5, aspect=10)\n",
        "cbar.ax.set_ylabel('Loss')\n",
        "\n",
        "# ax.set_xlim((xmin, xmax))\n",
        "# ax.set_ylim((ymin, ymax))\n",
        "plt.show()"
      ]
    },
    {
      "cell_type": "markdown",
      "metadata": {
        "id": "hj1vWUunykNe"
      },
      "source": [
        "Une approche brutale **(brute force)** serais de calculer la fonction cout pour divers valeur de theta et choisir une valeur de theta avec un cout minimale. Bien que cette approache peut marchée avec un model de 1 ou 2 parametres, c'est une approache tres compliques pour une plusieur parametres."
      ]
    },
    {
      "cell_type": "markdown",
      "metadata": {
        "id": "8h9sZ2vW97-d"
      },
      "source": [
        "**Gradient based optimization**\n",
        "\n",
        "La meilleur approache c'est d'utiliser l'analyze lineare . La derivée d'une fonction es zero a tous point critique (maximum et mininum). Pour trouver $\\theta$ qui minimize le cout nous devons resoudre l'equation. $$\\frac{\\partial \\mathcal{L}}{\\partial \\theta} \\,=\\, 0.$$\n",
        "\n",
        "**Exercise 2:** [OPTIONAL] Can you work out the following expressions for the derivatives of the loss function?\n",
        "\n",
        "$$\\frac{∂ \\mathcal{L}}{\\partial \\mathbf{w}} = \\frac{2}{m}∑_{i}\\mathbf{x}_i(\\mathbf{w}^T\\mathbf{x}_i + b - y_i),$$\n",
        "\n",
        "$$\\frac{∂ \\mathcal{L}}{\\partial b} = \\frac{2}{m}∑_{i}(\\mathbf{w}^T\\mathbf{x}_i + b - y_i).$$\n",
        "\n",
        "Solution here in the [Appendix](#scrollTo=kh_8f4gKyufu)."
      ]
    },
    {
      "cell_type": "markdown",
      "metadata": {
        "id": "tq4p7ME6GWXO"
      },
      "source": [
        "Heuresement nous ne pouvons pas calculer cette function par nous meme. Les libraries de machine learning possedent des tools pour optimizer ces functions pour nous. en jax nous pouvons utilser jax.grad."
      ]
    },
    {
      "cell_type": "code",
      "execution_count": null,
      "metadata": {
        "id": "Yq2SMvz09fW1"
      },
      "outputs": [],
      "source": [
        "# @title Computing derivatives with jax.grad\n",
        "# Computing derviatives with jax\n",
        "\n",
        "def quadratic_fn(x):\n",
        "  return x**2\n",
        "\n",
        "\n",
        "# Compute the derivative of quadratic_fn when x = 1\n",
        "grad_fx =  jax.grad(quadratic_fn)(1.0)\n",
        "assert grad_fx == 2.0\n",
        "print(f\"Gradient of the function x**2 at x = 1 is {grad_fx} as expected.\")"
      ]
    },
    {
      "cell_type": "markdown",
      "metadata": {
        "id": "LER9QyoXR_ph"
      },
      "source": [
        "Plus important Jax calcule la derivée de la meme facon meme si nos parametres sont passe dans un autre type de donnees comme un dictionnaire. Par example, nous pouvons calculer la derivée de notre function cout comme suit."
      ]
    },
    {
      "cell_type": "code",
      "execution_count": null,
      "metadata": {
        "id": "UfVKXN_ToRcn"
      },
      "outputs": [],
      "source": [
        "# Compute derivatives of the loss_fn with respect to params\n",
        "\n",
        "grads = jax.grad(loss_fn)(params, X, data)\n",
        "print(f\"gradients: {grads}\")"
      ]
    },
    {
      "cell_type": "markdown",
      "metadata": {
        "id": "zl0_zYWxlGDO"
      },
      "source": [
        "Another similar function in Jax is `jax.value_and_grad` which returns both the value of the function and the gradient."
      ]
    },
    {
      "cell_type": "code",
      "execution_count": null,
      "metadata": {
        "id": "CzKxdMqIlsVk"
      },
      "outputs": [],
      "source": [
        "# Compute derivatives of the loss_fn with respect to params\n",
        "\n",
        "loss, grads = jax.value_and_grad(loss_fn)(params, X, data)\n",
        "print(f\"loss: {loss}\")\n",
        "print(f\"gradients: {grads}\")"
      ]
    },
    {
      "cell_type": "markdown",
      "metadata": {
        "id": "q9dQh9DdLYPE"
      },
      "source": [
        "#### Training the model using Jax - <font color='blue'>`Beginner`</font>"
      ]
    },
    {
      "cell_type": "markdown",
      "metadata": {
        "id": "q1I8M0zkhAg3"
      },
      "source": [
        "**La Descente de gradient (Gradient Descent)**\n",
        "\n",
        "Maintenant que nous avons la derivée de notre function cout, nous pouvons utiliser la methode de la descente de gradient pour trouver les parametres qui minimize le cout. La descente de gradient est une methode iterative qui commence avec un ensemble aleatoire des parametres et les met a jour a chaque iteration en utilisant la formule suivante:\n",
        "\n",
        "\n",
        "1.  Initialise les parametres avec des valeurs aleatoires.\n",
        "2. Boucle pour un nombre d'iterations et a chaque iteration met a jour les parametres en utilisant la formule suivante.\n",
        "\n",
        "$$ \\mathbf{\\theta} = \\mathbf{\\theta} - η\\frac{∂\\mathcal{L}}{∂\\theta},$$\n",
        "$\\eta$ c'est notre frequence d'apprentissage. c'est un hyperprametre de notre modele, nous devons le choisir avant.\n",
        "\n",
        "Intuitivement, si ce parameter est optimal, le gradient `formule` sera zero et les parametres deviennent statiques, raison pour laquelle le critere que nous utilison pendant l'entrainment c'est de verifier si les. parametres on arretée de changer also connu  as convergence.\n",
        "Lorsque nous utilisons un seul point pour calculer la descente de gradient l'algorithm est appelée **la descente du gradient stocastic.**\n",
        "Lorsque nous utilisons l'ensemble de notre dataset l'agorithm est appelée la descente **du gradient en batch.** En pratique l'approacth a utilisé c'est est petit group de données a chaque etapes. Cette approach s'appele **mini batch gradient descent.**\n",
        "\n",
        "\n",
        "Pendant l'apprrentissage nous parcourons notre dataset pour chaque iteration. Le parcours de notre dataset s'appele epoch.\n",
        "\n",
        "Raison pour laquelle un autre hypermeter dont nous somme familier c'est l'epoch."
      ]
    },
    {
      "cell_type": "code",
      "execution_count": null,
      "metadata": {
        "id": "qoFbSQWGhAg7"
      },
      "outputs": [],
      "source": [
        "# @title Code demonstration: Batch gradient descent implementation\n",
        "def batch_gradient_descent(loss_fn, params, training_data, val_data, learning_rate=0.01, num_epochs=20, batch_size=10):\n",
        "  \"\"\"Batch gradient descent basic jax implementation.\n",
        "\n",
        "  Args:\n",
        "    loss_fn\n",
        "      the loss function for our model.\n",
        "    params:\n",
        "      the initial parameters of the model.\n",
        "    training_data\n",
        "      a tuple with the features and targets for training.\n",
        "    val_data\n",
        "      a tuple with the features and targets for validation.\n",
        "    learning_rate\n",
        "      learning rate\n",
        "    num_epochs\n",
        "      number of epochs\n",
        "    batch_size:\n",
        "      size of every mini batch\n",
        "  \"\"\"\n",
        "\n",
        "  X_train, y_train = training_data\n",
        "  X_val, y_val = val_data\n",
        "\n",
        "  num_samples, num_features = X_train.shape\n",
        "\n",
        "  # Create empty list to store the training and validation loss.\n",
        "  loss_train = [] # training loss\n",
        "  loss_val  = [] # valisation loss\n",
        "\n",
        "  # Define a function that computes loss and gradients\n",
        "  loss_and_grad = jax.value_and_grad(loss_fn)\n",
        "\n",
        "  n_iter = 0 # number iterations\n",
        "  for epoch in range(num_epochs):\n",
        "    # Shuffle the data before every epoch\n",
        "    shuffled_indices = np.arange(num_samples)\n",
        "    np.random.shuffle(shuffled_indices)\n",
        "\n",
        "    for start_idx in range(0, num_samples, batch_size):\n",
        "      end_idx = start_idx + batch_size\n",
        "      if end_idx > num_samples:\n",
        "        end_idx = num_samples\n",
        "\n",
        "      batch_indices = shuffled_indices[start_idx:end_idx]\n",
        "      X_batch = X_train[batch_indices]\n",
        "      y_batch = y_train[batch_indices]\n",
        "\n",
        "      # Compute loss and gradients using value_and_grad\n",
        "      loss, grads = loss_and_grad(params, X_batch, y_batch)\n",
        "      loss_train.append(loss)\n",
        "\n",
        "      # Compute the validation loss\n",
        "      loss_v = loss_fn(params, X_val, y_val)\n",
        "      loss_val.append(loss_v)\n",
        "\n",
        "      # Update the parameters\n",
        "      params = jax.tree_map(lambda p, g: p -learning_rate*g, params, grads)\n",
        "\n",
        "      # Update the iter count\n",
        "      n_iter += 1\n",
        "\n",
        "\n",
        "  # Plot training and validation loss\n",
        "  iters = range(1, n_iter+1)\n",
        "  plt.plot(iters, loss_train, label='Training Loss')\n",
        "  plt.plot(iters, loss_val, label='Validation Loss')\n",
        "  plt.xlabel('Iteration')\n",
        "  plt.ylabel('Loss')\n",
        "  plt.title('Training and Validation Loss')\n",
        "  plt.legend()\n",
        "\n",
        "  # Display the plot\n",
        "  plt.show()\n",
        "\n",
        "  return params"
      ]
    },
    {
      "cell_type": "code",
      "execution_count": null,
      "metadata": {
        "id": "5gbBCDwQhAg8"
      },
      "outputs": [],
      "source": [
        "# @title Let's create some dummy data to test the code\n",
        "def create_dummy_data_linear_regression():\n",
        "  \"\"\"We will generate some random data using our linear function above to test the gradient decent implementation\"\"\"\n",
        "\n",
        "  num_samples = 200\n",
        "  num_features = 1  # Modify this to have more features\n",
        "\n",
        "  # Generate random X values in the range [0, 10] for each feature\n",
        "  key = jax.random.PRNGKey(0)\n",
        "  X = jax.random.uniform(key, (num_samples, num_features), minval=0, maxval=10)\n",
        "\n",
        "  # Generate y values based on a linear relationship with some noise\n",
        "  w = jnp.array([3.0])  # True coefficients for each feature\n",
        "  b = jnp.array([5.0])\n",
        "\n",
        "  params = dict(w=w, b=b)\n",
        "  y = linear_model(params, X)\n",
        "\n",
        "  # Add some noise\n",
        "  noise = jax.random.normal(key, shape=(num_samples,))*0.30\n",
        "  y = y + noise\n",
        "\n",
        "  # Step 2: Split the data into training and validation sets\n",
        "  train_fraction = 0.8\n",
        "  num_train_samples = int(train_fraction * num_samples)\n",
        "\n",
        "  # Shuffle the indices to randomly split the data\n",
        "  key, subkey = jax.random.split(key)\n",
        "  shuffled_indices = jax.random.permutation(subkey, jnp.arange(num_samples))\n",
        "\n",
        "  # Split the indices into training and validation sets\n",
        "  train_indices = shuffled_indices[:num_train_samples]\n",
        "  val_indices = shuffled_indices[num_train_samples:]\n",
        "\n",
        "  # Get the corresponding data points for training and validation sets\n",
        "  X_train, y_train = X[train_indices], y[train_indices]\n",
        "  X_val, y_val = X[val_indices], y[val_indices]\n",
        "\n",
        "  train_data = (X_train, y_train)\n",
        "  val_data = (X_val, y_val)\n",
        "\n",
        "  # create some random initial params\n",
        "  w_init = jax.random.normal(key, shape=(num_features,))\n",
        "  b_init = 0.0\n",
        "  initial_params = dict(w=w_init, b=b_init)\n",
        "\n",
        "  return train_data, val_data, initial_params\n",
        "\n",
        "\n",
        "def plot_linear_fit(params, X, y):\n",
        "  \"\"\"Overlay the data and fitted model\"\"\"\n",
        "\n",
        "  y_pred = linear_model(params, X).squeeze()\n",
        "  xval = X[:,0]\n",
        "\n",
        "  plt.figure(figsize=(8, 6))\n",
        "  plt.scatter(xval, y, label='Data', color='blue')\n",
        "  plt.plot(xval, y_pred, label='Fit', color='red')\n",
        "  plt.xlabel('X')\n",
        "  plt.ylabel('Y')\n",
        "  plt.legend()\n",
        "  plt.title('Scatter Points and Fitted Curve')\n",
        "  plt.show()\n",
        "\n",
        "\n"
      ]
    },
    {
      "cell_type": "code",
      "execution_count": null,
      "metadata": {
        "id": "CyvVrWO0YdDe"
      },
      "outputs": [],
      "source": [
        "train_data, val_data, initial_params = create_dummy_data_linear_regression()"
      ]
    },
    {
      "cell_type": "code",
      "execution_count": null,
      "metadata": {
        "id": "upnIeZ2Zaued"
      },
      "outputs": [],
      "source": [
        "params = batch_gradient_descent(loss_fn, initial_params, train_data, val_data, learning_rate=0.01, num_epochs=2, batch_size=10)\n",
        "\n",
        "# plot the results on validation data\n",
        "Xval, yval = val_data\n",
        "plot_linear_fit(params, Xval, yval)"
      ]
    },
    {
      "cell_type": "markdown",
      "metadata": {
        "id": "qzpzC6C25R2K"
      },
      "source": [
        "Our model seems to be **underfitting** that data because the fitted line is going through very few of the points.\n",
        "\n",
        "Notre model semble **underfitting** les données parce que la ligne ajustée passe par très peu de points.\n",
        "\n",
        "**Exercise:** Discuter en groupe comment nous pouvons ameliorer notre model.\n",
        "\n",
        "**Code task:** Modifier le taux d'apprentissage, la taille du lot et le nombre d'epochs et observer leurs effets sur les resultats.\n",
        "\n",
        "**Tips:**\n",
        "\n",
        "- En pratique, les gens choisissent généralement des taux d'apprentissage dans la plage de 0,01 et 1e-5.\n",
        "- Les petites tailles de lots peuvent introduire trop de bruit dans les gradients et cela peut affecter la vitesse de convergence.\n",
        "- D'autre part, les grandes tailles de lots peuvent prendre plus de temps à converger car les paramètres ne sont pas mis à jour très fréquemment.\n",
        "- Noter que l'utilisation d'un très grand nombre d'epochs rendra l'entraînement long car nous n'avons inclus aucun critère d'arrêt."
      ]
    },
    {
      "cell_type": "code",
      "execution_count": null,
      "metadata": {
        "id": "rB8DMH4Z7seC"
      },
      "outputs": [],
      "source": [
        "# @title Your code here\n",
        "learning_rate = 3e-4 #@param {type:\"slider\", min:1e-5, max:1e-2, step:1e-4}\n",
        "batch_size = 20 #@param {type:\"slider\", min:1, max:5000, step:10}\n",
        "num_epochs = 100 #@param {type:\"slider\", min:2, max:500, step:20}\n",
        "\n",
        "params = batch_gradient_descent(loss_fn, initial_params, train_data, val_data, learning_rate=learning_rate, num_epochs=num_epochs, batch_size=bathc_size)\n",
        "\n",
        "# plot the results on validation data\n",
        "Xval, yval = val_data\n",
        "plot_linear_fit(params, Xval, yval)"
      ]
    },
    {
      "cell_type": "markdown",
      "metadata": {
        "id": "BKtMEnRkhAg9"
      },
      "source": [
        "### 2.2 Non linear regression and neural networks  - <font color='blue'>`Beginner`</font>"
      ]
    },
    {
      "cell_type": "code",
      "execution_count": null,
      "metadata": {
        "cellView": "form",
        "id": "xNYVOlb-bUml"
      },
      "outputs": [],
      "source": [
        "# @title Helper code to plot non-linear data\n",
        "def plot_nonlinear_data():\n",
        "\n",
        "  x = np.linspace(-5, 5, 100)\n",
        "  y = np.cos(x)*x + x**2 + np.exp(-x/7)*3 + 0.3*x*np.sin(x)**4\n",
        "\n",
        "  plt.scatter(x, y)\n",
        "  plt.title(\"Example of non linear data\")\n",
        "  plt.show\n",
        "\n",
        "plot_nonlinear_data()"
      ]
    },
    {
      "cell_type": "markdown",
      "metadata": {
        "id": "n2FIcY0XAzFw"
      },
      "source": [
        "La regression lineare est une methode simple et puissance pour la prediction. Malheuresment il possede des limitiations lorsqu'on doit capturer des relations complexes. Pour modeliser ses genres de complexitée, we avons besoin des model puissants. Par example aucune line peut s'ajuster aux données de la figure precedante. \n",
        "Les models non lineares comme la regression polynomiales, exploential et les function trigonometriques offent des solution a ce probleme.\n",
        "\n",
        "A cause de l'explosion des techniques de l'apprentissage profond(deep learning) adjuster les function pre definit a nos dataset etait les methodes par excellence pour nos machine learning approaches. \n",
        "le SVM, Naive de Bayes, K-means sont les approaches classiques dans ces methodes.\n",
        "\n",
        "Dans cette section nous allons introduire les reseau des neurones sont a la base des methodes d'apprentissage profond et du recent succes dans le machine learning."
      ]
    },
    {
      "cell_type": "markdown",
      "metadata": {
        "id": "XStsgHB2MarI"
      },
      "source": [
        "#### Model representation - <font color='blue'>`Beginner`</font>\n"
      ]
    },
    {
      "cell_type": "markdown",
      "metadata": {
        "id": "K7NYiMuVIUPR"
      },
      "source": [
        "<center>\n",
        "<img src=\"https://www.tibco.com/sites/tibco/files/media_entity/2021-05/neutral-network-diagram.svg\" width=\"80%\" />\n",
        "</center>\n",
        "\n",
        "      Image of a neural network with 3 hidden layers. Credit: https://www.tibco.com/reference-center/what-is-a-neural-network\n",
        "\n",
        "\n",
        "\n"
      ]
    },
    {
      "cell_type": "markdown",
      "metadata": {
        "id": "WAcehBE0J-G0"
      },
      "source": [
        "Les Reseaux de Neurones sont un ensembles des modeles du machine learning inspirer par maniere que le cerveau humain fonctionne.  \n",
        "\n",
        "Contrairement a la regression lineare qui applique une seule transformation aux données, les reseaux des neurones traitent les données d'entrée à travers une serie des transformations avant d'atteindre la couche de prediction finale. Le terme <font color='red'>Deep Learning</font> vient des nombreuses transformations appliquées aux données d'entrée.\n",
        "\n",
        "\n",
        "Dans l'image ci haut les cercle representent les noeuds et les liens qui les connectent representent les parametres du model."
      ]
    },
    {
      "cell_type": "markdown",
      "metadata": {
        "id": "fkpytbBzMvMj"
      },
      "source": [
        "#### Activation functions - <font color='blue'>`Beginner`</font>\n",
        "\n",
        "Les function d'activation sont important dans les reseaux des neurones. The input to every node es une function lineares des nodes de la couche precedante. Sans appilques la function d'activation, ou non linearite, l'ensemble du reseaux , peu importe les nomber des couche il possede serais un simple model lineare.  Raison pourl laquelle  les function d'activation sont utilisée pour construire des relation non lineare complexe.\n",
        "\n",
        "\n",
        "L'equation pour le noeud $i$ dans la couche $j$ d'un reseau des neurones peut etre exprimer comme suit:\n",
        "\n",
        "$$ \\text{Output}_{ij} = \\text{Activation Function} \\left( \\sum_{k=1}^{n} \\text{Weight}_{ijk} \\times \\text{Output}_{(j-1)k} + \\text{Bias}_{ij} \\right)$$\n",
        "\n",
        "Where:\n",
        "- $\\text{Output}_{ij}$ is the output of node $i$ in layer $j$.\n",
        "- $\\text{Weight}_{ijk}$ is the weight connecting node $i$ in layer $j$ to node $k$ in layer $j-1$.\n",
        "- $\\text{Output}_{(j-1)k}$ is the output of node $k$ in layer $j-1$.\n",
        "- $\\text{Bias}_{ij}$ is the bias term for node $i$ in layer $j$.\n",
        "- $\\text{Activation Function}$ is the chosen activation function that introduces nonlinearity to the output of the neuron.\n"
      ]
    },
    {
      "cell_type": "markdown",
      "metadata": {
        "id": "qnXa2-o8RFK3"
      },
      "source": [
        "\n",
        "\n",
        "Voici quelques function d'activation  le plus utilisée:\n",
        "\n",
        "- $\\text{ReLU}(x) \\, = \\, \\text{max}(0, x)$\n",
        "\n",
        "    La fonction d'activation Rectified Linear Unit (ReLU) est la plus populaire. Elle mappe son entree dans l'intervalle $[0, ∞]$ en transformant toutes les valeurs negatives en 0. La fonction et sa derivée sont monotones. Cependant, cette fonction d'activation a le probleme de transformer toutes les entrees negatives en 0 et de diminuer la capacite du modele a bien s'adapter aux donnees.\n",
        "\n",
        "- $\\text{Sigmoid}(x) \\, =\\, \\frac{1}{1+e^{-x}}$\n",
        "\n",
        "    La fonction d'activation sigmoid mappe son entree dans l'intervalle $[0, 1]$. C'est ideal pour predire les probabilites. La fonction est differentiable et monotone mais sa derivée n'est pas monotone. Parce que sa derivée n'est pas monotone, il n'est pas ideal d'utiliser cette fonction d'activation dans les couches cachees car elle bloque le transfert d'informations entre les couches. Par consequent, l'activation est appliquee uniquement aux couches de sortie.\n",
        "\n",
        "- $\\text{tanh}(x)\\, = \\, \\frac{e^x - x^{-x}}{e^x + e^{-x}},$\n",
        "  \n",
        "     L'activation $tanh$ est similaire a l'activation sigmoid mais elle mappe les entrees dans l'intervalle $[-1, 1]$. Cette plage plus large permet une repartition beaucoup plus uniforme lors de la prediction des probabilites. De meme que l'activation sigmoid, le $tanh$ est le plus souvent applique aux couches de sortie des reseaux des neurones.\n",
        "\n",
        "\n",
        "Let's implement the popular [ReLU](https://arxiv.org/https://arxiv.org/abs/1803.08375abs/1803.08375) activation function."
      ]
    },
    {
      "cell_type": "code",
      "execution_count": null,
      "metadata": {
        "id": "17JUU2WIMOAO"
      },
      "outputs": [],
      "source": [
        "# Implementation of relu using simple python.\n",
        "\n",
        "def relu(x):\n",
        "  if x > 0 :\n",
        "    return x\n",
        "  else:\n",
        "    return 0\n",
        "\n",
        "def plot_activation(act_fn, label=\"act_fn\"):\n",
        "    max_int = 5\n",
        "    # Generete 100 evenly spaced points from -max_int to max_int\n",
        "    x = np.linspace(-max_int, max_int, 1000)\n",
        "    y = np.array([act_fn(xi) for xi in x])\n",
        "    plt.plot(x, y, label=label)\n",
        "    plt.legend(loc=\"upper left\")\n",
        "    plt.xticks(np.arange(min(x), max(x) + 1, 1))\n",
        "    plt.show()\n",
        "\n",
        "plot_activation(relu, label='ReLU')"
      ]
    },
    {
      "cell_type": "markdown",
      "metadata": {
        "id": "NAQn8NUPhAg-"
      },
      "source": [
        "**Code Task:** Implement and plot another activation function of your choice."
      ]
    },
    {
      "cell_type": "code",
      "execution_count": null,
      "metadata": {
        "id": "bSCO__yzY5vj"
      },
      "outputs": [],
      "source": [
        "# @title Your code here\n",
        "def act_fn(x):\n",
        "    # type your code here\n",
        "\n",
        "    y = ...#\n",
        "    return y\n",
        "\n",
        "# Call the plotting function\n",
        "plot_activation(act_fn, label=....) # update this\n",
        "\n"
      ]
    },
    {
      "cell_type": "markdown",
      "metadata": {
        "id": "3Wrxt2orM7sk"
      },
      "source": [
        "#### Building a simple neural network model with Jax - <font color='blue'>`Beginner`</font>\n",
        "\n",
        "Heuresement, nous avons different module dans jax qui peuvent etre utiliser pour developer des reseaux des neurnoes et nous allons rien implenter from scratch. Pour les models avec jax nous pouvons utiliser haiko and flax. Certaines optimization avancées nous pouvons utiliser optax. Dans cette section nous allons utiliser haiko pour implenter un simple reseau de neurones a 4 couches. \n",
        "\n"
      ]
    },
    {
      "cell_type": "code",
      "execution_count": null,
      "metadata": {
        "id": "36LsHOHxjPuH"
      },
      "outputs": [],
      "source": [
        "# @title Code demonstration: building a simple neural network with flax\n",
        "# Code for a 4-layer neural network using haiku.\n",
        "# Here assume all the hidden layers have the same number of nodes.\n",
        "# We will use the same activation relu for all the layers except the last layer.\n",
        "\n",
        "class Network(nn.Module):\n",
        "  hidden_size: int\n",
        "  output_size: int\n",
        "\n",
        "  @nn.compact\n",
        "  def __call__(self, x):\n",
        "    # First layer with ReLU activation\n",
        "    x = nn.Dense(self.hidden_size)(x)\n",
        "    x = jax.nn.relu(x)\n",
        "\n",
        "    # Second layer\n",
        "    x = nn.Dense(self.hidden_size)(x)\n",
        "    x = jax.nn.relu(x)\n",
        "\n",
        "    # Third (output) layer with no activation applied\n",
        "    x = nn.Dense(self.output_size)(x)\n",
        "\n",
        "    return x"
      ]
    },
    {
      "cell_type": "markdown",
      "metadata": {
        "id": "lCOgpUEsnvCK"
      },
      "source": [
        "The cell above is a basic example of how we can define a neural network using flax. Each linear transformation is implemented using the `nn.Dense` function, and we use `jax.nn.relu` to apply non-linearities to the output of each layer."
      ]
    },
    {
      "cell_type": "code",
      "execution_count": null,
      "metadata": {
        "colab": {
          "base_uri": "https://localhost:8080/"
        },
        "id": "dYMLCHd2nSS2",
        "outputId": "ed917a3b-4241-43d8-f24e-58b7ce04a08d"
      },
      "outputs": [
        {
          "name": "stdout",
          "output_type": "stream",
          "text": [
            "+-----------------------+--------+------+\n",
            "| Name                  | Shape  | Size |\n",
            "+-----------------------+--------+------+\n",
            "| params/Dense_0/bias   | (5,)   | 5    |\n",
            "| params/Dense_0/kernel | (4, 5) | 20   |\n",
            "| params/Dense_1/bias   | (5,)   | 5    |\n",
            "| params/Dense_1/kernel | (5, 5) | 25   |\n",
            "| params/Dense_2/bias   | (1,)   | 1    |\n",
            "| params/Dense_2/kernel | (5, 1) | 5    |\n",
            "+-----------------------+--------+------+\n",
            "Total: 61\n"
          ]
        }
      ],
      "source": [
        "# @title Code demonstration: intialising the model\n",
        "seed = 32\n",
        "input_size = 4\n",
        "hidden_size = 5\n",
        "output_size = 1\n",
        "\n",
        "# Calling the build_neural_network function and applying the required transformations\n",
        "model = Network(hidden_size, output_size)\n",
        "\n",
        "key = jax.random.PRNGKey(seed)\n",
        "dummy = jnp.zeros((1, input_size), dtype=float)\n",
        "initial_params = model.init(key, dummy)\n",
        "\n",
        "# Let's use the CLU: https://github.com/google/CommonLoopUtils to examine the shape of the parameters\n",
        "print(parameter_overview.get_parameter_overview(initial_params, include_stats=False))"
      ]
    },
    {
      "cell_type": "markdown",
      "metadata": {
        "id": "UW39m5wCDrBL"
      },
      "source": [
        "**Exercise:** Do you understand the shape of the different parameters?"
      ]
    },
    {
      "cell_type": "markdown",
      "metadata": {
        "id": "0Q1_OKVVvR69"
      },
      "source": [
        "Les code ci haut demontrent comment creer une instance du model et obtenir les parametres initiaux. Apres avoir creer une instance du model en utilisant la class `Network` nous appelons la function `init` avec un `jax.random.PRNGKey` et quelques entrees factices a partir desquelles la forme des parametres sera predit."
      ]
    },
    {
      "cell_type": "markdown",
      "metadata": {
        "id": "KW6s0Pn3vwy7"
      },
      "source": [
        "\n",
        "\n",
        "Pour appliquer le model a des données nous avons besoin d'appeler la function `model.apply` avec les parametres actuels et les données d'entrée."
      ]
    },
    {
      "cell_type": "code",
      "execution_count": null,
      "metadata": {
        "colab": {
          "base_uri": "https://localhost:8080/"
        },
        "id": "p3YtVINzqWP7",
        "outputId": "c79b24b9-e52f-4c01-8021-0838ec5a734d"
      },
      "outputs": [
        {
          "name": "stdout",
          "output_type": "stream",
          "text": [
            "Model ouput shape: (1, 1), Input shape: (1, 4)\n"
          ]
        }
      ],
      "source": [
        "z = model.apply(initial_params, dummy)\n",
        "print(f\"Model ouput shape: {z.shape}, Input shape: {dummy.shape}\")"
      ]
    },
    {
      "cell_type": "markdown",
      "metadata": {
        "id": "fbTsk0MdhAhC"
      },
      "source": [
        "## **Classification**\n",
        "Maintenant que nous nous sommes familiarisé avec les fondenmentaux de l'aduustement d'un model,et son entrainement net que nous savons comment construire les reseaux des neuronnes, nous allons nous focaliser sur notre objectif principale qui es la construction de notre classeur des nombres.\n"
      ]
    },
    {
      "cell_type": "markdown",
      "metadata": {
        "id": "wMgxJU0TOX6O"
      },
      "source": [
        "### 3.1 Logistic regression - <font color='blue'>`Beginner`</font>\n",
        "\n",
        "La regression lineaire a pour objectif de trouver une function $f$ qui mappe nos **inputs $x$**, ou $x \\in \\mathbb{R}^d$ a la **output/target - $y$**, ou $y \\in \\mathbb{R}^n$ (les valeurs de sortie sont continues). Contrairement a la regression, la **output/target -$y$** ne peut prendre que certaines valeurs dans la regression logistique. Lorsque la **target** ne peut prendre que l'une des deux valeurs, l'algorithme est appelé **Classification Binaire**. Lorsque nous avons plus de deux catégories, on parle de **Classification Multi-Classes**.\n",
        "\n",
        "C'est pourquoi l'objectif de la regression logistique (dans le cas de la classification binaire) est de mapper les **inputs $x$**, où $x \\in \\mathbb{R}^d$ à $y$, où $y \\in \\{0,1\\}$.\n",
        "\n",
        "\n",
        "Par example, si nous construisons un classeur d'images pour chien et chat, 1 peut etre utiliser pour representer les valeurs de target pour les chats et 0 pour les chiens."
      ]
    },
    {
      "cell_type": "markdown",
      "metadata": {
        "id": "SE1L3rmaO4UP"
      },
      "source": [
        "#### Logits and Fonction Sigmoide - <font color='blue'>`Beginner`</font>\n",
        "Vue que la sortie de la regression logistiqu sont discret. C'est n'est pas facile de definir une function qui produit les valeur discretes. Raison pour laquele nous construisons notre function pour predire les probabilitées. Rappelons que les probabilitee prenent des valeurs dans l'intervale [0, 1], raison pour laquelle nous avons besoins d'une functino qui produit des probabilitées.  Comment nous l'avons mentioner precedament, une bonne activation function c'est la **function sigmoide.**\n",
        "<br>\n",
        "<center>\n",
        "\n",
        " $$\\sigma(x) = \\frac{1}{1+e^{-x}}$$\n",
        "\n",
        " ![sigmoid.png](data:image/png;base64,iVBORw0KGgoAAAANSUhEUgAAAjcAAAGbCAYAAAA4HrGmAAAABHNCSVQICAgIfAhkiAAAABl0RVh0U29mdHdhcmUAZ25vbWUtc2NyZWVuc2hvdO8Dvz4AAAAmdEVYdENyZWF0aW9uIFRpbWUAVGh1IDE3IEF1ZyAyMDIzIDEwOjAyOjM4Xn+IKgAAIABJREFUeJzt3Xl4VPW9x/HPzCSZJGQnewgkIKssQZDcQLV6TYnUUq2t5do+gri0KLXV2FbRElyuxkpFWoul2qL2aa2orctVSqupaJUIylI3FkEgbAkBJBOyTTJz7h9JhsZMIMtMzszk/XqeeZI5OXPmexgy88lvOT+LYRiGAAAAQoTV7AIAAAB8iXADAABCCuEGAACEFMINAAAIKYQbAAAQUgg3AAAgpISZXUA7t9utQ4cOKTY2VhaLxexyAABANxiGodraWmVmZspqDYw2k4AJN4cOHVJ2drbZZQAAgF7Yv3+/hgwZYnYZkgIo3MTGxkpq/ceJi4szuRoAANAdDodD2dnZns/xQBAw4aa9KyouLo5wAwBAkAmkISWB0TkGAADgI4QbAAAQUgg3AAAgpATMmJvucLlcam5uNrsMfEF4eLhsNpvZZQAAICmIws3Jkyd14MABGYZhdin4AovFoiFDhigmJsbsUgAACI5w43K5dODAAUVHRyslJSWgRmQPdIZhqLq6WgcOHNDIkSNpwQEAmC4owk1zc7MMw1BKSoqioqLMLgdfkJKSor1796q5uZlwAwAwXVANKKbFJjDxugAAAklQhRsAAIAz8Rpu3nrrLc2ePVuZmZmyWCx68cUXz3igdevW6ZxzzpHdbtdZZ52lJ5980te1hpSrr75al112mdllSJJycnK0fPny0+7T3f8HAACYzeuYm7q6Ok2aNEnXXHONLr/88jMeZM+ePbrkkku0YMEC/elPf1JZWZmuu+46ZWRkqKioyOdFh4Jf/vKXATPz67333tOgQYPMLgMAAJ/wGm5mzZqlWbNmdfsgK1euVG5urh566CFJ0tixY/X222/r4YcfJtx0IT4+3uwSPFJSUswuAQAAn/HJbKny8nIVFhZ22FZUVKSbb765y8c0NTWpqanJc9/hcPiilIDz/PPP6+6779auXbsUHR2tyZMn66WXXtLChQt14sQJT1dPbW2tFixYoBdffFFxcXH66U9/qpdeekl5eXmeLqOcnBxdd9112rlzp/76179q8ODBeuSRR1RQUKDrrrtOZWVlGj58uFatWqWpU6d6avjLX/6ikpIS7dq1SxkZGbrpppt06623en6ek5Ojm2++2fN6ffrpp7r22mu1ceNGDR8+XL/85S/78V8MGJgam12qa2pRU4tbzhb3f3x1dfje6TLkcrvlcktutyGXYcjlNuRu+3rqe3m2uQ1D7vaG4rYW4y/cldG25dR97z//zx+e2qcHj4WprpmRq+ykaLPL8DufhJvKykqlpaV12JaWliaHw6GGhgav07dLS0t199139+r5DMNQQ7OrV4/tq6hwW7dnBx0+fFhXXnmlHnzwQX3jG99QbW2t/vWvf3ntjiouLtY777yjl19+WWlpaSopKdHmzZuVl5fXYb+HH35Y999/vxYvXqyHH35YV111laZPn65rrrlGS5cu1W233aa5c+fq448/lsVi0aZNm/Ttb39bd911l+bMmaP169frxhtv1ODBg3X11Vd3qsPtduvyyy9XWlqaNmzYoJqamtOGVADeNTa7tO9YvQ7VNKja0aQjtY06Utukoyeb5GhokaOxWbWNLaptbJajsUXOFrfZJWMAmD0pk3DjT4sWLVJxcbHnvsPhUHZ2drce29Ds0riSv/urtNP65J4iRUd075/t8OHDamlp0eWXX65hw4ZJkiZMmNBpv9raWj311FN6+umnddFFF0mSnnjiCWVmZnba96tf/aq+//3vS5JKSkr0m9/8Rueee66uuOIKSdJtt92mgoICVVVVKT09XcuWLdNFF12kxYsXS5JGjRqlTz75REuXLvUabl5//XVt375df//73z3Pf//99/eomxIYSFxuQ58eqdXWihP68GCN9hyt096jdTrsaFRvhtVF2KyKCLPK3nZr/d7m2RZusyrMZpHVYpHN2v5Vslosslotsn1he/v3FotkUesfZq3fq+37jn+std/9z31b73/h523feB7dzcfBXGlxkWaX0C98Em7S09NVVVXVYVtVVZXi4uK6vOie3W6X3W73xdMHrEmTJumiiy7ShAkTVFRUpJkzZ+pb3/qWEhMTO+z32Wefqbm5WdOmTfNsi4+P1+jRozsdc+LEiZ7v21vL/jMwtW87cuSI0tPTtW3bNl166aUdjjFjxgwtX75cLper00X3tm3bpuzs7A7BqqCgoKenDoSsFpdbW/ef0Js7q/Xe3uP68ECN6pzeW5JjI8M0JDFaqbH21lucXSkxdiVERyg2MkyxkeFtX1u/j7GHyWYlBQB95ZNwU1BQoDVr1nTY9tprr/ntQzEq3KZP7jFnoHJUePevwGuz2fTaa69p/fr1+sc//qFHHnlEd955pzZs2NDr5w8PD/d83/6Xk7dtbjdN3ICvuN2GNu49rpe2HtLfPjqsE/UdF/AdFGHTxCEJmpSdoLNSY5SbHK2cwYOUNCiCi1wCJvAabk6ePKldu3Z57u/Zs0dbt25VUlKShg4dqkWLFungwYP6wx/+IElasGCBfv3rX+unP/2prrnmGv3zn//Us88+q1dffdUvRVsslm53DZnNYrFoxowZmjFjhkpKSjRs2DC98MILHfYZPny4wsPD9d5772no0KGSpJqaGu3cuVPnn39+n55/7Nixeueddzpse+eddzRq1CivSyWMHTtW+/fv1+HDh5WRkSFJevfdd/tUAxCsahub9fymA/pD+T7tOVrn2R4fFa7zR6VoxojBmjw0UWelxtDiAgQQrwnh/fff14UXXui53z42Zt68eXryySd1+PBhVVRUeH6em5urV199Vbfccot++ctfasiQIfrd73434KeBb9iwQWVlZZo5c6ZSU1O1YcMGVVdXa+zYsfrggw88+8XGxmrevHn6yU9+oqSkJKWmpmrJkiWyWq19/qvv1ltv1bnnnqt7771Xc+bMUXl5uX7961/r0Ucf9bp/YWGhRo0apXnz5mnp0qVyOBy68847+1QDEGzqnS16av0+/fat3Z5Wmlh7mGZNSNeleVnKz01SmI0LvAOBymu4ueCCC057gTlvVx++4IILtGXLFp8VFgri4uL01ltvafny5XI4HBo2bJgeeughzZo1S6tXr+6w77Jly7RgwQJ97Wtf80wF379/vyIj+zb465xzztGzzz6rkpIS3XvvvcrIyNA999zjdTCxJFmtVr3wwgu69tprNW3aNOXk5OhXv/qVLr744j7VAQQDwzC05sNK3f1/H+tIbeulKoYnD9L8L+Xq8slZGmQPjhZjYKCzGAFymVyHw6H4+HjV1NQoLi6uw88aGxu1Z88e5ebm9vnDPljU1dUpKytLDz30kK699lqzyzmtgfj6IPQccTTqtr98oDd2VEuShiZF6+bCkbo0L4suJ+A0Tvf5bRb+DAkQW7Zs0fbt2zVt2jTV1NTonnvukaROM50A+N76XUf1w2e26OhJpyJsVt1wwQjdeOEI2cO6P4EAQOAg3ASQX/ziF9qxY4ciIiI0ZcoU/etf/1JycrLZZQEh7Xf/+kz3r9kmtyGNSY/Vr78zWWelxppdFoA+INwEiMmTJ2vTpk1mlwEMGIZh6IG/bddv3/pMkvTtqUN0z6XjFdmDyz0ACEyEGwADjmEYuuOFD/XnjfslSYtmjdH3vzzC5KoA+ArhBsCA8/O1O/TnjftltUgPfHOivj21e0u/AAgOQRVuAmRiF76A1wXB5Pdv79HKN3dLkn7+zYm6gmADhJyguApV+5V0nU6nyZXAm/bXxdsVj4FA8saOI7r3lU8kST+9eDTBBghRQdFyExYWpujoaFVXVys8PFxWa1BksgHB7Xarurpa0dHRCgsLiv9OGKAO1zSoePVWSdJ38ofqBsbYACErKD6NLBaLMjIytGfPHu3bt8/scvAFVqtVQ4cOZYFABKxml1s3Pb1Fn9c3a3xWnEq+No7/r0AIC4pwI0kREREaOXIkXVMBKCIigtY0BLRH39it9/d9rlh7mFZ85xymewMhLmjCjdTaQsDl/QH0xO7qk1rxxi5J0v9+Y7yGDR5kckUA/I0/twGELMMwdOcLH8rpcuvLo1L09UmZZpcEoB8QbgCErL9sPqh3PzuuyHCr/vey8YyzAQYIwg2AkNTgdOnBtdslSTcXjlJ2UrTJFQHoL4QbACHpyfV7daS2SUMSo3TNjFyzywHQjwg3AEJOTUOz5yrEtxSOUkQYb3XAQMJvPICQ8/hbn6mmoVmj0mJ02eQss8sB0M8INwBCSk19s1a9s0eSdOvM0bJZGUQMDDSEGwAh5c/vVaje6dKY9FjNHJdmdjkATEC4ARAyml1uPfnOXknSdecNZ+o3MEARbgCEjDUfHlalo1HJMXbNnpRhdjkATEK4ARASDMPQ7/7VOtZmXsEw2cNYPwoYqAg3AELC5orP9eHBGtnDrPrufw0zuxwAJiLcAAgJz753QJI0e1KmkgZFmFwNADMRbgAEvXpni1798LAk6YopQ0yuBoDZCDcAgt7fP67UyaYWDU2K1rTcJLPLAWAywg2AoPfc+61dUt+aMoTp3wAINwCC24HP67V+9zFZLNI36ZICIMINgCD3wuaDkqTpIwYrKyHK5GoABALCDYCg9rePKiVJl+axQCaAVoQbAEGr4li9PjnskM1q0VfGso4UgFaEGwBBa+3HrdO//2t4khK5tg2ANoQbAEGrvUvq4rPTTa4EQCAh3AAISpU1jdpScUIWi1REuAHwHwg3AILSPz5pbbU5Z2iiUuMiTa4GQCAh3AAISmvpkgLQBcINgKBT19Si9/YelyQVjmOWFICOCDcAgk757mNqdhnKTopSzuBos8sBEGAINwCCzlufVkuSzh+ZwlpSADoh3AAIOm/tbAs3o1JMrgRAICLcAAgqFcfqtfdYvcKsFk0fMdjscgAEIMINgKDyZluX1DlDExUbGW5yNQACEeEGQFA51SWVbHIlAAIV4QZA0Gh2uVW++5gkxtsA6BrhBkDQ+PiQQyebWhQfFa7xmfFmlwMgQBFuAASNjXtaW23OzUmS1coUcADeEW4ABI2Ne1qvSpyfm2RyJQACGeEGQFBwuw1PuJlGuAFwGoQbAEFhR1WtHI0tio6w6ezMOLPLARDACDcAgkL7QplThiUqzMZbF4Cu8Q4BIChsaO+SyqFLCsDpEW4ABDzDYLwNgO4j3AAIeHuP1au6tkkRNqsmZSeYXQ6AAEe4ARDw3m8bbzMpO16R4TaTqwEQ6Ag3AALevw+ckCRNHppociUAgkGX4WbFihXKyclRZGSk8vPztXHjxtMeaPny5Ro9erSioqKUnZ2tW265RY2NjT4vGMDA8+/9NZKkSUPokgJwZl7DzerVq1VcXKwlS5Zo8+bNmjRpkoqKinTkyBGvB3n66ad1++23a8mSJdq2bZt+//vfa/Xq1brjjjv8WjyA0NfY7NK2ww5Jrd1SAHAmXsPNsmXLdP3112v+/PkaN26cVq5cqejoaK1atcrrQdavX68ZM2boO9/5jnJycjRz5kxdeeWVZ2ztAYAz+fiQQy1uQ8kxdmUlRJldDoAg0CncOJ1Obdq0SYWFhad2slpVWFio8vJyrweZPn26Nm3a5Akzn332mdasWaOvfvWrfiobwEDx7/2t423ysuNlsbBYJoAzC/vihqNHj8rlciktLa3D9rS0NG3fvt3rQb7zne/o6NGj+tKXviTDMNTS0qIFCxactluqqalJTU1NnvsOh6O35wAghG1tCzeMtwHQXT6ZLbVu3Trdf//9evTRR7V582b99a9/1auvvqp77723y8eUlpYqPj7ec8vOzvZFKQBCTPtMqbyhhBsA3dOp5SY5OVk2m01VVVUdtldVVSk9Pd3rQRYvXqyrrrpK1113nSRpwoQJqqur0/e+9z3deeedslo7Z6hFixapuLjYc9/hcBBwAHTweZ1T+47VS5ImZhFuAHRPp9QRERGhKVOmqKyszLPN7XarrKxMBQUFXg9SX1/fKcDYbK0X2jIMw+tj7Ha74uLiOtwA4D9tbWu1GZ48SPHR4SZXAyBYdGq5kaTi4mLNmzdPU6dO1bRp07R8+XLV1dVp/vz5kqS5c+cqKytLpaWlkqTZs2dr2bJlmjx5svLz87Vr1y4tXrxYs2fP9oQcAOip9sHELLkAoCe8hps5c+aourpaJSUlqqysVF5entauXesZZFxRUdGhpeZnP/uZLBaLfvazn+ngwYNKSUnR7Nmzdd999/XPWQAISR8dbL1438QhXN8GQPdZjK76jfqZw+FQfHy8ampq6KICIEmaXlqmQzWNevb7BawGDgSoQPz8Zm0pAAHp8zqnDtW0LuEyNiPW5GoABBPCDYCA9EnbkgvDBkcrNpLBxAC6j3ADICB9cqg13IzLCIxmbgDBg3ADICB9fKh1MDHhBkBPEW4ABKT2bqmzswg3AHqGcAMg4DQ2u7S7uk6SNC6DaeAAeoZwAyDg7KislcttaPCgCKXF2c0uB0CQIdwACDjtXVLjMuNksVhMrgZAsCHcAAg4nsHEmYy3AdBzhBsAAYdp4AD6gnADIKAYhqEdlbWSCDcAeodwAyCgHDzRoDqnS+E2i3KSB5ldDoAgRLgBEFB2VrW22oxIiVG4jbcoAD3HOweAgLKj8qQkaVQai2UC6B3CDYCA0t5yMzqdcAOgdwg3AAJK+2BiWm4A9BbhBkDAcLkN7apu75aKMbkaAMGKcAMgYOw7Vidni1uR4VZlJ0abXQ6AIEW4ARAw2sfbjEqLldXKsgsAeodwAyBgMFMKgC8QbgAEDM9MKcINgD4g3AAIGDvau6WYBg6gDwg3AAJCU4tLe47WSWKmFIC+IdwACAh7j9bL5TYUaw9Telyk2eUACGKEGwABYXfb9W1GpMbIYmGmFIDeI9wACAi7jrSGm7NS6ZIC0DeEGwABwdNyk0K4AdA3hBsAAeFUuBlkciUAgh3hBoDp3G5Du4+0zpQaQbcUgD4i3AAw3WFHoxqaXQqzWjQ0iTWlAPQN4QaA6Xa3DSYeNjha4TbelgD0De8iAEzXPt6GmVIAfIFwA8B0zJQC4EuEGwCma7/GDeEGgC8QbgCYbnc1M6UA+A7hBoCpahqaVV3bJEkazjVuAPgA4QaAqT5rG2+TFmdXXGS4ydUACAWEGwCmah9vMzyZLikAvkG4AWCqPUdbx9vQJQXAVwg3AEy191hruMlNJtwA8A3CDQBTfVZNyw0A3yLcADCN221o37F6SVLOYMINAN8g3AAwTVVt64KZNqtF2SyYCcBHCDcATNM+mDg7MYoFMwH4DO8mAEzTHm4YTAzAlwg3AEyz1xNuuMYNAN8h3AAwzamWG8bbAPAdwg0A03xGyw0APyDcADBFi8ut/cdbp4Hnco0bAD5EuAFgioMnGtTsMmQPsyojLtLscgCEEMINAFO0j7fJGTxIVqvF5GoAhBLCDQBTeMINg4kB+BjhBoApmAYOwF8INwBMsadtTSmmgQPwNcINAFNUHGttuRmaxEwpAL5FuAHQ71pcbh34vEGSNGwwLTcAfItwA6DfHa5pVIvbUESYVelMAwfgY12GmxUrVignJ0eRkZHKz8/Xxo0bT3ugEydOaOHChcrIyJDdbteoUaO0Zs0anxcMIPjtaxtvk50YxTRwAD4X5m3j6tWrVVxcrJUrVyo/P1/Lly9XUVGRduzYodTU1E77O51OfeUrX1Fqaqqef/55ZWVlad++fUpISPD7CQAIPvuOt463GTaY8TYAfM9ruFm2bJmuv/56zZ8/X5K0cuVKvfrqq1q1apVuv/32TvuvWrVKx48f1/r16xUeHi5JysnJ8V/VAIJaRVvLzdAkxtsA8L1O3VJOp1ObNm1SYWHhqZ2sVhUWFqq8vNzrQV5++WUVFBRo4cKFSktL0/jx43X//ffL5XJ1+cRNTU1yOBwdbgAGhn2EGwB+1CncHD16VC6XS2lpaR22p6WlqbKy0utBPvvsMz3//PNyuVxas2aNFi9erIceekj/+7//2+UTl5aWKj4+3nPLzs7u46kACBYVbQtmMlMKgD/4ZLaU2+1WamqqHnvsMU2ZMkVz5szRnXfeqZUrV3b5mEWLFqmmpsZz279/vy9KARDgDMMg3ADwq05jbpKTk2Wz2VRVVdVhe1VVldLT070eJCMjQ+Hh4bLZbJ5tY8eOVWVlpZxOpyIiIjo9xm63y26397V+AEHmeJ1TJ5taZLFIQxIJNwB8r1PLTUREhKZMmaKysjLPNrfbrbKyMhUUFHg9yIwZM7Rr1y653W7Ptp07dyojI8NrsAEwcO1ra7VJj4tUZLjtDHsDQM957ZYqLi7W448/rqeeekrbtm3TDTfcoLq6Os/sqblz52rRokWe/W+44QYdP35cP/rRj7Rz5069+uqruv/++7Vw4cL+OQsAQYOZUgD8zetU8Dlz5qi6ulolJSWqrKxUXl6e1q5d6xlkXFFRIav1VC7Kzs7W3//+d91yyy2aOHGisrKy9KMf/Ui33XZb/5wFgKDRPlOK8TYA/MViGIZhdhGS5HA4FB8fr5qaGsXFxZldDgA/KX52q/66+aB+UjRaCy88y+xyAPRRIH5+s7YUgH5FtxQAfyPcAOhX+5gGDsDPCDcA+k29s0XVtU2SpGFJrCsFwD8INwD6TfvF++KjwhUfHW5yNQBCFeEGQL9hphSA/kC4AdBvGEwMoD8QbgD0m33H6yTRcgPAvwg3APqNp1uKwcQA/IhwA6DftA8oHkrLDQA/ItwA6BctLrcOft4giW4pAP5FuAHQLw6daFSL21BEmFVpsZFmlwMghBFuAPSL9sHEQ5OiZbVaTK4GQCgj3ADoF6cGE9MlBcC/CDcA+gWDiQH0F8INgH5RQcsNgH5CuAHQL/bRcgOgnxBuAPidYRiqONY+oJgL+AHwL8INAL87VudUndMli0XKTooyuxwAIY5wA8Dv2mdKZcRFyh5mM7kaAKGOcAPA7yrar3HDeBsA/YBwA8DvWDATQH8i3ADwu/Zp4LTcAOgPhBsAftc+DZwFMwH0B8INAL+jWwpAfyLcAPCruqYWHT3ZJIluKQD9g3ADwK/a15RKiA5XfFS4ydUAGAgINwD8itXAAfQ3wg0Avzp1jRvG2wDoH4QbAH5Fyw2A/ka4AeBXFawGDqCfEW4A+BUtNwD6G+EGgN80u9w6eKJBkjSMMTcA+gnhBoDfHDrRIJfbkD3MqtRYu9nlABggCDcA/Ka9S2poUrSsVovJ1QAYKAg3APyGNaUAmIFwA8BvKo61XeOGNaUA9CPCDQC/8cyUouUGQD8i3ADwG65xA8AMhBsAfmEYhqflJodp4AD6EeEGgF9U1zapodklq0XKSogyuxwAAwjhBoBftM+UykyIUkQYbzUA+g/vOAD8gsHEAMxCuAHgF+3TwFl2AUB/I9wA8Iu9LJgJwCSEGwB+wdWJAZiFcAPAL7g6MQCzEG4A+FxNQ7M+r2+WxAX8APQ/wg0An6toG2+THGNXjD3M5GoADDSEGwA+t+94+0wpWm0A9D/CDQCf28dMKQAmItwA8Ln2binG2wAwA+EGgM/tbZspxYKZAMxAuAHgcxXHabkBYB7CDQCfamx2qdLRKIkxNwDMQbgB4FMHPq+XYUgx9jAlDYowuxwAAxDhBoBP7T16atkFi8VicjUABqIuw82KFSuUk5OjyMhI5efna+PGjd064DPPPCOLxaLLLrvMZ0UCCB6sKQXAbF7DzerVq1VcXKwlS5Zo8+bNmjRpkoqKinTkyJHTHmzv3r368Y9/rPPOO88vxQIIfKwpBcBsXsPNsmXLdP3112v+/PkaN26cVq5cqejoaK1atarLA7lcLn33u9/V3XffreHDh/utYACBjZYbAGbrFG6cTqc2bdqkwsLCUztZrSosLFR5eXmXB7rnnnuUmpqqa6+9tltP3NTUJIfD0eEGIPh5rk5MuAFgkk7h5ujRo3K5XEpLS+uwPS0tTZWVlV4P8vbbb+v3v/+9Hn/88W4/cWlpqeLj4z237OzsHpYOINC43IYOfN4ebuiWAmCOPs+Wqq2t1VVXXaXHH39cycnJ3X7cokWLVFNT47nt37+/r6UAMNmhEw1qdhmKsFmVHhdpdjkABqiwL25ITk6WzWZTVVVVh+1VVVVKT0/vdIDdu3dr7969mj17tmeb2+1uPXhYmHbs2KERI0Z0epzdbpfdbu/zCQAIHO1XJh6SFCWblWngAMzRqeUmIiJCU6ZMUVlZmWeb2+1WWVmZCgoKOh1gzJgx+vDDD7V161bP7etf/7ouvPBCbd26le4mYABhTSkAgaBTy40kFRcXa968eZo6daqmTZum5cuXq66uTvPnz5ckzZ07V1lZWSotLVVkZKTGjx/f4fEJCQmS1Gk7gNDmWQ2cZRcAmMhruJkzZ46qq6tVUlKiyspK5eXlae3atZ5BxhUVFbJaubgxgI6YKQUgEFgMwzDMLkKSHA6H4uPjVVNTo7i4OLPLAdALs375L2077NCqq6fqv8eknfkBAIJeIH5+0/wCwCcMw+DqxAACAuEGgE9U1zapzumS1cKYGwDmItwA8Ik9R1tbbYYkRisijLcWAObhHQiAT7SHm9xkuqQAmItwA8AnCDcAAgXhBoBPEG4ABArCDQCfaA83OYQbACYj3ADoM5fb0L62daWGE24AmIxwA6DPDp1okLPFrQibVZkJUWaXA2CAI9wA6LP2Lqmhg6NZDRyA6Qg3APqsfTVwBhMDCASEGwB99ll1a7hhvA2AQEC4AdBn7S03zJQCEAgINwD6jGvcAAgkhBsAfeJscWs/08ABBBDCDYA+2f95vdyGNCjCppRYu9nlAADhBkDftA8mzkkeJIuFaeAAzEe4AdAnu6tPSpJGpMSYXAkAtCLcAOiTXUdaw81ZqYQbAIGBcAOgT2i5ARBoCDcAes0wDO1ua7kZkcpMKQCBgXADoNeOnnTK0dgii0XKGUy4ARAYCDcAeq19vE12YrQiw20mVwMa8xtmAAAZpklEQVQArQg3AHqtfbwNg4kBBBLCDYBeOzWYmC4pAIGDcAOg13a3XcCPmVIAAgnhBkCvnZopRbgBEDgINwB6pd7ZooMnGiTRcgMgsBBuAPRK+5pSSYMilDQowuRqAOAUwg2AXmEwMYBARbgB0Cvt422GJ9MlBSCwEG4A9MrOqtZwMzKNcAMgsBBuAPTKzqpaSdLo9FiTKwGAjgg3AHqssdmlvcdaBxSPTiPcAAgshBsAPbbryEm5DSkhOlwpsXazywGADgg3AHrs0yOtXVKj0mJlsVhMrgYAOiLcAOixHZWtg4npkgIQiAg3AHqsfTDxKGZKAQhAhBsAPbaj8lS3FAAEGsINgB452XRqTSnCDYBARLgB0COftnVJpcbalciaUgACEOEGQI9w8T4AgY5wA6BH2mdKjUwl3AAITIQbAD1yquWGmVIAAhPhBkC3GYahbYcdkqTR6XEmVwMA3hFuAHRblaNJx+qcslktGsOYGwABinADoNs+OVwjSRqRMkiR4TaTqwEA7wg3ALrtk0OtXVLjMuiSAhC4CDcAuu3j9nCTSbgBELgINwC67ZO2wcRnZ8abXAkAdI1wA6BbHI3N2nesXhLdUgACG+EGQLdsP9x6fZvM+EiWXQAQ0Ag3ALrl40OtM6UYbwMg0BFuAHSLZ6YU420ABDjCDYBuaR9MzHgbAIGOcAPgjJwtbs+aUmfTLQUgwHUZblasWKGcnBxFRkYqPz9fGzdu7PIgjz/+uM477zwlJiYqMTFRhYWFp90fQHDZXulQs8tQQnS4hiRGmV0OAJyW13CzevVqFRcXa8mSJdq8ebMmTZqkoqIiHTlyxOtB1q1bpyuvvFJvvPGGysvLlZ2drZkzZ+rgwYN+LR5A//j3/hOSpElDEmSxWEyuBgBOz2u4WbZsma6//nrNnz9f48aN08qVKxUdHa1Vq1Z5Pcif/vQn3XjjjcrLy9OYMWP0u9/9Tm63W2VlZX4tHkD/2NIebrITTK4EAM6sU7hxOp3atGmTCgsLT+1ktaqwsFDl5eXdOmh9fb2am5uVlJTU5T5NTU1yOBwdbgACU3vLzWTCDYAg0CncHD16VC6XS2lpaR22p6WlqbKyslsHve2225SZmdkhIH1RaWmp4uPjPbfs7Owelg6gP9Q0NGt3dZ0kaeIQpoEDCHw+ny31wAMP6JlnntELL7ygyMjILvdbtGiRampqPLf9+/f7uhQAPvDhgdaL92UnRWlwjN3kagDgzMK+uCE5OVk2m01VVVUdtldVVSk9Pf20B/vFL36hBx54QK+//romTpx42n3tdrvsdt4ogUD37wOtXVJ52YkmVwIA3dOp5SYiIkJTpkzpMBi4fXBwQUFBlwd68MEHde+992rt2rWaOnWqf6oF0O+2VLTPlKJLCkBw6NRyI0nFxcWaN2+epk6dqmnTpmn58uWqq6vT/PnzJUlz585VVlaWSktLJUk///nPVVJSoqefflo5OTmesTkxMTGKiYnpp1MB4GuGYWhr+2DioQwmBhAcvIabOXPmqLq6WiUlJaqsrFReXp7Wrl3rGWRcUVEhq/VUo89vfvMbOZ1Ofetb3+pwnCVLluiuu+7yX/UA/OpQTaOOnmxSmNWis1lTCkCQsBiGYZhdhCQ5HA7Fx8erpqZGcXFc3h0IBK98cEg/eHqLzs6M06s/PM/scgAEoED8/GZtKQBdem/PcUnSuTldX7MKAAIN4QZAlza0hZtpuYQbAMGDcAPAq5r6Zu1oWwmclhsAwYRwA8Cr9/cdl2FIw5MHKSWWa1IBCB6EGwBebaRLCkCQItwA8GoDg4kBBCnCDYBO6p0t+uhg65pStNwACDaEGwCdbKk4oRa3ocz4SA1JjDK7HADoEcINgE48XVK5SbJYLCZXAwA9Q7gB0Mnbn1ZLkgqGDza5EgDoOcINgA5q6ps9i2WePyrF5GoAoOcINwA6eGf3UbkN6azUGGUmMN4GQPAh3ADo4K2drV1S54+k1QZAcCLcAPAwDONUuBmVbHI1ANA7hBsAHrurT+pQTaMiwqzKz2UwMYDgRLgB4PHmzqOSpPzcJEVF2EyuBgB6h3ADwIPxNgBCAeEGgCTpZFOLyncfkyR9eTThBkDwItwAkCT9c/sROV1uDU8epJGpMWaXAwC9RrgBIEn6+0eVkqSLx6ez5AKAoEa4AaDGZpfe2HFEUmu4AYBgRrgBoLd2Vqve6VJWQpQmZMWbXQ4A9AnhBoDWtnVJFZ1NlxSA4Ee4AQY4Z4tbr2+rkkSXFIDQQLgBBrg3dhyRo7FFKbF2TRmWaHY5ANBnhBtggHvu/QOSpMsnZ8lmpUsKQPAj3AADWHVtk2eW1LemDDG5GgDwDcINMIC9tPWgXG5Dk7ITNDIt1uxyAMAnCDfAAGUYhp7f1NolRasNgFBCuAEGqI8OOrS9slYRYVZ9fWKm2eUAgM8QboAB6qnyvZJar20THx1uai0A4EuEG2AAOlLbqJe3HpIkXTMjx9xiAMDHCDfAAPTH8n1yutw6Z2iCJg/l2jYAQgvhBhhgGptd+uOGCknSdecNN7kaAPA9wg0wwPx180Edr3NqSGKUZo5LM7scAPA5wg0wgDS1uLTijV2SpPkzchVm4y0AQOjhnQ0YQJ7ZuF8HTzQoNdau70wbanY5AOAXhBtggKh3tuiRf7a22vzwopGKirCZXBEA+AfhBhggnnhnr46ebNLQpGjNOTfb7HIAwG8IN8AAUFnTqN+s2y1JKv7KKIUz1gZACOMdDhgA7v6/j3WyqUV52Qn6+iSWWgAQ2gg3QIh7/ZMq/e2jSoVZLSq9fIKsVovZJQGAXxFugBDmaGxWyUsfSWq9YN/YjDiTKwIA/yPcACHKMAzd/pcPdKimUdlJUfrRRSPNLgkA+gXhBghRfyjfpzUfVircZtEjV57D1G8AAwbhBghBmys+132vbpMk3T5rrPKyE0yuCAD6D+EGCDG7q0/q2iffk9Pl1sxxabpmRo7ZJQFAvyLcACGkytGoub/fqM/rmzVxSLwenpMni4XZUQAGFsINECL2H6/X/zz2rg6eaFBu8iCtuvpcDbKHmV0WAPQ73vmAELCzqlZX/X6DqhxNykqI0h+umabkGLvZZQGAKQg3QJD724eH9ZPnP9DJphaNSovRH67JV3p8pNllAYBpCDdAkGpwuvTztdv15Pq9kqRpuUl67KopSoiOMLcwADAZ4QYIQm/urNbiFz9SxfF6SdL3vzxcP5k5WmEsiAkAhBsgmHx0sEbLXtupf24/IknKiI/Ufd8Yr/8ek2ZyZQAQOAg3QIAzDEP/+vSonlq/V2VtocZmtWhuwTDdOnO0YpgRBQAd8K4IBCDDMLS7+qRe/vdhvbz1oPYea+1+slik2RMzdXPhSA1PiTG5SgAITF120K9YsUI5OTmKjIxUfn6+Nm7ceNoDPffccxozZowiIyM1YcIErVmzxufFAqGsurZJf/vwsEpe+khfXrpOhcve0q/KPtXeY/WKsYfp6uk5er34y/rVlZMJNgBwGl5bblavXq3i4mKtXLlS+fn5Wr58uYqKirRjxw6lpqZ22n/9+vW68sorVVpaqq997Wt6+umnddlll2nz5s0aP368308CCCY1Dc068Hm9Pq06qe2VtdpR6dDOqpM6eKKhw37hNovOG5mir0/K1FfGpXFBPgDoJothGMYXN+bn5+vcc8/Vr3/9a0mS2+1Wdna2brrpJt1+++2dDjJnzhzV1dXplVde8Wz7r//6L+Xl5WnlypXdKsThcCg+Pl41NTWKi4vr7fkA/cblNtTQ7FKDs/VW52zRifpmnah36kRDsz6vd6qmvvXr0ZNOHfy8QYdONKi2qcXr8SwWaXRarM7NSdL5o1I0fcRgAg2AgBeIn9+d3jmdTqc2bdqkRYsWebZZrVYVFhaqvLzc60HKy8tVXFzcYVtRUZFefPHFLp+4qalJTU1NnvsOh6PHxXfH79/eo/1t02XPxEvOU+ctkpfd2vb18ngv+3bx8C6O631vr8f1+lw9eHwP6vJ63C7/Xbwds4u6uv38XTxXN19DGZLbMNTiNtTicqvFbcjlNtTiMtTidrdtb93W7HZ3+FmD06XGZrecLncXVZxZYnS4RqTEaHR6rMZkxGlMeqxGp8cqLjK818cEALTqFG6OHj0ql8ultLSOU0vT0tK0fft2rweprKz0un9lZWWXT1xaWqq77767NzX3yKsfHNLmihN+fx4MbFHhNkVH2JQQHa6E6AglRocrPqr1a0J0uAbH2JWZEKWshChlJkQqOoIWGQDwF9PeYRctWtShtcfhcCg7O9vnz/PNKUM0fURyp+1dLZTsdbOXnbtaZ9nbcS1e9u7J83e5bzdXe+76uXxfl7djnu643vft3r93z2rtvNVqtSjMapHNalG4zSKb1aqwtm1hbffD234eZrMozGqVzWpRVIRNUeFttwib7GFWVt4GgADSKdwkJyfLZrOpqqqqw/aqqiqlp6d7PUh6enqP9pcku90uu93/C/t9N3+Y358DAAAEjk5TwSMiIjRlyhSVlZV5trndbpWVlamgoMDrQQoKCjrsL0mvvfZal/sDAAD4i9duqeLiYs2bN09Tp07VtGnTtHz5ctXV1Wn+/PmSpLlz5yorK0ulpaWSpB/96Ef68pe/rIceekiXXHKJnnnmGb3//vt67LHH+u9MAAAA1EW4mTNnjqqrq1VSUqLKykrl5eVp7dq1nkHDFRUVslpPNfpMnz5dTz/9tH72s5/pjjvu0MiRI/Xiiy9yjRsAANDvvF7nxgyBOE8eAACcXiB+fne5/AIAAEAwItwAAICQQrgBAAAhhXADAABCCuEGAACEFMINAAAIKYQbAAAQUgg3AAAgpBBuAABASPG6/IIZ2i+U7HA4TK4EAAB0V/vndoAseCApgMJNbW2tJCk7O9vkSgAAQE/V1tYqPj7e7DIkBdDaUm63W4cOHVJsbKwsFovPjutwOJSdna39+/cHzJoXvhbq58j5Bb9QP0fOL/iF+jn68/wMw1Btba0yMzM7LKptpoBpubFarRoyZIjfjh8XFxeS/2H/U6ifI+cX/EL9HDm/4Bfq5+iv8wuUFpt2gRGxAAAAfIRwAwAAQortrrvuusvsIvzNZrPpggsuUFhYwPTC+VyonyPnF/xC/Rw5v+AX6ucY6uf3nwJmQDEAAIAv0C0FAABCCuEGAACEFMINAAAIKYQbAAAQUkI23Ozdu1fXXnutcnNzFRUVpREjRmjJkiVyOp0d9vvggw903nnnKTIyUtnZ2XrwwQdNqrjn7rvvPk2fPl3R0dFKSEjwuo/FYul0e+aZZ/q50t7rzjlWVFTokksuUXR0tFJTU/WTn/xELS0t/Vyp7+Tk5HR6zR544AGzy+q1FStWKCcnR5GRkcrPz9fGjRvNLsln7rrrrk6v1ZgxY8wuq9feeustzZ49W5mZmbJYLHrxxRc7/NwwDJWUlCgjI0NRUVEqLCzUp59+alK1vXOmc7z66qs7vaYXX3yxSdX2TGlpqc4991zFxsYqNTVVl112mXbs2NFhn8bGRi1cuFCDBw9WTEyMvvnNb6qqqsqkiv0nZMPN9u3b5Xa79dvf/lYff/yxHn74Ya1cuVJ33HGHZx+Hw6GZM2dq2LBh2rRpk5YuXaq77rpLjz32mImVd5/T6dQVV1yhG2644bT7PfHEEzp8+LDndtlll/VThX13pnN0uVy65JJL5HQ6tX79ej311FN68sknVVJS0s+V+tY999zT4TW76aabzC6pV1avXq3i4mItWbJEmzdv1qRJk1RUVKQjR46YXZrPnH322R1eq7ffftvsknqtrq5OkyZN0ooVK7z+/MEHH9SvfvUrrVy5Uhs2bNCgQYNUVFSkxsbGfq609850jpJ08cUXd3hN//znP/djhb335ptvauHChXr33Xf12muvqbm5WTNnzlRdXZ1nn1tuuUX/93//p+eee05vvvmmDh06pMsvv9zEqv3EGEAefPBBIzc313P/0UcfNRITE42mpibPtttuu80YPXq0GeX12hNPPGHEx8d7/Zkk44UXXujninyvq3Ncs2aNYbVajcrKSs+23/zmN0ZcXFyH1zWYDBs2zHj44YfNLsMnpk2bZixcuNBz3+VyGZmZmUZpaamJVfnOkiVLjEmTJpldhl988b3D7XYb6enpxtKlSz3bTpw4YdjtduPPf/6zGSX2mbf3x3nz5hmXXnqpSRX51pEjRwxJxptvvmkYRuvrFR4ebjz33HOefbZt22ZIMsrLy80q0y9CtuXGm5qaGiUlJXnul5eX6/zzz1dERIRnW1FRkXbs2KHPP//cjBL9YuHChUpOTta0adO0atWqgFqWvq/Ky8s1YcIEpaWlebYVFRXJ4XDo448/NrGyvnnggQc0ePBgTZ48WUuXLg3Kbjan06lNmzapsLDQs81qtaqwsFDl5eUmVuZbn376qTIzMzV8+HB997vfVUVFhdkl+cWePXtUWVnZ4fWMj49Xfn5+SL2ekrRu3TqlpqZq9OjRuuGGG3Ts2DGzS+qVmpoaSfJ87m3atEnNzc0dXsMxY8Zo6NChIfcahv5lCtvs2rVLjzzyiH7xi194tlVWVio3N7fDfu0fkpWVlUpMTOzXGv3hnnvu0X//938rOjpa//jHP3TjjTfq5MmT+uEPf2h2aT5RWVnZIdhIHV/DYPTDH/5Q55xzjpKSkrR+/XotWrRIhw8f1rJly8wurUeOHj0ql8vl9fXZvn27SVX5Vn5+vp588kmNHj1ahw8f1t13363zzjtPH330kWJjY80uz6faf5+8vZ7B+rvmzcUXX6zLL79cubm52r17t+644w7NmjVL5eXlstlsZpfXbW63WzfffLNmzJih8ePHS2p9DSMiIjqNXwy111AKwjE3t99+u9dBsv95++Ib58GDB3XxxRfriiuu0PXXX29S5d3Tm/M7ncWLF2vGjBmaPHmybrvtNv30pz/V0qVL/XgGZ+brcwwGPTnn4uJiXXDBBZo4caIWLFighx56SI888oiamppMPgt80axZs3TFFVdo4sSJKioq0po1a3TixAk9++yzZpeGXvqf//kfff3rX9eECRN02WWX6ZVXXtF7772ndevWmV1ajyxcuFAfffRRUE0g8aWga7m59dZbdfXVV592n+HDh3u+P3TokC688EJNnz6900Dh9PT0TqPE2++np6f7puAe6un59VR+fr7uvfdeNTU1yW639/o4feHLc0xPT+80+8bs19Cbvpxzfn6+WlpatHfvXo0ePdoP1flHcnKybDab19+xQHptfCkhIUGjRo3Srl27zC7F59pfs6qqKmVkZHi2V1VVKS8vz6yy/G748OFKTk7Wrl27dNFFF5ldTrf84Ac/0CuvvKK33npLQ4YM8WxPT0+X0+nUiRMnOrTehOLvZNCFm5SUFKWkpHRr34MHD+rCCy/UlClT9MQTT8hq7dhQVVBQoDvvvFPNzc0KDw+XJL322msaPXq0aV1SPTm/3ti6dasSExNNCzaSb8+xoKBA9913n44cOaLU1FRJra9hXFycxo0b55Pn8IW+nPPWrVtltVo95xcsIiIiNGXKFJWVlXlm6LndbpWVlekHP/iBydX5x8mTJ7V7925dddVVZpfic7m5uUpPT1dZWZknzDgcDm3YsOGMMzaD2YEDB3Ts2LEOgS5QGYahm266SS+88ILWrVvXadjFlClTFB4errKyMn3zm9+UJO3YsUMVFRUqKCgwo2T/MXtEs78cOHDAOOuss4yLLrrIOHDggHH48GHPrd2JEyeMtLQ046qrrjI++ugj45lnnjGio6ON3/72tyZW3n379u0ztmzZYtx9991GTEyMsWXLFmPLli1GbW2tYRiG8fLLLxuPP/648eGHHxqffvqp8eijjxrR0dFGSUmJyZV335nOsaWlxRg/frwxc+ZMY+vWrcbatWuNlJQUY9GiRSZX3jvr1683Hn74YWPr1q3G7t27jT/+8Y9GSkqKMXfuXLNL65VnnnnGsNvtxpNPPml88sknxve+9z0jISGhw+y2YHbrrbca69atM/bs2WO88847RmFhoZGcnGwcOXLE7NJ6pba21vM7JslYtmyZsWXLFmPfvn2GYRjGAw88YCQkJBgvvfSS8cEHHxiXXnqpkZubazQ0NJhcefed7hxra2uNH//4x0Z5ebmxZ88e4/XXXzfOOeccY+TIkUZjY6PZpZ/RDTfcYMTHxxvr1q3r8JlXX1/v2WfBggXG0KFDjX/+85/G+++/bxQUFBgFBQUmVu0fIRtunnjiCUOS19t/+ve//2186UtfMux2u5GVlWU88MADJlXcc/PmzfN6fm+88YZhGIbxt7/9zcjLyzNiYmKMQYMGGZMmTTJWrlxpuFwucwvvgTOdo2EYxt69e41Zs2YZUVFRRnJysnHrrbcazc3N5hXdB5s2bTLy8/ON+Ph4IzIy0hg7dqxx//33B8Uba1ceeeQRY+jQoUZERIQxbdo049133zW7JJ+ZM2eOkZGRYURERBhZWVnGnDlzjF27dpldVq+98cYbXn/f5s2bZxhG63TwxYsXG2lpaYbdbjcuuugiY8eOHeYW3UOnO8f6+npj5syZRkpKihEeHm4MGzbMuP7664MmjHf1mffEE0949mloaDBuvPFGIzEx0YiOjja+8Y1vdPijP1RYDCOE5gUDAIABL+hmSwEAAJwO4QYAAIQUwg0AAAgphBsAABBSCDcAACCkEG4AAEBIIdwAAICQQrgBAAAhhXADAABCCuEGAACEFMINAAAIKYQbAAAQUv4fqiKcqepbGOAAAAAASUVORK5CYII=)\n",
        "</center>\n",
        "<br>\n",
        "<br>\n"
      ]
    },
    {
      "cell_type": "markdown",
      "metadata": {
        "id": "yAWfZN-7oadX"
      },
      "source": [
        "**Cross entropy loss function**\n",
        "\n",
        "Vue que la classification binaires nous ne pouvons qu'avoir deux valeurs de sortie, la funciton de l'erreur moyene quadratique que nous avons vue precedenment ne peut pas marcher avec la regression logistique. La function la plus utilisée c'est **la function cross entropy** qui est define de la facon suivante: \n",
        "\n",
        "\n",
        "<br>\n",
        "<center>\n",
        "\n",
        " $$ -y_i \\log(p_i) - (1-y_i) \\log (1-p_i),$$\n",
        "\n",
        "</center>\n",
        "where $p_i = \\sigma (z)$ with $z$ being the output of our model function.\n",
        "<br>\n",
        "\n",
        "**Code task**:\n",
        "\n",
        "1. Implementer la fonction d'activation sigmoid.\n",
        "2. Implementer la fonction de cout cross entropy.\n"
      ]
    },
    {
      "cell_type": "code",
      "execution_count": null,
      "metadata": {
        "id": "J9CiEUERAHJ4"
      },
      "outputs": [],
      "source": [
        "def sigmoid(x):\n",
        "    \"\"\"sigmoid function 1/1+e^-x\"\"\"\n",
        "\n",
        "    prob = ... # update me\n",
        "\n",
        "    return prob"
      ]
    },
    {
      "cell_type": "code",
      "execution_count": null,
      "metadata": {
        "id": "YzKHb9DEAaMI"
      },
      "outputs": [],
      "source": [
        "# @title Run me to test your code\n",
        "def test_sigmoid_fn():\n",
        "  x  = np.array([0.7, 0.3, 0.8, 0.2])\n",
        "  assert jnp.allclose(sigmoid(x), jax.nn.sigmoid(x)), \"Test failed!\"\n",
        "  print(\"Nice! Your answer looks correct!\")\n",
        "\n",
        "  return"
      ]
    },
    {
      "cell_type": "code",
      "execution_count": null,
      "metadata": {
        "cellView": "form",
        "id": "t75OVB1oBZOZ"
      },
      "outputs": [],
      "source": [
        "# @title sigmoid solution (Try not to peek until you've given it a good try!')\n",
        "def sigmoid(x):\n",
        "  prob = 1/(1+jnp.exp(-x))\n",
        "\n",
        "  return prob"
      ]
    },
    {
      "cell_type": "code",
      "execution_count": null,
      "metadata": {
        "id": "f-YTxxNnuOKI"
      },
      "outputs": [],
      "source": [
        "def cross_entropy_loss(predictions, targets):\n",
        "    # you need to make sure we never have log of 0\n",
        "\n",
        "    # use sigmoid to compute the probs from the predicitions\n",
        "    probs = ... # update me\n",
        "\n",
        "    # your code here\n",
        "    loss = ... # update me\n",
        "\n",
        "    return loss"
      ]
    },
    {
      "cell_type": "code",
      "execution_count": null,
      "metadata": {
        "colab": {
          "base_uri": "https://localhost:8080/"
        },
        "id": "WUW87CN4u9sG",
        "outputId": "c7840eba-1a94-40e2-ddc4-ec08e0fea04d"
      },
      "outputs": [
        {
          "name": "stdout",
          "output_type": "stream",
          "text": [
            "Nice! Your anwser looks correct\n"
          ]
        }
      ],
      "source": [
        "# @title Run me to test your code\n",
        "def test_cross_entropy_loss():\n",
        "  predictions = np.array([0.7, 0.3, 0.8, 0.2])\n",
        "  targets = np.array([1, 0, 1, 0])\n",
        "\n",
        "  # Expected cross-entropy loss for the test data\n",
        "  expected_loss = 0.60669523\n",
        "\n",
        "  # Calculate the cross-entropy loss using the implemented function\n",
        "  computed_loss = cross_entropy_loss(predictions, targets)\n",
        "\n",
        "  assert jnp.isclose(computed_loss, expected_loss), \"Test failed!\"\n",
        "\n",
        "  # If the assert statement does not raise an exception, the test is passed.\n",
        "  print(\"Nice! Your anwser looks correct\")\n",
        "\n",
        "  return\n",
        "\n",
        "test_cross_entropy_loss()"
      ]
    },
    {
      "cell_type": "code",
      "execution_count": null,
      "metadata": {
        "cellView": "form",
        "id": "Y0VbBhG_u_UL"
      },
      "outputs": [],
      "source": [
        "# @title Cross entropy loss solution (Try not to peek until you've given it a good try!')\n",
        "def cross_entropy_loss(preds, targets):\n",
        "    eps = 1e-15\n",
        "    probs = sigmoid(preds)\n",
        "\n",
        "    loss = -targets*jnp.log(probs+eps) - (1-targets)*jnp.log(1-probs+eps)\n",
        "\n",
        "    return jnp.mean(loss)"
      ]
    },
    {
      "cell_type": "markdown",
      "metadata": {
        "id": "HjQNjDC2cG2t"
      },
      "source": [
        "#### Extending to Multi-class classification"
      ]
    },
    {
      "cell_type": "markdown",
      "metadata": {
        "id": "Dlr8evx-dCoE"
      },
      "source": [
        "Avec la classification multi -classe, le model est construit de facon a supporter plusieur classes. Avec chaque classe qui represente une category ou un label. Par example, dans le cas d'une classification des nombres , nous avons 10 classes, chaqueclasse representte un nomber de 0 a 9.\n",
        "\n",
        "La sortie du model es la distribution de probabilité dasn chaque lcasse, avec chaque classe avec sa probalitée.  La dimension de notre sortie correspond au nobre des classe. Par example un classeur avec 3 classes aura un vecteur a 3 dimensions.\n",
        "Pour predire le model selectionne la classe avec la plus grande probablilite comme la classe predite pour notre donnée en entrée."
      ]
    },
    {
      "cell_type": "markdown",
      "metadata": {
        "id": "BqLug2dpf8Zn"
      },
      "source": [
        "**Encodage One-hot: or one hot encoding**\n",
        "\n",
        "L'encodage one hot est une facons de representer les variables categoriques comme les classe comme des vecteurs binaries. Dans le cas d'une classification binaire avec 3 classes, notre sortie est representée commen un vecteur one hot de la maniere suivante.\n",
        "\n",
        "classe 1 [1, 0, 0]: ceci veut dire que notre donnée appartient a la premier classe. Le premier element du vecteur es 1 et les autres zeros.\n",
        "\n",
        "\n",
        "classe 1 [0, 1, 0]: ceci veut dire que notre donnée appartient a la deuxieme classe. Le deuxieme element du vecteur es 1 et les autres zeros.\n",
        "\n",
        "classe 1 [0, 0, 1]: ceci veut dire que notre donnée appartient a la troisieme classe. Le troisieme element du vecteur es 1 et les autres zeros.\n",
        "\n",
        "Exercice discuter comment on define la funciton cou pour la classification multi classe.\n",
        "\n",
        "\n",
        "La fonction cout pour une classification multi classe es defiine de la meme manier que la function pour un classeur binaire. Par contre pour ce cas nous le definission comme une soome ddu cout pour chaque classe pris separement...\n",
        "\n",
        "We can use `jax.nn.one_hot` function to one-hot encode our data.\n"
      ]
    },
    {
      "cell_type": "code",
      "execution_count": null,
      "metadata": {
        "colab": {
          "base_uri": "https://localhost:8080/"
        },
        "id": "u_-jrxWPjVzf",
        "outputId": "09a3bdb5-83e4-459d-e84f-6ee8d3919067"
      },
      "outputs": [
        {
          "name": "stdout",
          "output_type": "stream",
          "text": [
            "Example of One hot encordings: [[0. 0. 1.]\n",
            " [1. 0. 0.]\n",
            " [0. 1. 0.]]\n"
          ]
        }
      ],
      "source": [
        "# An example using one hot encoding\n",
        "num_classes =  3\n",
        "targets = jnp.array([2, 0, 1])\n",
        "one_hot_targets = jax.nn.one_hot(targets, num_classes)\n",
        "print(f\"Example of One hot encordings: {one_hot_targets}\")"
      ]
    },
    {
      "cell_type": "markdown",
      "metadata": {
        "id": "ckIDzLRgj7_b"
      },
      "source": [
        "**Exercise**: Discuss with your neighbour how we should define the loss function in the case of multi-class classification."
      ]
    },
    {
      "cell_type": "markdown",
      "metadata": {
        "id": "HMrwPge_lzVt"
      },
      "source": [
        "**Solution**: The loss function for a multi-classification is computed similarly to that of a binary classifier. However in this case we define the loss as the sum of the loss for each of the individual classes.\n",
        "<br>\n",
        "<center>\n",
        "\n",
        " $$ \\sum_c -y^c_i \\log(p^c_i),$$\n",
        "\n",
        "</center>\n",
        "\n",
        "where $p^c_i = \\text{softmax}(z) = \\frac{e^{z^c_i}}{\\sum_c e^{z^c_i}}$ with $z$ being the output of our model function.\n",
        "\n",
        "<br>\n",
        "The main difference here is that we use a $\\text{softmax}$ activation function instead of $\\text{sigmoid}$ as for the binary case.\n",
        "\n",
        "**Exercise 3 [OPTIONAL]**: Do your get the initution why this formula is similar to that for the binary case?\n",
        "\n",
        "**Solution**: Scroll to the [Appendix](#scrollTo=fRYbQvz01Zlm)."
      ]
    },
    {
      "cell_type": "markdown",
      "metadata": {
        "id": "2QnINsMrpTYP"
      },
      "source": [
        "**Code task**:\n",
        "  1. Implement the softmax activation function\n",
        "  2. Implement a cross entropy loss function for multiclass classification using softmax and one hot encoding."
      ]
    },
    {
      "cell_type": "code",
      "execution_count": null,
      "metadata": {
        "id": "4DWDGiKZpRX0"
      },
      "outputs": [],
      "source": [
        "def softmax(logits):\n",
        "  \"\"\"Compute softmax: `exp(x)/sum(exp(x))`\n",
        "\n",
        "  Args:\n",
        "    logits: array of shape (num_samples, num_classes)\n",
        "\n",
        "  Return:\n",
        "    probs: array of shape (num_samples, num_classes)\n",
        "  \"\"\"\n",
        "\n",
        "  # your code here\n",
        "  # make sure you sum across the right axis\n",
        "\n",
        "  probs = ... # update me\n",
        "\n",
        "  return probs"
      ]
    },
    {
      "cell_type": "code",
      "execution_count": null,
      "metadata": {
        "cellView": "form",
        "id": "UlBBgQafDsHQ"
      },
      "outputs": [],
      "source": [
        "# @title Run me to test your code\n",
        "def test_softmax():\n",
        "  x = jnp.array([[1.0, 0.4, 0.3], [10.0, 4.6, 8.9]])\n",
        "  assert jnp.allclose(softmax(x), jax.nn.softmax(x, axis=-1))\n",
        "  print(\"Nice! Your answer looks correct.\")\n",
        "\n",
        "test_softmax()"
      ]
    },
    {
      "cell_type": "code",
      "execution_count": null,
      "metadata": {
        "cellView": "form",
        "id": "5KKM6hKnxFSK"
      },
      "outputs": [],
      "source": [
        "# @title softmax solution (Try not to peek until you've given it a good try!')\n",
        "def softmax(logits):\n",
        "  exp_logits = jnp.exp(logits)\n",
        "  return exp_logits / jnp.sum(exp_logits, axis=-1, keepdims=True)"
      ]
    },
    {
      "cell_type": "code",
      "execution_count": null,
      "metadata": {
        "id": "WIVjt6T4xTQX"
      },
      "outputs": [],
      "source": [
        "def cross_entropy_softmax_loss(predictions, targets):\n",
        "    \"\"\"Compute the cross entropy softmax loss function\n",
        "\n",
        "      Args:\n",
        "        predictions: (num_samples, num_classes)\n",
        "        targets: (num_samples)\n",
        "    \"\"\"\n",
        "\n",
        "    # Compute the softmax probabilities\n",
        "    probs = ... # update me\n",
        "\n",
        "    num_classes = ... # update me\n",
        "\n",
        "    # One-hot encode the targets\n",
        "    targets_one_hot = ... # update me\n",
        "\n",
        "    # Compute the cross-entropy loss\n",
        "    eps = 1e-15\n",
        "    probs += eps # to avoid calling log with 0 values\n",
        "\n",
        "    loss = ... # update me\n",
        "\n",
        "    return loss"
      ]
    },
    {
      "cell_type": "code",
      "execution_count": null,
      "metadata": {
        "cellView": "form",
        "colab": {
          "base_uri": "https://localhost:8080/"
        },
        "id": "8Tsbe8OazNq5",
        "outputId": "6921c8fa-95a9-4298-b3c4-a59bc7ca4ef1"
      },
      "outputs": [
        {
          "name": "stdout",
          "output_type": "stream",
          "text": [
            "Nice! Your answer looks correct.\n"
          ]
        }
      ],
      "source": [
        "# @title Run me to test your code\n",
        "def test_cross_entropy_softmax_loss():\n",
        "  # Fixed predictions (logits) for each class\n",
        "  predictions = jnp.array([[1.5, 0.3, 2.7],\n",
        "        [0.8, 1.2, 3.1], [2.3, 1.7, 0.5],\n",
        "        [3.0, 0.5, 1.2], [0.2, 2.8, 1.0]])\n",
        "\n",
        "  # Fixed true class labels\n",
        "  targets = jnp.array([2, 1, 0, 0, 2])\n",
        "\n",
        "  # Expected loss computed manually\n",
        "  expected_loss = 1.0456787\n",
        "\n",
        "  # Compute the cross-entropy softmax loss using your implementation\n",
        "  loss = cross_entropy_softmax_loss(predictions, targets)\n",
        "\n",
        "  # Check if the computed loss matches the JAX built-in loss\n",
        "  assert jnp.allclose(loss, expected_loss), \"Loss value do not match!\"\n",
        "\n",
        "  print(\"Nice! Your answer looks correct.\")\n",
        "\n",
        "test_cross_entropy_softmax_loss()"
      ]
    },
    {
      "cell_type": "code",
      "execution_count": null,
      "metadata": {
        "id": "WG5z8vOjfYiU"
      },
      "outputs": [],
      "source": [
        "# @title Cross entropy softmax solution (Try not to peek until you've given it a good try!')\n",
        "def cross_entropy_softmax_loss(predictions, targets):\n",
        "    \"\"\"Compute the cross entropy softmax loss function\n",
        "\n",
        "      Args:\n",
        "        predictions: (num_samples, num_classes)\n",
        "        targets: (num_samples)\n",
        "    \"\"\"\n",
        "\n",
        "    # Compute the softmax probabilities\n",
        "    probs = softmax(predictions) # update me\n",
        "\n",
        "    num_classes = predictions.shape[-1]\n",
        "\n",
        "    # One-hot encode the targets\n",
        "    targets_one_hot = jax.nn.one_hot(targets, num_classes) # update me\n",
        "\n",
        "    # Compute the cross-entropy loss\n",
        "    eps = 1e-15\n",
        "    probs += eps # to avoid calling log with 0 values\n",
        "\n",
        "    loss_i = jnp.sum(-targets_one_hot*jnp.log(probs), axis=-1) # update me\n",
        "\n",
        "    return jnp.mean(loss_i)"
      ]
    },
    {
      "cell_type": "markdown",
      "metadata": {
        "id": "EcXXE56hPOhK"
      },
      "source": [
        "#### Simple Reseau de neurones pour la classification - <font color='blue'>`Beginner`</font>\n",
        "\n",
        "Dans cette section nous allosn mettre en place toutes le s differentes pieces et entrainer notre resaux de neurones pour la classification. Rappelons les outils que nous avons mentionner initialement qui sont necessaire pour entrainer un modele de machine learning.\n",
        "\n",
        "- Nos donnée d'apprentissage ou dataset.\n",
        "- La function du modele\n",
        "- la function cout\n",
        "- et la fonction d'optimization\n",
        "Nous allons utiliser sklearn, nous n'allons pas discutter le data processing mais en pratique nous faisons le data processing avant. \n"
      ]
    },
    {
      "cell_type": "code",
      "execution_count": null,
      "metadata": {
        "colab": {
          "base_uri": "https://localhost:8080/"
        },
        "id": "II8gN_lTKoQI",
        "outputId": "439aa45b-c9db-4ad5-aadf-ca8db106eb79"
      },
      "outputs": [
        {
          "name": "stderr",
          "output_type": "stream",
          "text": [
            "/usr/local/lib/python3.10/dist-packages/sklearn/datasets/_openml.py:968: FutureWarning: The default value of `parser` will change from `'liac-arff'` to `'auto'` in 1.4. You can set `parser='auto'` to silence this warning. Therefore, an `ImportError` will be raised from 1.4 if the dataset is dense and pandas is not installed. Note that the pandas parser may return different data types. See the Notes Section in fetch_openml's API doc for details.\n",
            "  warn(\n"
          ]
        }
      ],
      "source": [
        "from sklearn import datasets\n",
        "from sklearn.model_selection import train_test_split\n",
        "from sklearn.preprocessing import MinMaxScaler\n",
        "\n",
        "import jax\n",
        "import jax.numpy as jnp\n",
        "from typing import NamedTuple, Any\n",
        "\n",
        "import matplotlib.pyplot as plt\n",
        "import numpy as np\n",
        "\n",
        "# Let re-adapt our batch gradient descent function\n",
        "def batch_gradient_descent(loss_fn, params, training_data, val_data, learning_rate=0.01, num_epochs=20, batch_size=10):\n",
        "  \"\"\"Batch gradient descent basic jax implementation.\n",
        "\n",
        "  Args:\n",
        "    loss_fn\n",
        "      the loss function for our model.\n",
        "    params:\n",
        "      the initial parameters of the model.\n",
        "    training_data\n",
        "      a tuple with the features and targets for training.\n",
        "    val_data\n",
        "      a tuple with the features and targets for validation.\n",
        "    learning_rate\n",
        "      learning rate\n",
        "    num_epochs\n",
        "      number of epochs\n",
        "    batch_size:\n",
        "      size of every mini batch\n",
        "  \"\"\"\n",
        "\n",
        "  X_train, y_train = training_data\n",
        "  X_val, y_val = val_data\n",
        "\n",
        "  num_samples, num_features = X_train.shape\n",
        "\n",
        "  # Create empty list to store the training and validation loss.\n",
        "  loss_train = [] # training loss\n",
        "  loss_val  = [] # valisation loss\n",
        "\n",
        "  # Define a function that computes loss and gradients\n",
        "  loss_and_grad = jax.value_and_grad(loss_fn)\n",
        "\n",
        "  for epoch in range(num_epochs):\n",
        "    # Shuffle the data before every epoch\n",
        "    shuffled_indices = np.arange(num_samples)\n",
        "    np.random.shuffle(shuffled_indices)\n",
        "\n",
        "    loss_train_epoch = []\n",
        "\n",
        "    for start_idx in range(0, num_samples, batch_size):\n",
        "      end_idx = start_idx + batch_size\n",
        "      if end_idx > num_samples:\n",
        "        end_idx = num_samples\n",
        "\n",
        "      batch_indices = shuffled_indices[start_idx:end_idx]\n",
        "      X_batch = X_train[batch_indices]\n",
        "      y_batch = y_train[batch_indices]\n",
        "      # Compute loss and gradients using value_and_grad\n",
        "      loss, grads = loss_and_grad(params, X_batch, y_batch)\n",
        "      loss_train_epoch.append(loss)\n",
        "\n",
        "      # Update the parameters\n",
        "      params = jax.tree_map(lambda p, g: p -learning_rate*g, params, grads)\n",
        "\n",
        "    # We need to turn the list in to an array before applying jnp.mean\n",
        "    mean_loss = jnp.mean(jnp.array(loss_train_epoch))\n",
        "    loss_train.append(mean_loss)\n",
        "\n",
        "    # Compute the validation loss at the end of the epoch\n",
        "    loss_v = loss_fn(params, X_val, y_val)\n",
        "    loss_val.append(loss_v)\n",
        "\n",
        "  # Plot training and validation loss\n",
        "  epochs = range(1, num_epochs+1)\n",
        "  plt.plot(epochs, loss_train, label='Training Loss')\n",
        "  plt.plot(epochs, loss_val, label='Validation Loss')\n",
        "  plt.xlabel('Epoch')\n",
        "  plt.ylabel('Loss')\n",
        "  plt.title('Training and Validation Loss')\n",
        "  plt.legend()\n",
        "\n",
        "  # Display the plot\n",
        "  plt.show()\n",
        "\n",
        "  return params\n",
        "\n",
        "# Load the mnist dataset\n",
        "def load_dataset(seed):\n",
        "  mnist = fetch_openml(name='mnist_784', version=1, as_frame=False)\n",
        "  # Extract the data and labels\n",
        "  images, labels = mnist.data, mnist.target\n",
        "\n",
        "  # These images consist of integer values from 0 to 255.0\n",
        "  # We scale the images to min and max of 1\n",
        "  x_max = 255.0\n",
        "  x_min = 0.0\n",
        "\n",
        "  images = (images - x_min)/(x_max - x_min)\n",
        "  images = images.astype(jnp.float32)\n",
        "  labels = labels.astype(jnp.float32)\n",
        "\n",
        "  # These are images of shape 28x28 which have been flatten to shape 784\n",
        "  X_train, X_test, y_train, y_test = train_test_split(\n",
        "      images, labels, test_size=0.2, train_size=0.8, random_state=seed\n",
        "  )\n",
        "\n",
        "  train_dataset = (X_train, y_train)\n",
        "  test_dataset = (X_test, y_test)\n",
        "\n",
        "  return train_dataset, test_dataset\n",
        "\n",
        "training_data, val_data = load_dataset(32)"
      ]
    },
    {
      "cell_type": "markdown",
      "metadata": {
        "id": "fcJMGW7HWkWI"
      },
      "source": [
        "**Code task:**\n",
        "1. Build a neural network that outputs logits for each of the 10 classes.\n",
        "2. Initialise your model with some dummy input.\n",
        "3. Define your softmax cross entropy function."
      ]
    },
    {
      "cell_type": "code",
      "execution_count": null,
      "metadata": {
        "id": "DBOzpb2YXzvR"
      },
      "outputs": [],
      "source": [
        "# @title Your code here\n",
        "class Network(nn.Module):\n",
        "  hidden_size: int\n",
        "  output_size: int\n",
        "\n",
        "  @nn.compact\n",
        "  def __call__(self, x):\n",
        "    # First layer with ReLU activation\n",
        "    x = nn.Dense(self.hidden_size)(x)\n",
        "    x = jax.nn.relu(x)\n",
        "\n",
        "    # Second layer\n",
        "    x = ...  # update me\n",
        "    x = ...  # update me\n",
        "\n",
        "    # Third (output) layer with no activation applied\n",
        "    x = nn.Dense(self.output_size)(x)\n",
        "\n",
        "    return x\n",
        "\n",
        "# transform and intialiase the model.\n",
        "seed = 32\n",
        "input_size = 784 # remember our features are images of shape 28x28 flatten\n",
        "hidden_size = ... # update me\n",
        "output_size = ... # update me (hint: number classes)\n",
        "\n",
        "# instantiate the model\n",
        "model = Network... # update me\n",
        "\n",
        "key = jax.random.PRNGKey(seed)\n",
        "dummy = jnp.zeros((1, input_size), dtype=float)\n",
        "initial_params = model.init(key, dummy)\n",
        "\n",
        "def softmax(logits):\n",
        "  exp_logits = jnp.exp(logits)\n",
        "  return exp_logits / jnp.sum(exp_logits, axis=-1, keepdims=True)\n",
        "\n",
        "\n",
        "def cross_entropy_softmax_loss(params, X, targets):\n",
        "    \"\"\"Compute the cross entropy softmax loss function\n",
        "\n",
        "      Args:\n",
        "        params: model parameters\n",
        "        X: features arrary (num_samples, num_features)\n",
        "        targets: (num_samples)\n",
        "    \"\"\"\n",
        "\n",
        "    # use the model to compute the predictions\n",
        "    preds = model.apply(params, X)\n",
        "\n",
        "    # Compute the softmax probabilities\n",
        "    probs = softmax(preds)\n",
        "\n",
        "    num_classes = preds.shape[-1]\n",
        "\n",
        "    # One-hot encode the targets\n",
        "    targets_one_hot = jax.nn.one_hot(targets, num_classes)\n",
        "\n",
        "    # Compute the cross-entropy loss\n",
        "    eps = 1e-15\n",
        "    probs += eps # to avoid calling log with 0 values\n",
        "\n",
        "    loss_i = jnp.sum(-targets_one_hot*jnp.log(probs), axis=-1)\n",
        "\n",
        "    return jnp.mean(loss_i)\n"
      ]
    },
    {
      "cell_type": "code",
      "execution_count": null,
      "metadata": {
        "id": "mBM7kwGjY4dr"
      },
      "outputs": [],
      "source": [
        "# @title Sample solution (Try not to peek until you've given it a good try!')\n",
        "class Network(nn.Module):\n",
        "  hidden_size: int\n",
        "  output_size: int\n",
        "\n",
        "  @nn.compact\n",
        "  def __call__(self, x):\n",
        "    # First layer with ReLU activation\n",
        "    x = nn.Dense(self.hidden_size)(x)\n",
        "    x = jax.nn.relu(x)\n",
        "\n",
        "    # Second layer\n",
        "    x = nn.Dense(self.hidden_size)(x)\n",
        "    x = jax.nn.relu(x)\n",
        "\n",
        "    # Third (output) layer with no activation applied\n",
        "    x = nn.Dense(self.output_size)(x)\n",
        "\n",
        "    return x\n",
        "\n",
        "# transform and intialiase the model.\n",
        "seed = 67\n",
        "input_size = 784\n",
        "hidden_size = 100\n",
        "output_size = 10\n",
        "\n",
        "# Instantiate the model\n",
        "model = Network(hidden_size, output_size)\n",
        "\n",
        "key = jax.random.PRNGKey(seed)\n",
        "dummy = jnp.zeros((1, input_size), dtype=float)\n",
        "initial_params = model.init(key, dummy)\n",
        "\n",
        "def softmax(logits):\n",
        "  exp_logits = jnp.exp(logits)\n",
        "  return exp_logits / jnp.sum(exp_logits, axis=-1, keepdims=True)\n",
        "\n",
        "def cross_entropy_softmax_loss(params, X, targets):\n",
        "    \"\"\"Compute the cross entropy softmax loss function\n",
        "\n",
        "      Args:\n",
        "        params: model params\n",
        "        X: (num_features, num_classes)\n",
        "        targets: (num_samples)\n",
        "    \"\"\"\n",
        "\n",
        "    preds = model.apply(params, X)\n",
        "\n",
        "    # Compute the softmax probabilities\n",
        "    probs = softmax(preds)\n",
        "\n",
        "    num_classes = preds.shape[-1]\n",
        "\n",
        "    # One-hot encode the targets\n",
        "    targets_one_hot = jax.nn.one_hot(targets, num_classes)\n",
        "\n",
        "    # Compute the cross-entropy loss\n",
        "    eps = 1e-15\n",
        "    probs += eps # to avoid calling log with 0 values\n",
        "\n",
        "    loss_i = jnp.sum(-targets_one_hot*jnp.log(probs), axis=-1)\n",
        "\n",
        "    return jnp.mean(loss_i)\n"
      ]
    },
    {
      "cell_type": "markdown",
      "metadata": {
        "id": "GcSvlekHPWxW"
      },
      "source": [
        "#### Training the model - <font color='blue'>`Beginner`</font>\n",
        "\n",
        "\n"
      ]
    },
    {
      "cell_type": "markdown",
      "metadata": {
        "id": "xed1mfr1cOzW"
      },
      "source": [
        "**Code task:**\n",
        "  1. Call the `batch_gradient_descent` function to train the model.\n",
        "  2. Vary the `learning_rate` and the `batch_size` and observe the behaviour of the loss function."
      ]
    },
    {
      "cell_type": "code",
      "execution_count": null,
      "metadata": {
        "id": "lslWzLP0cciM"
      },
      "outputs": [],
      "source": [
        "params = batch_gradient_descent ... # update me"
      ]
    },
    {
      "cell_type": "code",
      "execution_count": null,
      "metadata": {
        "colab": {
          "base_uri": "https://localhost:8080/",
          "height": 472
        },
        "id": "WZGTHUrTdW2x",
        "outputId": "d02514a2-758c-44e5-cb10-693b67835db5"
      },
      "outputs": [
        {
          "data": {
            "image/png": "[encoded data removed]",
            "text/plain": [
              "<Figure size 640x480 with 1 Axes>"
            ]
          },
          "metadata": {},
          "output_type": "display_data"
        }
      ],
      "source": [
        "# @title Sample solution (Try not to peek until you've given it a good try!')\n",
        "params = batch_gradient_descent(cross_entropy_softmax_loss, initial_params, training_data, val_data, learning_rate=0.01, num_epochs=10, batch_size=1000)"
      ]
    },
    {
      "cell_type": "markdown",
      "metadata": {
        "id": "sGPvmGWkP1fT"
      },
      "source": [
        "#### Evaluating the model - <font color='blue'>`Beginner`</font>\n",
        "usqu'a present nous n'avons vu qu'une seule methode pour evaluer notre model: la function cout.\n",
        "\n",
        "Par contre, lors de l'evaluation d'un model de machien learning plusieur methodes peuvent etre utiliser.  Les hyper parametres sont selectionner en fuction du metric qu'on optimise. Voice quelques metrics que nous pouvons utilser pour nos taches de classifications.\n",
        "\n",
        "*   **Accuracy**:  c'est le metric le plus important dans les taches de classifications. Il mesure la proportion des instances classifier correctment: $$ \\text{Accuracy} = \\frac{\\text{Nombre des prediction correctes}}{\\text{total nombres des predictions}}$$\n",
        "\n",
        "* **Precision**: c'est la mesure des prediction positives, Par example si notre model model predit 100 points qui appartiennent a la classe 1, notre precision seras le pourcentage de ces 100 points qui appartient a la classe 1. Un plus grand precison es neccessery pour un diagnosis des images. Nous ne voulons pas faires des precision innutiles qui pourons engendre de traitement non neccessaire.\n",
        "\n",
        "* **Recall**: Il s'agit d'une mesure de la capacité du modèle à identifier de manière efficiente toutes les instances positives. Par exemple, si l'ensemble de données comporte 100 points de données appartenant à la classe 1, combien sont effectivement classifiés comme appartenant à la classe 1 ? Le rappel revêt une importance primordiale dans les scénarios où l'omission d'une seule instance positive n'est pas souhaitée. Prenons l'exemple d'une entreprise de sécurité : nous ne souhaitons pas attribuer à tort la classification \"sûr\" à un signal émis par un utilisateur alors qu'il est en réalité en situation de danger."
      ]
    },
    {
      "cell_type": "markdown",
      "metadata": {
        "id": "-0htEsSspFQN"
      },
      "source": [
        "**Let's use accuracy to evaluate the performance of our trained classifier.**\n",
        "\n",
        "Tout d'abord, définissons une fonction de prédiction qui transforme la sortie du modèle en classe. Rappelons que la sortie du classificateur est composée de logit, correspondant à des probabilités non normalisées pour chaque classe. Ainsi, la classe prédite est celle avec la probabilité la plus élevée.\n",
        "  \n",
        "\n",
        "**Code Task**\n",
        "  1. Implémentez une fonction appelée \"model_predict\" qui sélectionne la classe appropriée à partir de la sortie du modèle."
      ]
    },
    {
      "cell_type": "code",
      "execution_count": null,
      "metadata": {
        "id": "tWMMpYSDhAhE"
      },
      "outputs": [],
      "source": [
        "# @title Your code here\n",
        "def model_predict(params, X):\n",
        "    \"\"\"Use the model for predicition\n",
        "\n",
        "      args:\n",
        "        params: model parameters\n",
        "        X: features array (num_samples, num_features)\n",
        "\n",
        "      return\n",
        "        pred: predicted class (num_samples, 1)\n",
        "    \"\"\"\n",
        "\n",
        "    # call the model to compute the logits\n",
        "    logits = model... # update me\n",
        "    preds = ... # update me: hint use jnp.argmax\n",
        "\n",
        "    return preds"
      ]
    },
    {
      "cell_type": "code",
      "execution_count": null,
      "metadata": {
        "cellView": "form",
        "id": "3u3PzTGmxENi"
      },
      "outputs": [],
      "source": [
        "# @title Run to test your code\n",
        "def test_model_predict():\n",
        "    features = val_data[0][0:10]\n",
        "    preds = model_predict(params, features)\n",
        "    expected = jnp.argmax(model.apply(params, features), axis=-1)\n",
        "    assert jnp.array_equal(preds, expected), \"Failed! try again\"\n",
        "    print(\"Nice! Your answer looks correct.\")\n",
        "\n",
        "test_model_predict()"
      ]
    },
    {
      "cell_type": "code",
      "execution_count": null,
      "metadata": {
        "cellView": "form",
        "id": "xhJbRdW8DsHS"
      },
      "outputs": [],
      "source": [
        "# @title Solution model predict (Try not to peek until you've given it a good try!')\n",
        "def model_predict(params, X):\n",
        "    \"\"\"Use the model for predicition\n",
        "\n",
        "      args:\n",
        "        params: model parameters\n",
        "        X: features array (num_samples, num_features)\n",
        "\n",
        "      return\n",
        "        pred: predicted class (num_samples, 1)\n",
        "    \"\"\"\n",
        "\n",
        "    # call the model to compute the logits\n",
        "    logits = model.apply(params, X)\n",
        "    preds = jnp.argmax(logits, axis=-1)\n",
        "\n",
        "    return preds"
      ]
    },
    {
      "cell_type": "code",
      "execution_count": null,
      "metadata": {
        "cellView": "form",
        "colab": {
          "base_uri": "https://localhost:8080/"
        },
        "id": "k-rRiOD2z5ks",
        "outputId": "fcd216c4-9bf7-441d-f10e-d439eeeb3a2b"
      },
      "outputs": [
        {
          "name": "stdout",
          "output_type": "stream",
          "text": [
            "The training accuracy is 0.8279464244842529 while the validation accuracy is 0.8304285407066345\n"
          ]
        }
      ],
      "source": [
        "# @title Compute the accuray of your model\n",
        "def compute_accuracy(data):\n",
        "  \"\"\"Compute the accuracy of the model\"\"\"\n",
        "\n",
        "  X, y_true = data\n",
        "  y_pred = model_predict(params, X).squeeze()\n",
        "\n",
        "  acc = sum(y_pred==y_true)/len(y_true)\n",
        "\n",
        "  return acc\n",
        "\n",
        "train_acc = compute_accuracy(training_data)\n",
        "val_acc = compute_accuracy(val_data)\n",
        "print(f\"The training accuracy is {train_acc} while the validation accuracy is {val_acc}\")"
      ]
    },
    {
      "cell_type": "markdown",
      "metadata": {
        "id": "r5-yxk9e19q4"
      },
      "source": [
        "\n",
        "\n",
        "Felicitatins, nous venons d'entrainer un model de machine learning pour la classification en utilisant le dataset populaire mnist digit.\n",
        "\n",
        "**Excercise**:\n",
        "- Etes vous satisfait de la precision de votre model?\n",
        "- Que pouvez vous faire pour ameliorer la precision de votre model?"
      ]
    },
    {
      "cell_type": "markdown",
      "metadata": {
        "id": "fV3YG7QOZD-B"
      },
      "source": [
        "\n",
        "\n",
        "**Conclusions**\n",
        "**Resume**\n",
        "\n",
        "- L'apprentissage automatique est la science de l'utilisation des données pour construire des systèmes intelligents.\n",
        "- L'apprentissage profond est le sous-ensemble des méthodes d'apprentissage automatique qui utilise des réseaux de neuronnes.\n",
        "- L'optimisation est le processus de recherche des paramètres qui rendent la perte d'une fonction aussi petite que possible.\n",
        "- JAX est un nouveau framework populaire qui peut être utilisé pour calculer les dérivées et former des modèles d'apprentissage automatique.\n",
        "\n",
        "**Prochaines étapes:**\n",
        "[Prochaines étapes pour les personnes qui ont terminé la pratique, comme la lecture facultative (par exemple, blogs, documents, cours, vidéos YouTube). Cela pourrait également être lié à d'autres pratiques.]\n",
        "\n",
        "**Références:**\n",
        "\n",
        "\n",
        "1. https://d2l.ai/chapter_linear-networks/linear-regression.html\n",
        "2. https://jax.readthedocs.io/en/latest/notebooks/quickstart.html\n",
        "3. https://www.simplilearn.com/tutorials/artificial-intelligence-tutorial/ai-vs-machine-learning-vs-deep-learning\n",
        "4. https://www.javatpoint.com/machine-learning\n",
        "5. Aurelien Genon, Hands-on Machine Learning with Scikit-Learn, Keras, and TensorFlow: Concepts, Tools, and Techniques to Build Intelligent Systems, 2nd Edition, O'Reilly Media, 2019."
      ]
    },
    {
      "cell_type": "markdown",
      "metadata": {
        "id": "742JhcnAxTof"
      },
      "source": [
        "### Appendix\n",
        "\n",
        "### Basis of JAX [OPTIONAL] - <font color='blue'>`Beginner`</font>\n",
        "\n",
        "Throughout this tutorial, we will use the [JAX](https://jax.readthedocs.io/en/latest/) framework to illustrate the different concepts we will discuss. Jax is very similar to numpy but they are some important minor differences we need to be aware of."
      ]
    },
    {
      "cell_type": "markdown",
      "metadata": {
        "id": "T221aJAVyjvj"
      },
      "source": [
        "Similarities between JAX and Numpy"
      ]
    },
    {
      "cell_type": "code",
      "execution_count": null,
      "metadata": {
        "id": "Co610zXhygak"
      },
      "outputs": [],
      "source": [
        "# Create NumPy arrays\n",
        "np_array1 = np.array([1, 2, 3])\n",
        "np_array2 = np.array([4, 5, 6])\n",
        "\n",
        "# Create JAX arrays\n",
        "jax_array1 = jnp.array([1, 2, 3])\n",
        "jax_array2 = jnp.array([4, 5, 6])\n",
        "\n",
        "# Element-wise addition using NumPy\n",
        "np_result = np_array1 + np_array2\n",
        "print(\"NumPy result:\", np_result)\n",
        "\n",
        "# Element-wise addition using JAX\n",
        "jax_result = jax_array1 + jax_array2\n",
        "print(\"JAX result:\", jax_result)"
      ]
    },
    {
      "cell_type": "code",
      "execution_count": null,
      "metadata": {
        "id": "o5i-RM66zYz7"
      },
      "outputs": [],
      "source": [
        "# Array concatenation using NumPy\n",
        "np_array1 = np.array([1, 2, 3])\n",
        "np_array2 = np.array([4, 5, 6])\n",
        "np_concatenated = np.concatenate([np_array1, np_array2])\n",
        "\n",
        "# Array concatenation using JAX\n",
        "jax_array1 = jnp.array([1, 2, 3])\n",
        "jax_array2 = jnp.array([4, 5, 6])\n",
        "jax_concatenated = jnp.concatenate([jax_array1, jax_array2])"
      ]
    },
    {
      "cell_type": "code",
      "execution_count": null,
      "metadata": {
        "id": "fz73kSvDzojV"
      },
      "outputs": [],
      "source": [
        "# Element-wise functions using NumPy\n",
        "np_array = np.array([0, np.pi/2, np.pi])\n",
        "np_sin = np.sin(np_array)\n",
        "\n",
        "# Element-wise functions using JAX\n",
        "jax_array = jnp.array([0, jnp.pi/2, jnp.pi])\n",
        "jax_sin = jnp.sin(jax_array)"
      ]
    },
    {
      "cell_type": "code",
      "execution_count": null,
      "metadata": {
        "id": "yVj6HoN4z5KZ"
      },
      "outputs": [],
      "source": [
        "# Reduction operations using NumPy\n",
        "np_array = np.array([1, 2, 3])\n",
        "np_sum = np.sum(np_array)\n",
        "np_mean = np.mean(np_array)\n",
        "\n",
        "# Reduction operations using JAX\n",
        "jax_array = jnp.array([1, 2, 3])\n",
        "jax_sum = jnp.sum(jax_array)\n",
        "jax_mean = jnp.mean(jax_array)"
      ]
    },
    {
      "cell_type": "markdown",
      "metadata": {
        "id": "etSsvtmQz9L9"
      },
      "source": [
        "####JAX and NumPy - Differences ❌\n",
        "\n",
        "Although JAX and NumPy have some similarities, they do have some important differences:\n",
        "- Jax arrays are **immutable** (they can't be modified after they are created).\n",
        "- The way they handle **randomness** -- JAX handles randomness explicitly.\n",
        "\n"
      ]
    },
    {
      "cell_type": "markdown",
      "metadata": {
        "id": "mgu5mHNZ1Esn"
      },
      "source": [
        "#### JAX arrays are immutable, while NumPy arrays are not.\n",
        "\n",
        "JAX and NumPy arrays are often interchangeable, **but** Jax arrays are **immutable** (they can't be modified after they are created). Allowing mutations makes transforms difficult and violates conditions for [pure functions](https://en.wikipedia.org/wiki/Pure_function)."
      ]
    },
    {
      "cell_type": "markdown",
      "metadata": {
        "id": "rf2bVtWr1QYX"
      },
      "source": [
        "Let's see this in practice by changing the number at the beginning of an array."
      ]
    },
    {
      "cell_type": "code",
      "execution_count": null,
      "metadata": {
        "id": "aonuiSN81Ok5"
      },
      "outputs": [],
      "source": [
        "# NumPy: mutable arrays\n",
        "x = np.arange(10)\n",
        "x[0] = 10\n",
        "print(x)"
      ]
    },
    {
      "cell_type": "markdown",
      "metadata": {
        "id": "_bikd7W91eQf"
      },
      "source": [
        "Let's try this in JAX."
      ]
    },
    {
      "cell_type": "code",
      "execution_count": null,
      "metadata": {
        "id": "Kt9yRXan1mMO"
      },
      "outputs": [],
      "source": [
        "# JAX: immutable arrays\n",
        "# Should raise an error.\n",
        "try:\n",
        "    x = jnp.arange(10)\n",
        "    x[0] = 10\n",
        "except Exception as e:\n",
        "    print(\"Exception {}\".format(e))"
      ]
    },
    {
      "cell_type": "markdown",
      "metadata": {
        "id": "YHRr6uKH1sQ0"
      },
      "source": [
        "So it fails! We can't mutate a JAX array once it has been created. To update JAX arrays, we need to use [helper functions](https://jax.readthedocs.io/en/latest/_autosummary/jax.numpy.ndarray.at.html) that return an updated copy of the JAX array.\n",
        "\n",
        "Instead of doing this `x[idx] = y`, we need to do this `x = x.at[idx].set(y)`."
      ]
    },
    {
      "cell_type": "code",
      "execution_count": null,
      "metadata": {
        "id": "XLL6d2p81xue"
      },
      "outputs": [],
      "source": [
        "x = jnp.arange(10)\n",
        "new_x = x.at[0].set(10)\n",
        "print(f\" new_x: {new_x} original x: {x}\")"
      ]
    },
    {
      "cell_type": "markdown",
      "metadata": {
        "id": "w6ibwTBj14gw"
      },
      "source": [
        "Note here that `new_x` is a copy and that the original `x` is unchanged."
      ]
    },
    {
      "cell_type": "markdown",
      "metadata": {
        "id": "Ik_8oN9m1_zS"
      },
      "source": [
        "#### Randomness in NumPy vs JAX\n",
        "\n",
        "JAX is more explicit in Pseudo Random Number Generation (PRNG) than NumPy and other libraries (such as TensorFlow or PyTorch). [PRNG](https://en.wikipedia.org/wiki/Pseudorandom_number_generator) is the process of algorithmically generating a sequence of numbers, which *approximate* the properties of a sequence of random numbers.  \n",
        "\n",
        "Let's see the differences in how JAX and NumPy generate random numbers."
      ]
    },
    {
      "cell_type": "markdown",
      "metadata": {
        "id": "jaWE-uiW2G4p"
      },
      "source": [
        "##### In Numpy, PRNG is based on a global `state`.\n",
        "\n",
        "Let's set the initial seed."
      ]
    },
    {
      "cell_type": "code",
      "execution_count": null,
      "metadata": {
        "id": "wa5e2_gb2Jl9"
      },
      "outputs": [],
      "source": [
        "# Set random seed\n",
        "np.random.seed(42)\n",
        "prng_state = np.random.get_state()"
      ]
    },
    {
      "cell_type": "code",
      "execution_count": null,
      "metadata": {
        "cellView": "form",
        "id": "-9X10jhocGaS"
      },
      "outputs": [],
      "source": [
        "# @title Helper function to compare prng keys (Run Cell)\n",
        "def is_prng_state_the_same(prng_1, prng_2):\n",
        "    \"\"\"Helper function to compare two prng keys.\"\"\"\n",
        "    # concat all elements in prng tuple\n",
        "    list_prng_data_equal = [(a == b) for a, b in zip(prng_1, prng_2)]\n",
        "    # stack all elements together\n",
        "    list_prng_data_equal = np.hstack(list_prng_data_equal)\n",
        "    # check if all elements are the same\n",
        "    is_prng_equal = all(list_prng_data_equal)\n",
        "    return is_prng_equal"
      ]
    },
    {
      "cell_type": "markdown",
      "metadata": {
        "id": "yCHvH8DZ3Aro"
      },
      "source": [
        "Let's take a few samples from a Gaussian (normal) Distribution and check if PRNG keys/global state change."
      ]
    },
    {
      "cell_type": "code",
      "execution_count": null,
      "metadata": {
        "id": "KSixAoOQ2QU9"
      },
      "outputs": [],
      "source": [
        "print(\n",
        "    f\"sample 1 = {np.random.normal()} Did prng state change: {not is_prng_state_the_same(prng_state,np.random.get_state())}\"\n",
        ")\n",
        "prng_state = np.random.get_state()\n",
        "print(\n",
        "    f\"sample 2 = {np.random.normal()} Did prng state change: {not is_prng_state_the_same(prng_state,np.random.get_state())}\"\n",
        ")\n",
        "prng_state = np.random.get_state()\n",
        "print(\n",
        "    f\"sample 3 = {np.random.normal()} Did prng state change: {not is_prng_state_the_same(prng_state,np.random.get_state())}\"\n",
        ")"
      ]
    },
    {
      "cell_type": "markdown",
      "metadata": {
        "id": "dlwT1pZH4M7C"
      },
      "source": [
        "Numpy's global random state is updated every time a random number is generated, so *sample 1 != sample 2 != sample 3*.\n",
        "\n",
        "Having the state automatically updated, makes it difficult to handle randomness in a **reproducible** way across different threads, processes and devices."
      ]
    },
    {
      "cell_type": "markdown",
      "metadata": {
        "id": "eNQW9JwK4Yp6"
      },
      "source": [
        "##### In JAX, PRNG is explicit.\n",
        "\n",
        "In JAX, for each random number generation, you need to explicitly pass in a random key/state.\n",
        "\n",
        "Passing the same state/key results in the same number being generated. This is generally undesirable."
      ]
    },
    {
      "cell_type": "code",
      "execution_count": null,
      "metadata": {
        "id": "Qd0PAWvf4KtX"
      },
      "outputs": [],
      "source": [
        "from jax import random\n",
        "\n",
        "key = random.PRNGKey(42)\n",
        "print(f\"sample 1 = {random.normal(key)}\")\n",
        "print(f\"sample 2 = {random.normal(key)}\")\n",
        "print(f\"sample 3 = {random.normal(key)}\")"
      ]
    },
    {
      "cell_type": "markdown",
      "metadata": {
        "id": "iUpdRj074oYO"
      },
      "source": [
        "To generate different and independent samples, you need to manually split the keys."
      ]
    },
    {
      "cell_type": "code",
      "execution_count": null,
      "metadata": {
        "id": "82xoxsrF4vls"
      },
      "outputs": [],
      "source": [
        "from jax import random\n",
        "\n",
        "key = random.PRNGKey(42)\n",
        "print(f\"sample 1 = {random.normal(key)}\")\n",
        "\n",
        "# We split the key -> new key and subkey\n",
        "new_key, subkey = random.split(key)\n",
        "\n",
        "# We use the subkey immediately and keep the new key for future splits.\n",
        "# It doesn't really matter which key we keep and which one we use immediately.\n",
        "print(f\"sample 2 = {random.normal(subkey)}\")\n",
        "\n",
        "# We split the new key -> new key2 and subkey\n",
        "new_key2, subkey = random.split(new_key)\n",
        "print(f\"sample 3 = {random.normal(subkey)}\")"
      ]
    },
    {
      "cell_type": "markdown",
      "metadata": {
        "id": "C2wiRBEo5OQb"
      },
      "source": [
        "By using JAX, we can more easily reproduce random number generation in parallel across threads, processes, or even devices by explicitly passing and keeping track of the prng key (without relying on a global state that automatically gets updated)."
      ]
    },
    {
      "cell_type": "markdown",
      "metadata": {
        "id": "kh_8f4gKyufu"
      },
      "source": [
        "### Derivation of partial derivatives for exercise 2 [OPTIONAL]\n",
        "Derive $\\frac{\\partial \\mathcal{L}}{\\partial \\mathbf{w}}$:\n",
        "\\begin{aligned}\n",
        "\\frac{\\partial \\mathcal{L}}{\\partial \\mathbf{w}} & = \\frac{ \\partial}{\\partial \\mathbf{w}} (\\frac{1}{m} \\sum_{i=1}^m (y_i - (\\mathbf{w}^T \\mathbf{x}_i + b))^2) \\quad \\text{: Definition of $\\mathcal{L}$} \\\\\n",
        "\\frac{\\partial \\mathcal{L}}{\\partial \\mathbf{w}} & = \\frac{1}{m} \\frac{ \\partial }{\\partial \\mathbf{w}} ( \\sum_{i=1}^m (y_i - (\\mathbf{w}^T \\mathbf{x}_i + b))^2) \\quad \\text{: Constant multiple rule} \\\\\n",
        "\\frac{\\partial \\mathcal{L}}{\\partial \\mathbf{w}} & = \\frac{1}{m} \\sum_{i=1}^m \\frac{ \\partial }{\\partial \\mathbf{w}} (y_i - (\\mathbf{w}^T \\mathbf{x}_i + b))^2 \\quad \\text{: Sum Rule - derivative of sum is sum of derivatives.} \\\\\n",
        "\\frac{\\partial \\mathcal{L}}{\\partial \\mathbf{w}} & = \\frac{1}{m} \\sum_{i=1}^m 2 (y_i - (\\mathbf{w}^T \\mathbf{x}_i + b)) \\frac{ \\partial }{\\partial \\mathbf{w}}(y_i -(\\mathbf{w}^T \\mathbf{x}_i + b))  \\quad \\text{: Power Rule + Chain Rule.} \\\\\n",
        "\\frac{\\partial \\mathcal{L}}{\\partial \\mathbf{w}} & = \\frac{1}{m} \\sum_{i=1}^m 2 (y_i - (\\mathbf{w}^T \\mathbf{x}_i + b)) (-\\mathbf{x}_i)  \\quad \\text{: Compute derative.} \\\\\n",
        "\\frac{\\partial \\mathcal{L}}{\\partial \\mathbf{w}} & = \\frac{2}{m} \\sum_{i=1}^m (y_i - (\\mathbf{w}^T \\mathbf{x}_i + b)) (-\\mathbf{x}_i)  \\quad \\text{: Factor constant out of summation.} \\\\\n",
        "\\frac{\\partial \\mathcal{L}}{\\partial \\mathbf{w}} & = \\frac{2}{m} \\sum_{i=1}^m \\mathbf{x}_i((\\mathbf{w}^T \\mathbf{x}_i + b) -y_i ) \\quad \\text{: Rearrange.} \\\\  \n",
        "\\end{aligned}\n",
        "\n",
        "Derive $\\frac{\\partial \\mathcal{L}}{\\partial b}$:\n",
        "\\begin{aligned}\n",
        "\\frac{\\partial \\mathcal{L}}{\\partial b} & = \\frac{ \\partial}{\\partial b} (\\frac{1}{m} \\sum_{i=1}^m (y_i - (\\mathbf{w}^T \\mathbf{x}_i + b))^2) \\quad \\text{: Definition of $\\mathcal{L}$} \\\\\n",
        "\\frac{\\partial \\mathcal{L}}{\\partial b} & = \\frac{1}{m} \\frac{ \\partial }{\\partial b} ( \\sum_{i=1}^m (y_i - (\\mathbf{w}^T \\mathbf{x}_i + b))^2) \\quad \\text{: Constant multiple rule} \\\\\n",
        "\\frac{\\partial \\mathcal{L}}{\\partial b} & = \\frac{1}{m} \\sum_{i=1}^m \\frac{ \\partial }{\\partial b} (y_i - (\\mathbf{w}^T \\mathbf{x}_i + b))^2 \\quad \\text{: Sum Rule - derivative of sum is sum of derivatives.} \\\\\n",
        "\\frac{\\partial \\mathcal{L}}{\\partial b} & = \\frac{1}{m} \\sum_{i=1}^m 2 (y_i - (\\mathbf{w}^T \\mathbf{x}_i + b)) \\frac{ \\partial }{\\partial b}(y_i -(\\mathbf{w}^T \\mathbf{x}_i + b))  \\quad \\text{: Power Rule + Chain Rule.} \\\\\n",
        "\\frac{\\partial \\mathcal{L}}{\\partial b} & = \\frac{1}{m} \\sum_{i=1}^m 2 (y_i - (\\mathbf{w}^T \\mathbf{x}_i + b)) (-1)  \\quad \\text{: Compute derative.} \\\\\n",
        "\\frac{\\partial \\mathcal{L}}{\\partial b} & = \\frac{2}{m} \\sum_{i=1}^m (y_i - (\\mathbf{w}^T \\mathbf{x}_i + b)) (-1)  \\quad \\text{: Factor constant out of summation.} \\\\\n",
        "\\frac{\\partial \\mathcal{L}}{\\partial b} & = \\frac{2}{m} \\sum_{i=1}^m ((\\mathbf{w}^T \\mathbf{x}_i + b) -y_i ) \\quad \\text{: Rearrange.} \\\\  \n",
        "\\end{aligned}"
      ]
    },
    {
      "cell_type": "markdown",
      "metadata": {
        "id": "fRYbQvz01Zlm"
      },
      "source": [
        "### Intuition for multi-class CE loss: exercise 3 [OPTIONAL]\n",
        "\n",
        "For binary classifies we use the following formula for the cross entropy loss\n",
        " $$ -y_i \\log(p_i) - (1-y_i) \\log (1-p_i).$$\n",
        "\n",
        "Recall in binary classier we have one class, so the output of our model is the probability, $p$ of belonging to that class. Instead, we can treat our binary classifier as two classes defined as follows\n",
        "  - Class 1: Belonging to the class in question.\n",
        "  - Class 2: Not belonging to the class.\n",
        "\n",
        "Then if the probability for the data point $y$_i of belonging to Class 1 is $p$_i, this means its probability of not belonging to Class 1 which is equivalent to belonging to Class 2 is $(1-p_i)$. Anagoulsy since target values are one hot encoded for a multi-class classification if $y_i$ is the label that it indicates if the data point belongs to Class 1 or not the corresponding label for belonging to Class 2 will be $(1 - y_i)$. Hence we can rewrite our cross entropy loss in compact form as follows\n",
        "$$ \\sum_c -y^c_i \\log(p^c_i).$$"
      ]
    },
    {
      "cell_type": "markdown",
      "metadata": {
        "id": "s75zkKGJ9QRn"
      },
      "source": [
        "**References:**\n",
        "\n",
        "1. https://d2l.ai/chapter_linear-networks/linear-regression.html\n",
        "2. https://jax.readthedocs.io/en/latest/notebooks/quickstart.html\n",
        "3. https://www.simplilearn.com/tutorials/artificial-intelligence-tutorial/ai-vs-machine-learning-vs-deep-learning\n",
        "\n",
        "\n",
        "For other practicals from the Deep Learning Indaba, please visit [here](https://github.com/deep-learning-indaba/indaba-pracs-2023)."
      ]
    },
    {
      "cell_type": "markdown",
      "metadata": {
        "id": "o1ndpYE50BpG"
      },
      "source": [
        "## Feedback\n",
        "\n",
        "Please provide feedback that we can use to improve our practicals in the future."
      ]
    },
    {
      "cell_type": "code",
      "execution_count": null,
      "metadata": {
        "id": "bMk4EcMcUUPd"
      },
      "outputs": [],
      "source": [
        "# @title Generate Feedback Form. (Run Cell)\n",
        "from IPython.display import HTML\n",
        "\n",
        "HTML(\n",
        "    \"\"\"\n",
        "<iframe\n",
        "\tsrc=\"https://forms.gle/Cg9aoa7czoZCYqxF7\",\n",
        "  width=\"80%\"\n",
        "\theight=\"1200px\" >\n",
        "\tLoading...\n",
        "</iframe>\n",
        "\"\"\"\n",
        ")"
      ]
    },
    {
      "cell_type": "markdown",
      "metadata": {
        "id": "oglV4kHMWnIN"
      },
      "source": [
        "<img src=\"https://baobab.deeplearningindaba.com/static/media/indaba-logo-dark.d5a6196d.png\" width=\"50%\" />"
      ]
    }
  ],
  "metadata": {
    "accelerator": "GPU",
    "colab": {
      "gpuType": "T4",
      "provenance": []
    },
    "kernelspec": {
      "display_name": "Python 3",
      "name": "python3"
    },
    "language_info": {
      "name": "python",
      "version": "3.8.5"
    },
    "vscode": {
      "interpreter": {
        "hash": "145833166d986a8417df3c7acb65d917d84b716b5a452e57fcacdc66f1a168c9"
      }
    }
  },
  "nbformat": 4,
  "nbformat_minor": 0
}
