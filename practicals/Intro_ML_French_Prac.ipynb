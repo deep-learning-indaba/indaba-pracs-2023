{
  "cells": [
    {
      "cell_type": "markdown",
      "metadata": {
        "id": "m2s4kN_QPQVe"
      },
      "source": [
        "# **Dive into Machine Learning: Learning by Implementing**\n",
        "\n",
        "<img src=\"https://static.javatpoint.com/tutorial/machine-learning/images/introduction-to-machine-learning.png\" width=\"60%\" />\n",
        "\n",
        "*Avant de commencer*\n",
        "\n",
        "Utilisez ce lien pour accéder au tutoriel et enregistrez une copie.\n",
        "\n",
        "<a href=\"https://colab.research.google.com/github/deep-learning-indaba/indaba-pracs-2023/blob/main/practicals/Intro_ML_French_Prac.ipynb\" target=\"_parent\"><img src=\"https://colab.research.google.com/assets/colab-badge.svg\" alt=\"Open In Colab\"/></a>\n",
        "\n",
        "© Deep Learning Indaba 2023. Apache License 2.0.\n",
        "\n",
        "**Auteurs: Espoir Murhabazi, Ulrich A. Mbou Sob**\n",
        "\n",
        "**Réviseurs: Aaron Joel Lontsi**\n",
        "\n",
        "**Introduction:**\n",
        "\n",
        "Dans ce tutoriel, nous explorerons les fondamentaux de l'apprentissage automatique. Nous allons apprendre comment créer et entrainer un classificateur d'apprentissage automatique. Nous allons nous familiariser avec les concepts sur la fonction coût et son optimisation.\n",
        "\n",
        "**Topics:**\n",
        "\n",
        "Sujets: Apprentissage Supervisé, Réseau de Neurones, Calcul Numérique.\n",
        "\n",
        "Niveau: <font color='grey'>`Debutant`\n",
        "\n",
        "\n",
        "**Objectifs:**\n",
        "\n",
        "- Comprendre les base des l'apprentissage automatique\n",
        "- Entrainer un modèle de regression lineaire\n",
        "- Entrainer un réseau de neurones pour la classification à plusieurs classes.\n",
        "\n",
        "**Prérequis:**\n",
        "\n",
        "- Familiarité avec [Numpy](https://numpy.org/doc/stable/user/quickstart.html).\n",
        "\n",
        "**Outline:**\n",
        "\n",
        ">[Dive into Machine Learning: Learning by Implementing](#scrollTo=m2s4kN_QPQVe)\n",
        "\n",
        ">>>[1.1 Types des problèmes d'appentissage automatique](#scrollTo=v2k8dcYR9Hvb)\n",
        "\n",
        ">>>[1.2 Les données](#scrollTo=1KK-dbRw730T)\n",
        "\n",
        ">>[Régression](#scrollTo=e9NW58_3hAg2)\n",
        "\n",
        ">>>[2.1 Régression linéaire](#scrollTo=bA_2coZvhAg3)\n",
        "\n",
        ">>>>[La fonction de coût et son optimisation](#scrollTo=hNJgESq_LP4R)\n",
        "\n",
        ">>>>[Entraînement un modèle à l'aide de Jax](#scrollTo=q9dQh9DdLYPE)\n",
        "\n",
        ">>>[2.2 Régression non-linéaire et réseaux de neurones](#scrollTo=BKtMEnRkhAg9)\n",
        "\n",
        ">>>>[Représentation du modèle](#scrollTo=XStsgHB2MarI)\n",
        "\n",
        ">>>>[Fonctions d'activation](#scrollTo=fkpytbBzMvMj)\n",
        "\n",
        ">>>>[Construire un réseau de neurones avec Jax](#scrollTo=3Wrxt2orM7sk)\n",
        "\n",
        ">>[Classification](#scrollTo=fbTsk0MdhAhC)\n",
        "\n",
        ">>>[3.1 Régression logistique](#scrollTo=wMgxJU0TOX6O)\n",
        "\n",
        ">>>>[Logits and Fonction Sigmoïde](#scrollTo=SE1L3rmaO4UP)\n",
        "\n",
        ">>>>[Extension à la multi-classification](#scrollTo=HjQNjDC2cG2t)\n",
        "\n",
        ">>>>[Simple réseau de neurones pour la classification](#scrollTo=EcXXE56hPOhK)\n",
        "\n",
        ">>>>[Entraîner le modèle](#scrollTo=GcSvlekHPWxW)\n",
        "\n",
        ">>>>[Évaluation du modèle](#scrollTo=sGPvmGWkP1fT)\n",
        "\n",
        ">>[Resumé](#scrollTo=fV3YG7QOZD-B)\n",
        "\n",
        ">>>[Appendix](#scrollTo=742JhcnAxTof)\n",
        "\n",
        ">>>[Base de JAX [OPTIONAL]](#scrollTo=742JhcnAxTof)\n",
        "\n",
        ">>>[Derivation of partial derivatives for exercise 2 [OPTIONAL]](#scrollTo=kh_8f4gKyufu)\n",
        "\n",
        ">>>[Intuition pour la function cout avec l'entropie croisée multi-classes.: exercise 3 [OPTIONAL]](#scrollTo=fRYbQvz01Zlm)\n",
        "\n",
        ">>[Feedback](#scrollTo=o1ndpYE50BpG)\n"
      ]
    },
    {
      "cell_type": "code",
      "execution_count": null,
      "metadata": {
        "id": "4boGA9rYdt9l"
      },
      "outputs": [],
      "source": [
        "## Install and import anything required. Capture hides the output from the cell.\n",
        "# @title Installer et importer les packages requis. (Exécuter la cellule)\n",
        "!pip install -q clu\n",
        "\n",
        "import jax\n",
        "import jax.numpy as jnp\n",
        "import flax\n",
        "import flax.linen as nn\n",
        "from typing import NamedTuple, Any, Dict\n",
        "\n",
        "import matplotlib.pyplot as plt\n",
        "import numpy as np\n",
        "\n",
        "from clu import parameter_overview\n",
        "\n",
        "from sklearn.datasets import fetch_openml\n"
      ]
    },
    {
      "cell_type": "markdown",
      "metadata": {
        "id": "FVw9C8GugkAj"
      },
      "source": [
        "**Qu'est ce que l'apprentissage automatique (Machine Learning)**\n",
        "\n",
        "Pendant les deux dernières décennies, le domaine de l'intelligence artificielle (IA) a considérablement évoluer pour influencer d'autres domaines que celui de l'informatique. Les appications telles que YouTube et Netflix utilisent l'IA pour suggérer du contenu à chaque utilisateur en fonction de ces préférences.\n",
        "<center>\n",
        "<img src=\"https://www.simplilearn.com/ice9/free_resources_article_thumb/AIvsML.png\" width=\"80%\"/>\n",
        "</center>"
      ]
    },
    {
      "cell_type": "markdown",
      "metadata": {
        "id": "6pRWdqAi7FTZ"
      },
      "source": [
        "L'IA est une science qui a pour objectif le development des systèmes intelligents. **L'apprentissage automatique** est un sous-ensemble de l'IA où l'apprentissage se fait à partir des données en utilisant les techniques de la modélisation statistique. **L'apprentissage profond (deep learning)** quant à lui est un sous-ensenmble de l'apprentissage automatique qui utilise les réseaux de neurones artificielles pour les modélisations."
      ]
    },
    {
      "cell_type": "markdown",
      "metadata": {
        "id": "v2k8dcYR9Hvb"
      },
      "source": [
        "### 1.1 Types des problèmes d'appentissage automatique\n",
        "\n",
        "L'apprentissage automatique se base sur l'apprentissage sur les données.  Lors de la formulation d'un problème d'apprentissage automatique, la première question à se poser est de savoir quel type de tâche nous avons. En general les tâches de l'apprentissage automatique peuvent être divisées en 3 catégories.\n",
        "\n",
        "<center>\n",
        "<img src=\"https://www.researchgate.net/publication/354960266/figure/fig1/AS:1075175843983363@1633353305883/The-main-types-of-machine-learning-Main-approaches-include-classification-and.png\" width=\"80%\" />\n",
        "</center>\n",
        "\n",
        "<font color='red'>Apprentissage supervisé (Supervised Learning)</font>: Dans apprentissage supervisé, nous avons un ensemble de données étiquetées, où chaque point de données d'entrée est associé à la sortie correcte (étiquette). L'objectif est d'apprendre une correspondance entre les entrées et les sorties basée sur les données d'entraînement, de manière à ce que le modèle puisse faire des prédictions précises sur de nouvelles données non vues.\n",
        "\n",
        "<font color='red'>Apprentissage non supervisé (Unsupervised Learning): </font>: Dans l'apprentissage non supervisé, nour avons des données non labelisées et l'objectif est de trouver des patterns, structures ou relations entre les données. L'algorithme groupe les données similaires et reduit leur dimensions afin de trouver les structures cachées.\n",
        "\n",
        "<font color='red'>Apprentissage par renforcement (Reinforcement learning):</font>: Dans l'apprentissage par renforcement, l'apprenant apprend à prendre des décisions grâce à l'interaction avec un environment. L'apprenant, (agent) reçoit un feedback comme un gain (encouragement) ou pénalité en fonction des ses actions. Ensuite il apprend à maximiser le gain cumulé au cour du temps.\n",
        "\n",
        "**Exercise 1.1**: Pour chaque tâche suivante, identifier à quelle catégorie elle appartient.\n",
        "  -  Apprendre à un robot à marcher.\n",
        "  -  Prévoir la météo\n",
        "  -  Classification des emails/spam\n",
        "  - Apprendre à un ordinateur à jouer aux échecs\n",
        "  -  Grouper les differentes types de révues de films."
      ]
    },
    {
      "cell_type": "code",
      "execution_count": null,
      "metadata": {
        "cellView": "form",
        "id": "cLaRGDzv4wR2"
      },
      "outputs": [],
      "source": [
        "# @title Solution - Exercise (Essayez de ne pas tricher avant d'avoir fait de sérieux efforts !)\n",
        "print(\"Apprendre a un robot a marcher -- Reinforcement learning\")\n",
        "print(\"Prevoir la meteo -- Supervised learning\")\n",
        "print(\"Classification des emails/spam -- Supervised learning\")\n",
        "print(\"Apprendre a un ordinateur a joue aux echecs -- Reinforcement learning\")\n",
        "print(\"Grouper les differentes types de revues de films -- Unsupervised learning\")"
      ]
    },
    {
      "cell_type": "markdown",
      "metadata": {
        "id": "1KK-dbRw730T"
      },
      "source": [
        "### 1.2 Les données\n",
        "\n",
        "A la fin du tutoriel nous allons construire un classificateur pour le dataset des nombres. Ce dataset contient les images des nombres écrits à la main.\n",
        "\n",
        "Avant de continuer avec les concepts de l'apprentissage automatique, nous allons visualiser quelques images."
      ]
    },
    {
      "cell_type": "markdown",
      "metadata": {
        "id": "w8g4rsOy_86b"
      },
      "source": [
        "Nous allons telecharger les données avec [sklearn](https://scikit-learn.org/stable/modules/generated/sklearn.datasets.fetch_openml.html)."
      ]
    },
    {
      "cell_type": "code",
      "execution_count": null,
      "metadata": {
        "colab": {
          "base_uri": "https://localhost:8080/"
        },
        "id": "h3uN_gxbG2Em",
        "outputId": "314eba53-e454-42e6-91dc-9378ad14e2d9"
      },
      "outputs": [
        {
          "name": "stdout",
          "output_type": "stream",
          "text": [
            "Images have shape: (70000, 784), and labels have shape: (70000,)\n",
            "Number of classes is: 10\n",
            "Minimum value in images is: 0\n",
            "Maximum value in images is: 255\n"
          ]
        }
      ],
      "source": [
        "# Load the MNIST digits dataset\n",
        "mnist = fetch_openml(name='mnist_784', version=1, as_frame=False, parser='auto')\n",
        "# Extract the data and labels\n",
        "images, labels = mnist.data, mnist.target\n",
        "\n",
        "# Convert labels to integers (they are originally stored as strings)\n",
        "labels = labels.astype(int)\n",
        "\n",
        "# Print shapes of the data\n",
        "print(f\"Images have shape: {images.shape}, and labels have shape: {labels.shape}\")\n",
        "\n",
        "# Verify that we have 10 classes\n",
        "print(f\"Number of classes is: {len(np.unique(labels))}\")\n",
        "\n",
        "# Print the min and max values of the images\n",
        "print(f\"Minimum value in images is: {np.min(images)}\")\n",
        "print(f\"Maximum value in images is: {np.max(images)}\")"
      ]
    },
    {
      "cell_type": "markdown",
      "metadata": {
        "id": "bNV9b-6bH45y"
      },
      "source": [
        "Notre ensemble d'aprrentissage consiste de 70000 images en noir et blanc. Chaque image est convertie en un vecteur de taille 784 à partir de sa forme originale 28x28. Nous allons utiliser le code suivant pour afficher quelques images. Notez que chaque fois que vous executez la cellule suivante, vous obtiendrez des images differentes affichees car nous échantillonnons aleatoirement à chaque fois."
      ]
    },
    {
      "cell_type": "code",
      "execution_count": null,
      "metadata": {
        "cellView": "form",
        "colab": {
          "base_uri": "https://localhost:8080/",
          "height": 746
        },
        "id": "-qXlDhYWH_mW",
        "outputId": "4c739c72-0b22-4709-8806-219ce4e52505"
      },
      "outputs": [
        {
          "data": {
            "image/png": "[encoded data removed]",
            "text/plain": [
              "<Figure size 800x800 with 24 Axes>"
            ]
          },
          "metadata": {},
          "output_type": "display_data"
        }
      ],
      "source": [
        "# @title Affiches des images\n",
        "def plot_images(images, labels):\n",
        "  rows = 4\n",
        "  cols = 6\n",
        "  num_images = images.shape[0]\n",
        "\n",
        "  fig, axes = plt.subplots(rows, cols, figsize=(8, 8))\n",
        "\n",
        "  for ir in range(rows):\n",
        "    for ic in range(cols):\n",
        "      sample = np.random.randint(0, num_images)\n",
        "      image = images[sample].reshape(28, 28)\n",
        "      axes[ir, ic].imshow(image, cmap='gray')\n",
        "      axes[ir, ic].axis('off')\n",
        "      axes[ir, ic].set_title(f\"Digit {labels[sample]}\")\n",
        "\n",
        "  plt.tight_layout()\n",
        "  plt.show()\n",
        "\n",
        "plot_images(images, labels)"
      ]
    },
    {
      "cell_type": "markdown",
      "metadata": {
        "id": "jzHwlZp2WfKM"
      },
      "source": [
        "**Excercise:** Exécutez la cellule ci-dessus plusieurs fois et regardez les images. Pouvez-vous identifier certaines images qui pourraient être difficiles à classer ?"
      ]
    },
    {
      "cell_type": "markdown",
      "metadata": {
        "id": "e9NW58_3hAg2"
      },
      "source": [
        "## **Régression**\n",
        "\n",
        "Avant de construire notre classificateur de chiffres, nous devons d'abord comprendre quelques concepts clés de l'apprentissage automatique."
      ]
    },
    {
      "cell_type": "markdown",
      "metadata": {
        "id": "1ME59aXJRwE3"
      },
      "source": [
        "La figure ci-dessous est une répresentation des données generées en utilisant la fonction sinus. En general, nous avons besoin de trouver une fonction qui assigne les entrées dans une dimension à des sorties dans une autre dimension. Le processus qui permet de trouver une telle fonction (**modèle**) est communément appelé **régression**. Dans l'apprentissage automatique, cela fait réference à la recherche d'une fonction qui mappe un ensemble de valeurs numériques appelées **features** à un autre ensemble de valeurs numeriques appelees **labels**. Si la fonction est linaire, le processus est appele **regression lineaire**.\n"
      ]
    },
    {
      "cell_type": "code",
      "execution_count": null,
      "metadata": {
        "cellView": "form",
        "colab": {
          "base_uri": "https://localhost:8080/",
          "height": 564
        },
        "id": "kDix480DPCgA",
        "outputId": "9c80a727-ac0b-485c-a4c4-67d8d4377163"
      },
      "outputs": [
        {
          "data": {
            "image/png": "[encoded data removed]",
            "text/plain": [
              "<Figure size 800x600 with 1 Axes>"
            ]
          },
          "metadata": {},
          "output_type": "display_data"
        }
      ],
      "source": [
        "# @title Code d'aide pour tracer une courbe sinus.\n",
        "amplitude = 2\n",
        "x = np.linspace(0, 2*np.pi, 1000)\n",
        "y = amplitude*np.sin(x) + np.random.randn(1000)*0.1   # Calculate y values using the sine function\n",
        "yfit = amplitude*np.sin(x)\n",
        "\n",
        "plt.figure(figsize=(8, 6))\n",
        "plt.scatter(x, y, label=\"data\", color='red')\n",
        "plt.plot(x, yfit, label=f'Sine Curve with Amplitude = {amplitude}', color='black')\n",
        "plt.title('Sine Curve')\n",
        "plt.xlabel('x')\n",
        "plt.ylabel('y')\n",
        "plt.legend()\n",
        "# plt.grid()\n",
        "plt.show()"
      ]
    },
    {
      "cell_type": "markdown",
      "metadata": {
        "id": "bA_2coZvhAg3"
      },
      "source": [
        "### 2.1 Régression linéaire"
      ]
    },
    {
      "cell_type": "markdown",
      "metadata": {
        "id": "GGTQetYgNBda"
      },
      "source": [
        "Supposons que nous avons un dataset, avec des élements $y$ répresentant les labels et les élements $\\mathbf{x}$ répresentant nos variables.\n",
        "Notre objectif est de trouver une fonction $f$ qui relie une variable $\\mathbf{x} \\in \\mathbb{R}^d$ à une variable cible $y$:\n",
        "\n",
        "Les modèles de régression linéaire peuvent être répresentés mathématiquement comme suit:\n",
        "$$ f(\\mathbf{x}) = \\mathbf{w}^T \\mathbf{x} + b,$$\n",
        "Avec $\\mathbf{w} \\in \\mathbb{R}^d$. $\\mathbf{w}$ et $b$ sont les paramètres du modèle communément appelé poids. Le terme $b$ est communément appelé le biais et peut être inclu dans $\\mathbf{w}$ en étendant le vecteur de caractéristiques $\\mathbf{x}$ avec 1.\n",
        "\n",
        "Une façon intuitive de comprendre les équations ci-dessus est de se rappeler l'équation d'une ligne $$y \\, = \\, mx + c,$$ avec les poids et le biais correspondant à la pente et l'intercept, $m$ et $c$ réspectivement.\n",
        "\n",
        "**Note: pour le reste du tutoriel, nous utiliserons le framework JAX. Si vous n'êtes pas familier avec JAX, veuillez d'abord suivre la section facultative de l'annexe sur [JAX](#scrollTo=742JhcnAxTof) avant de continuer.**"
      ]
    },
    {
      "cell_type": "markdown",
      "metadata": {
        "id": "1SVA5XSjcfpH"
      },
      "source": [
        "Démonstration: modèle linéaire"
      ]
    },
    {
      "cell_type": "code",
      "execution_count": null,
      "metadata": {
        "id": "sBe3ytk5WyvD"
      },
      "outputs": [],
      "source": [
        "# Example implementation of a linear function computation.\n",
        "\n",
        "x_key = jax.random.PRNGKey(0)\n",
        "dim = 10\n",
        "x = jax.random.uniform(x_key, (dim,))\n",
        "\n",
        "w_key = jax.random.PRNGKey(1)\n",
        "w = jax.random.uniform(w_key, (dim,))\n",
        "\n",
        "b_key = jax.random.PRNGKey(2)\n",
        "b = jax.random.uniform(b_key, (1,))\n",
        "\n",
        "y = jnp.dot(w,x) + b  # can also be achieved using: y = x @ w + b"
      ]
    },
    {
      "cell_type": "markdown",
      "metadata": {
        "id": "LH73KxFOdAMK"
      },
      "source": [
        "**Tâche de code:**\n",
        "\n",
        "Dans le precedant code nous avons demontré comment utilise un modèle de régression linéaire avec un seul example dans notre donnée d'apprentrissage. Lorsque nous implementons les modèles d'apprentissage automatique nous tirons l'avantage de l'Algèbre linéaire et et des réssources informatiques disponibles pour traiter des lots de données en une seule fois.\n",
        "\n",
        "Avec un dataset ou ensemble d'apprentissage $\\mathbf{X} \\in \\mathbb{R}$, écrivez une function qui applique la régression linéaire sur un lot de données $\\mathbf{X}$."
      ]
    },
    {
      "cell_type": "code",
      "execution_count": null,
      "metadata": {
        "id": "-Psjm_oQY_b7"
      },
      "outputs": [],
      "source": [
        "# @title Exécutez ce code pour générer les données\n",
        "# store the parameters in a dictionary\n",
        "params = dict(w=w, b=b)\n",
        "\n",
        "batch_size = 5\n",
        "X = jax.random.uniform(x_key, (batch_size, dim))\n",
        "data = jax.random.uniform(x_key, (batch_size,))"
      ]
    },
    {
      "cell_type": "code",
      "execution_count": null,
      "metadata": {
        "id": "Qh-eOfEdh-f0"
      },
      "outputs": [],
      "source": [
        "def linear_model(params: Any, X: jnp.ndarray) -> jnp.ndarray:\n",
        "  # complete this code\n",
        "  w = params['w']\n",
        "  b = ... # update me. hint look at the above line for w\n",
        "\n",
        "  # compute m = f(x) here using w,b and X\n",
        "  m = ... # update me.\n",
        "\n",
        "  return m\n"
      ]
    },
    {
      "cell_type": "code",
      "execution_count": null,
      "metadata": {
        "cellView": "form",
        "id": "1iL92mYSlCkM"
      },
      "outputs": [],
      "source": [
        "# @title Exécutez votre code\n",
        "\n",
        "def test_linear_model():\n",
        "  assert (linear_model(params, X) == X @ w + b).all()\n",
        "  print(\"Nice! Your answer looks correct.\")\n",
        "\n",
        "test_linear_model()"
      ]
    },
    {
      "cell_type": "code",
      "execution_count": null,
      "metadata": {
        "cellView": "form",
        "id": "yFR2NtnTKgJK"
      },
      "outputs": [],
      "source": [
        "# @title Solution - modèle linéaire (Essayez de ne pas tricher avant d'avoir fait de sérieux efforts!)\n",
        "def linear_model(params: Dict[str, jnp.ndarray], X: jnp.ndarray) -> jnp.ndarray:\n",
        "  # complete this code\n",
        "  w = params['w']\n",
        "  b = params['b']\n",
        "\n",
        "  # compute m = f(x) here using w,b and X\n",
        "  m = X @ w + b\n",
        "\n",
        "  return m"
      ]
    },
    {
      "cell_type": "markdown",
      "metadata": {
        "id": "hNJgESq_LP4R"
      },
      "source": [
        "#### La fonction de coût et son optimisation\n"
      ]
    },
    {
      "cell_type": "markdown",
      "metadata": {
        "id": "zV6jTdQN2NvO"
      },
      "source": [
        "**Fonction de coût**\n",
        "\n",
        "Quant nous utilisons un modèle pour apprendre à partir des données, nous avons besoin d'une fonction qui mésure la performance du modèle. Cette fonction est appelée **fonction de coût**. Elle mesure la quantite d'erreur entre notre modèle et les données."
      ]
    },
    {
      "cell_type": "code",
      "execution_count": null,
      "metadata": {
        "cellView": "form",
        "colab": {
          "base_uri": "https://localhost:8080/",
          "height": 564
        },
        "id": "HI8NPCQn3gn1",
        "outputId": "8673ab16-3000-4466-a134-977edee722bd"
      },
      "outputs": [
        {
          "data": {
            "image/png": "[encoded data removed]",
            "text/plain": [
              "<Figure size 1000x600 with 1 Axes>"
            ]
          },
          "metadata": {},
          "output_type": "display_data"
        }
      ],
      "source": [
        "# @title Code d'aide pour tracer les erreurs\n",
        "# Set random seed for reproducibility\n",
        "np.random.seed(42)\n",
        "\n",
        "# Number of points to generate\n",
        "num_points = 20\n",
        "\n",
        "# Generate random points and lines\n",
        "points_x = np.random.rand(num_points)\n",
        "slope_random_line = np.random.rand()\n",
        "intercept_random_line = np.random.rand()\n",
        "\n",
        "points_y = slope_random_line*points_x + intercept_random_line + np.random.normal(0, 1, num_points)*0.15\n",
        "\n",
        "# Function to calculate distance from point (x, y) to the line y = mx + b\n",
        "def distance_to_line(x, y, m, b):\n",
        "    return abs(y - m * x - b) / np.sqrt(1 + m**2)\n",
        "\n",
        "# Calculate distances from each point to the random line\n",
        "distances = distance_to_line(points_x, points_y, slope_random_line, intercept_random_line)\n",
        "\n",
        "# Create the scatter plot\n",
        "plt.figure(figsize=(10, 6))\n",
        "\n",
        "# Plot the random line\n",
        "plt.plot(np.sort(points_x), slope_random_line * np.sort(points_x) + intercept_random_line, c='blue', label='Model')\n",
        "\n",
        "# Plot the points\n",
        "plt.scatter(points_x, points_y, c='red', label='Data', marker='o', s=50)\n",
        "\n",
        "# Plot lines from each point to the random line (in different colors)\n",
        "for i in range(num_points):\n",
        "    plt.plot([points_x[i], points_x[i]], [points_y[i], slope_random_line * points_x[i] + intercept_random_line],\n",
        "             c='green', alpha=0.7)\n",
        "\n",
        "plt.xlabel('X')\n",
        "plt.ylabel('Y')\n",
        "plt.title(\"Errors for each data point\")\n",
        "plt.legend()\n",
        "plt.show()"
      ]
    },
    {
      "cell_type": "markdown",
      "metadata": {
        "id": "Fj_aG5jG3b8K"
      },
      "source": [
        "\n",
        "Considérer la figure ci-dessous avec les points en rouge. Si la ligne bleue est notre modèle, alors les lignes verticales répresentent les erreurs que nous faisons sur chaque point de données. La fonction de coût capture l'erreur total que nous faisons pour chaque point de données. Une fonction de coût que nous pouvons utilisér dans ce cas est l'erreur moyenne quadratique entre les valeurs prédites et les vraies valeurs.\n",
        "\n",
        "\n",
        "C'est équivalent a la somme de toutes les distances en vert. Cela peut être écrit mathématiquement comme suit:\n",
        "$$ \\mathcal{L}(\\mathbb{θ}) \\, = \\, \\frac{1}{m}∑_{i}({y_i - \\hat{y}_i})^2,$$\n",
        "Avec $\\mathbb{θ} = [\\mathbf{w}, b]$,  $\\mathcal{L}$ denote la fonction de coût, $\\hat{y}$ répresente la valeur prédite par le modèle et $m$ est le nombre total des points de données.\n",
        "\n",
        "En inserrant la fonction de régression linéaire dans la fonction de coût, nous obtenons:\n",
        "\n",
        "$$\\mathcal{L}(\\mathbb{θ}) \\, = \\, \\frac{1}{m}∑_{i}(y_i - \\mathbf{w}^T\\mathbf{x}_i - b)^2. $$\n",
        "\n",
        "\n",
        "<font color='red'>Note: il existe différentes fonctions de coût que nous pouvons utilisér dans ce cas. Vous pouvez voir d'autres fonctions de coût communes [ici](https://www.geeksforgeeks.org/ml-common-loss-functions/).</font>\n",
        "\n"
      ]
    },
    {
      "cell_type": "markdown",
      "metadata": {
        "id": "coIwS0_5I-p-"
      },
      "source": [
        "**Code task:** implémenter la fonction de perte pour le modèle linéaire défini ci-dessus..\n",
        "\n"
      ]
    },
    {
      "cell_type": "code",
      "execution_count": null,
      "metadata": {
        "id": "C5ji0ISCJWQ3"
      },
      "outputs": [],
      "source": [
        "def loss_fn(params: Dict[str, jnp.array], X: jnp.array, y: jnp.array):\n",
        "  # complete this code\n",
        "\n",
        "  pred = linear_model(params, X)\n",
        "\n",
        "  loss = ... # your code here\n",
        "\n",
        "  return 0"
      ]
    },
    {
      "cell_type": "code",
      "execution_count": null,
      "metadata": {
        "cellView": "form",
        "colab": {
          "base_uri": "https://localhost:8080/"
        },
        "id": "O0m0EZVqMUw7",
        "outputId": "330dbe00-e94d-4fd2-f7f7-55ccdb579278"
      },
      "outputs": [
        {
          "name": "stdout",
          "output_type": "stream",
          "text": [
            "Nice! Your answer looks correct.\n"
          ]
        }
      ],
      "source": [
        "# @title Run to test my code\n",
        "def test_linear_loss_fn():\n",
        "  pred = linear_model(params, X)\n",
        "  loss = jnp.mean((pred-data)**2)\n",
        "  assert loss_fn(params, X, data) == loss\n",
        "  print(\"Nice! Your answer looks correct.\")\n",
        "\n",
        "test_linear_loss_fn()"
      ]
    },
    {
      "cell_type": "code",
      "execution_count": null,
      "metadata": {
        "cellView": "form",
        "id": "ehK1Y1pgZ83Y"
      },
      "outputs": [],
      "source": [
        "# @title Sample solution (Essayez de ne pas tricher avant d'avoir fait de sérieux efforts !')\n",
        "def loss_fn(params: Dict[str, jnp.array], X: jnp.array, y: jnp.array):\n",
        "  # complete this code\n",
        "\n",
        "  pred = linear_model(params, X)\n",
        "\n",
        "  loss = jnp.mean((pred-y)**2)\n",
        "\n",
        "  return loss"
      ]
    },
    {
      "cell_type": "markdown",
      "metadata": {
        "id": "NM7aMj_A75M_"
      },
      "source": [
        "**Exercice:** Discutez en groupes de la manière dont nous pouvons trouver les paramètres, $\\mathbb{θ}$."
      ]
    },
    {
      "cell_type": "markdown",
      "metadata": {
        "id": "7SwSstfO9hml"
      },
      "source": [
        "**C'est quoi l'optimisation?**\n",
        "\n",
        "L'optimisation comme son nom l'indique, est la procédure qui permet de trouver les paramètres optimaux du modèle. C'est à dire un ensemble des paramètres qui minimise la fonction de coût. Mathématiquement, nous avons:\n",
        "\n",
        "\n",
        "\n",
        "$$\\hat{\\theta} \\,= \\, \\underset{\\mathbf{\\theta}}{\\operatorname{argmin}} \\frac{1}{m}∑_{i}(y_i - \\mathbf{w}^T\\mathbf{x}_i - b)^2.$$"
      ]
    },
    {
      "cell_type": "markdown",
      "metadata": {
        "id": "kxUMu1HP_D-m"
      },
      "source": [
        "<font color='red'>Comment optimiser?</font>: La figure ci-dessous montre une courbe de la fonction perte pour différentes valeurs de $\\mathbf{w}$ et de $b$ pour une ligne droite. La valeur minimale est indiquée is par l'étoile. Notre objectif est de trouver le point optimal par le procéssus d'optimisation.   "
      ]
    },
    {
      "cell_type": "code",
      "execution_count": null,
      "metadata": {
        "cellView": "form",
        "colab": {
          "base_uri": "https://localhost:8080/",
          "height": 448
        },
        "id": "ZjZAVVBK_Fsd",
        "outputId": "18682ca9-b8c3-4fa7-88a5-a063db80745b"
      },
      "outputs": [
        {
          "data": {
            "image/png": "[encoded data removed]",
            "text/plain": [
              "<Figure size 800x500 with 2 Axes>"
            ]
          },
          "metadata": {},
          "output_type": "display_data"
        }
      ],
      "source": [
        "# @title Code d'aide (pour visualiser la function cout).\n",
        "# Define the loss function (Mean Squared Error)\n",
        "from matplotlib.colors import LogNorm\n",
        "\n",
        "def loss_function(y_true, y_pred):\n",
        "    return np.mean((y_true - y_pred) ** 2)\n",
        "\n",
        "# Create a grid of weight (slope) and bias (intercept) values\n",
        "weight_values = np.linspace(-10, 10, 200)\n",
        "bias_values = np.linspace(-10, 10, 200)\n",
        "weight_grid, bias_grid = np.meshgrid(weight_values, bias_values)\n",
        "\n",
        "# Generate random data points for demonstration\n",
        "np.random.seed(0)\n",
        "x = np.linspace(0, 20, 200)\n",
        "y_true = 3 * x + 5 + 0.1 * np.random.normal(0, 1, 200)\n",
        "y_min = 3*x + 5\n",
        "minima = np.array([5, 3])\n",
        "loss_min = loss_function(y_true, y_min)\n",
        "\n",
        "# Compute the loss for each combination of weight and bias values\n",
        "loss_grid = np.zeros_like(weight_grid)\n",
        "for i in range(len(weight_values)):\n",
        "    for j in range(len(bias_values)):\n",
        "        y_pred = weight_values[i] * x + bias_values[j]\n",
        "        loss_grid[i, j] = loss_function(y_true, y_pred)\n",
        "\n",
        "fig = plt.figure(figsize=(8, 5))\n",
        "ax = plt.axes(projection='3d', elev=50, azim=-50)\n",
        "\n",
        "surf = ax.plot_surface(weight_grid, bias_grid, loss_grid, norm=LogNorm(), rstride=1, cstride=1,\n",
        "                edgecolor='none', alpha=.8, cmap=plt.cm.jet)\n",
        "ax.plot(*minima, loss_min, 'r*', markersize=10)\n",
        "\n",
        "ax.set_xlabel('$w$')\n",
        "ax.set_ylabel('$b$')\n",
        "# Remove z-axis ticks and labels\n",
        "ax.set_zticks([])\n",
        "ax.set_zticklabels([])\n",
        "\n",
        "# Add color bar for reference\n",
        "cbar = plt.colorbar(surf, shrink=0.5, aspect=10)\n",
        "cbar.ax.set_ylabel('Loss')\n",
        "\n",
        "# ax.set_xlim((xmin, xmax))\n",
        "# ax.set_ylim((ymin, ymax))\n",
        "plt.show()"
      ]
    },
    {
      "cell_type": "markdown",
      "metadata": {
        "id": "hj1vWUunykNe"
      },
      "source": [
        "Une approche brutale **(brute force)** sérait de calculer la fonction de coût pour diverses valeurs de $\\theta$ et choisir une valeur de $\\theta$ avec un coût minimale. Bien que cette approche puisse marcher avec un modèle de 1 ou 2 paramètres, elle se complique pour plusieurs paramètres."
      ]
    },
    {
      "cell_type": "markdown",
      "metadata": {
        "id": "8h9sZ2vW97-d"
      },
      "source": [
        "**Gradient based optimization**\n",
        "\n",
        "La meilleur approche est d'utilisér l'analyse linéaire. La derivée d'une fonction est zero à tout point critique (maximum et mininum). Pour trouver $\\theta$ qui minimise le coût, nous devons resoudre l'équation. $$\\frac{\\partial \\mathcal{L}}{\\partial \\theta} \\,=\\, 0.$$\n",
        "\n",
        "**Exercice 2:** [OPTIONAL] Pouvez-vous verifier ces éxpressions de dérivation de la fonction de perte ?\n",
        "\n",
        "$$\\frac{∂ \\mathcal{L}}{\\partial \\mathbf{w}} = \\frac{2}{m}∑_{i}\\mathbf{x}_i(\\mathbf{w}^T\\mathbf{x}_i + b - y_i),$$\n",
        "\n",
        "$$\\frac{∂ \\mathcal{L}}{\\partial b} = \\frac{2}{m}∑_{i}(\\mathbf{w}^T\\mathbf{x}_i + b - y_i).$$\n",
        "\n",
        "Solution ici dans [l'appendix](#scrollTo=kh_8f4gKyufu)."
      ]
    },
    {
      "cell_type": "markdown",
      "metadata": {
        "id": "tq4p7ME6GWXO"
      },
      "source": [
        "Heuresement nous ne pouvons pas calculer cette fonction par nous même. Les libraries de machine learning nous permettent d'ptimiser ces fonctions. En _jax_ nous pouvons utiliser jax.grad."
      ]
    },
    {
      "cell_type": "code",
      "execution_count": null,
      "metadata": {
        "colab": {
          "base_uri": "https://localhost:8080/"
        },
        "id": "Yq2SMvz09fW1",
        "outputId": "8fc94df0-a69c-40fe-e320-7132a31ffa81"
      },
      "outputs": [
        {
          "name": "stdout",
          "output_type": "stream",
          "text": [
            "Gradient of the function x**2 at x = 1 is 2.0 as expected.\n"
          ]
        }
      ],
      "source": [
        "# @title Calcul des dérivées avec jax.grad\n",
        "# Computing derviatives with jax\n",
        "\n",
        "def quadratic_fn(x):\n",
        "  return x**2\n",
        "\n",
        "\n",
        "# Compute the derivative of quadratic_fn when x = 1\n",
        "grad_fx =  jax.grad(quadratic_fn)(1.0)\n",
        "assert grad_fx == 2.0\n",
        "print(f\"Gradient of the function x**2 at x = 1 is {grad_fx} as expected.\")"
      ]
    },
    {
      "cell_type": "markdown",
      "metadata": {
        "id": "LER9QyoXR_ph"
      },
      "source": [
        "Plus important Jax calcule la derivée de la même façon même si nos paramètres sont passés dans un autre type de données comme un dictionnaire. Par example, nous pouvons calculer la derivée de notre fonction de coût comme suit."
      ]
    },
    {
      "cell_type": "code",
      "execution_count": null,
      "metadata": {
        "colab": {
          "base_uri": "https://localhost:8080/"
        },
        "id": "UfVKXN_ToRcn",
        "outputId": "8fc780ed-9b3d-45fc-c596-ce43ae36bb33"
      },
      "outputs": [
        {
          "name": "stdout",
          "output_type": "stream",
          "text": [
            "gradients: {'b': Array([4.6627536], dtype=float32), 'w': Array([2.091345 , 1.9300239, 2.740008 , 2.705566 , 1.4073546, 1.8641709,\n",
            "       1.5042092, 3.331741 , 2.4481251, 2.5431075], dtype=float32)}\n"
          ]
        }
      ],
      "source": [
        "# Compute derivatives of the loss_fn with respect to params\n",
        "\n",
        "grads = jax.grad(loss_fn)(params, X, data)\n",
        "print(f\"gradients: {grads}\")"
      ]
    },
    {
      "cell_type": "markdown",
      "metadata": {
        "id": "zl0_zYWxlGDO"
      },
      "source": [
        "Une autre fonction similaire est `jax.value_and_grad`; elle retourne la valeur de la fonction et celle de sa dérivée.\n"
      ]
    },
    {
      "cell_type": "code",
      "execution_count": null,
      "metadata": {
        "colab": {
          "base_uri": "https://localhost:8080/"
        },
        "id": "CzKxdMqIlsVk",
        "outputId": "1bddf9b6-6238-46b3-ef86-a83b2510981b"
      },
      "outputs": [
        {
          "name": "stdout",
          "output_type": "stream",
          "text": [
            "loss: 5.745656490325928\n",
            "gradients: {'b': Array([4.6627536], dtype=float32), 'w': Array([2.091345 , 1.9300239, 2.740008 , 2.705566 , 1.4073546, 1.8641709,\n",
            "       1.5042092, 3.331741 , 2.4481251, 2.5431075], dtype=float32)}\n"
          ]
        }
      ],
      "source": [
        "# Compute derivatives of the loss_fn with respect to params\n",
        "\n",
        "loss, grads = jax.value_and_grad(loss_fn)(params, X, data)\n",
        "print(f\"loss: {loss}\")\n",
        "print(f\"gradients: {grads}\")"
      ]
    },
    {
      "cell_type": "markdown",
      "metadata": {
        "id": "q9dQh9DdLYPE"
      },
      "source": [
        "#### Entraînement un modèle à l'aide de Jax"
      ]
    },
    {
      "cell_type": "markdown",
      "metadata": {
        "id": "q1I8M0zkhAg3"
      },
      "source": [
        "**La Descente de gradient (Gradient Descent)**\n",
        "\n",
        "Maintenant que nous avons la derivée de notre fonction de coût, nous pouvons utiliser la methode de la descente de gradient pour trouver les paramètres qui minimisent le coût. La descente de gradient est une methode itérative qui commence avec un ensemble aléatoire des paramètres et les met à jour à chaque itération en utilisant la formule suivante:\n",
        "\n",
        "\n",
        "1. Initialise les paramètres avec des valeurs aléatoires.\n",
        "2. Boucle pour un nombre d'itérations et à chaque itération met à jour les paramètres en utilisant la formule suivante.\n",
        "\n",
        "$$ \\mathbf{\\theta} = \\mathbf{\\theta} - η\\frac{∂\\mathcal{L}}{∂\\theta},$$\n",
        "$\\eta$ c'est notre frequence d'apprentissage. c'est un hyperparamètre de notre modèle, nous devons le choisir avant.\n",
        "\n",
        "Intuitivement, si ce paramètre est optimal, le gradient $\\frac{∂\\mathcal{L}}{∂\\theta}$ sera zero et les paramètres deviennent statiques, raison pour laquelle le critère que nous utilisons pendant l'entrainment est de vérifier si les paramètres ont arreté de changer (convergence).\n",
        "Lorsque nous utilisons un seul point pour calculer la descente de gradient, l'algorithme est appelé **la descente du gradient stochastique.**\n",
        "Lorsque nous utilisons l'ensemble de notre dataset l'agorithme est appelée la descente **du gradient en batch.** En pratique l'approche utilise un petit groupe de données à chaque étape. Cette approche est celle du **mini batch gradient descent.**\n",
        "\n",
        "\n",
        "Pendant l'apprrentissage nous parcourons notre dataset à chaque itération. Le parcours de notre dataset s'appele epoch.\n",
        "\n",
        "Raison pour laquelle un autre hyperparamètre dont nous sommes familier c'est l'epoch."
      ]
    },
    {
      "cell_type": "code",
      "execution_count": null,
      "metadata": {
        "id": "qoFbSQWGhAg7"
      },
      "outputs": [],
      "source": [
        "# @title Code demonstration: Batch gradient descent implementation\n",
        "def batch_gradient_descent(loss_fn, params, training_data, val_data, learning_rate=0.01, num_epochs=20, batch_size=10):\n",
        "  \"\"\"Batch gradient descent basic jax implementation.\n",
        "\n",
        "  Args:\n",
        "    loss_fn\n",
        "      the loss function for our model.\n",
        "    params:\n",
        "      the initial parameters of the model.\n",
        "    training_data\n",
        "      a tuple with the features and targets for training.\n",
        "    val_data\n",
        "      a tuple with the features and targets for validation.\n",
        "    learning_rate\n",
        "      learning rate\n",
        "    num_epochs\n",
        "      number of epochs\n",
        "    batch_size:\n",
        "      size of every mini batch\n",
        "  \"\"\"\n",
        "\n",
        "  X_train, y_train = training_data\n",
        "  X_val, y_val = val_data\n",
        "\n",
        "  num_samples, num_features = X_train.shape\n",
        "\n",
        "  # Create empty list to store the training and validation loss\n",
        "  loss_train = [] # training loss\n",
        "  loss_val  = [] # valisation loss\n",
        "\n",
        "  # Define a function that computes loss and gradients\n",
        "  loss_and_grad = jax.value_and_grad(loss_fn)\n",
        "\n",
        "  n_iter = 0 # number iterations\n",
        "  for epoch in range(num_epochs):\n",
        "    # Shuffle the data before every epoch\n",
        "    shuffled_indices = np.arange(num_samples)\n",
        "    np.random.shuffle(shuffled_indices)\n",
        "\n",
        "    for start_idx in range(0, num_samples, batch_size):\n",
        "      end_idx = start_idx + batch_size\n",
        "      if end_idx > num_samples:\n",
        "        end_idx = num_samples\n",
        "\n",
        "      batch_indices = shuffled_indices[start_idx:end_idx]\n",
        "      X_batch = X_train[batch_indices]\n",
        "      y_batch = y_train[batch_indices]\n",
        "\n",
        "      # Compute loss and gradients using value_and_grad\n",
        "      loss, grads = loss_and_grad(params, X_batch, y_batch)\n",
        "      loss_train.append(loss)\n",
        "\n",
        "      # Compute the validation loss\n",
        "      loss_v = loss_fn(params, X_val, y_val)\n",
        "      loss_val.append(loss_v)\n",
        "\n",
        "      # Update the parameters\n",
        "      params = jax.tree_map(lambda p, g: p -learning_rate*g, params, grads)\n",
        "\n",
        "      # Update the iter count\n",
        "      n_iter += 1\n",
        "\n",
        "\n",
        "  # Plot training and validation loss\n",
        "  iters = range(1, n_iter+1)\n",
        "  plt.plot(iters, loss_train, label='Training Loss')\n",
        "  plt.plot(iters, loss_val, label='Validation Loss')\n",
        "  plt.xlabel('Iteration')\n",
        "  plt.ylabel('Loss')\n",
        "  plt.title('Training and Validation Loss')\n",
        "  plt.legend()\n",
        "\n",
        "  # Display the plot\n",
        "  plt.show()\n",
        "\n",
        "  return params"
      ]
    },
    {
      "cell_type": "code",
      "execution_count": null,
      "metadata": {
        "id": "5gbBCDwQhAg8"
      },
      "outputs": [],
      "source": [
        "# @title Creation d'un ensemble de données factice pour tester le code\n",
        "def create_dummy_data_linear_regression():\n",
        "  \"\"\"We will generate some random data using our linear function above to test the gradient decent implementation\"\"\"\n",
        "\n",
        "  num_samples = 200\n",
        "  num_features = 1  # Modify this to have more features\n",
        "\n",
        "  # Generate random X values in the range [0, 10] for each feature\n",
        "  key = jax.random.PRNGKey(0)\n",
        "  X = jax.random.uniform(key, (num_samples, num_features), minval=0, maxval=10)\n",
        "\n",
        "  # Generate y values based on a linear relationship with some noise\n",
        "  w = jnp.array([3.0]*num_features)  # True coefficients for each feature\n",
        "  b = jnp.array([5.0])\n",
        "\n",
        "  params = dict(w=w, b=b)\n",
        "  y = linear_model(params, X)\n",
        "\n",
        "  # Add some noise\n",
        "  noise = jax.random.normal(key, shape=(num_samples,))*0.30\n",
        "  y = y + noise\n",
        "\n",
        "  # Step 2: Split the data into training and validation sets\n",
        "  train_fraction = 0.8\n",
        "  num_train_samples = int(train_fraction * num_samples)\n",
        "\n",
        "  # Shuffle the indices to randomly split the data\n",
        "  key, subkey = jax.random.split(key)\n",
        "  shuffled_indices = jax.random.permutation(subkey, jnp.arange(num_samples))\n",
        "\n",
        "  # Split the indices into training and validation sets\n",
        "  train_indices = shuffled_indices[:num_train_samples]\n",
        "  val_indices = shuffled_indices[num_train_samples:]\n",
        "\n",
        "  # Get the corresponding data points for training and validation sets\n",
        "  X_train, y_train = X[train_indices], y[train_indices]\n",
        "  X_val, y_val = X[val_indices], y[val_indices]\n",
        "\n",
        "  train_data = (X_train, y_train)\n",
        "  val_data = (X_val, y_val)\n",
        "\n",
        "  # create some random initial params\n",
        "  w_init = jax.random.normal(key, shape=(num_features,))\n",
        "  b_init = 0.0\n",
        "  initial_params = dict(w=w_init, b=b_init)\n",
        "\n",
        "  return train_data, val_data, initial_params\n",
        "\n",
        "\n",
        "def plot_linear_fit(params, X, y):\n",
        "  \"\"\"Overlay the data and fitted model\"\"\"\n",
        "\n",
        "  y_pred = linear_model(params, X).squeeze()\n",
        "  xval = X[:,0]\n",
        "\n",
        "  plt.figure(figsize=(8, 6))\n",
        "  plt.scatter(xval, y, label='Data', color='blue')\n",
        "  plt.plot(xval, y_pred, label='Fit', color='red')\n",
        "  plt.xlabel('X')\n",
        "  plt.ylabel('Y')\n",
        "  plt.legend()\n",
        "  plt.title('Scatter Points and Fitted Curve')\n",
        "  plt.show()\n",
        "\n",
        "\n"
      ]
    },
    {
      "cell_type": "code",
      "execution_count": null,
      "metadata": {
        "id": "CyvVrWO0YdDe"
      },
      "outputs": [],
      "source": [
        "train_data, val_data, initial_params = create_dummy_data_linear_regression()"
      ]
    },
    {
      "cell_type": "code",
      "execution_count": null,
      "metadata": {
        "colab": {
          "base_uri": "https://localhost:8080/",
          "height": 1000
        },
        "id": "upnIeZ2Zaued",
        "outputId": "8fc91fc9-3c59-4f90-e983-5fa453d920c8"
      },
      "outputs": [
        {
          "data": {
            "image/png": "[encoded data removed]",
            "text/plain": [
              "<Figure size 640x480 with 1 Axes>"
            ]
          },
          "metadata": {},
          "output_type": "display_data"
        },
        {
          "data": {
            "image/png": "[encoded data removed]",
            "text/plain": [
              "<Figure size 800x600 with 1 Axes>"
            ]
          },
          "metadata": {},
          "output_type": "display_data"
        }
      ],
      "source": [
        "params = batch_gradient_descent(loss_fn, initial_params, train_data, val_data, learning_rate=0.01, num_epochs=2, batch_size=10)\n",
        "\n",
        "# plot the results on validation data\n",
        "Xval, yval = val_data\n",
        "plot_linear_fit(params, Xval, yval)"
      ]
    },
    {
      "cell_type": "markdown",
      "metadata": {
        "id": "qzpzC6C25R2K"
      },
      "source": [
        "Our model seems to be **underfitting** that data because the fitted line is going through very few of the points.\n",
        "\n",
        "Notre modèle semble **Sous-ajuste** les données parce que la ligne ajustée passe par très peu de points.\n",
        "\n",
        "**Exercice:** Discuter en groupe comment nous pouvons ameliorer notre modèle.\n",
        "\n",
        "**Code task:** Modifier le taux d'apprentissage, la taille du lot et le nombre d'epochs et observer leurs éffets sur les resultats.\n",
        "\n",
        "**Tips:**\n",
        "\n",
        "- En pratique, les gens choisissent généralement des taux d'apprentissage dans la plage de 0,01 et 1e-5.\n",
        "- Les petites tailles de lots peuvent introduire trop de bruit dans les gradients et cela peut affecter la vitesse de convergence.\n",
        "- D'autre part, les grandes tailles de lots peuvent prendre plus de temps à converger car les paramètres ne sont pas mis à jour très fréquemment.\n",
        "- Noter que l'utilisation d'un très grand nombre d'epochs rendra l'entraînement long car nous n'avons inclus aucun critère d'arrêt."
      ]
    },
    {
      "cell_type": "code",
      "execution_count": null,
      "metadata": {
        "colab": {
          "base_uri": "https://localhost:8080/",
          "height": 1000
        },
        "id": "rB8DMH4Z7seC",
        "outputId": "a5d344c5-6074-4423-f56e-836940d94463"
      },
      "outputs": [
        {
          "data": {
            "image/png": "[encoded data removed]",
            "text/plain": [
              "<Figure size 640x480 with 1 Axes>"
            ]
          },
          "metadata": {},
          "output_type": "display_data"
        },
        {
          "data": {
            "image/png": "[encoded data removed]",
            "text/plain": [
              "<Figure size 800x600 with 1 Axes>"
            ]
          },
          "metadata": {},
          "output_type": "display_data"
        }
      ],
      "source": [
        "# @title Votre code\n",
        "learning_rate = 0.00291 #@param {type:\"slider\", min:1e-5, max:1e-2, step:1e-4}\n",
        "batch_size = 20 #@param {type:\"slider\", min:1, max:5000, step:10}\n",
        "num_epochs = 100 #@param {type:\"slider\", min:2, max:500, step:20}\n",
        "\n",
        "params = batch_gradient_descent(loss_fn, initial_params, train_data, val_data, learning_rate=learning_rate, num_epochs=num_epochs, batch_size=batch_size)\n",
        "\n",
        "# plot the results on validation data\n",
        "Xval, yval = val_data\n",
        "plot_linear_fit(params, Xval, yval)"
      ]
    },
    {
      "cell_type": "markdown",
      "metadata": {
        "id": "BKtMEnRkhAg9"
      },
      "source": [
        "### 2.2 Régression non-linéaire et réseaux de neurones"
      ]
    },
    {
      "cell_type": "code",
      "execution_count": null,
      "metadata": {
        "cellView": "form",
        "colab": {
          "base_uri": "https://localhost:8080/",
          "height": 452
        },
        "id": "xNYVOlb-bUml",
        "outputId": "b3584ec2-2680-4d26-a758-0a5b425623b0"
      },
      "outputs": [
        {
          "data": {
            "image/png": "[encoded data removed]",
            "text/plain": [
              "<Figure size 640x480 with 1 Axes>"
            ]
          },
          "metadata": {},
          "output_type": "display_data"
        }
      ],
      "source": [
        "# @title Code pour tracer des données non linéaires\n",
        "def plot_nonlinear_data():\n",
        "\n",
        "  x = np.linspace(-5, 5, 100)\n",
        "  y = np.cos(x)*x + x**2 + np.exp(-x/7)*3 + 0.3*x*np.sin(x)**4\n",
        "\n",
        "  plt.scatter(x, y)\n",
        "  plt.title(\"Example of non linear data\")\n",
        "  plt.show\n",
        "\n",
        "plot_nonlinear_data()"
      ]
    },
    {
      "cell_type": "markdown",
      "metadata": {
        "id": "n2FIcY0XAzFw"
      },
      "source": [
        "La régression linéaire est une methode simple et puissance pour la prédiction. Cette methode possède des limitiations lorsqu'on doit capturer des rélations complexes. Pour modeliser ce genre de complexité, we avons besoin des modèles puissants. Par example aucune line ne peut s'ajuster aux données de la figure précédente.\n",
        "Les modèles non-linéaire comme la régression polynomiale, exponentielle ou les fonctions trigonométriques offrent des solutions à ce problème.\n",
        "\n",
        "A cause de l'explosion des techniques de l'apprentissage profond (deep learning) ajuster les fonctions prédéfinies à nos dataset etait les methodes par excellence pour les algorithmes d'apprentissage automatique.\n",
        "le Support Vector Machine (SVM), Naive-Bayes et K-means sont des approches classiques.\n",
        "\n",
        "Dans cette section nous allons introduire les réseaux de neurones qui sont à la base des methodes d'apprentissage profond et du succès récent dans le domaine de l'apprentissage automatique."
      ]
    },
    {
      "cell_type": "markdown",
      "metadata": {
        "id": "XStsgHB2MarI"
      },
      "source": [
        "#### Représentation du modèle\n"
      ]
    },
    {
      "cell_type": "markdown",
      "metadata": {
        "id": "K7NYiMuVIUPR"
      },
      "source": [
        "<center>\n",
        "<img src=\"https://www.tibco.com/sites/tibco/files/media_entity/2021-05/neutral-network-diagram.svg\" width=\"80%\" />\n",
        "</center>\n",
        "\n",
        "      Image of a neural network with 3 hidden layers. Credit: https://www.tibco.com/reference-center/what-is-a-neural-network\n",
        "\n",
        "\n",
        "\n"
      ]
    },
    {
      "cell_type": "markdown",
      "metadata": {
        "id": "WAcehBE0J-G0"
      },
      "source": [
        "Les réseaux de neurones sont un ensemble de modèles d'apprentissage automatique inspirer par manière dont le cerveau humain fonctionne.  \n",
        "\n",
        "Contrairement à la régression linéaire qui applique une seule transformation aux données, les réseaux de neurones traitent les données d'entrée à travers une série des transformations avant d'atteindre la couche de prédiction finale. Le terme <font color='red'>Deep Learning</font> vient des nombreuses transformations appliquées aux données d'entrée.\n",
        "\n",
        "\n",
        "Dans l'image ci haut les cercles répresentent les noeuds et les liens qui les connectent répresentent les paramètres du modèle."
      ]
    },
    {
      "cell_type": "markdown",
      "metadata": {
        "id": "fkpytbBzMvMj"
      },
      "source": [
        "#### Fonctions d'activation\n",
        "\n",
        "Les fonctions d'activation sont importantes pour les réseaux de neurones. L'entrée de chaque noeud est une fonction linéaire des noeuds de la couche précédente. Sans appilquer la fonction d'activation ou la non-linéairité, l'ensemble du réseau, peu importe le nombre de couches  se réduit à un simple modèle linéaire. Pour cette raison, les fonctions d'activation sont utilisées pour construire des rélations non-linéaires et complexes.\n",
        "\n",
        "\n",
        "L'équation pour le noeud $i$ dans la couche $j$ d'un réseau de neurones peut être exprimer comme suit:\n",
        "\n",
        "$$ \\text{Output}_{ij} = \\text{Fonction d'activation} \\left( \\sum_{k=1}^{n} \\text{Weight}_{ijk} \\times \\text{Output}_{(j-1)k} + \\text{Bias}_{ij} \\right)$$\n",
        "\n",
        "Where:\n",
        "- $\\text{Output}_{ij}$ est la sortie du noeud $i$ de la couche $j$.\n",
        "- $\\text{Weight}_{ijk}$ est le poids connectant le noeud $i$ de la couche $j$ au noeud $k$ de la couche $j-1$.\n",
        "- $\\text{Output}_{(j-1)k}$ est la sortie du noeud  $k$ de la couche $j-1$.\n",
        "- $\\text{Bias}_{ij}$ est le biais du noeud $i$ de la couche $j$.\n",
        "- $\\text{Fonction d'activation}$ est la fonction d'activation choisie pour introduire la non-linéairité à la sortie de la neurone.\n"
      ]
    },
    {
      "cell_type": "markdown",
      "metadata": {
        "id": "qnXa2-o8RFK3"
      },
      "source": [
        "\n",
        "\n",
        "Voici quelques fonctions d'activation les plus utilisées:\n",
        "\n",
        "- $\\text{ReLU}(x) \\, = \\, \\text{max}(0, x)$\n",
        "\n",
        "    La fonction d'activation Rectified Linear Unit (ReLU) est la plus populaire. Elle mappe son entrée dans l'intervalle $[0, ∞]$ en transformant toutes les valeurs négatives en 0. La fonction et sa derivée sont monotones. Cependant, cette fonction d'activation à le probleme de transformer toutes les entrées négatives en 0 et de diminuer la capacité du modèle à bien s'adapter aux donnees.\n",
        "\n",
        "- $\\text{Sigmoid}(x) \\, =\\, \\frac{1}{1+e^{-x}}$\n",
        "\n",
        "    La fonction d'activation sigmoid mappe son entrée dans l'intervalle $[0, 1]$. C'est ideal pour prédire les probabilités. La fonction est différentiable et monotone mais sa derivée n'est pas monotone. Parce que sa derivée n'est pas monotone, il n'est pas ideal d'utiliser cette fonction d'activation pour les couches cachées car elle bloque le transfert d'informations entre les couches. Par conséquent, l'activation est appliquée uniquement aux couches de sortie.\n",
        "\n",
        "- $\\text{tanh}(x)\\, = \\, \\frac{e^x - x^{-x}}{e^x + e^{-x}},$\n",
        "  \n",
        "     L'activation $tanh$ est similaire à l'activation sigmoid mais elle mappe les entrées dans l'intervalle $[-1, 1]$. Cette plage plus large permet une répartition beaucoup plus uniforme lors de la prédiction des probabilités. De même que l'activation sigmoid, le $tanh$ est le plus souvent appliqué aux couches de sortie des reseaux des neurones.\n",
        "\n",
        "\n",
        "Implementation de la fonction d'activation [ReLU](https://arxiv.org/https://arxiv.org/abs/1803.08375abs/1803.08375)."
      ]
    },
    {
      "cell_type": "code",
      "execution_count": null,
      "metadata": {
        "colab": {
          "base_uri": "https://localhost:8080/",
          "height": 430
        },
        "id": "17JUU2WIMOAO",
        "outputId": "214d7f65-a591-41f2-9678-bfdf34cf2852"
      },
      "outputs": [
        {
          "data": {
            "image/png": "[encoded data removed]",
            "text/plain": [
              "<Figure size 640x480 with 1 Axes>"
            ]
          },
          "metadata": {},
          "output_type": "display_data"
        }
      ],
      "source": [
        "# Implementation of relu using simple python.\n",
        "\n",
        "def relu(x):\n",
        "  if x > 0 :\n",
        "    return x\n",
        "  else:\n",
        "    return 0\n",
        "\n",
        "def plot_activation(act_fn, label=\"act_fn\"):\n",
        "    max_int = 5\n",
        "    # Generete 100 evenly spaced points from -max_int to max_int\n",
        "    x = np.linspace(-max_int, max_int, 1000)\n",
        "    y = np.array([act_fn(xi) for xi in x])\n",
        "    plt.plot(x, y, label=label)\n",
        "    plt.legend(loc=\"upper left\")\n",
        "    plt.xticks(np.arange(min(x), max(x) + 1, 1))\n",
        "    plt.show()\n",
        "\n",
        "plot_activation(relu, label='ReLU')"
      ]
    },
    {
      "cell_type": "markdown",
      "metadata": {
        "id": "NAQn8NUPhAg-"
      },
      "source": [
        "**Code Task:** Implementer et tracer une autre fonction d'activation de votre choix."
      ]
    },
    {
      "cell_type": "code",
      "execution_count": null,
      "metadata": {
        "id": "bSCO__yzY5vj"
      },
      "outputs": [],
      "source": [
        "# @title Insérer votre code votre code ici\n",
        "def act_fn(x):\n",
        "    # type your code here\n",
        "\n",
        "    y = ...#\n",
        "    return y\n",
        "\n",
        "# Call the plotting function\n",
        "plot_activation(act_fn, label=....) # update this\n",
        "\n"
      ]
    },
    {
      "cell_type": "markdown",
      "metadata": {
        "id": "3Wrxt2orM7sk"
      },
      "source": [
        "#### Construire un réseau de neurones avec Jax\n",
        "\n",
        "Heuresement, nous avons differents modules dans jax qui peuvent être utiliser pour déveloper des réseaux de neurones et nous n'allons rien implementer partir à de zéro. Pour les modèles avec jax nous pouvons utiliser flax ou haiku. Dans cette section nous allons utiliser flax.\n",
        "\n"
      ]
    },
    {
      "cell_type": "code",
      "execution_count": null,
      "metadata": {
        "id": "36LsHOHxjPuH"
      },
      "outputs": [],
      "source": [
        "# @title Demonstration: Construction d'un simple réseau de neurones avec flax\n",
        "# Code for a 4-layer neural network using haiku.\n",
        "# Here assume all the hidden layers have the same number of nodes.\n",
        "# We will use the same activation relu for all the layers except the last layer.\n",
        "\n",
        "class Network(nn.Module):\n",
        "  hidden_size: int\n",
        "  output_size: int\n",
        "\n",
        "  @nn.compact\n",
        "  def __call__(self, x):\n",
        "    # First layer with ReLU activation\n",
        "    x = nn.Dense(self.hidden_size)(x)\n",
        "    x = jax.nn.relu(x)\n",
        "\n",
        "    # Second layer\n",
        "    x = nn.Dense(self.hidden_size)(x)\n",
        "    x = jax.nn.relu(x)\n",
        "\n",
        "    # Third (output) layer with no activation applied\n",
        "    x = nn.Dense(self.output_size)(x)\n",
        "\n",
        "    return x"
      ]
    },
    {
      "cell_type": "markdown",
      "metadata": {
        "id": "lCOgpUEsnvCK"
      },
      "source": [
        "<!--The cell above is a basic example of how we can define a neural network using flax. Each linear transformation is implemented using the `nn.Dense` function, and we use `jax.nn.relu` to apply non-linearities to the output of each layer.-->\n",
        "\n",
        "La cellule ci-dessus démontre comment définir un simple réseau de neurones avec `flax`. Chaque transformation linéaire est implémenté par la fonction `nn.Dense` et `jax.nn.relu` est utilisé pour appliquer la non-linéarité aux sorties de chaque couche."
      ]
    },
    {
      "cell_type": "code",
      "execution_count": null,
      "metadata": {
        "colab": {
          "base_uri": "https://localhost:8080/"
        },
        "id": "dYMLCHd2nSS2",
        "outputId": "60e893be-e54d-4fc3-e1a1-ca40a86afcdd"
      },
      "outputs": [
        {
          "name": "stdout",
          "output_type": "stream",
          "text": [
            "+-----------------------+--------+------+\n",
            "| Name                  | Shape  | Size |\n",
            "+-----------------------+--------+------+\n",
            "| params/Dense_0/bias   | (5,)   | 5    |\n",
            "| params/Dense_0/kernel | (4, 5) | 20   |\n",
            "| params/Dense_1/bias   | (5,)   | 5    |\n",
            "| params/Dense_1/kernel | (5, 5) | 25   |\n",
            "| params/Dense_2/bias   | (1,)   | 1    |\n",
            "| params/Dense_2/kernel | (5, 1) | 5    |\n",
            "+-----------------------+--------+------+\n",
            "Total: 61\n"
          ]
        }
      ],
      "source": [
        "# @title Démonstration : initialisation du modèle\n",
        "seed = 32\n",
        "input_size = 4\n",
        "hidden_size = 5\n",
        "output_size = 1\n",
        "\n",
        "# Calling the build_neural_network function and applying the required transformations\n",
        "model = Network(hidden_size, output_size)\n",
        "\n",
        "key = jax.random.PRNGKey(seed)\n",
        "dummy = jnp.zeros((1, input_size), dtype=float)\n",
        "initial_params = model.init(key, dummy)\n",
        "\n",
        "# Let's use the CLU: https://github.com/google/CommonLoopUtils to examine the shape of the parameters\n",
        "print(parameter_overview.get_parameter_overview(initial_params, include_stats=False))"
      ]
    },
    {
      "cell_type": "markdown",
      "metadata": {
        "id": "UW39m5wCDrBL"
      },
      "source": [
        "<!-- **Exercise:** Do you understand the shape of the different parameters? -->\n",
        "\n",
        "**Exercice:** Comprenez-vous la forme des différents paramètres ?"
      ]
    },
    {
      "cell_type": "markdown",
      "metadata": {
        "id": "0Q1_OKVVvR69"
      },
      "source": [
        "Le code ci haut démontre comment créer une instance du modèle pour obtenir les paramètres initiaux. Apres avoir crée une instance du modèle en utilisant la classe `Network` nous appelons la fonction `init` avec un `jax.random.PRNGKey` et quelques entrées factices à partir desquelles la forme des paramètres sera prédite."
      ]
    },
    {
      "cell_type": "markdown",
      "metadata": {
        "id": "KW6s0Pn3vwy7"
      },
      "source": [
        "\n",
        "\n",
        "Pour appliquer le modèle a des données nous avons besoin d'appeler la fonction `model.apply` avec les paramètres actuels et les données d'entrée."
      ]
    },
    {
      "cell_type": "code",
      "execution_count": null,
      "metadata": {
        "colab": {
          "base_uri": "https://localhost:8080/"
        },
        "id": "p3YtVINzqWP7",
        "outputId": "438a25c2-c65e-4bb8-b8d9-6775237a36ff"
      },
      "outputs": [
        {
          "name": "stdout",
          "output_type": "stream",
          "text": [
            "Model ouput shape: (1, 1), Input shape: (1, 4)\n"
          ]
        }
      ],
      "source": [
        "z = model.apply(initial_params, dummy)\n",
        "print(f\"Model ouput shape: {z.shape}, Input shape: {dummy.shape}\")"
      ]
    },
    {
      "cell_type": "markdown",
      "metadata": {
        "id": "fbTsk0MdhAhC"
      },
      "source": [
        "## **Classification**\n",
        "Maintenant que nous nous sommes familiarisés avec les fondenmentaux de l'ajustement d'un model,et son entrainement et que nous savons comment construire les réseaux des neurones, nous allons nous focaliser sur notre objectif principale qui est la construction de notre classificateur de nombres.\n"
      ]
    },
    {
      "cell_type": "markdown",
      "metadata": {
        "id": "wMgxJU0TOX6O"
      },
      "source": [
        "### 3.1 Régression logistique\n",
        "\n",
        "La régression linéaire a pour objectif de trouver une fonction $f$ qui mappe nos **entrées $x$**, ou $x \\in \\mathbb{R}^d$ aux **sorties/output/target - $y$**, ou $y \\in \\mathbb{R}^n$ (les valeurs de sortie sont continues). Contrairement à la régression, la **sortie/output/target -$y$** ne peut prendre que certaines valeurs dans la régression logistique. Lorsque la **sortie/target** ne peut prendre que l'une des deux valeurs, l'algorithme est appelé **Classification Binaire**. Lorsque nous avons plus de deux catégories, on parle de **Classification Multi-Classes**.\n",
        "\n",
        "C'est pourquoi l'objectif de la régression logistique (dans le cas de la classification binaire) est de mapper les **entrées $x$**, où $x \\in \\mathbb{R}^d$ à $y$, où $y \\in \\{0,1\\}$.\n",
        "\n",
        "\n",
        "Par example, si nous construisons un classificateur d'images pour chien et chat, 1 peut être utilisé pour répresenter les valeurs de sortie pour les chats et 0 pour les chiens."
      ]
    },
    {
      "cell_type": "markdown",
      "metadata": {
        "id": "SE1L3rmaO4UP"
      },
      "source": [
        "#### Logits and Fonction Sigmoïde\n",
        "\n",
        "\n",
        "Vu que la sortie de la régression logistique est discrète. C'est n'est pas facile de définir une fonction qui produit les valeurs discrètes. Pour cette raison, la fonction est construite pour prédire des probabilités. Rappelons que les les probabilités prennent des valeurs dans l'intervale [0, 1], raison pour laquelle nous avons besoin d'une fonction qui produit des probabilités.  La **fonction sigmoïde** est une bonne fonction d'activation.\n",
        "<br>\n",
        "<center>\n",
        "\n",
        " $$\\sigma(x) = \\frac{1}{1+e^{-x}}$$\n",
        "\n",
        " ![sigmoid.png](data:image/png;base64,iVBORw0KGgoAAAANSUhEUgAAAjcAAAGbCAYAAAA4HrGmAAAABHNCSVQICAgIfAhkiAAAABl0RVh0U29mdHdhcmUAZ25vbWUtc2NyZWVuc2hvdO8Dvz4AAAAmdEVYdENyZWF0aW9uIFRpbWUAVGh1IDE3IEF1ZyAyMDIzIDEwOjAyOjM4Xn+IKgAAIABJREFUeJzt3Xl4VPW9x/HPzCSZJGQnewgkIKssQZDcQLV6TYnUUq2t5do+gri0KLXV2FbRElyuxkpFWoul2qL2aa2orctVSqupaJUIylI3FkEgbAkBJBOyTTJz7h9JhsZMIMtMzszk/XqeeZI5OXPmexgy88lvOT+LYRiGAAAAQoTV7AIAAAB8iXADAABCCuEGAACEFMINAAAIKYQbAAAQUgg3AAAgpISZXUA7t9utQ4cOKTY2VhaLxexyAABANxiGodraWmVmZspqDYw2k4AJN4cOHVJ2drbZZQAAgF7Yv3+/hgwZYnYZkgIo3MTGxkpq/ceJi4szuRoAANAdDodD2dnZns/xQBAw4aa9KyouLo5wAwBAkAmkISWB0TkGAADgI4QbAAAQUgg3AAAgpATMmJvucLlcam5uNrsMfEF4eLhsNpvZZQAAICmIws3Jkyd14MABGYZhdin4AovFoiFDhigmJsbsUgAACI5w43K5dODAAUVHRyslJSWgRmQPdIZhqLq6WgcOHNDIkSNpwQEAmC4owk1zc7MMw1BKSoqioqLMLgdfkJKSor1796q5uZlwAwAwXVANKKbFJjDxugAAAklQhRsAAIAz8Rpu3nrrLc2ePVuZmZmyWCx68cUXz3igdevW6ZxzzpHdbtdZZ52lJ5980te1hpSrr75al112mdllSJJycnK0fPny0+7T3f8HAACYzeuYm7q6Ok2aNEnXXHONLr/88jMeZM+ePbrkkku0YMEC/elPf1JZWZmuu+46ZWRkqKioyOdFh4Jf/vKXATPz67333tOgQYPMLgMAAJ/wGm5mzZqlWbNmdfsgK1euVG5urh566CFJ0tixY/X222/r4YcfJtx0IT4+3uwSPFJSUswuAQAAn/HJbKny8nIVFhZ22FZUVKSbb765y8c0NTWpqanJc9/hcPiilIDz/PPP6+6779auXbsUHR2tyZMn66WXXtLChQt14sQJT1dPbW2tFixYoBdffFFxcXH66U9/qpdeekl5eXmeLqOcnBxdd9112rlzp/76179q8ODBeuSRR1RQUKDrrrtOZWVlGj58uFatWqWpU6d6avjLX/6ikpIS7dq1SxkZGbrpppt06623en6ek5Ojm2++2fN6ffrpp7r22mu1ceNGDR8+XL/85S/78V8MGJgam12qa2pRU4tbzhb3f3x1dfje6TLkcrvlcktutyGXYcjlNuRu+3rqe3m2uQ1D7vaG4rYW4y/cldG25dR97z//zx+e2qcHj4WprpmRq+ykaLPL8DufhJvKykqlpaV12JaWliaHw6GGhgav07dLS0t199139+r5DMNQQ7OrV4/tq6hwW7dnBx0+fFhXXnmlHnzwQX3jG99QbW2t/vWvf3ntjiouLtY777yjl19+WWlpaSopKdHmzZuVl5fXYb+HH35Y999/vxYvXqyHH35YV111laZPn65rrrlGS5cu1W233aa5c+fq448/lsVi0aZNm/Ttb39bd911l+bMmaP169frxhtv1ODBg3X11Vd3qsPtduvyyy9XWlqaNmzYoJqamtOGVADeNTa7tO9YvQ7VNKja0aQjtY06Utukoyeb5GhokaOxWbWNLaptbJajsUXOFrfZJWMAmD0pk3DjT4sWLVJxcbHnvsPhUHZ2drce29Ds0riSv/urtNP65J4iRUd075/t8OHDamlp0eWXX65hw4ZJkiZMmNBpv9raWj311FN6+umnddFFF0mSnnjiCWVmZnba96tf/aq+//3vS5JKSkr0m9/8Rueee66uuOIKSdJtt92mgoICVVVVKT09XcuWLdNFF12kxYsXS5JGjRqlTz75REuXLvUabl5//XVt375df//73z3Pf//99/eomxIYSFxuQ58eqdXWihP68GCN9hyt096jdTrsaFRvhtVF2KyKCLPK3nZr/d7m2RZusyrMZpHVYpHN2v5Vslosslotsn1he/v3FotkUesfZq3fq+37jn+std/9z31b73/h523feB7dzcfBXGlxkWaX0C98Em7S09NVVVXVYVtVVZXi4uK6vOie3W6X3W73xdMHrEmTJumiiy7ShAkTVFRUpJkzZ+pb3/qWEhMTO+z32Wefqbm5WdOmTfNsi4+P1+jRozsdc+LEiZ7v21vL/jMwtW87cuSI0tPTtW3bNl166aUdjjFjxgwtX75cLper00X3tm3bpuzs7A7BqqCgoKenDoSsFpdbW/ef0Js7q/Xe3uP68ECN6pzeW5JjI8M0JDFaqbH21lucXSkxdiVERyg2MkyxkeFtX1u/j7GHyWYlBQB95ZNwU1BQoDVr1nTY9tprr/ntQzEq3KZP7jFnoHJUePevwGuz2fTaa69p/fr1+sc//qFHHnlEd955pzZs2NDr5w8PD/d83/6Xk7dtbjdN3ICvuN2GNu49rpe2HtLfPjqsE/UdF/AdFGHTxCEJmpSdoLNSY5SbHK2cwYOUNCiCi1wCJvAabk6ePKldu3Z57u/Zs0dbt25VUlKShg4dqkWLFungwYP6wx/+IElasGCBfv3rX+unP/2prrnmGv3zn//Us88+q1dffdUvRVsslm53DZnNYrFoxowZmjFjhkpKSjRs2DC98MILHfYZPny4wsPD9d5772no0KGSpJqaGu3cuVPnn39+n55/7Nixeueddzpse+eddzRq1CivSyWMHTtW+/fv1+HDh5WRkSFJevfdd/tUAxCsahub9fymA/pD+T7tOVrn2R4fFa7zR6VoxojBmjw0UWelxtDiAgQQrwnh/fff14UXXui53z42Zt68eXryySd1+PBhVVRUeH6em5urV199Vbfccot++ctfasiQIfrd73434KeBb9iwQWVlZZo5c6ZSU1O1YcMGVVdXa+zYsfrggw88+8XGxmrevHn6yU9+oqSkJKWmpmrJkiWyWq19/qvv1ltv1bnnnqt7771Xc+bMUXl5uX7961/r0Ucf9bp/YWGhRo0apXnz5mnp0qVyOBy68847+1QDEGzqnS16av0+/fat3Z5Wmlh7mGZNSNeleVnKz01SmI0LvAOBymu4ueCCC057gTlvVx++4IILtGXLFp8VFgri4uL01ltvafny5XI4HBo2bJgeeughzZo1S6tXr+6w77Jly7RgwQJ97Wtf80wF379/vyIj+zb465xzztGzzz6rkpIS3XvvvcrIyNA999zjdTCxJFmtVr3wwgu69tprNW3aNOXk5OhXv/qVLr744j7VAQQDwzC05sNK3f1/H+tIbeulKoYnD9L8L+Xq8slZGmQPjhZjYKCzGAFymVyHw6H4+HjV1NQoLi6uw88aGxu1Z88e5ebm9vnDPljU1dUpKytLDz30kK699lqzyzmtgfj6IPQccTTqtr98oDd2VEuShiZF6+bCkbo0L4suJ+A0Tvf5bRb+DAkQW7Zs0fbt2zVt2jTV1NTonnvukaROM50A+N76XUf1w2e26OhJpyJsVt1wwQjdeOEI2cO6P4EAQOAg3ASQX/ziF9qxY4ciIiI0ZcoU/etf/1JycrLZZQEh7Xf/+kz3r9kmtyGNSY/Vr78zWWelxppdFoA+INwEiMmTJ2vTpk1mlwEMGIZh6IG/bddv3/pMkvTtqUN0z6XjFdmDyz0ACEyEGwADjmEYuuOFD/XnjfslSYtmjdH3vzzC5KoA+ArhBsCA8/O1O/TnjftltUgPfHOivj21e0u/AAgOQRVuAmRiF76A1wXB5Pdv79HKN3dLkn7+zYm6gmADhJyguApV+5V0nU6nyZXAm/bXxdsVj4FA8saOI7r3lU8kST+9eDTBBghRQdFyExYWpujoaFVXVys8PFxWa1BksgHB7Xarurpa0dHRCgsLiv9OGKAO1zSoePVWSdJ38ofqBsbYACErKD6NLBaLMjIytGfPHu3bt8/scvAFVqtVQ4cOZYFABKxml1s3Pb1Fn9c3a3xWnEq+No7/r0AIC4pwI0kREREaOXIkXVMBKCIigtY0BLRH39it9/d9rlh7mFZ85xymewMhLmjCjdTaQsDl/QH0xO7qk1rxxi5J0v9+Y7yGDR5kckUA/I0/twGELMMwdOcLH8rpcuvLo1L09UmZZpcEoB8QbgCErL9sPqh3PzuuyHCr/vey8YyzAQYIwg2AkNTgdOnBtdslSTcXjlJ2UrTJFQHoL4QbACHpyfV7daS2SUMSo3TNjFyzywHQjwg3AEJOTUOz5yrEtxSOUkQYb3XAQMJvPICQ8/hbn6mmoVmj0mJ02eQss8sB0M8INwBCSk19s1a9s0eSdOvM0bJZGUQMDDSEGwAh5c/vVaje6dKY9FjNHJdmdjkATEC4ARAyml1uPfnOXknSdecNZ+o3MEARbgCEjDUfHlalo1HJMXbNnpRhdjkATEK4ARASDMPQ7/7VOtZmXsEw2cNYPwoYqAg3AELC5orP9eHBGtnDrPrufw0zuxwAJiLcAAgJz753QJI0e1KmkgZFmFwNADMRbgAEvXpni1798LAk6YopQ0yuBoDZCDcAgt7fP67UyaYWDU2K1rTcJLPLAWAywg2AoPfc+61dUt+aMoTp3wAINwCC24HP67V+9zFZLNI36ZICIMINgCD3wuaDkqTpIwYrKyHK5GoABALCDYCg9rePKiVJl+axQCaAVoQbAEGr4li9PjnskM1q0VfGso4UgFaEGwBBa+3HrdO//2t4khK5tg2ANoQbAEGrvUvq4rPTTa4EQCAh3AAISpU1jdpScUIWi1REuAHwHwg3AILSPz5pbbU5Z2iiUuMiTa4GQCAh3AAISmvpkgLQBcINgKBT19Si9/YelyQVjmOWFICOCDcAgk757mNqdhnKTopSzuBos8sBEGAINwCCzlufVkuSzh+ZwlpSADoh3AAIOm/tbAs3o1JMrgRAICLcAAgqFcfqtfdYvcKsFk0fMdjscgAEIMINgKDyZluX1DlDExUbGW5yNQACEeEGQFA51SWVbHIlAAIV4QZA0Gh2uVW++5gkxtsA6BrhBkDQ+PiQQyebWhQfFa7xmfFmlwMgQBFuAASNjXtaW23OzUmS1coUcADeEW4ABI2Ne1qvSpyfm2RyJQACGeEGQFBwuw1PuJlGuAFwGoQbAEFhR1WtHI0tio6w6ezMOLPLARDACDcAgkL7QplThiUqzMZbF4Cu8Q4BIChsaO+SyqFLCsDpEW4ABDzDYLwNgO4j3AAIeHuP1au6tkkRNqsmZSeYXQ6AAEe4ARDw3m8bbzMpO16R4TaTqwEQ6Ag3AALevw+ckCRNHppociUAgkGX4WbFihXKyclRZGSk8vPztXHjxtMeaPny5Ro9erSioqKUnZ2tW265RY2NjT4vGMDA8+/9NZKkSUPokgJwZl7DzerVq1VcXKwlS5Zo8+bNmjRpkoqKinTkyBGvB3n66ad1++23a8mSJdq2bZt+//vfa/Xq1brjjjv8WjyA0NfY7NK2ww5Jrd1SAHAmXsPNsmXLdP3112v+/PkaN26cVq5cqejoaK1atcrrQdavX68ZM2boO9/5jnJycjRz5kxdeeWVZ2ztAYAz+fiQQy1uQ8kxdmUlRJldDoAg0CncOJ1Obdq0SYWFhad2slpVWFio8vJyrweZPn26Nm3a5Akzn332mdasWaOvfvWrfiobwEDx7/2t423ysuNlsbBYJoAzC/vihqNHj8rlciktLa3D9rS0NG3fvt3rQb7zne/o6NGj+tKXviTDMNTS0qIFCxactluqqalJTU1NnvsOh6O35wAghG1tCzeMtwHQXT6ZLbVu3Trdf//9evTRR7V582b99a9/1auvvqp77723y8eUlpYqPj7ec8vOzvZFKQBCTPtMqbyhhBsA3dOp5SY5OVk2m01VVVUdtldVVSk9Pd3rQRYvXqyrrrpK1113nSRpwoQJqqur0/e+9z3deeedslo7Z6hFixapuLjYc9/hcBBwAHTweZ1T+47VS5ImZhFuAHRPp9QRERGhKVOmqKyszLPN7XarrKxMBQUFXg9SX1/fKcDYbK0X2jIMw+tj7Ha74uLiOtwA4D9tbWu1GZ48SPHR4SZXAyBYdGq5kaTi4mLNmzdPU6dO1bRp07R8+XLV1dVp/vz5kqS5c+cqKytLpaWlkqTZs2dr2bJlmjx5svLz87Vr1y4tXrxYs2fP9oQcAOip9sHELLkAoCe8hps5c+aourpaJSUlqqysVF5entauXesZZFxRUdGhpeZnP/uZLBaLfvazn+ngwYNKSUnR7Nmzdd999/XPWQAISR8dbL1438QhXN8GQPdZjK76jfqZw+FQfHy8ampq6KICIEmaXlqmQzWNevb7BawGDgSoQPz8Zm0pAAHp8zqnDtW0LuEyNiPW5GoABBPCDYCA9EnbkgvDBkcrNpLBxAC6j3ADICB9cqg13IzLCIxmbgDBg3ADICB9fKh1MDHhBkBPEW4ABKT2bqmzswg3AHqGcAMg4DQ2u7S7uk6SNC6DaeAAeoZwAyDg7KislcttaPCgCKXF2c0uB0CQIdwACDjtXVLjMuNksVhMrgZAsCHcAAg4nsHEmYy3AdBzhBsAAYdp4AD6gnADIKAYhqEdlbWSCDcAeodwAyCgHDzRoDqnS+E2i3KSB5ldDoAgRLgBEFB2VrW22oxIiVG4jbcoAD3HOweAgLKj8qQkaVQai2UC6B3CDYCA0t5yMzqdcAOgdwg3AAJK+2BiWm4A9BbhBkDAcLkN7apu75aKMbkaAMGKcAMgYOw7Vidni1uR4VZlJ0abXQ6AIEW4ARAw2sfbjEqLldXKsgsAeodwAyBgMFMKgC8QbgAEDM9MKcINgD4g3AAIGDvau6WYBg6gDwg3AAJCU4tLe47WSWKmFIC+IdwACAh7j9bL5TYUaw9Telyk2eUACGKEGwABYXfb9W1GpMbIYmGmFIDeI9wACAi7jrSGm7NS6ZIC0DeEGwABwdNyk0K4AdA3hBsAAeFUuBlkciUAgh3hBoDp3G5Du4+0zpQaQbcUgD4i3AAw3WFHoxqaXQqzWjQ0iTWlAPQN4QaA6Xa3DSYeNjha4TbelgD0De8iAEzXPt6GmVIAfIFwA8B0zJQC4EuEGwCma7/GDeEGgC8QbgCYbnc1M6UA+A7hBoCpahqaVV3bJEkazjVuAPgA4QaAqT5rG2+TFmdXXGS4ydUACAWEGwCmah9vMzyZLikAvkG4AWCqPUdbx9vQJQXAVwg3AEy191hruMlNJtwA8A3CDQBTfVZNyw0A3yLcADCN221o37F6SVLOYMINAN8g3AAwTVVt64KZNqtF2SyYCcBHCDcATNM+mDg7MYoFMwH4DO8mAEzTHm4YTAzAlwg3AEyz1xNuuMYNAN8h3AAwzamWG8bbAPAdwg0A03xGyw0APyDcADBFi8ut/cdbp4Hnco0bAD5EuAFgioMnGtTsMmQPsyojLtLscgCEEMINAFO0j7fJGTxIVqvF5GoAhBLCDQBTeMINg4kB+BjhBoApmAYOwF8INwBMsadtTSmmgQPwNcINAFNUHGttuRmaxEwpAL5FuAHQ71pcbh34vEGSNGwwLTcAfItwA6DfHa5pVIvbUESYVelMAwfgY12GmxUrVignJ0eRkZHKz8/Xxo0bT3ugEydOaOHChcrIyJDdbteoUaO0Zs0anxcMIPjtaxtvk50YxTRwAD4X5m3j6tWrVVxcrJUrVyo/P1/Lly9XUVGRduzYodTU1E77O51OfeUrX1Fqaqqef/55ZWVlad++fUpISPD7CQAIPvuOt463GTaY8TYAfM9ruFm2bJmuv/56zZ8/X5K0cuVKvfrqq1q1apVuv/32TvuvWrVKx48f1/r16xUeHi5JysnJ8V/VAIJaRVvLzdAkxtsA8L1O3VJOp1ObNm1SYWHhqZ2sVhUWFqq8vNzrQV5++WUVFBRo4cKFSktL0/jx43X//ffL5XJ1+cRNTU1yOBwdbgAGhn2EGwB+1CncHD16VC6XS2lpaR22p6WlqbKy0utBPvvsMz3//PNyuVxas2aNFi9erIceekj/+7//2+UTl5aWKj4+3nPLzs7u46kACBYVbQtmMlMKgD/4ZLaU2+1WamqqHnvsMU2ZMkVz5szRnXfeqZUrV3b5mEWLFqmmpsZz279/vy9KARDgDMMg3ADwq05jbpKTk2Wz2VRVVdVhe1VVldLT070eJCMjQ+Hh4bLZbJ5tY8eOVWVlpZxOpyIiIjo9xm63y26397V+AEHmeJ1TJ5taZLFIQxIJNwB8r1PLTUREhKZMmaKysjLPNrfbrbKyMhUUFHg9yIwZM7Rr1y653W7Ptp07dyojI8NrsAEwcO1ra7VJj4tUZLjtDHsDQM957ZYqLi7W448/rqeeekrbtm3TDTfcoLq6Os/sqblz52rRokWe/W+44QYdP35cP/rRj7Rz5069+uqruv/++7Vw4cL+OQsAQYOZUgD8zetU8Dlz5qi6ulolJSWqrKxUXl6e1q5d6xlkXFFRIav1VC7Kzs7W3//+d91yyy2aOHGisrKy9KMf/Ui33XZb/5wFgKDRPlOK8TYA/MViGIZhdhGS5HA4FB8fr5qaGsXFxZldDgA/KX52q/66+aB+UjRaCy88y+xyAPRRIH5+s7YUgH5FtxQAfyPcAOhX+5gGDsDPCDcA+k29s0XVtU2SpGFJrCsFwD8INwD6TfvF++KjwhUfHW5yNQBCFeEGQL9hphSA/kC4AdBvGEwMoD8QbgD0m33H6yTRcgPAvwg3APqNp1uKwcQA/IhwA6DftA8oHkrLDQA/ItwA6BctLrcOft4giW4pAP5FuAHQLw6daFSL21BEmFVpsZFmlwMghBFuAPSL9sHEQ5OiZbVaTK4GQCgj3ADoF6cGE9MlBcC/CDcA+gWDiQH0F8INgH5RQcsNgH5CuAHQL/bRcgOgnxBuAPidYRiqONY+oJgL+AHwL8INAL87VudUndMli0XKTooyuxwAIY5wA8Dv2mdKZcRFyh5mM7kaAKGOcAPA7yrar3HDeBsA/YBwA8DvWDATQH8i3ADwu/Zp4LTcAOgPhBsAftc+DZwFMwH0B8INAL+jWwpAfyLcAPCruqYWHT3ZJIluKQD9g3ADwK/a15RKiA5XfFS4ydUAGAgINwD8itXAAfQ3wg0Avzp1jRvG2wDoH4QbAH5Fyw2A/ka4AeBXFawGDqCfEW4A+BUtNwD6G+EGgN80u9w6eKJBkjSMMTcA+gnhBoDfHDrRIJfbkD3MqtRYu9nlABggCDcA/Ka9S2poUrSsVovJ1QAYKAg3APyGNaUAmIFwA8BvKo61XeOGNaUA9CPCDQC/8cyUouUGQD8i3ADwG65xA8AMhBsAfmEYhqflJodp4AD6EeEGgF9U1zapodklq0XKSogyuxwAAwjhBoBftM+UykyIUkQYbzUA+g/vOAD8gsHEAMxCuAHgF+3TwFl2AUB/I9wA8Iu9LJgJwCSEGwB+wdWJAZiFcAPAL7g6MQCzEG4A+FxNQ7M+r2+WxAX8APQ/wg0An6toG2+THGNXjD3M5GoADDSEGwA+t+94+0wpWm0A9D/CDQCf28dMKQAmItwA8Ln2binG2wAwA+EGgM/tbZspxYKZAMxAuAHgcxXHabkBYB7CDQCfamx2qdLRKIkxNwDMQbgB4FMHPq+XYUgx9jAlDYowuxwAAxDhBoBP7T16atkFi8VicjUABqIuw82KFSuUk5OjyMhI5efna+PGjd064DPPPCOLxaLLLrvMZ0UCCB6sKQXAbF7DzerVq1VcXKwlS5Zo8+bNmjRpkoqKinTkyJHTHmzv3r368Y9/rPPOO88vxQIIfKwpBcBsXsPNsmXLdP3112v+/PkaN26cVq5cqejoaK1atarLA7lcLn33u9/V3XffreHDh/utYACBjZYbAGbrFG6cTqc2bdqkwsLCUztZrSosLFR5eXmXB7rnnnuUmpqqa6+9tltP3NTUJIfD0eEGIPh5rk5MuAFgkk7h5ujRo3K5XEpLS+uwPS0tTZWVlV4P8vbbb+v3v/+9Hn/88W4/cWlpqeLj4z237OzsHpYOINC43IYOfN4ebuiWAmCOPs+Wqq2t1VVXXaXHH39cycnJ3X7cokWLVFNT47nt37+/r6UAMNmhEw1qdhmKsFmVHhdpdjkABqiwL25ITk6WzWZTVVVVh+1VVVVKT0/vdIDdu3dr7969mj17tmeb2+1uPXhYmHbs2KERI0Z0epzdbpfdbu/zCQAIHO1XJh6SFCWblWngAMzRqeUmIiJCU6ZMUVlZmWeb2+1WWVmZCgoKOh1gzJgx+vDDD7V161bP7etf/7ouvPBCbd26le4mYABhTSkAgaBTy40kFRcXa968eZo6daqmTZum5cuXq66uTvPnz5ckzZ07V1lZWSotLVVkZKTGjx/f4fEJCQmS1Gk7gNDmWQ2cZRcAmMhruJkzZ46qq6tVUlKiyspK5eXlae3atZ5BxhUVFbJaubgxgI6YKQUgEFgMwzDMLkKSHA6H4uPjVVNTo7i4OLPLAdALs375L2077NCqq6fqv8eknfkBAIJeIH5+0/wCwCcMw+DqxAACAuEGgE9U1zapzumS1cKYGwDmItwA8Ik9R1tbbYYkRisijLcWAObhHQiAT7SHm9xkuqQAmItwA8AnCDcAAgXhBoBPEG4ABArCDQCfaA83OYQbACYj3ADoM5fb0L62daWGE24AmIxwA6DPDp1okLPFrQibVZkJUWaXA2CAI9wA6LP2Lqmhg6NZDRyA6Qg3APqsfTVwBhMDCASEGwB99ll1a7hhvA2AQEC4AdBn7S03zJQCEAgINwD6jGvcAAgkhBsAfeJscWs/08ABBBDCDYA+2f95vdyGNCjCppRYu9nlAADhBkDftA8mzkkeJIuFaeAAzEe4AdAnu6tPSpJGpMSYXAkAtCLcAOiTXUdaw81ZqYQbAIGBcAOgT2i5ARBoCDcAes0wDO1ua7kZkcpMKQCBgXADoNeOnnTK0dgii0XKGUy4ARAYCDcAeq19vE12YrQiw20mVwMa8xtmAAAZpklEQVQArQg3AHqtfbwNg4kBBBLCDYBeOzWYmC4pAIGDcAOg13a3XcCPmVIAAgnhBkCvnZopRbgBEDgINwB6pd7ZooMnGiTRcgMgsBBuAPRK+5pSSYMilDQowuRqAOAUwg2AXmEwMYBARbgB0Cvt422GJ9MlBSCwEG4A9MrOqtZwMzKNcAMgsBBuAPTKzqpaSdLo9FiTKwGAjgg3AHqssdmlvcdaBxSPTiPcAAgshBsAPbbryEm5DSkhOlwpsXazywGADgg3AHrs0yOtXVKj0mJlsVhMrgYAOiLcAOixHZWtg4npkgIQiAg3AHqsfTDxKGZKAQhAhBsAPbaj8lS3FAAEGsINgB452XRqTSnCDYBARLgB0COftnVJpcbalciaUgACEOEGQI9w8T4AgY5wA6BH2mdKjUwl3AAITIQbAD1yquWGmVIAAhPhBkC3GYahbYcdkqTR6XEmVwMA3hFuAHRblaNJx+qcslktGsOYGwABinADoNs+OVwjSRqRMkiR4TaTqwEA7wg3ALrtk0OtXVLjMuiSAhC4CDcAuu3j9nCTSbgBELgINwC67ZO2wcRnZ8abXAkAdI1wA6BbHI3N2nesXhLdUgACG+EGQLdsP9x6fZvM+EiWXQAQ0Ag3ALrl40OtM6UYbwMg0BFuAHSLZ6YU420ABDjCDYBuaR9MzHgbAIGOcAPgjJwtbs+aUmfTLQUgwHUZblasWKGcnBxFRkYqPz9fGzdu7PIgjz/+uM477zwlJiYqMTFRhYWFp90fQHDZXulQs8tQQnS4hiRGmV0OAJyW13CzevVqFRcXa8mSJdq8ebMmTZqkoqIiHTlyxOtB1q1bpyuvvFJvvPGGysvLlZ2drZkzZ+rgwYN+LR5A//j3/hOSpElDEmSxWEyuBgBOz2u4WbZsma6//nrNnz9f48aN08qVKxUdHa1Vq1Z5Pcif/vQn3XjjjcrLy9OYMWP0u9/9Tm63W2VlZX4tHkD/2NIebrITTK4EAM6sU7hxOp3atGmTCgsLT+1ktaqwsFDl5eXdOmh9fb2am5uVlJTU5T5NTU1yOBwdbgACU3vLzWTCDYAg0CncHD16VC6XS2lpaR22p6WlqbKyslsHve2225SZmdkhIH1RaWmp4uPjPbfs7Owelg6gP9Q0NGt3dZ0kaeIQpoEDCHw+ny31wAMP6JlnntELL7ygyMjILvdbtGiRampqPLf9+/f7uhQAPvDhgdaL92UnRWlwjN3kagDgzMK+uCE5OVk2m01VVVUdtldVVSk9Pf20B/vFL36hBx54QK+//romTpx42n3tdrvsdt4ogUD37wOtXVJ52YkmVwIA3dOp5SYiIkJTpkzpMBi4fXBwQUFBlwd68MEHde+992rt2rWaOnWqf6oF0O+2VLTPlKJLCkBw6NRyI0nFxcWaN2+epk6dqmnTpmn58uWqq6vT/PnzJUlz585VVlaWSktLJUk///nPVVJSoqefflo5OTmesTkxMTGKiYnpp1MB4GuGYWhr+2DioQwmBhAcvIabOXPmqLq6WiUlJaqsrFReXp7Wrl3rGWRcUVEhq/VUo89vfvMbOZ1Ofetb3+pwnCVLluiuu+7yX/UA/OpQTaOOnmxSmNWis1lTCkCQsBiGYZhdhCQ5HA7Fx8erpqZGcXFc3h0IBK98cEg/eHqLzs6M06s/PM/scgAEoED8/GZtKQBdem/PcUnSuTldX7MKAAIN4QZAlza0hZtpuYQbAMGDcAPAq5r6Zu1oWwmclhsAwYRwA8Cr9/cdl2FIw5MHKSWWa1IBCB6EGwBebaRLCkCQItwA8GoDg4kBBCnCDYBO6p0t+uhg65pStNwACDaEGwCdbKk4oRa3ocz4SA1JjDK7HADoEcINgE48XVK5SbJYLCZXAwA9Q7gB0Mnbn1ZLkgqGDza5EgDoOcINgA5q6ps9i2WePyrF5GoAoOcINwA6eGf3UbkN6azUGGUmMN4GQPAh3ADo4K2drV1S54+k1QZAcCLcAPAwDONUuBmVbHI1ANA7hBsAHrurT+pQTaMiwqzKz2UwMYDgRLgB4PHmzqOSpPzcJEVF2EyuBgB6h3ADwIPxNgBCAeEGgCTpZFOLyncfkyR9eTThBkDwItwAkCT9c/sROV1uDU8epJGpMWaXAwC9RrgBIEn6+0eVkqSLx6ez5AKAoEa4AaDGZpfe2HFEUmu4AYBgRrgBoLd2Vqve6VJWQpQmZMWbXQ4A9AnhBoDWtnVJFZ1NlxSA4Ee4AQY4Z4tbr2+rkkSXFIDQQLgBBrg3dhyRo7FFKbF2TRmWaHY5ANBnhBtggHvu/QOSpMsnZ8lmpUsKQPAj3AADWHVtk2eW1LemDDG5GgDwDcINMIC9tPWgXG5Dk7ITNDIt1uxyAMAnCDfAAGUYhp7f1NolRasNgFBCuAEGqI8OOrS9slYRYVZ9fWKm2eUAgM8QboAB6qnyvZJar20THx1uai0A4EuEG2AAOlLbqJe3HpIkXTMjx9xiAMDHCDfAAPTH8n1yutw6Z2iCJg/l2jYAQgvhBhhgGptd+uOGCknSdecNN7kaAPA9wg0wwPx180Edr3NqSGKUZo5LM7scAPA5wg0wgDS1uLTijV2SpPkzchVm4y0AQOjhnQ0YQJ7ZuF8HTzQoNdau70wbanY5AOAXhBtggKh3tuiRf7a22vzwopGKirCZXBEA+AfhBhggnnhnr46ebNLQpGjNOTfb7HIAwG8IN8AAUFnTqN+s2y1JKv7KKIUz1gZACOMdDhgA7v6/j3WyqUV52Qn6+iSWWgAQ2gg3QIh7/ZMq/e2jSoVZLSq9fIKsVovZJQGAXxFugBDmaGxWyUsfSWq9YN/YjDiTKwIA/yPcACHKMAzd/pcPdKimUdlJUfrRRSPNLgkA+gXhBghRfyjfpzUfVircZtEjV57D1G8AAwbhBghBmys+132vbpMk3T5rrPKyE0yuCAD6D+EGCDG7q0/q2iffk9Pl1sxxabpmRo7ZJQFAvyLcACGkytGoub/fqM/rmzVxSLwenpMni4XZUQAGFsINECL2H6/X/zz2rg6eaFBu8iCtuvpcDbKHmV0WAPQ73vmAELCzqlZX/X6DqhxNykqI0h+umabkGLvZZQGAKQg3QJD724eH9ZPnP9DJphaNSovRH67JV3p8pNllAYBpCDdAkGpwuvTztdv15Pq9kqRpuUl67KopSoiOMLcwADAZ4QYIQm/urNbiFz9SxfF6SdL3vzxcP5k5WmEsiAkAhBsgmHx0sEbLXtupf24/IknKiI/Ufd8Yr/8ek2ZyZQAQOAg3QIAzDEP/+vSonlq/V2VtocZmtWhuwTDdOnO0YpgRBQAd8K4IBCDDMLS7+qRe/vdhvbz1oPYea+1+slik2RMzdXPhSA1PiTG5SgAITF120K9YsUI5OTmKjIxUfn6+Nm7ceNoDPffccxozZowiIyM1YcIErVmzxufFAqGsurZJf/vwsEpe+khfXrpOhcve0q/KPtXeY/WKsYfp6uk5er34y/rVlZMJNgBwGl5bblavXq3i4mKtXLlS+fn5Wr58uYqKirRjxw6lpqZ22n/9+vW68sorVVpaqq997Wt6+umnddlll2nz5s0aP368308CCCY1Dc068Hm9Pq06qe2VtdpR6dDOqpM6eKKhw37hNovOG5mir0/K1FfGpXFBPgDoJothGMYXN+bn5+vcc8/Vr3/9a0mS2+1Wdna2brrpJt1+++2dDjJnzhzV1dXplVde8Wz7r//6L+Xl5WnlypXdKsThcCg+Pl41NTWKi4vr7fkA/cblNtTQ7FKDs/VW52zRifpmnah36kRDsz6vd6qmvvXr0ZNOHfy8QYdONKi2qcXr8SwWaXRarM7NSdL5o1I0fcRgAg2AgBeIn9+d3jmdTqc2bdqkRYsWebZZrVYVFhaqvLzc60HKy8tVXFzcYVtRUZFefPHFLp+4qalJTU1NnvsOh6PHxXfH79/eo/1t02XPxEvOU+ctkpfd2vb18ngv+3bx8C6O631vr8f1+lw9eHwP6vJ63C7/Xbwds4u6uv38XTxXN19DGZLbMNTiNtTicqvFbcjlNtTiMtTidrdtb93W7HZ3+FmD06XGZrecLncXVZxZYnS4RqTEaHR6rMZkxGlMeqxGp8cqLjK818cEALTqFG6OHj0ql8ultLSOU0vT0tK0fft2rweprKz0un9lZWWXT1xaWqq77767NzX3yKsfHNLmihN+fx4MbFHhNkVH2JQQHa6E6AglRocrPqr1a0J0uAbH2JWZEKWshChlJkQqOoIWGQDwF9PeYRctWtShtcfhcCg7O9vnz/PNKUM0fURyp+1dLZTsdbOXnbtaZ9nbcS1e9u7J83e5bzdXe+76uXxfl7djnu643vft3r93z2rtvNVqtSjMapHNalG4zSKb1aqwtm1hbffD234eZrMozGqVzWpRVIRNUeFttwib7GFWVt4GgADSKdwkJyfLZrOpqqqqw/aqqiqlp6d7PUh6enqP9pcku90uu93/C/t9N3+Y358DAAAEjk5TwSMiIjRlyhSVlZV5trndbpWVlamgoMDrQQoKCjrsL0mvvfZal/sDAAD4i9duqeLiYs2bN09Tp07VtGnTtHz5ctXV1Wn+/PmSpLlz5yorK0ulpaWSpB/96Ef68pe/rIceekiXXHKJnnnmGb3//vt67LHH+u9MAAAA1EW4mTNnjqqrq1VSUqLKykrl5eVp7dq1nkHDFRUVslpPNfpMnz5dTz/9tH72s5/pjjvu0MiRI/Xiiy9yjRsAANDvvF7nxgyBOE8eAACcXiB+fne5/AIAAEAwItwAAICQQrgBAAAhhXADAABCCuEGAACEFMINAAAIKYQbAAAQUgg3AAAgpBBuAABASPG6/IIZ2i+U7HA4TK4EAAB0V/vndoAseCApgMJNbW2tJCk7O9vkSgAAQE/V1tYqPj7e7DIkBdDaUm63W4cOHVJsbKwsFovPjutwOJSdna39+/cHzJoXvhbq58j5Bb9QP0fOL/iF+jn68/wMw1Btba0yMzM7LKptpoBpubFarRoyZIjfjh8XFxeS/2H/U6ifI+cX/EL9HDm/4Bfq5+iv8wuUFpt2gRGxAAAAfIRwAwAAQortrrvuusvsIvzNZrPpggsuUFhYwPTC+VyonyPnF/xC/Rw5v+AX6ucY6uf3nwJmQDEAAIAv0C0FAABCCuEGAACEFMINAAAIKYQbAAAQUkI23Ozdu1fXXnutcnNzFRUVpREjRmjJkiVyOp0d9vvggw903nnnKTIyUtnZ2XrwwQdNqrjn7rvvPk2fPl3R0dFKSEjwuo/FYul0e+aZZ/q50t7rzjlWVFTokksuUXR0tFJTU/WTn/xELS0t/Vyp7+Tk5HR6zR544AGzy+q1FStWKCcnR5GRkcrPz9fGjRvNLsln7rrrrk6v1ZgxY8wuq9feeustzZ49W5mZmbJYLHrxxRc7/NwwDJWUlCgjI0NRUVEqLCzUp59+alK1vXOmc7z66qs7vaYXX3yxSdX2TGlpqc4991zFxsYqNTVVl112mXbs2NFhn8bGRi1cuFCDBw9WTEyMvvnNb6qqqsqkiv0nZMPN9u3b5Xa79dvf/lYff/yxHn74Ya1cuVJ33HGHZx+Hw6GZM2dq2LBh2rRpk5YuXaq77rpLjz32mImVd5/T6dQVV1yhG2644bT7PfHEEzp8+LDndtlll/VThX13pnN0uVy65JJL5HQ6tX79ej311FN68sknVVJS0s+V+tY999zT4TW76aabzC6pV1avXq3i4mItWbJEmzdv1qRJk1RUVKQjR46YXZrPnH322R1eq7ffftvsknqtrq5OkyZN0ooVK7z+/MEHH9SvfvUrrVy5Uhs2bNCgQYNUVFSkxsbGfq609850jpJ08cUXd3hN//znP/djhb335ptvauHChXr33Xf12muvqbm5WTNnzlRdXZ1nn1tuuUX/93//p+eee05vvvmmDh06pMsvv9zEqv3EGEAefPBBIzc313P/0UcfNRITE42mpibPtttuu80YPXq0GeX12hNPPGHEx8d7/Zkk44UXXujninyvq3Ncs2aNYbVajcrKSs+23/zmN0ZcXFyH1zWYDBs2zHj44YfNLsMnpk2bZixcuNBz3+VyGZmZmUZpaamJVfnOkiVLjEmTJpldhl988b3D7XYb6enpxtKlSz3bTpw4YdjtduPPf/6zGSX2mbf3x3nz5hmXXnqpSRX51pEjRwxJxptvvmkYRuvrFR4ebjz33HOefbZt22ZIMsrLy80q0y9CtuXGm5qaGiUlJXnul5eX6/zzz1dERIRnW1FRkXbs2KHPP//cjBL9YuHChUpOTta0adO0atWqgFqWvq/Ky8s1YcIEpaWlebYVFRXJ4XDo448/NrGyvnnggQc0ePBgTZ48WUuXLg3Kbjan06lNmzapsLDQs81qtaqwsFDl5eUmVuZbn376qTIzMzV8+HB997vfVUVFhdkl+cWePXtUWVnZ4fWMj49Xfn5+SL2ekrRu3TqlpqZq9OjRuuGGG3Ts2DGzS+qVmpoaSfJ87m3atEnNzc0dXsMxY8Zo6NChIfcahv5lCtvs2rVLjzzyiH7xi194tlVWVio3N7fDfu0fkpWVlUpMTOzXGv3hnnvu0X//938rOjpa//jHP3TjjTfq5MmT+uEPf2h2aT5RWVnZIdhIHV/DYPTDH/5Q55xzjpKSkrR+/XotWrRIhw8f1rJly8wurUeOHj0ql8vl9fXZvn27SVX5Vn5+vp588kmNHj1ahw8f1t13363zzjtPH330kWJjY80uz6faf5+8vZ7B+rvmzcUXX6zLL79cubm52r17t+644w7NmjVL5eXlstlsZpfXbW63WzfffLNmzJih8ePHS2p9DSMiIjqNXwy111AKwjE3t99+u9dBsv95++Ib58GDB3XxxRfriiuu0PXXX29S5d3Tm/M7ncWLF2vGjBmaPHmybrvtNv30pz/V0qVL/XgGZ+brcwwGPTnn4uJiXXDBBZo4caIWLFighx56SI888oiamppMPgt80axZs3TFFVdo4sSJKioq0po1a3TixAk9++yzZpeGXvqf//kfff3rX9eECRN02WWX6ZVXXtF7772ndevWmV1ajyxcuFAfffRRUE0g8aWga7m59dZbdfXVV592n+HDh3u+P3TokC688EJNnz6900Dh9PT0TqPE2++np6f7puAe6un59VR+fr7uvfdeNTU1yW639/o4feHLc0xPT+80+8bs19Cbvpxzfn6+WlpatHfvXo0ePdoP1flHcnKybDab19+xQHptfCkhIUGjRo3Srl27zC7F59pfs6qqKmVkZHi2V1VVKS8vz6yy/G748OFKTk7Wrl27dNFFF5ldTrf84Ac/0CuvvKK33npLQ4YM8WxPT0+X0+nUiRMnOrTehOLvZNCFm5SUFKWkpHRr34MHD+rCCy/UlClT9MQTT8hq7dhQVVBQoDvvvFPNzc0KDw+XJL322msaPXq0aV1SPTm/3ti6dasSExNNCzaSb8+xoKBA9913n44cOaLU1FRJra9hXFycxo0b55Pn8IW+nPPWrVtltVo95xcsIiIiNGXKFJWVlXlm6LndbpWVlekHP/iBydX5x8mTJ7V7925dddVVZpfic7m5uUpPT1dZWZknzDgcDm3YsOGMMzaD2YEDB3Ts2LEOgS5QGYahm266SS+88ILWrVvXadjFlClTFB4errKyMn3zm9+UJO3YsUMVFRUqKCgwo2T/MXtEs78cOHDAOOuss4yLLrrIOHDggHH48GHPrd2JEyeMtLQ046qrrjI++ugj45lnnjGio6ON3/72tyZW3n379u0ztmzZYtx9991GTEyMsWXLFmPLli1GbW2tYRiG8fLLLxuPP/648eGHHxqffvqp8eijjxrR0dFGSUmJyZV335nOsaWlxRg/frwxc+ZMY+vWrcbatWuNlJQUY9GiRSZX3jvr1683Hn74YWPr1q3G7t27jT/+8Y9GSkqKMXfuXLNL65VnnnnGsNvtxpNPPml88sknxve+9z0jISGhw+y2YHbrrbca69atM/bs2WO88847RmFhoZGcnGwcOXLE7NJ6pba21vM7JslYtmyZsWXLFmPfvn2GYRjGAw88YCQkJBgvvfSS8cEHHxiXXnqpkZubazQ0NJhcefed7hxra2uNH//4x0Z5ebmxZ88e4/XXXzfOOeccY+TIkUZjY6PZpZ/RDTfcYMTHxxvr1q3r8JlXX1/v2WfBggXG0KFDjX/+85/G+++/bxQUFBgFBQUmVu0fIRtunnjiCUOS19t/+ve//2186UtfMux2u5GVlWU88MADJlXcc/PmzfN6fm+88YZhGIbxt7/9zcjLyzNiYmKMQYMGGZMmTTJWrlxpuFwucwvvgTOdo2EYxt69e41Zs2YZUVFRRnJysnHrrbcazc3N5hXdB5s2bTLy8/ON+Ph4IzIy0hg7dqxx//33B8Uba1ceeeQRY+jQoUZERIQxbdo049133zW7JJ+ZM2eOkZGRYURERBhZWVnGnDlzjF27dpldVq+98cYbXn/f5s2bZxhG63TwxYsXG2lpaYbdbjcuuugiY8eOHeYW3UOnO8f6+npj5syZRkpKihEeHm4MGzbMuP7664MmjHf1mffEE0949mloaDBuvPFGIzEx0YiOjja+8Y1vdPijP1RYDCOE5gUDAIABL+hmSwEAAJwO4QYAAIQUwg0AAAgphBsAABBSCDcAACCkEG4AAEBIIdwAAICQQrgBAAAhhXADAABCCuEGAACEFMINAAAIKYQbAAAQUv4fqiKcqepbGOAAAAAASUVORK5CYII=)\n",
        "</center>\n",
        "<br>\n",
        "<br>\n"
      ]
    },
    {
      "cell_type": "markdown",
      "metadata": {
        "id": "yAWfZN-7oadX"
      },
      "source": [
        "**Cross entropy loss function**: **Fonction de perte d'entropie croisée**\n",
        "\n",
        "Vu que pour la classification binaire nous ne pouvons qu'avoir deux valeurs de sortie, la fonciton de l'erreur moyenne quadratique n''est pas appropriée pour la régression logistique. La fonction la plus utilisée est **la fonction de perte d'entropie croisée**. Elle est défine de la façon suivante:\n",
        "\n",
        "\n",
        "<br>\n",
        "<center>\n",
        "\n",
        " $$ -y_i \\log(p_i) - (1-y_i) \\log (1-p_i),$$\n",
        "\n",
        "</center>\n",
        "where $p_i = \\sigma (z)$ with $z$ being the output of our model function.\n",
        "<br>\n",
        "\n",
        "**Tâche**:\n",
        "\n",
        "1. Implementer la fonction d'activation sigmoïde.\n",
        "2. Implementer la fonction de coût d'entropie croisée.\n"
      ]
    },
    {
      "cell_type": "code",
      "execution_count": null,
      "metadata": {
        "id": "J9CiEUERAHJ4"
      },
      "outputs": [],
      "source": [
        "def sigmoid(x):\n",
        "    \"\"\"sigmoid function 1/1+e^-x\"\"\"\n",
        "\n",
        "    prob = ... # update me\n",
        "\n",
        "    return prob"
      ]
    },
    {
      "cell_type": "code",
      "execution_count": null,
      "metadata": {
        "cellView": "form",
        "id": "YzKHb9DEAaMI"
      },
      "outputs": [],
      "source": [
        "# @title Executez cette cellule pour tester votre code\n",
        "def test_sigmoid_fn():\n",
        "  x  = np.array([0.7, 0.3, 0.8, 0.2])\n",
        "  assert jnp.allclose(sigmoid(x), jax.nn.sigmoid(x)), \"Test failed!\"\n",
        "  print(\"Nice! Your answer looks correct!\")\n",
        "\n",
        "  return"
      ]
    },
    {
      "cell_type": "code",
      "execution_count": null,
      "metadata": {
        "cellView": "form",
        "id": "t75OVB1oBZOZ"
      },
      "outputs": [],
      "source": [
        "# @title Solution fonction sigmoïde (Essayez de ne pas tricher avant d'avoir fait de sérieux efforts !)\n",
        "def sigmoid(x):\n",
        "  prob = 1/(1+jnp.exp(-x))\n",
        "\n",
        "  return prob"
      ]
    },
    {
      "cell_type": "code",
      "execution_count": null,
      "metadata": {
        "id": "f-YTxxNnuOKI"
      },
      "outputs": [],
      "source": [
        "def cross_entropy_loss(predictions, targets):\n",
        "    # you need to make sure we never have log of 0\n",
        "\n",
        "    # use sigmoid to compute the probs from the predicitions\n",
        "    probs = ... # update me\n",
        "\n",
        "    # your code here\n",
        "    loss = ... # update me\n",
        "\n",
        "    return loss"
      ]
    },
    {
      "cell_type": "code",
      "execution_count": null,
      "metadata": {
        "id": "WUW87CN4u9sG"
      },
      "outputs": [],
      "source": [
        "# @title Executez cette cellule pour tester votre code\n",
        "def test_cross_entropy_loss():\n",
        "  predictions = np.array([0.7, 0.3, 0.8, 0.2])\n",
        "  targets = np.array([1, 0, 1, 0])\n",
        "\n",
        "  # Expected cross-entropy loss for the test data\n",
        "  expected_loss = 0.60669523\n",
        "\n",
        "  # Calculate the cross-entropy loss using the implemented function\n",
        "  computed_loss = cross_entropy_loss(predictions, targets)\n",
        "\n",
        "  assert jnp.isclose(computed_loss, expected_loss), \"Test failed!\"\n",
        "\n",
        "  # If the assert statement does not raise an exception, the test is passed.\n",
        "  print(\"Nice! Your anwser looks correct\")\n",
        "\n",
        "  return\n",
        "\n",
        "test_cross_entropy_loss()"
      ]
    },
    {
      "cell_type": "code",
      "execution_count": null,
      "metadata": {
        "id": "Y0VbBhG_u_UL"
      },
      "outputs": [],
      "source": [
        "# @title Solution fonction de perte d'entropie croisée (Essayez de ne pas tricher avant d'avoir fait de sérieux efforts!)\n",
        "def cross_entropy_loss(preds, targets):\n",
        "    eps = 1e-15\n",
        "    probs = sigmoid(preds)\n",
        "\n",
        "    loss = -targets*jnp.log(probs+eps) - (1-targets)*jnp.log(1-probs+eps)\n",
        "\n",
        "    return jnp.mean(loss)"
      ]
    },
    {
      "cell_type": "markdown",
      "metadata": {
        "id": "HjQNjDC2cG2t"
      },
      "source": [
        "#### Extension à la multi-classification"
      ]
    },
    {
      "cell_type": "markdown",
      "metadata": {
        "id": "Dlr8evx-dCoE"
      },
      "source": [
        "Avec la multi-classification, le modèle est construit de façon à supporter plusieur classes. Avec chaque classe qui répresente une categorie ou une étiquette. Par example, dans le cas d'une classification des nombres, nous avons 10 classes, chaque classe répresente un nombre de 0 à 9.\n",
        "\n",
        "La sortie du modèle est la distribution de probabilité pour chaque classe. La dimension de notre sortie correspond donc nombre de classes. Par example un classificateur avec 3 classes aura un vecteur à 3 dimensions.\n",
        "Pour prédire le modèle, on selectionne la classe avec la plus grande probablilité."
      ]
    },
    {
      "cell_type": "markdown",
      "metadata": {
        "id": "BqLug2dpf8Zn"
      },
      "source": [
        "**Encodage One-hot: or one-hot encoding**\n",
        "\n",
        "L'encodage one-hot est une façon de répresenter les variables catégoriques comme des vecteurs binaries. Dans le cas d'une classification binaire avec 3 classes, notre sortie est representée comme un vecteur one-hot de la manière suivante.\n",
        "\n",
        "**classe 1** [1, 0, 0]: ceci veut dire que notre donnée appartient à la premiere classe. Le premier élement du vecteur est 1 et les autres zeros.\n",
        "\n",
        "\n",
        "**classe 2** [0, 1, 0]: ceci veut dire que notre donnée appartient à la deuxieme classe. Le deuxieme élement du vecteur est 1 et les autres zeros.\n",
        "\n",
        "**classe 3** [0, 0, 1]: ceci veut dire que notre donnée appartient à la troisieme classe. Le troisieme élement du vecteur est 1 et les autres zeros.\n",
        "\n",
        "__Exercice__ discuter comment on défine la fonction de coût pour la multi-classification.\n",
        "\n",
        "\n",
        "La fonction de coût pour une multi-classification est définie de la même manière que la fonction pour un classificateur binaire. Par contre pour ce cas nous définissons la fonction de coût comme la somme de coût pour chaque classe pris séparement...\n",
        "\n",
        "On peut utiliser la fonction `jax.nn.one_hot` pour encoder les données.\n"
      ]
    },
    {
      "cell_type": "code",
      "execution_count": null,
      "metadata": {
        "id": "u_-jrxWPjVzf"
      },
      "outputs": [],
      "source": [
        "# An example using one hot encoding\n",
        "num_classes =  3\n",
        "targets = jnp.array([2, 0, 1])\n",
        "one_hot_targets = jax.nn.one_hot(targets, num_classes)\n",
        "print(f\"Example of One hot encordings: {one_hot_targets}\")"
      ]
    },
    {
      "cell_type": "markdown",
      "metadata": {
        "id": "ckIDzLRgj7_b"
      },
      "source": [
        "<!-- **Exercise**: Discuss with your neighbour how we should define the loss function in the case of multi-class classification. -->\n",
        "\n",
        "**Exercice**: Discutez avec votre voisin de la manière dont nous devrions définir la fonction de perte dans le cas d'une classification multi-classes"
      ]
    },
    {
      "cell_type": "markdown",
      "metadata": {
        "id": "HMrwPge_lzVt"
      },
      "source": [
        "<!--**Solution**: The loss function for a multi-classification is computed similarly to that of a binary classifier. However in this case we define the loss as the sum of the loss for each of the individual classes.-->\n",
        "**Solution**: La fonction de perte pour une multi-classification est calculée de la même manière que celle d'un classificateur binaire. Cependant, dans ce cas, nous définissons la perte comme la somme des pertes pour chacune des classes individuelles.\n",
        "<br>\n",
        "<center>\n",
        "\n",
        " $$ \\sum_c -y^c_i \\log(p^c_i),$$\n",
        "\n",
        "</center>\n",
        "\n",
        "where $p^c_i = \\text{softmax}(z) = \\frac{e^{z^c_i}}{\\sum_c e^{z^c_i}}$ with $z$ being the output of our model function.\n",
        "\n",
        "<br>\n",
        "<!--The main difference here is that we use a $\\text{softmax}$ activation function instead of $\\text{sigmoid}$ as for the binary case.-->\n",
        "La principale difference ici est l'utilisation de la fonction d'activation $\\text{softmax}$ au lieu de la fonction d'activation sigmoïde utilisée pour la classification binaire\n",
        "\n",
        "\n",
        "**Exercise 3 [OPTIONAL]**: Avez-vous une intuition que cette formule est similaire à celle de la classification binaire ? <!--Do your get the initution why this formula is similar to that for the binary case?-->\n",
        "\n",
        "**Solution**: Défilez jusqu'à l' [Appendix](#scrollTo=fRYbQvz01Zlm)."
      ]
    },
    {
      "cell_type": "markdown",
      "metadata": {
        "id": "2QnINsMrpTYP"
      },
      "source": [
        "**Tâche**:\n",
        "  1. Implémenter la fonction d'activation softmax <!--the softmax activation function-->\n",
        "  2. Implémenter une fonction de perte d'entropie croisée pour la classification multiclasse utilisant softmax et un codage \"one-hot\"."
      ]
    },
    {
      "cell_type": "code",
      "execution_count": null,
      "metadata": {
        "id": "4DWDGiKZpRX0"
      },
      "outputs": [],
      "source": [
        "def softmax(logits):\n",
        "  \"\"\"Compute softmax: `exp(x)/sum(exp(x))`\n",
        "\n",
        "  Args:\n",
        "    logits: array of shape (num_samples, num_classes)\n",
        "\n",
        "  Return:\n",
        "    probs: array of shape (num_samples, num_classes)\n",
        "  \"\"\"\n",
        "\n",
        "  # your code here\n",
        "  # make sure you sum across the right axis\n",
        "\n",
        "  probs = ... # update me\n",
        "\n",
        "  return probs"
      ]
    },
    {
      "cell_type": "code",
      "execution_count": null,
      "metadata": {
        "colab": {
          "background_save": true
        },
        "id": "UlBBgQafDsHQ",
        "outputId": "9eb38583-c3e3-4442-b080-e6d2a8190e87"
      },
      "outputs": [
        {
          "name": "stdout",
          "output_type": "stream",
          "text": [
            "Nice! Your answer looks correct.\n"
          ]
        }
      ],
      "source": [
        "# @title Executez cette cellule pour tester votre code\n",
        "def test_softmax():\n",
        "  x = jnp.array([[1.0, 0.4, 0.3], [10.0, 4.6, 8.9]])\n",
        "  assert jnp.allclose(softmax(x), jax.nn.softmax(x, axis=-1))\n",
        "  print(\"Nice! Your answer looks correct.\")\n",
        "\n",
        "test_softmax()"
      ]
    },
    {
      "cell_type": "code",
      "execution_count": null,
      "metadata": {
        "id": "5KKM6hKnxFSK"
      },
      "outputs": [],
      "source": [
        "# @title softmax solution (Essayez de ne pas tricher avant d'avoir fait de sérieux efforts !)\n",
        "def softmax(logits):\n",
        "  exp_logits = jnp.exp(logits)\n",
        "  return exp_logits / jnp.sum(exp_logits, axis=-1, keepdims=True)"
      ]
    },
    {
      "cell_type": "code",
      "execution_count": null,
      "metadata": {
        "id": "WIVjt6T4xTQX"
      },
      "outputs": [],
      "source": [
        "def cross_entropy_softmax_loss(predictions, targets):\n",
        "    \"\"\"Compute the cross entropy softmax loss function\n",
        "\n",
        "      Args:\n",
        "        predictions: (num_samples, num_classes)\n",
        "        targets: (num_samples)\n",
        "    \"\"\"\n",
        "\n",
        "    # Compute the softmax probabilities\n",
        "    probs = ... # update me\n",
        "\n",
        "    num_classes = ... # update me\n",
        "\n",
        "    # One-hot encode the targets\n",
        "    targets_one_hot = ... # update me\n",
        "\n",
        "    # Compute the cross-entropy loss\n",
        "    eps = 1e-15\n",
        "    probs += eps # to avoid calling log with 0 values\n",
        "\n",
        "    loss = ... # update me\n",
        "\n",
        "    return loss"
      ]
    },
    {
      "cell_type": "code",
      "execution_count": null,
      "metadata": {
        "id": "8Tsbe8OazNq5"
      },
      "outputs": [],
      "source": [
        "# @title Executez cette cellule pour tester votre code\n",
        "def test_cross_entropy_softmax_loss():\n",
        "  # Fixed predictions (logits) for each class\n",
        "  predictions = jnp.array([[1.5, 0.3, 2.7],\n",
        "        [0.8, 1.2, 3.1], [2.3, 1.7, 0.5],\n",
        "        [3.0, 0.5, 1.2], [0.2, 2.8, 1.0]])\n",
        "\n",
        "  # Fixed true class labels\n",
        "  targets = jnp.array([2, 1, 0, 0, 2])\n",
        "\n",
        "  # Expected loss computed manually\n",
        "  expected_loss = 1.0456787\n",
        "\n",
        "  # Compute the cross-entropy softmax loss using your implementation\n",
        "  loss = cross_entropy_softmax_loss(predictions, targets)\n",
        "\n",
        "  # Check if the computed loss matches the JAX built-in loss\n",
        "  assert jnp.allclose(loss, expected_loss), \"Loss value do not match!\"\n",
        "\n",
        "  print(\"Nice! Your answer looks correct.\")\n",
        "\n",
        "test_cross_entropy_softmax_loss()"
      ]
    },
    {
      "cell_type": "code",
      "execution_count": null,
      "metadata": {
        "id": "WG5z8vOjfYiU"
      },
      "outputs": [],
      "source": [
        "# @title Solution: softmax à entropie croisée (Essayez de ne pas tricher avant d'avoir fait de sérieux efforts!)\n",
        "def cross_entropy_softmax_loss(predictions, targets):\n",
        "    \"\"\"Compute the cross entropy softmax loss function\n",
        "\n",
        "      Args:\n",
        "        predictions: (num_samples, num_classes)\n",
        "        targets: (num_samples)\n",
        "    \"\"\"\n",
        "\n",
        "    # Compute the softmax probabilities\n",
        "    probs = softmax(predictions) # update me\n",
        "\n",
        "    num_classes = predictions.shape[-1]\n",
        "\n",
        "    # One-hot encode the targets\n",
        "    targets_one_hot = jax.nn.one_hot(targets, num_classes) # update me\n",
        "\n",
        "    # Compute the cross-entropy loss\n",
        "    eps = 1e-15\n",
        "    probs += eps # to avoid calling log with 0 values\n",
        "\n",
        "    loss_i = jnp.sum(-targets_one_hot*jnp.log(probs), axis=-1) # update me\n",
        "\n",
        "    return jnp.mean(loss_i)"
      ]
    },
    {
      "cell_type": "markdown",
      "metadata": {
        "id": "EcXXE56hPOhK"
      },
      "source": [
        "#### Simple réseau de neurones pour la classification\n",
        "\n",
        "Dans cette section nous allons mettre en place toutes les différentes pièces et entrainer notre résau de neurones pour la classification. Rappelons les outils que nous avons mentionner initialement qui sont necessaire pour entrainer un modèle d'apprentissage automatique.\n",
        "\n",
        "- Nos donnée d'apprentissage ou dataset.\n",
        "- La fonction du modèle\n",
        "- la fonction de coût\n",
        "- et la fonction d'optimisation\n",
        "Nous allons utiliser `sklearn`, nous n'allons pas discuter le traitement des données (data processing) mais en pratique nous le faisons avant.\n"
      ]
    },
    {
      "cell_type": "code",
      "execution_count": null,
      "metadata": {
        "colab": {
          "background_save": true
        },
        "id": "II8gN_lTKoQI"
      },
      "outputs": [],
      "source": [
        "from sklearn import datasets\n",
        "from sklearn.model_selection import train_test_split\n",
        "from sklearn.preprocessing import MinMaxScaler\n",
        "\n",
        "import jax\n",
        "import jax.numpy as jnp\n",
        "from typing import NamedTuple, Any\n",
        "\n",
        "import matplotlib.pyplot as plt\n",
        "import numpy as np\n",
        "\n",
        "# Let re-adapt our batch gradient descent function\n",
        "def batch_gradient_descent(loss_fn, params, training_data, val_data, learning_rate=0.01, num_epochs=20, batch_size=10):\n",
        "  \"\"\"Batch gradient descent basic jax implementation.\n",
        "\n",
        "  Args:\n",
        "    loss_fn\n",
        "      the loss function for our model.\n",
        "    params:\n",
        "      the initial parameters of the model.\n",
        "    training_data\n",
        "      a tuple with the features and targets for training.\n",
        "    val_data\n",
        "      a tuple with the features and targets for validation.\n",
        "    learning_rate\n",
        "      learning rate\n",
        "    num_epochs\n",
        "      number of epochs\n",
        "    batch_size:\n",
        "      size of every mini batch\n",
        "  \"\"\"\n",
        "\n",
        "  X_train, y_train = training_data\n",
        "  X_val, y_val = val_data\n",
        "\n",
        "  num_samples, num_features = X_train.shape\n",
        "\n",
        "  # Create empty list to store the training and validation loss.\n",
        "  loss_train = [] # training loss\n",
        "  loss_val  = [] # valisation loss\n",
        "\n",
        "  # Define a function that computes loss and gradients\n",
        "  loss_and_grad = jax.value_and_grad(loss_fn)\n",
        "\n",
        "  for epoch in range(num_epochs):\n",
        "    # Shuffle the data before every epoch\n",
        "    shuffled_indices = np.arange(num_samples)\n",
        "    np.random.shuffle(shuffled_indices)\n",
        "\n",
        "    loss_train_epoch = []\n",
        "\n",
        "    for start_idx in range(0, num_samples, batch_size):\n",
        "      end_idx = start_idx + batch_size\n",
        "      if end_idx > num_samples:\n",
        "        end_idx = num_samples\n",
        "\n",
        "      batch_indices = shuffled_indices[start_idx:end_idx]\n",
        "      X_batch = X_train[batch_indices]\n",
        "      y_batch = y_train[batch_indices]\n",
        "      # Compute loss and gradients using value_and_grad\n",
        "      loss, grads = loss_and_grad(params, X_batch, y_batch)\n",
        "      loss_train_epoch.append(loss)\n",
        "\n",
        "      # Update the parameters\n",
        "      params = jax.tree_map(lambda p, g: p -learning_rate*g, params, grads)\n",
        "\n",
        "    # We need to turn the list in to an array before applying jnp.mean\n",
        "    mean_loss = jnp.mean(jnp.array(loss_train_epoch))\n",
        "    loss_train.append(mean_loss)\n",
        "\n",
        "    # Compute the validation loss at the end of the epoch\n",
        "    loss_v = loss_fn(params, X_val, y_val)\n",
        "    loss_val.append(loss_v)\n",
        "\n",
        "  # Plot training and validation loss\n",
        "  epochs = range(1, num_epochs+1)\n",
        "  plt.plot(epochs, loss_train, label='Training Loss')\n",
        "  plt.plot(epochs, loss_val, label='Validation Loss')\n",
        "  plt.xlabel('Epoch')\n",
        "  plt.ylabel('Loss')\n",
        "  plt.title('Training and Validation Loss')\n",
        "  plt.legend()\n",
        "\n",
        "  # Display the plot\n",
        "  plt.show()\n",
        "\n",
        "  return params\n",
        "\n",
        "# Load the mnist dataset\n",
        "def load_dataset(seed):\n",
        "  mnist = fetch_openml(name='mnist_784', version=1, as_frame=False)\n",
        "  # Extract the data and labels\n",
        "  images, labels = mnist.data, mnist.target\n",
        "\n",
        "  # These images consist of integer values from 0 to 255.0\n",
        "  # We scale the images to min and max of 1\n",
        "  x_max = 255.0\n",
        "  x_min = 0.0\n",
        "\n",
        "  images = (images - x_min)/(x_max - x_min)\n",
        "  images = images.astype(jnp.float32)\n",
        "  labels = labels.astype(jnp.float32)\n",
        "\n",
        "  # These are images of shape 28x28 which have been flatten to shape 784\n",
        "  X_train, X_test, y_train, y_test = train_test_split(\n",
        "      images, labels, test_size=0.2, train_size=0.8, random_state=seed\n",
        "  )\n",
        "\n",
        "  train_dataset = (X_train, y_train)\n",
        "  test_dataset = (X_test, y_test)\n",
        "\n",
        "  return train_dataset, test_dataset\n",
        "\n",
        "training_data, val_data = load_dataset(32)"
      ]
    },
    {
      "cell_type": "markdown",
      "metadata": {
        "id": "fcJMGW7HWkWI"
      },
      "source": [
        "**Tâche:**\n",
        "1. Construisez un réseau de neurones qui génère des logits pour chacune des 10 classes. <!--Build a neural network that outputs logits for each of the 10 classes.-->\n",
        "2. Initialisez votre modèle avec des entrées factice. <!--Initialise your model with some dummy input.-->\n",
        "3. Définissez votre fonction d'entropie croisée softmax. <!--Define your softmax cross entropy function.-->"
      ]
    },
    {
      "cell_type": "code",
      "execution_count": null,
      "metadata": {
        "id": "DBOzpb2YXzvR"
      },
      "outputs": [],
      "source": [
        "# @title Completez le code\n",
        "class Network(nn.Module):\n",
        "  hidden_size: int\n",
        "  output_size: int\n",
        "\n",
        "  @nn.compact\n",
        "  def __call__(self, x):\n",
        "    # First layer with ReLU activation\n",
        "    x = nn.Dense(self.hidden_size)(x)\n",
        "    x = jax.nn.relu(x)\n",
        "\n",
        "    # Second layer\n",
        "    x = ...  # update me\n",
        "    x = ...  # update me\n",
        "\n",
        "    # Third (output) layer with no activation applied\n",
        "    x = nn.Dense(self.output_size)(x)\n",
        "\n",
        "    return x\n",
        "\n",
        "# transform and intialiase the model.\n",
        "seed = 32\n",
        "input_size = 784 # remember our features are images of shape 28x28 flatten\n",
        "hidden_size = ... # update me\n",
        "output_size = ... # update me (hint: number classes)\n",
        "\n",
        "# instantiate the model\n",
        "model = Network... # update me\n",
        "\n",
        "key = jax.random.PRNGKey(seed)\n",
        "dummy = jnp.zeros((1, input_size), dtype=float)\n",
        "initial_params = model.init(key, dummy)\n",
        "\n",
        "def softmax(logits):\n",
        "  exp_logits = jnp.exp(logits)\n",
        "  return exp_logits / jnp.sum(exp_logits, axis=-1, keepdims=True)\n",
        "\n",
        "\n",
        "def cross_entropy_softmax_loss(params, X, targets):\n",
        "    \"\"\"Compute the cross entropy softmax loss function\n",
        "\n",
        "      Args:\n",
        "        params: model parameters\n",
        "        X: features arrary (num_samples, num_features)\n",
        "        targets: (num_samples)\n",
        "    \"\"\"\n",
        "\n",
        "    # use the model to compute the predictions\n",
        "    preds = model.apply(params, X)\n",
        "\n",
        "    # Compute the softmax probabilities\n",
        "    probs = softmax(preds)\n",
        "\n",
        "    num_classes = preds.shape[-1]\n",
        "\n",
        "    # One-hot encode the targets\n",
        "    targets_one_hot = jax.nn.one_hot(targets, num_classes)\n",
        "\n",
        "    # Compute the cross-entropy loss\n",
        "    eps = 1e-15\n",
        "    probs += eps # to avoid calling log with 0 values\n",
        "\n",
        "    loss_i = jnp.sum(-targets_one_hot*jnp.log(probs), axis=-1)\n",
        "\n",
        "    return jnp.mean(loss_i)\n"
      ]
    },
    {
      "cell_type": "code",
      "execution_count": null,
      "metadata": {
        "id": "mBM7kwGjY4dr"
      },
      "outputs": [],
      "source": [
        "# @title Exemple de solution (Essayez de ne pas tricher avant d'avoir fait de sérieux efforts !)\n",
        "class Network(nn.Module):\n",
        "  hidden_size: int\n",
        "  output_size: int\n",
        "\n",
        "  @nn.compact\n",
        "  def __call__(self, x):\n",
        "    # First layer with ReLU activation\n",
        "    x = nn.Dense(self.hidden_size)(x)\n",
        "    x = jax.nn.relu(x)\n",
        "\n",
        "    # Second layer\n",
        "    x = nn.Dense(self.hidden_size)(x)\n",
        "    x = jax.nn.relu(x)\n",
        "\n",
        "    # Third (output) layer with no activation applied\n",
        "    x = nn.Dense(self.output_size)(x)\n",
        "\n",
        "    return x\n",
        "\n",
        "# transform and intialiase the model.\n",
        "seed = 67\n",
        "input_size = 784\n",
        "hidden_size = 100\n",
        "output_size = 10\n",
        "\n",
        "# Instantiate the model\n",
        "model = Network(hidden_size, output_size)\n",
        "\n",
        "key = jax.random.PRNGKey(seed)\n",
        "dummy = jnp.zeros((1, input_size), dtype=float)\n",
        "initial_params = model.init(key, dummy)\n",
        "\n",
        "def softmax(logits):\n",
        "  exp_logits = jnp.exp(logits)\n",
        "  return exp_logits / jnp.sum(exp_logits, axis=-1, keepdims=True)\n",
        "\n",
        "def cross_entropy_softmax_loss(params, X, targets):\n",
        "    \"\"\"Compute the cross entropy softmax loss function\n",
        "\n",
        "      Args:\n",
        "        params: model params\n",
        "        X: (num_features, num_classes)\n",
        "        targets: (num_samples)\n",
        "    \"\"\"\n",
        "\n",
        "    preds = model.apply(params, X)\n",
        "\n",
        "    # Compute the softmax probabilities\n",
        "    probs = softmax(preds)\n",
        "\n",
        "    num_classes = preds.shape[-1]\n",
        "\n",
        "    # One-hot encode the targets\n",
        "    targets_one_hot = jax.nn.one_hot(targets, num_classes)\n",
        "\n",
        "    # Compute the cross-entropy loss\n",
        "    eps = 1e-15\n",
        "    probs += eps # to avoid calling log with 0 values\n",
        "\n",
        "    loss_i = jnp.sum(-targets_one_hot*jnp.log(probs), axis=-1)\n",
        "\n",
        "    return jnp.mean(loss_i)\n"
      ]
    },
    {
      "cell_type": "markdown",
      "metadata": {
        "id": "GcSvlekHPWxW"
      },
      "source": [
        "#### Entraîner le modèle\n",
        "\n",
        "\n"
      ]
    },
    {
      "cell_type": "markdown",
      "metadata": {
        "id": "xed1mfr1cOzW"
      },
      "source": [
        "**Tâche:**\n",
        "  1. Utilisez la fonction `batch_gradient_descent` pour entraîner le modèle.\n",
        "  2. Variez le `learning_rate` et le `batch_size` et observez le changement de la fonction de perte."
      ]
    },
    {
      "cell_type": "code",
      "execution_count": null,
      "metadata": {
        "id": "lslWzLP0cciM"
      },
      "outputs": [],
      "source": [
        "params = batch_gradient_descent ... # update me"
      ]
    },
    {
      "cell_type": "code",
      "execution_count": null,
      "metadata": {
        "id": "WZGTHUrTdW2x"
      },
      "outputs": [],
      "source": [
        "# @title Exemple de solution (Essayez de ne pas tricher avant d'avoir fait de sérieux efforts !)\n",
        "params = batch_gradient_descent(cross_entropy_softmax_loss, initial_params, training_data, val_data, learning_rate=0.01, num_epochs=10, batch_size=1000)"
      ]
    },
    {
      "cell_type": "markdown",
      "metadata": {
        "id": "sGPvmGWkP1fT"
      },
      "source": [
        "#### Évaluation du modèle\n",
        "Jusqu'a présent nous n'avons vu qu'une seule méthode pour évaluer notre modèle: la fonction de coût.\n",
        "\n",
        "Par contre, lors de l'évaluation d'un modèle d'apprentissage automatique plusieurs méthodes peuvent être utiliser.  Les hyperparamètres sont selectionner en fonction de la métrique qu'on optimise. Voici quelques métriques que nous pouvons utilser pour nos tâches de classification.\n",
        "\n",
        "*   **Accuracy**:  c'est la métrique la plus importante pour les tâches de classification. Elle mésure la proportion des instances classifier correctment: $$ \\text{Accuracy} = \\frac{\\text{Nombre des prediction correctes}}{\\text{total nombres des predictions}}$$\n",
        "\n",
        "* **Precision**: c'est la mésure des prédictions positives, Par example si notre modèle prédit 100 points qui appartiennent à la classe 1, notre precision sera le pourcentage de ces 100 points qui appartiennent à la classe 1. Une grande précision est néccessaire pour un diagnostic des images. Nous ne voulons pas faire des précision inutiles qui pourons engendrer de traitement non neccessaire.\n",
        "\n",
        "* **Recall**: Il s'agit d'une mésure de la capacité du modèle à identifier de manière efficiente toutes les instances positives. Par exemple, si l'ensemble de données comporte 100 points de données appartenant à la classe 1, combien sont effectivement classifiés comme appartenant à la classe 1 ? Le rappel revêt une importance primordiale dans les scénarios où l'omission d'une seule instance positive n'est pas souhaitée. Prenons l'exemple d'une entreprise de sécurité : nous ne souhaitons pas attribuer à tort la classification \"sûr\" à un signal émis par un utilisateur alors qu'il est en réalité en situation de danger."
      ]
    },
    {
      "cell_type": "markdown",
      "metadata": {
        "id": "-0htEsSspFQN"
      },
      "source": [
        "<!--**Let's use accuracy to evaluate the performance of our trained classifier.**-->\n",
        "**Utilisons l'`accuracy` pour évaluer la performance du classificateur**\n",
        "\n",
        "Tout d'abord, définissons une fonction de prédiction qui transforme la sortie du modèle en classe. Rappelons que la sortie du classificateur est composée de logits, correspondant à des probabilités non normalisées pour chaque classe. Ainsi, la classe prédite est celle avec la probabilité la plus élevée.\n",
        "  \n",
        "\n",
        "**Tâche**\n",
        "  1. Implémentez une fonction appelée \"model_predict\" qui sélectionne la classe appropriée à partir de la sortie du modèle."
      ]
    },
    {
      "cell_type": "code",
      "execution_count": null,
      "metadata": {
        "id": "tWMMpYSDhAhE"
      },
      "outputs": [],
      "source": [
        "# @title Completez ce code\n",
        "def model_predict(params, X):\n",
        "    \"\"\"Use the model for predicition\n",
        "\n",
        "      args:\n",
        "        params: model parameters\n",
        "        X: features array (num_samples, num_features)\n",
        "\n",
        "      return\n",
        "        pred: predicted class (num_samples, 1)\n",
        "    \"\"\"\n",
        "\n",
        "    # call the model to compute the logits\n",
        "    logits = model... # update me\n",
        "    preds = ... # update me: hint use jnp.argmax\n",
        "\n",
        "    return preds"
      ]
    },
    {
      "cell_type": "code",
      "execution_count": null,
      "metadata": {
        "id": "3u3PzTGmxENi"
      },
      "outputs": [],
      "source": [
        "# @title Executez cette cellule pour tester votre code\n",
        "def test_model_predict():\n",
        "    features = val_data[0][0:10]\n",
        "    preds = model_predict(params, features)\n",
        "    expected = jnp.argmax(model.apply(params, features), axis=-1)\n",
        "    assert jnp.array_equal(preds, expected), \"Failed! try again\"\n",
        "    print(\"Nice! Your answer looks correct.\")\n",
        "\n",
        "test_model_predict()"
      ]
    },
    {
      "cell_type": "code",
      "execution_count": null,
      "metadata": {
        "id": "xhJbRdW8DsHS"
      },
      "outputs": [],
      "source": [
        "# @title Exemple de solution: model_predict (Essayez de ne pas tricher avant d'avoir fait de sérieux efforts!)\n",
        "def model_predict(params, X):\n",
        "    \"\"\"Use the model for predicition\n",
        "\n",
        "      args:\n",
        "        params: model parameters\n",
        "        X: features array (num_samples, num_features)\n",
        "\n",
        "      return\n",
        "        pred: predicted class (num_samples, 1)\n",
        "    \"\"\"\n",
        "\n",
        "    # call the model to compute the logits\n",
        "    logits = model.apply(params, X)\n",
        "    preds = jnp.argmax(logits, axis=-1)\n",
        "\n",
        "    return preds"
      ]
    },
    {
      "cell_type": "code",
      "execution_count": null,
      "metadata": {
        "id": "k-rRiOD2z5ks"
      },
      "outputs": [],
      "source": [
        "# @title Evaluez l'accuracy de votre modèle\n",
        "def compute_accuracy(data):\n",
        "  \"\"\"Compute the accuracy of the model\"\"\"\n",
        "\n",
        "  X, y_true = data\n",
        "  y_pred = model_predict(params, X).squeeze()\n",
        "\n",
        "  acc = sum(y_pred==y_true)/len(y_true)\n",
        "\n",
        "  return acc\n",
        "\n",
        "train_acc = compute_accuracy(training_data)\n",
        "val_acc = compute_accuracy(val_data)\n",
        "print(f\"The training accuracy is {train_acc} while the validation accuracy is {val_acc}\")"
      ]
    },
    {
      "cell_type": "markdown",
      "metadata": {
        "id": "r5-yxk9e19q4"
      },
      "source": [
        "\n",
        "\n",
        "Félicitations, nous venons d'entraîner un modèle d'apprentissage automatique pour la classification en utilisant le dataset populaire mnist digit.\n",
        "\n",
        "**Excercice**:\n",
        "- Etes-vous satisfait de la precision de votre modèle?\n",
        "- Que pouvez vous faire pour améliorer la précision de votre modèle?"
      ]
    },
    {
      "cell_type": "markdown",
      "metadata": {
        "id": "fV3YG7QOZD-B"
      },
      "source": [
        "\n",
        "\n",
        "## Resumé\n",
        "\n",
        "- L'apprentissage automatique est la science de l'utilisation des données pour construire des systèmes intelligents.\n",
        "- L'apprentissage profond est le sous-ensemble des méthodes d'apprentissage automatique qui utilise des réseaux de neurones.\n",
        "- L'optimisation est le procéssus de recherche des paramètres qui rendent la fonction de perte aussi petite que possible.\n",
        "- JAX est un nouveau framework populaire qui peut être utilisé pour calculer les dérivées et former des modèles d'apprentissage automatique.\n",
        "\n",
        "**Prochaines étapes:**\n",
        " - Participez à d'autres tutoriels comme Math for Machine Learning, pour lequel nous avons également une version française.\n",
        "\n",
        "**Références:**\n",
        "\n",
        "\n",
        "1. https://d2l.ai/chapter_linear-networks/linear-regression.html\n",
        "2. https://jax.readthedocs.io/en/latest/notebooks/quickstart.html\n",
        "3. https://www.simplilearn.com/tutorials/artificial-intelligence-tutorial/ai-vs-machine-learning-vs-deep-learning\n",
        "4. https://www.javatpoint.com/machine-learning\n",
        "5. Aurelien Genon, Hands-on Machine Learning with Scikit-Learn, Keras, and TensorFlow: Concepts, Tools, and Techniques to Build Intelligent Systems, 2nd Edition, O'Reilly Media, 2019."
      ]
    },
    {
      "cell_type": "markdown",
      "metadata": {
        "id": "742JhcnAxTof"
      },
      "source": [
        "### Appendix\n",
        "\n",
        "#### Base de JAX [OPTIONAL]\n",
        "\n",
        "Pendant ce tutoriel, nous avons utilisé le framework [JAX](https://jax.readthedocs.io/en/latest/) pour illustrer les différents concepts discutés. Jax est similaire à numpy mais il existe quelques differences qui doivent être mentionnés."
      ]
    },
    {
      "cell_type": "markdown",
      "metadata": {
        "id": "T221aJAVyjvj"
      },
      "source": [
        "Similarités entre JAX et Numpy"
      ]
    },
    {
      "cell_type": "code",
      "execution_count": null,
      "metadata": {
        "id": "Co610zXhygak"
      },
      "outputs": [],
      "source": [
        "# Create NumPy arrays\n",
        "np_array1 = np.array([1, 2, 3])\n",
        "np_array2 = np.array([4, 5, 6])\n",
        "\n",
        "# Create JAX arrays\n",
        "jax_array1 = jnp.array([1, 2, 3])\n",
        "jax_array2 = jnp.array([4, 5, 6])\n",
        "\n",
        "# Element-wise addition using NumPy\n",
        "np_result = np_array1 + np_array2\n",
        "print(\"NumPy result:\", np_result)\n",
        "\n",
        "# Element-wise addition using JAX\n",
        "jax_result = jax_array1 + jax_array2\n",
        "print(\"JAX result:\", jax_result)"
      ]
    },
    {
      "cell_type": "code",
      "execution_count": null,
      "metadata": {
        "id": "o5i-RM66zYz7"
      },
      "outputs": [],
      "source": [
        "# Array concatenation using NumPy\n",
        "np_array1 = np.array([1, 2, 3])\n",
        "np_array2 = np.array([4, 5, 6])\n",
        "np_concatenated = np.concatenate([np_array1, np_array2])\n",
        "\n",
        "# Array concatenation using JAX\n",
        "jax_array1 = jnp.array([1, 2, 3])\n",
        "jax_array2 = jnp.array([4, 5, 6])\n",
        "jax_concatenated = jnp.concatenate([jax_array1, jax_array2])"
      ]
    },
    {
      "cell_type": "code",
      "execution_count": null,
      "metadata": {
        "id": "fz73kSvDzojV"
      },
      "outputs": [],
      "source": [
        "# Element-wise functions using NumPy\n",
        "np_array = np.array([0, np.pi/2, np.pi])\n",
        "np_sin = np.sin(np_array)\n",
        "\n",
        "# Element-wise functions using JAX\n",
        "jax_array = jnp.array([0, jnp.pi/2, jnp.pi])\n",
        "jax_sin = jnp.sin(jax_array)"
      ]
    },
    {
      "cell_type": "code",
      "execution_count": null,
      "metadata": {
        "id": "yVj6HoN4z5KZ"
      },
      "outputs": [],
      "source": [
        "# Reduction operations using NumPy\n",
        "np_array = np.array([1, 2, 3])\n",
        "np_sum = np.sum(np_array)\n",
        "np_mean = np.mean(np_array)\n",
        "\n",
        "# Reduction operations using JAX\n",
        "jax_array = jnp.array([1, 2, 3])\n",
        "jax_sum = jnp.sum(jax_array)\n",
        "jax_mean = jnp.mean(jax_array)"
      ]
    },
    {
      "cell_type": "markdown",
      "metadata": {
        "id": "etSsvtmQz9L9"
      },
      "source": [
        "Différence entre JAX et NumPy - ❌\n",
        "\n",
        "Malgré leurs similarité JAX et NumPy ont d'importantes différences:\n",
        "- Les tableaux de Jax sont **immuable** (they can't be modified after they are created).\n",
        "- La la façon dont le hasard  est traité **randomness** -- JAX handles randomness explicitly.\n",
        "\n"
      ]
    },
    {
      "cell_type": "markdown",
      "metadata": {
        "id": "mgu5mHNZ1Esn"
      },
      "source": [
        "Les tableaux JAX sont immuable mais ceux de NumPy arrays ne le sont pas.\n",
        "\n",
        "Les tableaux JAX et NumPy sont souvent interchangeables, **mais** les tableaux Jax sont **immuables** (ils ne peuvent pas être modifiés après leur création).\n",
        "<!--JAX and NumPy arrays are often interchangeable, **but** Jax arrays are **immutable** (they can't be modified after they are created).-->\n",
        "L'autorisation des mutations rend les transformations difficiles et viole les conditions des [fonctions pures](https://en.wikipedia.org/wiki/Pure_function)."
      ]
    },
    {
      "cell_type": "markdown",
      "metadata": {
        "id": "rf2bVtWr1QYX"
      },
      "source": [
        "Voyons cela en pratique en changeant le nombre au début d'un tableau."
      ]
    },
    {
      "cell_type": "code",
      "execution_count": null,
      "metadata": {
        "id": "aonuiSN81Ok5"
      },
      "outputs": [],
      "source": [
        "# NumPy: mutable arrays\n",
        "x = np.arange(10)\n",
        "x[0] = 10\n",
        "print(x)"
      ]
    },
    {
      "cell_type": "markdown",
      "metadata": {
        "id": "_bikd7W91eQf"
      },
      "source": [
        "Essayons avec JAX."
      ]
    },
    {
      "cell_type": "code",
      "execution_count": null,
      "metadata": {
        "id": "Kt9yRXan1mMO"
      },
      "outputs": [],
      "source": [
        "# JAX: immutable arrays\n",
        "# Should raise an error.\n",
        "try:\n",
        "    x = jnp.arange(10)\n",
        "    x[0] = 10\n",
        "except Exception as e:\n",
        "    print(\"Exception {}\".format(e))"
      ]
    },
    {
      "cell_type": "markdown",
      "metadata": {
        "id": "YHRr6uKH1sQ0"
      },
      "source": [
        "<!--So it fails! We can't mutate a JAX array once it has been created. To update JAX arrays, we need to use [helper functions](https://jax.readthedocs.io/en/latest/_autosummary/jax.numpy.ndarray.at.html) that return an updated copy of the JAX array.-->\n",
        "\n",
        "Erreur! Nous ne pouvons pas muter un tableau JAX une fois qu'il a été créé. Pour mettre à jour les tableaux JAX, nous devons utiliser des fonctions d'assistance qui renvoient une copie mise à jour du tableau JAX.\n",
        "\n",
        "Au lieu de faire ceci `x[idx] = y`, on doit faire `x = x.at[idx].set(y)`."
      ]
    },
    {
      "cell_type": "code",
      "execution_count": null,
      "metadata": {
        "id": "XLL6d2p81xue"
      },
      "outputs": [],
      "source": [
        "x = jnp.arange(10)\n",
        "new_x = x.at[0].set(10)\n",
        "print(f\" new_x: {new_x} original x: {x}\")"
      ]
    },
    {
      "cell_type": "markdown",
      "metadata": {
        "id": "w6ibwTBj14gw"
      },
      "source": [
        "<!--Note here that `new_x` is a copy and that the original `x` is unchanged.-->\n",
        "On note que `new_x` is une copie et que la valeur originale de `x` est nonchangé."
      ]
    },
    {
      "cell_type": "markdown",
      "metadata": {
        "id": "Ik_8oN9m1_zS"
      },
      "source": [
        "Randomness in NumPy vs JAX\n",
        "\n",
        "JAX est plus explicite dans la génération de nombres pseudo-aléatoires (PRNG) que NumPy et d'autres bibliothèques (telles que TensorFlow ou PyTorch). [PRNG](https://en.wikipedia.org/wiki/Pseudorandom_number_generator) est le processus de génération algorithmique d'une séquence de nombres, qui *se rapproche* des propriétés d'une séquence de nombres aléatoires. <!--is the process of algorithmically generating a sequence of numbers, which *approximate* the properties of a sequence of random numbers.-->\n",
        "\n",
        "Voyons les différences dans la façon dont JAX et NumPy génèrent des nombres aléatoires."
      ]
    },
    {
      "cell_type": "markdown",
      "metadata": {
        "id": "jaWE-uiW2G4p"
      },
      "source": [
        "<!--##### In Numpy, PRNG is based on a global `state`.\n",
        "\n",
        "Let's set the initial seed.-->\n",
        "\n",
        "Dans Numpy, PRNG est basé sur un état global.\n",
        "\n",
        "Définissons la graine initiale."
      ]
    },
    {
      "cell_type": "code",
      "execution_count": null,
      "metadata": {
        "id": "wa5e2_gb2Jl9"
      },
      "outputs": [],
      "source": [
        "# Set random seed\n",
        "np.random.seed(42)\n",
        "prng_state = np.random.get_state()"
      ]
    },
    {
      "cell_type": "code",
      "execution_count": null,
      "metadata": {
        "id": "-9X10jhocGaS"
      },
      "outputs": [],
      "source": [
        "# @title Function d'aide pour comparer les clés prng (Exécuter la cellule)\n",
        "def is_prng_state_the_same(prng_1, prng_2):\n",
        "    \"\"\"Helper function to compare two prng keys.\"\"\"\n",
        "    # concat all elements in prng tuple\n",
        "    list_prng_data_equal = [(a == b) for a, b in zip(prng_1, prng_2)]\n",
        "    # stack all elements together\n",
        "    list_prng_data_equal = np.hstack(list_prng_data_equal)\n",
        "    # check if all elements are the same\n",
        "    is_prng_equal = all(list_prng_data_equal)\n",
        "    return is_prng_equal"
      ]
    },
    {
      "cell_type": "markdown",
      "metadata": {
        "id": "yCHvH8DZ3Aro"
      },
      "source": [
        "<!--Let's take a few samples from a Gaussian (normal) Distribution and check if PRNG keys/global state change.-->\n",
        "Prenons quelques échantillons d'une distribution gaussienne (normale) et vérifions si les clés PRNG/l'état global changent"
      ]
    },
    {
      "cell_type": "code",
      "execution_count": null,
      "metadata": {
        "id": "KSixAoOQ2QU9"
      },
      "outputs": [],
      "source": [
        "print(\n",
        "    f\"sample 1 = {np.random.normal()} Did prng state change: {not is_prng_state_the_same(prng_state,np.random.get_state())}\"\n",
        ")\n",
        "prng_state = np.random.get_state()\n",
        "print(\n",
        "    f\"sample 2 = {np.random.normal()} Did prng state change: {not is_prng_state_the_same(prng_state,np.random.get_state())}\"\n",
        ")\n",
        "prng_state = np.random.get_state()\n",
        "print(\n",
        "    f\"sample 3 = {np.random.normal()} Did prng state change: {not is_prng_state_the_same(prng_state,np.random.get_state())}\"\n",
        ")"
      ]
    },
    {
      "cell_type": "markdown",
      "metadata": {
        "id": "dlwT1pZH4M7C"
      },
      "source": [
        "L'état aléatoire global de Numpy est mis à jour chaque fois qu'un nombre aléatoire est généré, donc *l'échantillon 1 != l'échantillon 2 != l'échantillon 3*.\n",
        "\n",
        "La mise à jour automatique de l'état rend difficile la gestion du caractère aléatoire de manière **reprodutible** sur différents threads, processus et appareils.\n",
        "\n",
        "<!--Having the state automatically updated, makes it difficult to handle randomness in a **reproducible** way across different threads, processes and devices.-->"
      ]
    },
    {
      "cell_type": "markdown",
      "metadata": {
        "id": "eNQW9JwK4Yp6"
      },
      "source": [
        "Pour JAX, PRNG est explicite\n",
        "<!--In JAX, PRNG is explicit-->\n",
        "\n",
        "Dans JAX, pour chaque génération de nombres aléatoires, vous devez transmettre explicitement une clé/un état aléatoire.\n",
        "\n",
        "Passer le même état/clé entraîne la génération du même numéro. Ceci n’est généralement pas souhaitable."
      ]
    },
    {
      "cell_type": "code",
      "execution_count": null,
      "metadata": {
        "id": "Qd0PAWvf4KtX"
      },
      "outputs": [],
      "source": [
        "from jax import random\n",
        "\n",
        "key = random.PRNGKey(42)\n",
        "print(f\"sample 1 = {random.normal(key)}\")\n",
        "print(f\"sample 2 = {random.normal(key)}\")\n",
        "print(f\"sample 3 = {random.normal(key)}\")"
      ]
    },
    {
      "cell_type": "markdown",
      "metadata": {
        "id": "iUpdRj074oYO"
      },
      "source": [
        "Pour générer des échantillons différents et indépendants, vous devez  manuellement diviser les clés."
      ]
    },
    {
      "cell_type": "code",
      "execution_count": null,
      "metadata": {
        "id": "82xoxsrF4vls"
      },
      "outputs": [],
      "source": [
        "from jax import random\n",
        "\n",
        "key = random.PRNGKey(42)\n",
        "print(f\"sample 1 = {random.normal(key)}\")\n",
        "\n",
        "# We split the key -> new key and subkey\n",
        "new_key, subkey = random.split(key)\n",
        "\n",
        "# We use the subkey immediately and keep the new key for future splits.\n",
        "# It doesn't really matter which key we keep and which one we use immediately.\n",
        "print(f\"sample 2 = {random.normal(subkey)}\")\n",
        "\n",
        "# We split the new key -> new key2 and subkey\n",
        "new_key2, subkey = random.split(new_key)\n",
        "print(f\"sample 3 = {random.normal(subkey)}\")"
      ]
    },
    {
      "cell_type": "markdown",
      "metadata": {
        "id": "C2wiRBEo5OQb"
      },
      "source": [
        "<!--By using JAX, we can more easily reproduce random number generation in parallel across threads, processes, or even devices by explicitly passing and keeping track of the prng key (without relying on a global state that automatically gets updated).-->\n",
        "\n",
        "En utilisant JAX, nous pouvons reproduire plus facilement la génération de nombres aléatoires en parallèle sur des threads, des processus ou même des périphériques en transmettant et en gardant explicitement la clé prng (sans compter sur un état global automatiquement mis à jour)."
      ]
    },
    {
      "cell_type": "markdown",
      "metadata": {
        "id": "kh_8f4gKyufu"
      },
      "source": [
        "### Derivation of partial derivatives for exercise 2 [OPTIONAL]\n",
        "Derive $\\frac{\\partial \\mathcal{L}}{\\partial \\mathbf{w}}$:\n",
        "\\begin{aligned}\n",
        "\\frac{\\partial \\mathcal{L}}{\\partial \\mathbf{w}} & = \\frac{ \\partial}{\\partial \\mathbf{w}} (\\frac{1}{m} \\sum_{i=1}^m (y_i - (\\mathbf{w}^T \\mathbf{x}_i + b))^2) \\quad \\text{: Definition of $\\mathcal{L}$} \\\\\n",
        "\\frac{\\partial \\mathcal{L}}{\\partial \\mathbf{w}} & = \\frac{1}{m} \\frac{ \\partial }{\\partial \\mathbf{w}} ( \\sum_{i=1}^m (y_i - (\\mathbf{w}^T \\mathbf{x}_i + b))^2) \\quad \\text{: Constant multiple rule} \\\\\n",
        "\\frac{\\partial \\mathcal{L}}{\\partial \\mathbf{w}} & = \\frac{1}{m} \\sum_{i=1}^m \\frac{ \\partial }{\\partial \\mathbf{w}} (y_i - (\\mathbf{w}^T \\mathbf{x}_i + b))^2 \\quad \\text{: Sum Rule - derivative of sum is sum of derivatives.} \\\\\n",
        "\\frac{\\partial \\mathcal{L}}{\\partial \\mathbf{w}} & = \\frac{1}{m} \\sum_{i=1}^m 2 (y_i - (\\mathbf{w}^T \\mathbf{x}_i + b)) \\frac{ \\partial }{\\partial \\mathbf{w}}(y_i -(\\mathbf{w}^T \\mathbf{x}_i + b))  \\quad \\text{: Power Rule + Chain Rule.} \\\\\n",
        "\\frac{\\partial \\mathcal{L}}{\\partial \\mathbf{w}} & = \\frac{1}{m} \\sum_{i=1}^m 2 (y_i - (\\mathbf{w}^T \\mathbf{x}_i + b)) (-\\mathbf{x}_i)  \\quad \\text{: Compute derative.} \\\\\n",
        "\\frac{\\partial \\mathcal{L}}{\\partial \\mathbf{w}} & = \\frac{2}{m} \\sum_{i=1}^m (y_i - (\\mathbf{w}^T \\mathbf{x}_i + b)) (-\\mathbf{x}_i)  \\quad \\text{: Factor constant out of summation.} \\\\\n",
        "\\frac{\\partial \\mathcal{L}}{\\partial \\mathbf{w}} & = \\frac{2}{m} \\sum_{i=1}^m \\mathbf{x}_i((\\mathbf{w}^T \\mathbf{x}_i + b) -y_i ) \\quad \\text{: Rearrange.} \\\\  \n",
        "\\end{aligned}\n",
        "\n",
        "Derive $\\frac{\\partial \\mathcal{L}}{\\partial b}$:\n",
        "\\begin{aligned}\n",
        "\\frac{\\partial \\mathcal{L}}{\\partial b} & = \\frac{ \\partial}{\\partial b} (\\frac{1}{m} \\sum_{i=1}^m (y_i - (\\mathbf{w}^T \\mathbf{x}_i + b))^2) \\quad \\text{: Definition of $\\mathcal{L}$} \\\\\n",
        "\\frac{\\partial \\mathcal{L}}{\\partial b} & = \\frac{1}{m} \\frac{ \\partial }{\\partial b} ( \\sum_{i=1}^m (y_i - (\\mathbf{w}^T \\mathbf{x}_i + b))^2) \\quad \\text{: Constant multiple rule} \\\\\n",
        "\\frac{\\partial \\mathcal{L}}{\\partial b} & = \\frac{1}{m} \\sum_{i=1}^m \\frac{ \\partial }{\\partial b} (y_i - (\\mathbf{w}^T \\mathbf{x}_i + b))^2 \\quad \\text{: Sum Rule - derivative of sum is sum of derivatives.} \\\\\n",
        "\\frac{\\partial \\mathcal{L}}{\\partial b} & = \\frac{1}{m} \\sum_{i=1}^m 2 (y_i - (\\mathbf{w}^T \\mathbf{x}_i + b)) \\frac{ \\partial }{\\partial b}(y_i -(\\mathbf{w}^T \\mathbf{x}_i + b))  \\quad \\text{: Power Rule + Chain Rule.} \\\\\n",
        "\\frac{\\partial \\mathcal{L}}{\\partial b} & = \\frac{1}{m} \\sum_{i=1}^m 2 (y_i - (\\mathbf{w}^T \\mathbf{x}_i + b)) (-1)  \\quad \\text{: Compute derative.} \\\\\n",
        "\\frac{\\partial \\mathcal{L}}{\\partial b} & = \\frac{2}{m} \\sum_{i=1}^m (y_i - (\\mathbf{w}^T \\mathbf{x}_i + b)) (-1)  \\quad \\text{: Factor constant out of summation.} \\\\\n",
        "\\frac{\\partial \\mathcal{L}}{\\partial b} & = \\frac{2}{m} \\sum_{i=1}^m ((\\mathbf{w}^T \\mathbf{x}_i + b) -y_i ) \\quad \\text{: Rearrange.} \\\\  \n",
        "\\end{aligned}"
      ]
    },
    {
      "cell_type": "markdown",
      "metadata": {
        "id": "fRYbQvz01Zlm"
      },
      "source": [
        "### Intuition pour la function cout avec l'entropie croisée multi-classes.: exercise 3 [OPTIONAL]\n",
        "\n",
        "Pour la classification binaire, nous utilisons la formule suivante pour la perte d'entropie croisée\n",
        "\n",
        " $$ -y_i \\log(p_i) - (1-y_i) \\log (1-p_i).$$\n",
        "\n",
        "Rappelez-vous qu'en classe binaire, nous avons une classe, donc la sortie de notre modèle est la probabilité, $p$, d'appartenir à cette classe. Au lieu de cela, nous pouvons traiter notre classificateur binaire comme deux classes définies comme suit\n",
        "\n",
        "  - Class 1: Appartient à la classe en question.\n",
        "  - Class 2: N'appartient pas à la classe en question.\n",
        "\n",
        "Si la probabilité pour le point de données $y$_i d'appartenir à la classe 1 est $p$_i, cela signifie que sa probabilité de ne pas appartenir à la classe 1, ce qui équivaut à appartenir à la classe 2, est $(1-p_i)$.\n",
        "\n",
        "Puisque les valeurs cibles sont codées à chaud (one-hot) pour une classification multi-classe, si $y_i$ est l'étiquette qui indique si le point de données appartient à la classe 1 ou non, l'étiquette correspondante pour l'appartenance à la classe 2 sera $(1 - y_i) $. Nous pouvons donc écrire notre perte d'entropie croisée sous forme compacte comme suit\n",
        "\n",
        "$$ \\sum_c -y^c_i \\log(p^c_i).$$"
      ]
    },
    {
      "cell_type": "markdown",
      "metadata": {
        "id": "s75zkKGJ9QRn"
      },
      "source": [
        "**References:**\n",
        "\n",
        "1. https://d2l.ai/chapter_linear-networks/linear-regression.html\n",
        "2. https://jax.readthedocs.io/en/latest/notebooks/quickstart.html\n",
        "3. https://www.simplilearn.com/tutorials/artificial-intelligence-tutorial/ai-vs-machine-learning-vs-deep-learning\n",
        "\n",
        "\n",
        "Pour d'autres travaux pratiques du Deep Learning Indaba, veuillez visiter [ici](https://github.com/deep-learning-indaba/indaba-pracs-2023)."
      ]
    },
    {
      "cell_type": "markdown",
      "metadata": {
        "id": "o1ndpYE50BpG"
      },
      "source": [
        "## Feedback\n",
        "\n",
        "<!--Please provide feedback that we can use to improve our practicals in the future.-->\n",
        "Veuillez fournir des commentaires que nous pouvons utiliser pour améliorer nos travaux pratiques à l'avenir."
      ]
    },
    {
      "cell_type": "code",
      "execution_count": null,
      "metadata": {
        "id": "bMk4EcMcUUPd"
      },
      "outputs": [],
      "source": [
        "# @title Générer un formulaire de commentaires. (Run Cell)\n",
        "from IPython.display import HTML\n",
        "\n",
        "HTML(\n",
        "    \"\"\"\n",
        "<iframe\n",
        "\tsrc=\"https://forms.gle/Cg9aoa7czoZCYqxF7\",\n",
        "  width=\"80%\"\n",
        "\theight=\"1200px\" >\n",
        "\tLoading...\n",
        "</iframe>\n",
        "\"\"\"\n",
        ")"
      ]
    },
    {
      "cell_type": "markdown",
      "metadata": {
        "id": "oglV4kHMWnIN"
      },
      "source": [
        "<img src=\"https://baobab.deeplearningindaba.com/static/media/indaba-logo-dark.d5a6196d.png\" width=\"50%\" />"
      ]
    }
  ],
  "metadata": {
    "accelerator": "GPU",
    "colab": {
      "provenance": []
    },
    "kernelspec": {
      "display_name": "Python 3",
      "name": "python3"
    },
    "language_info": {
      "name": "python",
      "version": "3.8.5"
    },
    "vscode": {
      "interpreter": {
        "hash": "145833166d986a8417df3c7acb65d917d84b716b5a452e57fcacdc66f1a168c9"
      }
    }
  },
  "nbformat": 4,
  "nbformat_minor": 0
}
