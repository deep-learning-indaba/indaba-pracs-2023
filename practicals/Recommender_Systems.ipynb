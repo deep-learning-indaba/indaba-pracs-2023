{
  "cells": [
    {
      "cell_type": "markdown",
      "metadata": {
        "id": "m2s4kN_QPQVe"
      },
      "source": [
        "# **Recommender Systems or Why Your Phone Isn't Actually Spying on You**\n",
        "\n",
        "<img src=\"https://drive.google.com/uc?id=1vpzhvPNf6fMdW1eettSzHHFeggNUzRZB\" />\n",
        "\n",
        "<a href=\"https://colab.research.google.com/github/deep-learning-indaba/indaba-pracs-2023/blob/main/practicals/Indaba_2023_Prac_Template.ipynb\" target=\"_parent\"><img src=\"https://colab.research.google.com/assets/colab-badge.svg\" alt=\"Open In Colab\"/></a> [Change colab link to point to prac.]\n",
        "\n",
        "© Deep Learning Indaba 2023. Apache License 2.0.\n",
        "\n",
        "**Authors:** [Amrit Purshotam](https://nl.linkedin.com/in/amritpurshotam), [Jama Hussein Mohamud](https://engmubarak48.github.io/jmohamud/)\n",
        "\n",
        "**Reviewers:** [Kyle Taylor](https://uk.linkedin.com/in/kylerosstaylor)\n",
        "\n",
        "**Introduction:**\n",
        "\n",
        "Recommender Systems are probably one of the most ubiquitous type of machine learning model that we encounter in our online life. They influence what we see in our social media feeds, the products we buy, the music we listen to, the food we eat, and the movies we watch. Sometimes they're so good that people feel that their phone is spying on their conversations! In this prac, we hope to convince you that this isn't the case (mostly) as well as taking you through some of the techniques popularly used in industry that recommends the content you see online by building our very own movie recommender system.\n",
        "\n",
        "**Topics:**\n",
        "\n",
        "Content: Machine Learning, Recommender Systems, Approximate Nearest Neighbours\n",
        "\n",
        "Level: <font color='grey'>`Beginner`</font>\n",
        "\n",
        "**Aims/Learning Objectives:**\n",
        "\n",
        "- General architecture of a recommender systems.\n",
        "- Techniques for making recommendations.\n",
        "- Serving recommendations efficiently in production.\n",
        "\n",
        "**Prerequisites:**\n",
        "\n",
        "[Knowledge required for this prac. You can link a relevant parallel track session, blogs, papers, courses, topics etc.]\n",
        "\n",
        "**Outline:**\n",
        "\n",
        ">[Recommender Systems or Why Your Phone Isn't Actually Spying on You](#scrollTo=m2s4kN_QPQVe)\n",
        "\n",
        ">>[Installation and Imports](#scrollTo=6EqhIg1odqg0)\n",
        "\n",
        ">>[1. Recommender Systems Overview](#scrollTo=-ZUp8i37dFbU)\n",
        "\n",
        ">>>[1.1 A Real World Scenario](#scrollTo=-ZUp8i37dFbU)\n",
        "\n",
        ">>>[1.2 Recommendation System Architecture](#scrollTo=Ox8aHBxO4luZ)\n",
        "\n",
        ">>>>[1.2.1 Overview](#scrollTo=Ox8aHBxO4luZ)\n",
        "\n",
        ">>>>[1.2.2 Zooming in](#scrollTo=Ox8aHBxO4luZ)\n",
        "\n",
        ">>[2. Collaborative Filtering](#scrollTo=YiXBlHjrb0DJ)\n",
        "\n",
        ">>>[2.1 Overview](#scrollTo=YiXBlHjrb0DJ)\n",
        "\n",
        ">>>[2.2 Matrix Factorisation](#scrollTo=YiXBlHjrb0DJ)\n",
        "\n",
        ">>>[2.3 The MovieLens Dataset](#scrollTo=YiXBlHjrb0DJ)\n",
        "\n",
        ">>>[2.2 Dataset Preparation](#scrollTo=Dj9F3b3Cictf)\n",
        "\n",
        ">>>[2.3 Building our Model](#scrollTo=9et6qbJeMRJ7)\n",
        "\n",
        ">>>>[2.3.1 Dot Product Model](#scrollTo=9LcnAgsROHew)\n",
        "\n",
        ">>>>[2.3.2 Dot Product with Bias Model](#scrollTo=_ybIOHsUMZao)\n",
        "\n",
        ">>>>>[2.3.2.1 Mitigate overfitting](#scrollTo=yMryLaMquEXA)\n",
        "\n",
        ">>>[2.4 Interpreting our Model](#scrollTo=34kiVmBcNKxi)\n",
        "\n",
        ">>>>[2.4.1 Biases](#scrollTo=34kiVmBcNKxi)\n",
        "\n",
        ">>>>[2.4.2 Embedding Distance](#scrollTo=LoqRWHL4bzcY)\n",
        "\n",
        ">>>[2.5 Making Recommendations](#scrollTo=s_ZxySJNNLpj)\n",
        "\n",
        ">>>[2.6. Approximate Nearest Neighbours](#scrollTo=_W5tQW6oD_9Z)\n",
        "\n",
        ">>>[2.7. Types of Feedback](#scrollTo=pfX_PVxWSEOL)\n",
        "\n",
        ">>[3. Building recommender systems using GNNs](#scrollTo=mjWXX3vf_MH3)\n",
        "\n",
        ">>>[3.1. Recap of graph fundamentals](#scrollTo=dLiatNhIyP33)\n",
        "\n",
        ">>>>[3.1.2. Graph Neural Network Theory](#scrollTo=WZpm6OM0L7Rc)\n",
        "\n",
        ">>>[3.2. Graph Prediction Tasks](#scrollTo=qc-PDBzFl3Mc)\n",
        "\n",
        ">>>[3.3. Formulating Recommender systems as a graph problem](#scrollTo=MdhAhUTtpWj2)\n",
        "\n",
        ">>>>[3.3.1. Link (or Edge) Prediction](#scrollTo=O-YcvPGDSXvF)\n",
        "\n",
        ">>>>[3.3.2. Inference](#scrollTo=x2ufCvuiIZOg)\n",
        "\n",
        ">>[Conclusion](#scrollTo=fV3YG7QOZD-B)\n",
        "\n",
        ">>[Feedback](#scrollTo=o1ndpYE50BpG)\n",
        "\n",
        "**Before you start:**\n",
        "\n",
        "For this practical, you will need to use a GPU to speed up training. To do this, go to the \"Runtime\" menu in Colab, select \"Change runtime type\" and then in the popup menu, choose \"GPU\" in the \"Hardware accelerator\" box."
      ]
    },
    {
      "cell_type": "markdown",
      "metadata": {
        "id": "952qogb79nnY"
      },
      "source": [
        "**Suggested experience level in this topic:**\n",
        "\n",
        "| Level         | Experience                            |\n",
        "| --- | --- |\n",
        "`Beginner`      | It is my first time being introduced to this work. |\n",
        "`Intermediate`  | I have done some basic courses/intros on this topic. |\n",
        "`Advanced`      | I work in this area/topic daily. |"
      ]
    },
    {
      "cell_type": "code",
      "execution_count": null,
      "metadata": {
        "cellView": "form",
        "id": "YBdDHcI_ArCR"
      },
      "outputs": [],
      "source": [
        "# @title **Paths to follow:** What is your level of experience in the topics presented in this notebook? (Run Cell)\n",
        "experience = \"advanced\" #@param [\"beginner\", \"intermediate\", \"advanced\"]\n",
        "\n",
        "sections_to_follow=\"\"\n",
        "\n",
        "if experience == \"beginner\":\n",
        "  sections_to_follow=\"1. Recommender Systems Overview -> 2. Collaborative Filtering -> Conclusion -> Feedback\"\n",
        "elif experience == \"intermediate\":\n",
        "  sections_to_follow=\"1. Recommender Systems Overview -> 2. Collaborative Filtering -> Conclusion -> Feedback\"\n",
        "elif experience == \"advanced\":\n",
        "  sections_to_follow=\"1. Recommender Systems Overview -> 3. Building Recommender Systems using GNNs -> -> Conclusion -> Feedback\"\n",
        "\n",
        "print(f\"Based on your experience, it is advised you follow these -- {sections_to_follow} sections. Note this is just a guideline.\")"
      ]
    },
    {
      "cell_type": "markdown",
      "metadata": {
        "id": "6EqhIg1odqg0"
      },
      "source": [
        "## Installation and Imports"
      ]
    },
    {
      "cell_type": "code",
      "execution_count": null,
      "metadata": {
        "cellView": "form",
        "id": "S9Gb75pHHgej"
      },
      "outputs": [],
      "source": [
        "# @title Installations\n",
        "%%capture\n",
        "!pip install annoy clu\n",
        "!pip install git+https://github.com/deepmind/jraph.git\n",
        "!pip install torch-geometric\n",
        "!pip install networkx"
      ]
    },
    {
      "cell_type": "code",
      "execution_count": null,
      "metadata": {
        "cellView": "form",
        "id": "4boGA9rYdt9l"
      },
      "outputs": [],
      "source": [
        "## Install and import anything required. Capture hides the output from the cell.\n",
        "# @title Import required packages. (Run Cell)\n",
        "\n",
        "import gc\n",
        "import jax\n",
        "import jraph\n",
        "import optax\n",
        "import torch\n",
        "import numpy as np\n",
        "import pandas as pd\n",
        "import networkx as nx\n",
        "import tensorflow as tf\n",
        "from flax import struct\n",
        "from clu import metrics\n",
        "from flax import linen as nn\n",
        "from jax import numpy as jnp\n",
        "import jax.tree_util as tree\n",
        "import matplotlib.pyplot as plt\n",
        "import tensorflow_datasets as tfds\n",
        "from jraph import GraphConvolution\n",
        "from flax.training import train_state\n",
        "from torch_geometric.data import Data\n",
        "from torch_geometric.transforms import RandomLinkSplit\n",
        "from typing import Iterable, Mapping, Sequence, Tuple, Callable\n",
        "\n",
        "SEED = 42\n",
        "np.random.seed(SEED)\n",
        "torch.manual_seed(SEED)"
      ]
    },
    {
      "cell_type": "code",
      "execution_count": null,
      "metadata": {
        "cellView": "form",
        "id": "TeWbblqpNutK"
      },
      "outputs": [],
      "source": [
        "# @title Helper methods\n",
        "\n",
        "def get_dataset(ds_name: str) -> pd.DataFrame:\n",
        "  ds, info = tfds.load(f'movielens/{ds_name}', data_dir=\"./data\", with_info=True)\n",
        "  df = tfds.as_dataframe(ds['train'], info)\n",
        "  df = df.astype({'user_id': int, 'movie_id': int})\n",
        "  df.loc[:, 'movie_title'] = df['movie_title'].str.decode(\"utf-8\")\n",
        "  return df\n",
        "\n",
        "def cross_tabulate(df: pd.DataFrame, num_samples: int = 10) -> pd.DataFrame:\n",
        "  pivot_df = df.pivot(index='user_id', columns='movie_id', values='user_rating')\n",
        "  pivot_df = pivot_df.loc[df['user_id'].sample(num_samples), df['movie_id'].sample(num_samples)].dropna(axis=0, thresh=1).fillna(\"\")\n",
        "  return pivot_df\n",
        "\n",
        "def make_mapping(id_set: Iterable[str]) -> Mapping[str, int]:\n",
        "  return {id_str: i for (i, id_str) in enumerate(id_set)}\n",
        "\n",
        "def densify_column_values(df: pd.DataFrame, col_name: str) -> Tuple[pd.Series, Sequence[str]]:\n",
        "  col_values = sorted(set(df[col_name]))\n",
        "  col_ids_map = make_mapping(col_values)\n",
        "  return df[col_name].apply(lambda col_id: col_ids_map[col_id]), col_values, col_ids_map\n",
        "\n",
        "def to_tfds(df: pd.DataFrame) -> tf.data.Dataset:\n",
        "  fields = {\n",
        "    ('user_id', tf.int32),\n",
        "    ('item_id', tf.int32),\n",
        "    ('user_rating', tf.float32),\n",
        "    ('timestamp', tf.int32)\n",
        "  }\n",
        "\n",
        "  tensor_slices = {\n",
        "      field: tf.cast(df[field].values, dtype=field_type)\n",
        "      for field, field_type in fields\n",
        "  }\n",
        "\n",
        "  return tf.data.Dataset.from_tensor_slices(tensor_slices)\n",
        "\n",
        "def get_train_val_split(df: pd.DataFrame):\n",
        "  val_df = df.sample(frac=0.2)\n",
        "  train_df = df[~df.index.isin(val_df.index)]\n",
        "\n",
        "  return train_df, val_df\n",
        "\n",
        "def prepare_dataloaders(train_df: pd.DataFrame, val_df: pd.DataFrame, batch_size: int, num_epochs: int):\n",
        "  train_ds = (\n",
        "    to_tfds(train_df)\n",
        "    .repeat(config.NUM_EPOCHS)\n",
        "    .shuffle(1024)\n",
        "    .batch(config.BATCH_SIZE, drop_remainder=False)\n",
        "    .prefetch(1)\n",
        "  )\n",
        "  val_ds = (\n",
        "    to_tfds(val_df)\n",
        "    .shuffle(1024)\n",
        "    .batch(config.BATCH_SIZE, drop_remainder=False)\n",
        "    .prefetch(1)\n",
        "  )\n",
        "  return train_ds, val_ds\n",
        "\n",
        "def plot_metric_history(metrics_history):\n",
        "  fig, ax1 = plt.subplots(1, 1, figsize=(7, 5))\n",
        "  ax1.set_title('Loss')\n",
        "  for dataset in ('train','val'):\n",
        "    ax1.plot(metrics_history[f'{dataset}_loss'], label=f'{dataset}_loss')\n",
        "  ax1.legend()\n",
        "  plt.show()\n",
        "  plt.clf()"
      ]
    },
    {
      "cell_type": "code",
      "execution_count": null,
      "metadata": {
        "id": "bKVQDEz_eQWW",
        "cellView": "form"
      },
      "outputs": [],
      "source": [
        "# @title Config\n",
        "\n",
        "class Config:\n",
        "    DATASET = \"latest-small-ratings\" # all the options are 100k-ratings 1m-ratings 20m-ratings 25m-ratings latest-small-ratings\n",
        "    SEED = 42\n",
        "    EMB_DIM = 50\n",
        "    LR = 5e-3\n",
        "    BATCH_SIZE = 64\n",
        "    NUM_EPOCHS = 5\n",
        "\n",
        "config = Config()\n",
        "\n",
        "rng = jax.random.PRNGKey(config.SEED)\n",
        "rng, model_rng, dataset_rng = jax.random.split(rng, 3)"
      ]
    },
    {
      "cell_type": "markdown",
      "metadata": {
        "id": "-ZUp8i37dFbU"
      },
      "source": [
        "## **1. Recommender Systems Overview**\n",
        "\n",
        "### **1.1 A Real World Scenario**\n",
        "\n",
        "Imagine you're going shopping for a new book. You enter the store and start walking around scanning the shelves of books. Something catches your interest, you pause, take the book down and inspect the cover, and perhaps also read the blurb. You continue to do this until you find something you like at which point you purchase the book and leave.\n",
        "\n",
        "Now imagine you've read the book and quite enjoyed it and you want to buy another one. You go back to the store, browse around, and occasionally inspect some books that catch your interest. An assistant this time approaches you asking if you need help. Gladly you accept, and you mention the books you were looking at as well as the one that you purchased recently. Since they've been working there a long time and have helped many customers, they now have a good idea of what you may like and recommends a short list of books for you to look at. You do so and eventually settle on one to purchase.\n",
        "\n",
        "**Exercise**. Let's pause here for a moment and dig deeper into this scenario.\n",
        "\n",
        "- From all the books in the store, what does it say about the ones you paused to look at, the ones you ignored, and the ones you purchased?\n",
        "- What does it say about you as the reader and your preferences? Could there be\n",
        "other people like you?\n",
        "- How was the assistant able to narrow down all the books in the store to just a few from which you actually purchased one?\n",
        "\n",
        "<img src=\"https://drive.google.com/uc?id=1kG2UcOybxNTWCCI1E3IwH1R--yVqpi_u\" />\n",
        "\n",
        "Source: Kim Falk. *Practical Recommender Systems*. 2019. Manning."
      ]
    },
    {
      "cell_type": "markdown",
      "metadata": {
        "id": "Jm3yxTa9pp8b"
      },
      "source": [
        "The answer to these questions is now getting into the heart of recommender systems. Your behaviour probably wasn't random but instead had some structure and logic to it. You also likely have particular preferences to some genres and/or authors. Without even knowing anything else about the books, this follows then that the books you looked at and purchased matched those preferences and the ones you ignored more likely did not. Additionally, based on your preferences, what was catching your interest, and what you previously read, the store assistant was able to stitch together a rough profile of you. She then thought about her previous customers similar to you and what they had previously purchased. This is how she was then able to shortlist relevant books for you to look at.\n",
        "\n",
        "As you probably guessed it by now, the store assistant is the recommender system in this example. Instead of a person though, we want to build something that is able to learn the latent structure between all the books, all our customers, and how well they match each other in order to then make our recommendations. In the following sections we will learn how to do this. But first let's go over the general architecture of a recommender system."
      ]
    },
    {
      "cell_type": "markdown",
      "metadata": {
        "id": "Ox8aHBxO4luZ"
      },
      "source": [
        "### **1.2 Recommendation System Architecture**\n",
        "\n",
        "#### **1.2.1 Overview**\n",
        "![picture](https://drive.google.com/uc?id=1m7ARSm_4PAaN6qP969HeHIGUfOjHX3Y9)\n",
        "Source: [*Recommendation System Design*](https://medium.com/double-pointer/system-design-interview-recommendation-system-design-as-used-by-youtube-netflix-etc-c457aaec3ab). 2021. Medium.\n",
        "\n",
        "The above diagram generalises our previous scenario from books to searches, songs, and movies (note there will usually only be one) while the user is you as before. Notice how the user interacts with these *items* which then gets sent to the recommender system as feedback. The recommender system processes this, retrieves relevant items from it's database and then serves them to the user. The user, in turn, further interacts with these items and continues this loop until some terminating criteria. Perhaps they found a movie they like and started watching, or they purchase a book like in our previous example, or they simply leave.\n",
        "\n",
        "Finally, you may have noticed some new terminology in the diagram, the *query / context* on the user side of diagram. This is a further generalisation of what we're retrieving relevant items for. In this example it's the user but it can also include their previous searches, item interactions, the time of day, the device they're using, or any of combination of them.\n",
        "\n",
        "#### **1.2.2 Zooming in**\n",
        "\n",
        "Let's zoom in closer to the recommender system now by having a look at how YouTube described theirs back in 2016 in their seminal paper on the topic. Being YouTube, the items here would be videos which number in the millions (and most likely in the billions as of writing in 2023). Pay special attention to the blue stages, notice the number of items going into each stage going down and hence the funnel shape.\n",
        "\n",
        "Looking at the first one, the job of the *candidate generation* stage is to efficiently *retrieve* relevant items from your database (which is why you may find in the literature, this stage is also known as *retrieval*). Speed is of the utmost importance here so some leeway is allowed in terms of relevancy as long as the number of items we reduce down to is manageable for the downstream parts of the recommender. This lookup speed is achieved partly by the techniques we discuss and implement later in this practical but also by limiting the number of features that feed into this stage.\n",
        "\n",
        "The second *ranking* stage (also known as *scoring*) then takes these items and sorts them based on additional features that come from the user as well as the features of the item itself to optimise for some target we care about. In the case of YouTube, it will be for watch time, or in the case of an e-commerce website, the likelihood to purchase the items. Another reason for a ranking stage is that you may have multiple candidate generators and you now need a way to combine the results in some optimal way, at which point they're then shown to the user. It's also important to note, this ranking stage is not always necessary. Sometimes the retrieval step is good enough and you can keep the complexity of the system down, reduce implementation times, lower maintenance overhead, and therefore costs.\n",
        "\n",
        "![picture](https://drive.google.com/uc?id=1SmTqpqZFwrf4-3CmXp3vVQl8er6d4XAn)\n",
        "\n",
        "Source: Covington et. al. [*Deep Neural Networks for YouTube Recommendations*](https://research.google/pubs/pub45530/). 2016. Proceedings of the 10th ACM Conference on Recommender Systems.\n",
        "\n",
        "Finally, this last diagram, courtesy of the recommendations team at NVIDIA, further expands on the above ideas by defining two more stages namely *filtering* and *ordering*. After the retrieval / candidate generation stage, we may find that some of the items, while relevant, aren't useful and so need to be filtered out. In an e-commerce scenario this could be an item that's out of stock or in the case of a social media platform, a post coming from a person or topic you've blocked / muted. The *ordering* step which takes place after ranking / scoring then refers to further refining the order of the items depending on some business logic. For example, promoting on sale items or perhaps even sponsored placements.\n",
        "![picture](https://drive.google.com/uc?id=12fWnK5lrtdUX79GXT3tzOp6Fr78mKh57)\n",
        "\n",
        "Source: Even Oldridge. [*Recommender Systems, Not Just Recommender Models*](https://medium.com/nvidia-merlin/recommender-systems-not-just-recommender-models-485c161c755e). 2022. Medium.\n",
        "\n",
        "The rest of this practical will now focus primarily on the retrieval / candidate generation stage of a recommender system. We hope this introduction and overview of recommender systems helps put into context the specific piece we will be building out. In particular, we will be learning about Collaborative Filtering and Graph Neural Networks for recommendations."
      ]
    },
    {
      "cell_type": "markdown",
      "metadata": {
        "id": "YiXBlHjrb0DJ"
      },
      "source": [
        "## **2. Collaborative Filtering**\n",
        "\n",
        "### **2.1 Overview**\n",
        "\n",
        "Collaborative Filtering is a technique that learns how to recommend items to user A based on the interests of a similar user B by using similarities between these users and items simultaneously. This is opposed to content-based filtering that uses hand-engineered and/or explicit features of an item for further recommendations for e.g. recommending a movie in the same genre of one who you already watched.\n",
        "\n",
        "![picture](https://drive.google.com/uc?id=11IskyZDyG46gV1HvlZMgnj8bDA_Foafx)\n",
        "\n",
        "Source: Arthur Mello. [*How do Netflix and Amazon know what I want?*](https://towardsdatascience.com/how-do-netflix-and-amazon-know-what-i-want-852c480b67ac). 2020. Medium.\n",
        "\n",
        "### **2.2 Matrix Factorisation**\n",
        "\n",
        "Consider a movie recommendation system in which the training data consists of a feedback matrix $A ∈ R^{m × n}$ where $m$ is the number users and $n$ is the number of items. Each row then represents a user and each column represents an item (a movie) with the entries indicating a users rating of a particular movie. Our goal then is to learn\n",
        "- A user embedding matrix $U ∈ \\mathbb{R}^{m × d}$, where row $i$ is the embedding for user $i$ and $d$ is the length of the embedding.\n",
        "- An item embedding matrix $V ∈ \\mathbb{R}^{n × d}$, where row $j$ is the embedding for item $j$ and $d$ is the length of the embedding.\n",
        "\n",
        "such that their product $UV^{T}$ is a good approximation of the feedback matrix $A$. Note that the $(i, j)$ entry of $UV^{T}$ is simply the dot product of $⟨ U_i, V_j ⟩$ of the embeddings of user $i$ and item $j$ which you want to be as close as possible to $A_{ij}$. This process of finding these matrices $U$ and $V$ is known as *matrix factorisation*.\n",
        "\n",
        "<img src=\"https://drive.google.com/uc?id=1yt8OJV1i3CoS3Xeyh_0EVbFVwAXUN74D\" width=\"100%\" />\n",
        "\n",
        "Source: [*Google Recommendation Systems Course*](https://developers.google.com/machine-learning/recommendation/collaborative/matrix).\n",
        "\n",
        "Take special note how the matrices $U$ and $V$ give a more compact representation of the full matrix, even in this toy example (in practice $d$ is much smaller than $m$ and $n$ since you will have many more users and items). As a result, this process finds latent structure in the data without even requiring any knowledge of the movies themselves!\n",
        "\n",
        "Now, there are two common algorithms for finding these matrices, namely\n",
        "- Stochastic Gradient Descent (SGD) which is a generic method to minimise loss functions\n",
        "- Weighted Alternating Least Squares (WALS) which is specialised to this particular problem and works by alternating between fixing $U$ and solving for $V$ and vice versa.\n",
        "\n",
        "For this practical, we'll be using SGD to learn these matrices which means we have to define a loss function. One intuitive function is the squared distance. To do this, we minimise the average of squared errors over all pairs of observed entries.\n",
        "\n",
        "$ \\frac{1}{|obs|} ∑_{(i,j) \\in obs} (A_{ij} - ⟨ U_i, V_j ⟩)^2$\n",
        "\n",
        "With this loss function defined, we can then randomly initialise our matrices $U$ and $V$, and through SGD iteratively update them until $UV^T$ is a good approximation of $A$. We now finally have all the pieces to move ahead with the rest of the tutorial.\n",
        "\n",
        "### **2.3 The MovieLens Dataset**\n",
        "\n",
        "Since we don't have access to an actual streaming service watch history, we will instead use a dataset called [MovieLens](https://grouplens.org/datasets/movielens/) and in particular the `latest-small-ratings` subset which contains 100 thousand ratings across 9 thousand movies and 600 users. Let's have a look."
      ]
    },
    {
      "cell_type": "code",
      "execution_count": null,
      "metadata": {
        "id": "m9WIKY4GeLM6"
      },
      "outputs": [],
      "source": [
        "df = get_dataset(config.DATASET)\n",
        "df.head(5)[['user_id', 'movie_title', 'user_rating', 'timestamp']]"
      ]
    },
    {
      "cell_type": "markdown",
      "metadata": {
        "id": "n5DIRRBLhcK8"
      },
      "source": [
        "As you can see, we have our users represented by the `user_id`, the movies (our items), and the `user_rating` out of 5 that the user gave that particular movie. We also have the `timestamp` of when the user rated the movie in unix time format which is the number of seconds that elapsed since 1 January 1970 UTC and a common way of representing time due to it's unambiguity.\n",
        "\n",
        "Now what if we cross-tabulate a sample of this data to get an alternative view."
      ]
    },
    {
      "cell_type": "code",
      "execution_count": null,
      "metadata": {
        "id": "9NWEC-ZliR3T"
      },
      "outputs": [],
      "source": [
        "cross_tabulate(df)"
      ]
    },
    {
      "cell_type": "markdown",
      "metadata": {
        "id": "lTTNRUf61drG"
      },
      "source": [
        "The table displayed shows some of the more popular movies and users. The empty cells are what we want our model to learn to fill in i.e. the movies we presume a user has not yet watched because they have yet to rate it. Then once we make these predictions, we can figure out which of those movies they're most likely to enjoy.\n",
        "\n",
        "Looking at this table, you may have also noticed it's sparsity. In reality, this table is actually even more so. Let's calculate how many cells are empty."
      ]
    },
    {
      "cell_type": "code",
      "execution_count": null,
      "metadata": {
        "id": "3fTuh9wV1ztg"
      },
      "outputs": [],
      "source": [
        "num_users = df['user_id'].unique().shape[0]\n",
        "num_items = df['movie_title'].unique().shape[0]\n",
        "num_ratings = df.shape[0]\n",
        "sparsity = 100 - (num_ratings / (num_users * num_items) * 100)\n",
        "print(f\"Sparsity: {sparsity:.2f}\")"
      ]
    },
    {
      "cell_type": "markdown",
      "metadata": {
        "id": "Dj9F3b3Cictf"
      },
      "source": [
        "\n",
        "\n",
        "### **2.2 Dataset Preparation**\n",
        "\n",
        "Now let's prepare our dataset for training. We will be mapping our users and movies from indexes starting from 0."
      ]
    },
    {
      "cell_type": "code",
      "execution_count": null,
      "metadata": {
        "id": "S2qg8FcoKt6r"
      },
      "outputs": [],
      "source": [
        "df['user_id'], user_list, user_to_id_mapping = densify_column_values(df, 'user_id')\n",
        "df['item_id'], movie_list, movie_to_id_mapping = densify_column_values(df, 'movie_title')\n",
        "df.head(5)[['user_id', 'item_id', 'user_rating', 'timestamp']]"
      ]
    },
    {
      "cell_type": "markdown",
      "metadata": {
        "id": "vxuOf62RLQjf"
      },
      "source": [
        "Then we will split our data randomly into a train and validation set and create our dataloaders that will feed data into our training process later. The exact details aren't too important here but if you're interested feel free to inspect these methods in the Helper methods cell near the top of this notebook."
      ]
    },
    {
      "cell_type": "code",
      "execution_count": null,
      "metadata": {
        "id": "ekPnIBs0LPmY"
      },
      "outputs": [],
      "source": [
        "train_df, val_df = get_train_val_split(df)\n",
        "train_ds, val_ds = prepare_dataloaders(train_df, val_df, config.BATCH_SIZE, config.NUM_EPOCHS)\n",
        "total_steps = train_ds.cardinality().numpy()"
      ]
    },
    {
      "cell_type": "markdown",
      "metadata": {
        "id": "3ACVEHMFU-kx"
      },
      "source": [
        "We are now ready to finally start implementing our Collaborative Filtering model."
      ]
    },
    {
      "cell_type": "markdown",
      "metadata": {
        "id": "9et6qbJeMRJ7"
      },
      "source": [
        "### **2.3 Building our Model**"
      ]
    },
    {
      "cell_type": "markdown",
      "metadata": {
        "id": "9LcnAgsROHew"
      },
      "source": [
        "#### **2.3.1 Dot Product Model**\n",
        "\n",
        "Let's start defining the architecture for this model in it's simplest formulation. Implement the below steps in the code cell below.\n",
        "1. Define $m$ and $n$ which correspond to the number of users and items respectively.\n",
        "2. Define $d$ corresponding to the dimension of the below embedding matrices.\n",
        "3. Create and specify the shape of our embedding matrices. Recall $U ∈ \\mathbb{R}^{m × d}$ and $V ∈ \\mathbb{R}^{n × d}$ for the user and item embeddings respectively. Hint: [`nn.Embed`](https://flax.readthedocs.io/en/latest/api_reference/flax.linen/_autosummary/flax.linen.Embed.html)\n",
        "4. Take the dot product of the user and item embeddings respectively. Hint: [`jnp.multiply`](https://jax.readthedocs.io/en/latest/_autosummary/jax.numpy.multiply.html) and [`jnp.sum`](https://jax.readthedocs.io/en/latest/_autosummary/jax.numpy.sum.html) may be useful here."
      ]
    },
    {
      "cell_type": "code",
      "execution_count": null,
      "metadata": {
        "id": "epY0Bx2wy38w"
      },
      "outputs": [],
      "source": [
        "class CFDotProduct(nn.Module):\n",
        "  # Step 1 and 2\n",
        "  # define the number of users (corresponds to m)\n",
        "  # define the number of items (corresponds to n)\n",
        "  # define the embedding dimension here (corresponds to d)\n",
        "\n",
        "  @nn.compact\n",
        "  def __call__(self, x):\n",
        "    # Step 3 Specify the shape of the embedding matrices\n",
        "    users = nn.Embed(num_embeddings=? features=?, name='user_embs')(x['user_id'])\n",
        "    items = nn.Embed(num_embeddings=? features=?, name='item_embs')(x['item_id'])\n",
        "\n",
        "    y = # Step 4 take the dot product of users and items\n",
        "    return y"
      ]
    },
    {
      "cell_type": "code",
      "execution_count": null,
      "metadata": {
        "id": "iUoW5PZu2QrW",
        "cellView": "form"
      },
      "outputs": [],
      "source": [
        "# @title Solution\n",
        "class CFDotProduct(nn.Module):\n",
        "  num_users: int\n",
        "  num_items: int\n",
        "  emb_dim: int\n",
        "\n",
        "  @nn.compact\n",
        "  def __call__(self, x):\n",
        "    users = nn.Embed(num_embeddings=self.num_users, features=self.emb_dim, embedding_init=nn.initializers.normal(), name='user_embs')(x['user_id'])\n",
        "    items = nn.Embed(num_embeddings=self.num_items, features=self.emb_dim, embedding_init=nn.initializers.normal(), name='item_embs')(x['item_id'])\n",
        "\n",
        "    y = jnp.sum(jnp.multiply(users, items), axis=1)\n",
        "    return y"
      ]
    },
    {
      "cell_type": "markdown",
      "metadata": {
        "id": "zGp1mYjz548e"
      },
      "source": [
        "Now that we have specified the shape of the model, we now have to define our loss function. Recall that this will be the mean squared error between our predicted ratings and the actual ratings. Since this loss is a reasonable metric as well to measure the performance of our model, we'll use it as well. Hint: [`optax.squared_error`](https://optax.readthedocs.io/en/latest/api.html#optax.squared_error)."
      ]
    },
    {
      "cell_type": "code",
      "execution_count": null,
      "metadata": {
        "id": "G_07cxRfPybR"
      },
      "outputs": [],
      "source": [
        "@jax.jit\n",
        "def train_step(state, batch):\n",
        "  def loss_fn(params):\n",
        "    logits = state.apply_fn(params, batch)\n",
        "    loss = # fill in the loss function here and then take the mean from our batch\n",
        "    return loss\n",
        "  grad_fn = jax.grad(loss_fn)\n",
        "  grads = grad_fn(state.params)\n",
        "  state = state.apply_gradients(grads=grads)\n",
        "  return state\n",
        "\n",
        "@jax.jit\n",
        "def compute_metrics(*, state, batch):\n",
        "  logits = state.apply_fn(state.params, batch)\n",
        "  loss = # fill in the loss function here and then take the mean from our batch\n",
        "  metric_updates = state.metrics.single_from_model_output(logits=logits, labels=batch['user_rating'], loss=loss)\n",
        "  metrics = state.metrics.merge(metric_updates)\n",
        "  state = state.replace(metrics=metrics)\n",
        "  return state"
      ]
    },
    {
      "cell_type": "code",
      "execution_count": null,
      "metadata": {
        "id": "DZnuDwW76zYo",
        "cellView": "form"
      },
      "outputs": [],
      "source": [
        "# @title Solution\n",
        "@jax.jit\n",
        "def train_step(state, batch):\n",
        "  def loss_fn(params):\n",
        "    logits = state.apply_fn(params, batch)\n",
        "    loss = optax.squared_error(logits, batch['user_rating']).mean()\n",
        "    return loss\n",
        "  grad_fn = jax.grad(loss_fn)\n",
        "  grads = grad_fn(state.params)\n",
        "  state = state.apply_gradients(grads=grads)\n",
        "  return state\n",
        "\n",
        "@jax.jit\n",
        "def compute_metrics(*, state, batch):\n",
        "  logits = state.apply_fn(state.params, batch)\n",
        "  loss = optax.squared_error(logits, batch['user_rating']).mean()\n",
        "  metric_updates = state.metrics.single_from_model_output(logits=logits, labels=batch['user_rating'], loss=loss)\n",
        "  metrics = state.metrics.merge(metric_updates)\n",
        "  state = state.replace(metrics=metrics)\n",
        "  return state"
      ]
    },
    {
      "cell_type": "markdown",
      "metadata": {
        "id": "ij-8RpAh9cnY"
      },
      "source": [
        "Now that we have our model and loss functions defined, let's initialise our training state and define our training loop."
      ]
    },
    {
      "cell_type": "code",
      "execution_count": null,
      "metadata": {
        "id": "20HhzWwwOuxO"
      },
      "outputs": [],
      "source": [
        "@struct.dataclass\n",
        "class Metrics(metrics.Collection):\n",
        "    loss: metrics.Average.from_output('loss')\n",
        "\n",
        "class TrainState(train_state.TrainState):\n",
        "    metrics: Metrics\n",
        "\n",
        "def initialise_train_state(model, model_rng, dataloader, total_steps, weight_decay=None):\n",
        "  params = model.init(model_rng, next(tfds.as_numpy(dataloader).__iter__()))\n",
        "  scheduler = optax.cosine_onecycle_schedule(\n",
        "    transition_steps=total_steps,\n",
        "    peak_value=config.LR,\n",
        "    pct_start=0.25,\n",
        "    div_factor=25.0,\n",
        "    final_div_factor=100000.0\n",
        "  )\n",
        "\n",
        "  if weight_decay:\n",
        "    tx = optax.adamw(learning_rate=scheduler, weight_decay=weight_decay)\n",
        "  else:\n",
        "    tx = optax.adam(learning_rate=scheduler)\n",
        "\n",
        "  state = TrainState.create(\n",
        "    apply_fn=model.apply,\n",
        "    params=params,\n",
        "    tx=tx,\n",
        "    metrics=Metrics.empty()\n",
        "  )\n",
        "  return state\n",
        "\n",
        "def train_model(state, train_ds, val_ds):\n",
        "  num_steps_per_epoch = train_ds.cardinality().numpy() // config.NUM_EPOCHS\n",
        "\n",
        "  metrics_history = {\n",
        "    'train_loss': [],\n",
        "    'val_loss': [],\n",
        "  }\n",
        "\n",
        "  for step, batch in enumerate(train_ds.as_numpy_iterator()):\n",
        "    state = train_step(state, batch)\n",
        "    state = compute_metrics(state=state, batch=batch)\n",
        "\n",
        "    if (step+1) % num_steps_per_epoch == 0:\n",
        "      for metric, value in state.metrics.compute().items():\n",
        "          metrics_history[f'train_{metric}'].append(value)\n",
        "      state = state.replace(metrics=state.metrics.empty())\n",
        "\n",
        "      val_state = state\n",
        "      for val_batch in val_ds.as_numpy_iterator():\n",
        "          val_state = compute_metrics(state=val_state, batch=val_batch)\n",
        "\n",
        "      for metric, value in val_state.metrics.compute().items():\n",
        "          metrics_history[f'val_{metric}'].append(value)\n",
        "\n",
        "      print(\n",
        "          f\"train epoch: {(step+1) // num_steps_per_epoch}, \"\n",
        "          f\"loss: {metrics_history['train_loss'][-1]}, \"\n",
        "      )\n",
        "      print(\n",
        "          f\"val epoch: {(step+1) // num_steps_per_epoch}, \"\n",
        "          f\"loss: {metrics_history['val_loss'][-1]}, \"\n",
        "      )\n",
        "\n",
        "  return state, metrics_history"
      ]
    },
    {
      "cell_type": "markdown",
      "metadata": {
        "id": "Bhc8KLcl949i"
      },
      "source": [
        "We are now ready to train our model!"
      ]
    },
    {
      "cell_type": "code",
      "execution_count": null,
      "metadata": {
        "id": "h-amYerrPj7P"
      },
      "outputs": [],
      "source": [
        "model = CFDotProduct(num_users=len(user_list), num_items=len(movie_list), emb_dim=config.EMB_DIM)\n",
        "state = initialise_train_state(model, model_rng, train_ds, total_steps)\n",
        "state, metric_history = train_model(state, train_ds, val_ds)\n",
        "plot_metric_history(metric_history)"
      ]
    },
    {
      "cell_type": "markdown",
      "metadata": {
        "id": "uL3dBPBqOKQ8"
      },
      "source": [
        "Since our ratings are between `0.5` and `5`, the first thing we can do to make this model a bit better is to force the predictions to be in this range. A useful function for this would be the [`sigmoid`](https://flax.readthedocs.io/en/v0.5.3/_autosummary/flax.linen.sigmoid.html) which constrains it's input to between `0` and `1`. Multiplying and shifting this then allows us to move these values to any range of values. Let's choose `0` and `5.5` since empirically these work better by expanding the range of allowed values."
      ]
    },
    {
      "cell_type": "code",
      "execution_count": null,
      "metadata": {
        "id": "7stlwPFvUqsO"
      },
      "outputs": [],
      "source": [
        "class CFWithRange(nn.Module):\n",
        "  num_users: int\n",
        "  num_items: int\n",
        "  emb_dim: int\n",
        "  # define the min_rating\n",
        "  # define the max_rating\n",
        "\n",
        "  @nn.compact\n",
        "  def __call__(self, x):\n",
        "    user_embeds = nn.Embed(num_embeddings=self.num_users, features=self.emb_dim, embedding_init=nn.initializers.normal(), name='user_embs')(x['user_id'])\n",
        "    item_embeds = nn.Embed(num_embeddings=self.num_items, features=self.emb_dim, embedding_init=nn.initializers.normal(), name='item_embs')(x['item_id'])\n",
        "\n",
        "    y = jnp.sum(jnp.multiply(user_embeds, item_embeds), axis=1)\n",
        "    y = # constrain y to between 0 and 1\n",
        "    y = # expand the range to between 0 and 5.5.\n",
        "    return y"
      ]
    },
    {
      "cell_type": "code",
      "execution_count": null,
      "metadata": {
        "id": "KtCw1RXrQ6-z",
        "cellView": "form"
      },
      "outputs": [],
      "source": [
        "# @title Solution\n",
        "class CFWithRange(nn.Module):\n",
        "  num_users: int\n",
        "  num_items: int\n",
        "  emb_dim: int\n",
        "  min_rating: float\n",
        "  max_rating: float\n",
        "\n",
        "  @nn.compact\n",
        "  def __call__(self, x):\n",
        "    user_embeds = nn.Embed(num_embeddings=self.num_users, features=self.emb_dim, embedding_init=nn.initializers.normal(), name='user_embs')(x['user_id'])\n",
        "    item_embeds = nn.Embed(num_embeddings=self.num_items, features=self.emb_dim, embedding_init=nn.initializers.normal(), name='item_embs')(x['item_id'])\n",
        "\n",
        "    y = jnp.sum(jnp.multiply(user_embeds, item_embeds), axis=1)\n",
        "    y = nn.sigmoid(y)\n",
        "    y = y * (self.max_rating - self.min_rating) + self.min_rating\n",
        "    return y"
      ]
    },
    {
      "cell_type": "markdown",
      "metadata": {
        "id": "PdFbH29kSUO3"
      },
      "source": [
        "We're now ready to train the model again. Let's see how it does."
      ]
    },
    {
      "cell_type": "code",
      "execution_count": null,
      "metadata": {
        "id": "_o-dswpxVB41"
      },
      "outputs": [],
      "source": [
        "model = CFWithRange(\n",
        "  num_users=len(user_list),\n",
        "  num_items=len(movie_list),\n",
        "  emb_dim=config.EMB_DIM,\n",
        "  min_rating=0,\n",
        "  max_rating=5.5\n",
        ")\n",
        "state = initialise_train_state(model, model_rng, train_ds, total_steps)\n",
        "state, metric_history = train_model(state, train_ds, val_ds)\n",
        "plot_metric_history(metric_history)"
      ]
    },
    {
      "cell_type": "markdown",
      "metadata": {
        "id": "RgK5pcdzUblJ"
      },
      "source": [
        "If everything ran correctly, this should have performed a bit better. A missing piece now is that some users are just more positive or negative in their ratings than others, and some movies are just plain better or worse than others. But in our dot product representation we do not have any way to encode either of these things. If all you can say about a movie is, for instance, that it is very sci-fi or very action-oriented, then you don't really have any way to say whether most people like it.\n",
        "\n",
        "That's because at this point we only have weights; we do not have biases. If we have a single number for each user that we can add to our scores, and the same for each movie, it will handle this missing piece. Let's adjust our model architecture again."
      ]
    },
    {
      "cell_type": "markdown",
      "metadata": {
        "id": "_ybIOHsUMZao"
      },
      "source": [
        "#### **2.3.2 Dot Product with Bias Model**\n",
        "\n",
        "For each user and for each item, let's add a single number. This corresponds to one dimensional embeddings each the length of the number of users and number of items respectively. Let's add them below."
      ]
    },
    {
      "cell_type": "code",
      "execution_count": null,
      "metadata": {
        "id": "kktEX-2qUkTa"
      },
      "outputs": [],
      "source": [
        "class CFDotProductBias(nn.Module):\n",
        "  num_items: int\n",
        "  num_users: int\n",
        "  emb_dim: int\n",
        "  min_rating: float\n",
        "  max_rating: float\n",
        "\n",
        "  @nn.compact\n",
        "  def __call__(self, x):\n",
        "    user_embeds = nn.Embed(num_embeddings=self.num_users, features=self.emb_dim, embedding_init=nn.initializers.normal(), name='user_embs')(x['user_id'])\n",
        "    item_embeds = nn.Embed(num_embeddings=self.num_items, features=self.emb_dim, embedding_init=nn.initializers.normal(), name='item_embs')(x['item_id'])\n",
        "    # Add the 1 dimensional bias terms here\n",
        "    user_bias = nn.Embed(num_embeddings=?, features=?, embedding_init=nn.initializers.normal(), name='user_bias')(x['user_id'])\n",
        "    item_bias = nn.Embed(num_embeddings=?, features=?, embedding_init=nn.initializers.normal(), name='item_bias')(x['item_id'])\n",
        "\n",
        "    y = jnp.sum(jnp.multiply(user_embeds, item_embeds), axis=1, keepdims=1)\n",
        "    y += # add the biases\n",
        "    y = nn.sigmoid(y) * (self.max_rating - self.min_rating) + self.min_rating\n",
        "    return jnp.squeeze(y)"
      ]
    },
    {
      "cell_type": "code",
      "execution_count": null,
      "metadata": {
        "id": "MaEhkopMVxnI",
        "cellView": "form"
      },
      "outputs": [],
      "source": [
        "# @title Solution\n",
        "class CFDotProductBias(nn.Module):\n",
        "  num_items: int\n",
        "  num_users: int\n",
        "  emb_dim: int\n",
        "  min_rating: float\n",
        "  max_rating: float\n",
        "\n",
        "  @nn.compact\n",
        "  def __call__(self, x):\n",
        "    item_embeds = nn.Embed(num_embeddings=self.num_items, features=self.emb_dim, embedding_init=nn.initializers.normal(), name='item_embs')(x['item_id'])\n",
        "    item_bias = nn.Embed(num_embeddings=self.num_items, features=1, embedding_init=nn.initializers.normal(), name='item_bias')(x['item_id'])\n",
        "    user_embeds = nn.Embed(num_embeddings=self.num_users, features=self.emb_dim, embedding_init=nn.initializers.normal(), name='user_embs')(x['user_id'])\n",
        "    user_bias = nn.Embed(num_embeddings=self.num_users, features=1, embedding_init=nn.initializers.normal(), name='user_bias')(x['user_id'])\n",
        "\n",
        "    y = jnp.sum(jnp.multiply(user_embeds, item_embeds), axis=1, keepdims=1)\n",
        "    y += user_bias + item_bias\n",
        "    y = nn.sigmoid(y) * (self.max_rating - self.min_rating) + self.min_rating\n",
        "    return jnp.squeeze(y)"
      ]
    },
    {
      "cell_type": "markdown",
      "metadata": {
        "id": "8D0TmYgFXqlh"
      },
      "source": [
        "Let's train our model and see how this one performs."
      ]
    },
    {
      "cell_type": "code",
      "execution_count": null,
      "metadata": {
        "id": "lTy0-BNBVL-I"
      },
      "outputs": [],
      "source": [
        "model = CFDotProductBias(\n",
        "  num_items=len(movie_list),\n",
        "  num_users=len(user_list),\n",
        "  emb_dim=config.EMB_DIM,\n",
        "  min_rating=0.0,\n",
        "  max_rating=5.5\n",
        ")\n",
        "state = initialise_train_state(model, model_rng, train_ds, total_steps)\n",
        "state, metric_history = train_model(state, train_ds, val_ds)\n",
        "plot_metric_history(metric_history)"
      ]
    },
    {
      "cell_type": "markdown",
      "metadata": {
        "id": "yMryLaMquEXA"
      },
      "source": [
        "##### **2.3.2.1 Mitigate overfitting**\n",
        "\n",
        "It appears our model has started to overfit since our validation loss started getting worse while our training loss continued to decrease. One way to mitigate this is to constrain our model with weight decay. The details aren't important right now but the main idea is that this technique prevents our weights from getting too high, a symptom of overfitting. Luckily this time, we don't even need to change our model, we can specify this as a parameter in our state initialisation step and the details are taken care of for you. Let's try training our model again."
      ]
    },
    {
      "cell_type": "code",
      "execution_count": null,
      "metadata": {
        "id": "ixWY5i8gVeM0"
      },
      "outputs": [],
      "source": [
        "model = CFDotProductBias(\n",
        "  num_items=len(movie_list),\n",
        "  num_users=len(user_list),\n",
        "  emb_dim=config.EMB_DIM,\n",
        "  min_rating=0.0,\n",
        "  max_rating=5.5\n",
        ")\n",
        "state = initialise_train_state(model, model_rng, train_ds, total_steps, weight_decay=0.1)\n",
        "state, metric_history = train_model(state, train_ds, val_ds)\n",
        "plot_metric_history(metric_history)"
      ]
    },
    {
      "cell_type": "markdown",
      "metadata": {
        "id": "vwIpN1YMZFHT"
      },
      "source": [
        "Great, hopefully this should have led to an improved model and stabilised our validation loss. Now let's try to interpret the model we just built."
      ]
    },
    {
      "cell_type": "markdown",
      "metadata": {
        "id": "34kiVmBcNKxi"
      },
      "source": [
        "### **2.4 Interpreting our Model**\n",
        "\n",
        "#### **2.4.1 Biases**\n",
        "\n",
        "We mentioned earlier that the biases we added to the model would be able to encode whether some users are generally more positive or negative in their reviews and whether some movies are universally better or worse than others. Let's put this to the test by inspecting the biases. First we'll look at the worst movies i.e. the movies with the lowest biases\n",
        "\n",
        "\n",
        "\n"
      ]
    },
    {
      "cell_type": "code",
      "execution_count": null,
      "metadata": {
        "id": "ggU13zqUb2ej"
      },
      "outputs": [],
      "source": [
        "id_to_movie_mapping = {}\n",
        "for movie, id in movie_to_id_mapping.items():\n",
        "    id_to_movie_mapping[id] = movie\n",
        "\n",
        "for id in state.params['params']['item_bias']['embedding'].squeeze().argsort().tolist()[:5]:\n",
        "    print(id_to_movie_mapping[id])"
      ]
    },
    {
      "cell_type": "markdown",
      "metadata": {
        "id": "HniO_q9ocDDb"
      },
      "source": [
        "Hopefully none of these are any of your favourites!\n",
        "\n",
        "Let's now look at what the model learned to be some of the best movies."
      ]
    },
    {
      "cell_type": "code",
      "execution_count": null,
      "metadata": {
        "id": "Kl1FaeLUccOX"
      },
      "outputs": [],
      "source": [
        "for id in state.params['params']['item_bias']['embedding'].squeeze().argsort().tolist()[-5:]:\n",
        "    print(id_to_movie_mapping[id])"
      ]
    },
    {
      "cell_type": "markdown",
      "metadata": {
        "id": "mNsww4ZVckCF"
      },
      "source": [
        "Do you recognise any of these and if so, do you agree with the model that these movies are generally universally loved? If you haven't watched any of them, perhaps you can choose one of these the next time you're looking for something and put this model to the test!"
      ]
    },
    {
      "cell_type": "markdown",
      "metadata": {
        "id": "LoqRWHL4bzcY"
      },
      "source": [
        "#### **2.4.2 Embedding Distance**\n",
        "\n",
        "Our embeddings aren't quite so easy to directly interpret since there's too many factors to look at. We can however measure similarity between them. More formally a similarity measure is a function $s : E × E → \\mathbb{R}$ that takes a pair of embeddings and returns a scalar measuring their similarity. The embeddings can be used for candidate generation as follows: given a query embedding $q \\in E$, the system looks for item embeddings $x \\in E$ that are close to q i.e. embedding with high similarity $s(q,x)$. To determine similarity, most recommendation systems rely on one or more of the following:\n",
        " - **Cosine**: the cosine of the angle between the two vectors $s(q,x) = cos(q,x)$\n",
        " - **Dot Product**: the dot product of the two vectors $s(q,x) = ∑_{i=1}^{d} q_i x_i$\n",
        " - **Euclidean distance**: The distance in Euclidean space, $s(q,x) = ||q - x|| = [∑_{i=1}^{d} (q_i - x_i)^2]^{\\frac{1}{2}}$\n",
        "\n",
        " For the purposes of this practical, let's choose cosine similarity for our recommender. We first define the function that will calculate the cosine similarity between our selected item embedding and all the other embeddings"
      ]
    },
    {
      "cell_type": "code",
      "execution_count": null,
      "metadata": {
        "id": "RvwqKjU8k8Nz"
      },
      "outputs": [],
      "source": [
        "def get_cos_sim_distances(item, embeddings):\n",
        "  dot_products = jnp.sum(item[None] * embeddings, axis=1)\n",
        "  norm_item = jnp.linalg.norm(item)\n",
        "  norm_all = jnp.linalg.norm(embeddings, axis=1)\n",
        "  distances = (dot_products / (norm_item * norm_all))\n",
        "  return distances"
      ]
    },
    {
      "cell_type": "markdown",
      "metadata": {
        "id": "ZKVdtYVA9PUV"
      },
      "source": [
        "Let's define function that will find the most similar movies for one we specify"
      ]
    },
    {
      "cell_type": "code",
      "execution_count": null,
      "metadata": {
        "id": "Bw_KmFZaliIl"
      },
      "outputs": [],
      "source": [
        "def get_top_k_most_similar_movies(movie_name, embeddings, k):\n",
        "  movie_id = movie_to_id_mapping[movie_name] # retrieve the movie_id\n",
        "  distances = get_cos_sim_distances(embeddings[movie_id], embeddings) # calculate the distances between the movie and all others\n",
        "  # Sort ascending and take the last k movie ID's (excluding the movie itself which will be the most similar i.e. angle = 0)\n",
        "  # Then reverse the order so the most similar movie IDs are first\n",
        "  return reversed(distances.argsort()[-k-1:-1].tolist())"
      ]
    },
    {
      "cell_type": "markdown",
      "source": [
        "Let's call this method now and try it out on the second Avengers movie."
      ],
      "metadata": {
        "id": "NYX1nsYflnMd"
      }
    },
    {
      "cell_type": "code",
      "execution_count": null,
      "metadata": {
        "id": "O_aYfnCCmV_T"
      },
      "outputs": [],
      "source": [
        "similar_ids = get_top_k_most_similar_movies(\"Avengers: Age of Ultron (2015)\", state.params['params']['item_embs']['embedding'], 10)\n",
        "for id in similar_ids:\n",
        "  print(id_to_movie_mapping[id])"
      ]
    },
    {
      "cell_type": "markdown",
      "metadata": {
        "id": "luFRDTuzncHW"
      },
      "source": [
        "Try testing out with your own movies. To find the exact name of a particular movie, here's a little helper function that you can use."
      ]
    },
    {
      "cell_type": "code",
      "execution_count": null,
      "metadata": {
        "id": "_k3MqIpunvQy"
      },
      "outputs": [],
      "source": [
        "def search_movies(search: str):\n",
        "  return (\n",
        "    df[df['movie_title'].str.contains(search, case=False)]\n",
        "    .drop_duplicates(['movie_title'])\n",
        "    ['movie_title']\n",
        "  )\n",
        "\n",
        "# replace the name of the movie you're looking for here\n",
        "search_movies('avengers')"
      ]
    },
    {
      "cell_type": "markdown",
      "source": [
        "We can also visualise our embeddings using TensorBoard's [Embedding Projector](https://www.tensorflow.org/tensorboard/tensorboard_projector_plugin) where we can see where in this space all our movie embeddings lie. Let's load the tool. Towards the bottom left you should see some tabs called UMAP, t-SNE, and PCA. The details of these techniques are out of scope but their basic idea is to cluster our embeddings into a lower dimensional space that we can visualise.\n",
        "\n",
        "Try clicking around in the point clouds to see the similar movies around the point you select. You can also search for (and then click) for movies on the right. You can also reduce (or increase) the number of movies that are highlighted by tweaking tue `neighbours` parameter."
      ],
      "metadata": {
        "id": "EmBWE07ohRPW"
      }
    },
    {
      "cell_type": "code",
      "execution_count": null,
      "metadata": {
        "id": "FNqDkxnzdWRr",
        "cellView": "form"
      },
      "outputs": [],
      "source": [
        "# @title Launch Tensorboard Projector\n",
        "\n",
        "import numpy as np\n",
        "from torch.utils.tensorboard import SummaryWriter\n",
        "\n",
        "writer = SummaryWriter(\"./tensorboard/\")\n",
        "writer.add_embedding(np.asarray(state.params['params']['item_embs']['embedding']), metadata=list(id_to_movie_mapping.values()))\n",
        "\n",
        "%load_ext tensorboard\n",
        "%tensorboard --logdir ./tensorboard/"
      ]
    },
    {
      "cell_type": "markdown",
      "metadata": {
        "id": "s_ZxySJNNLpj"
      },
      "source": [
        "### **2.5 Making Recommendations**\n",
        "\n",
        "Apart from finding similar movies based purely on their similarity to each other, we can also find the movies in the neighbourhood of users i.e. the movies most similar to a user. This may seem surprising since users and movies are different entities. But a way to think about this is that our embedding space is an abstract representation common to both in which we can measure similarity using a similarity metric."
      ]
    },
    {
      "cell_type": "code",
      "execution_count": null,
      "metadata": {
        "id": "kofc-7Ne9z97"
      },
      "outputs": [],
      "source": [
        "user_id = df['user_id'].sample(1).iloc[0] # select a random user\n",
        "item_embs = state.params['params']['item_embs']['embedding'] # retrieve our trained movie embeddings\n",
        "user_emb = state.params['params']['user_embs']['embedding'][user_id] # retrieve our trained user embedding\n",
        "distances = get_cos_sim_distances(user_emb, item_embs) # calculate the distance between our user and all the movies\n",
        "already_watched_movie_ids = df[df['user_id'] == user_id]['item_id'].tolist() # retrieve all the movies the user already watched\n",
        "rec_count = 0\n",
        "# Loop over the closest movies to the user that they have not yet watched\n",
        "for id in reversed(distances.argsort().tolist()):\n",
        "    if id not in already_watched_movie_ids and rec_count < 10:\n",
        "        print(id_to_movie_mapping[id])\n",
        "        rec_count += 1"
      ]
    },
    {
      "cell_type": "markdown",
      "metadata": {
        "id": "R2XmuYv2-dQL"
      },
      "source": [
        "Since our model is trained to predict ratings of movies, let's actually use it directly to predict the ratings a particular user would give to all the movies and recommend the movies they would have rated the highest."
      ]
    },
    {
      "cell_type": "code",
      "execution_count": null,
      "metadata": {
        "id": "gm0XNZaH-kWI"
      },
      "outputs": [],
      "source": [
        "@jax.jit\n",
        "def pred_step(state, batch):\n",
        "  logits = state.apply_fn(state.params, batch)\n",
        "  return logits\n",
        "\n",
        "def create_eval_tfds_from_df(df: pd.DataFrame) -> tf.data.Dataset:\n",
        "  eval_fields = {\n",
        "      ('item_id', tf.int32),\n",
        "      ('user_id', tf.int32),\n",
        "  }\n",
        "  tensor_slices = {\n",
        "      field: tf.cast(df[field].values, dtype=field_type)\n",
        "      for field, field_type in eval_fields\n",
        "  }\n",
        "\n",
        "  return tf.data.Dataset.from_tensor_slices(tensor_slices)\n",
        "\n",
        "# prepare our data by mapping the same user id to all our movies\n",
        "all_items = df['item_id'].unique()\n",
        "eval_df = pd.DataFrame({'user_id': [user_id] * all_items.shape[0], 'item_id': all_items})\n",
        "eval_ds = create_eval_tfds_from_df(eval_df).batch(eval_df.shape[0], drop_remainder=False)\n",
        "\n",
        "# make the prediction on this data which returns the ratings\n",
        "preds = pred_step(state, eval_ds.as_numpy_iterator().next())\n",
        "eval_df['preds'] = pd.DataFrame(preds)\n",
        "\n",
        "# Display the top 10 rated movies that the user has not yet watched\n",
        "count = 0\n",
        "for row in eval_df.sort_values('preds', ascending=False).itertuples():\n",
        "  if row.item_id not in already_watched_movie_ids and count < 10:\n",
        "    print(f\"{row.preds:.2f}\", id_to_movie_mapping[row.item_id])\n",
        "    count += 1\n",
        "  elif count == 10:\n",
        "    break"
      ]
    },
    {
      "cell_type": "markdown",
      "metadata": {
        "id": "_W5tQW6oD_9Z"
      },
      "source": [
        "### **2.6. Approximate Nearest Neighbours**\n",
        "\n",
        "So far in this practical we've been performing an *exhaustive search* for the most similar movies i.e. we've been calcuating the distance between a movie and every other movie. What if we have millions of movies? And millions of users logging into our streaming service for which we need to make these calculations? This will indeed get very costly in both time and resources. We need a way to perform these calculations much more efficiently. This is where *Approximate Nearest Neighbours* comes in. The idea is we tradeoff a small degree of accuracy in our similarity search but in exchange gain an enormous amount of performance (orders of magnitude).\n",
        "\n",
        "One such implementation of this idea, originally developed at Spotify, is called [*Approximate Nearest Neighbours Oh Yeah*](https://github.com/spotify/annoy) (yes, really) or more commonly known by it's acronym, *ANNOY*. The algorithm works by recursively splitting our embedding space by random hyperplanes, where each hyperplane is represented by a node in a tree, until there are at most $k$ items at every leaf node. In order to find the nearest neighbours for a specific embedding, the tree is traversed by calculating on which side of the hyperplane the point lies at every node and then returning the items at the final node. See the below image to get an idea of what the splitting looks like in a 2D space and the resulting tree.\n",
        "\n",
        "<img src=\"https://erikbern.com/assets/2015/09/tree-full-K-1024x793.png\" width=\"50%\">\n",
        "\n",
        "<img src=\"https://erikbern.com/assets/2015/09/tree-full-K-graphviz1-1024x404.png\" width=\"60%\">\n",
        "\n",
        "Source: Erik Bernhardsson. [*Nearest neighbors and vector models*](https://erikbern.com/2015/10/01/nearest-neighbors-and-vector-models-part-2-how-to-search-in-high-dimensional-spaces.html). 2015.\n",
        "\n",
        "There are a few more details to this algorithm which are out of scope for this prac but if you'd like to learn more about it's inner workings, read this excellent [blog post](https://erikbern.com/2015/10/01/nearest-neighbors-and-vector-models-part-2-how-to-search-in-high-dimensional-spaces.html), by the author himself of ANNOY, Erik Bernhardsson.\n",
        "\n",
        "Let's now create our ANNOY index. This process is slow and can take up to 10 minutes to run (perhaps you can read the blog post while you wait).\n",
        "\n",
        "We first create the `AnnoyIndex` where we specify the size of our embedding (the $d$ from earlier) and the distance metric. Here `angular` refers to the cosine similarity. We then loop over our embeddings, adding them to our index.\n",
        "\n",
        "Next we build our index by specifying the number of trees it should make. In the earlier explanation, we showed one tree being built but in reality the algorithm actually makes use of many. More trees results in greater accuracy but require more memory. In practice you will specify the number of trees that either max out your memory or until your desired level of accuracy is reached."
      ]
    },
    {
      "cell_type": "code",
      "execution_count": null,
      "metadata": {
        "id": "_mchj5wuAHYD"
      },
      "outputs": [],
      "source": [
        "from annoy import AnnoyIndex\n",
        "from tqdm import tqdm\n",
        "\n",
        "t = AnnoyIndex(config.EMB_DIM, 'angular')\n",
        "for i, emb in tqdm(enumerate(state.params['params']['item_embs']['embedding']), total=state.params['params']['item_embs']['embedding'].shape[0]):\n",
        "    t.add_item(i, emb)\n",
        "\n",
        "t.build(10)"
      ]
    },
    {
      "cell_type": "markdown",
      "metadata": {
        "id": "i76qkaPCF7IN"
      },
      "source": [
        "Let's again look at the most similar movies to this Avengers movie. We do this by calling the `get_nns_by_item` method and specifying the movie we would like to look up, the `n` (approximate) nearest neighbours we'd like to return, and `search_k` which refers to the number of embeddings it will consider for the distance calculation. The tradeoff made is that the higher the `search_k`, the more accurate it will be but the slower the performance. So in practice this number will be chosen by making sure it's as high as possible to maximise accuracy while making sure the results are returned in a time under the threshold you set for your application."
      ]
    },
    {
      "cell_type": "code",
      "execution_count": null,
      "metadata": {
        "id": "aR9wTX5ZAYkr"
      },
      "outputs": [],
      "source": [
        "movie_id = movie_to_id_mapping[\"Avengers: Age of Ultron (2015)\"]\n",
        "for id in t.get_nns_by_item(movie_id, 5, search_k=10):\n",
        "  print(id_to_movie_mapping[id])"
      ]
    },
    {
      "cell_type": "markdown",
      "metadata": {
        "id": "qWrM-ucnHM3u"
      },
      "source": [
        "Let's compare the results to the exact search we performed before. How does it compare? What if we tweak the `search_k` above?"
      ]
    },
    {
      "cell_type": "code",
      "execution_count": null,
      "metadata": {
        "id": "WuAWyJzxDEyu"
      },
      "outputs": [],
      "source": [
        "similar_ids = get_top_k_most_similar_movies(\"Avengers: Age of Ultron (2015)\", state.params['params']['item_embs']['embedding'], 10)\n",
        "for id in similar_ids:\n",
        "  print(id_to_movie_mapping[id])"
      ]
    },
    {
      "cell_type": "markdown",
      "metadata": {
        "id": "pfX_PVxWSEOL"
      },
      "source": [
        "### **2.7. Types of Feedback**\n",
        "\n",
        "To build recommender systems, there are two types of feedback we train our models against.\n",
        "- **Explicit**: users specify whether or not they liked an item and sometimes even by how much. Examples of this are a thumbs up or thumbs down on a youtube video, review scores of a product, or even a movie rating!\n",
        "- **Implicit**: the feedback is inferred based on how the users are interacting with the items. For example clicking an item, watching a video video, adding a product to your basket and/or purchasing.\n",
        "\n",
        "The key differences between them is that explicit feedback is more sparse but gives you a higher confidence in to the users intent while implicit data is abundant but also noisier.\n",
        "\n",
        "Usually both types of feedback are collected in the online services you use. Explicit feedback comes from the users naturally using the product (for e.g. reviewing the product) while the implicit data is usually coming from the telemetry infrastructure monitoring how users are interacting with your application. Depending on the maturity of this infrastructure, this can simply be logging what you're clicking on but can also include timing how long you've been on a page, the location your web requests are originating from, tracking exactly what content you've been exposed to, and even whether you simply hovered over an item and for how long. All of this data is logged and dumped into massive data stores to be later cleaned, analysed, and eventually trained on to create the recommender models.\n",
        "\n",
        "Now we can actually answer the question posed in the title of this prac. These massive datasets comprised of both implicit and explicit feedback along with the large recommender models trained on them is how the recommendations can sometimes feels so good. So while your phone is not actually listening in on your conversation where you might have expressed some interest in those items, you more than likely also showed that interest implicitly by the simple usage of these internet platforms and this is all that was needed to figure out your preferences (especially when keeping in mind the thousands or even millions of people who might have interacted with the platform in similar ways). Now keep in mind how large these datasets and models can become. In this prac we built relatively small models on just 1MB of data and were still able to make plausible recommendations. They only get better when you scale them up.\n",
        "\n",
        "Hopefully now that your mind is at ease that you're not being spied on, we hope that you're now not nervous about how much of your usage data is being logged. At least no you can make a more informed decision about whether or not the quality of the recommendations you get is worth this tradeoff. Keep in mind, the purpose of these systems is to help you find the content you're looking for and discover content you might not have otherwise found. If this is still not worth it for you, luckily regulations are catching up and that it may start to become mandatory for to allow users to opt out of personalised recommendations."
      ]
    },
    {
      "cell_type": "markdown",
      "metadata": {
        "id": "mjWXX3vf_MH3"
      },
      "source": [
        "## **3. Building recommender systems using GNNs**\n",
        "\n",
        "In this section of the tutorial we will demonstrate how we can use graph neural networks in recommender systems.\n",
        "\n",
        "**Prerequisites:**\n",
        "\n",
        "- Familiarity with Jax, especially flax & jraph\n",
        "- A grasp on the basics of neural networks\n",
        "- A foundation in graph theory (Recommended: MIT Open Courseware [slides](https://ocw.mit.edu/courses/1-022-introduction-to-network-models-fall-2018/resources/mit1_022f18_lec2/) by Amir Ajorlou)\n",
        "- A recap from last year's tutorial on graph neural networks: [DLI GNN TUTORIAL](https://colab.research.google.com/github/deep-learning-indaba/indaba-pracs-2022/blob/main/practicals/GNN_practical.ipynb#scrollTo=51TEXn_OI4Ee)\n",
        "\n",
        "**Aims/Learning Objectives:**\n",
        "- The basic foundations of graphs and GNNs. This section is taken from last year's tutotial. Feel free to go through that tutorial for more in depth on graphs.\n",
        "- Frame link prediction tasks within the context of movie recommendations\n",
        "- Implementation of GCN for movie recommendations\n",
        "\n",
        "**Introduction**\n",
        "\n",
        "Graphs are a powerful and general representation of data with a wide range of applications. Most people are familiar with their use in contexts like social networks and biological systems. Another use case for graphs is in the realm of recommender systems. Later, we'll delve into the specifics of how we can frame recommendations as tasks within the context of graph neural networks. First let us go through the theory of GNNs and how they learn representations."
      ]
    },
    {
      "cell_type": "markdown",
      "metadata": {
        "id": "dLiatNhIyP33"
      },
      "source": [
        "\n",
        "### **3.1. Recap of graph fundamentals**\n",
        "\n",
        "A **graph** is a pair $\\mathscr{G} = (\\mathscr{V}, \\mathscr{E})$, where $\\mathscr{V}$ is the set of $N$ **vertices** (nodes), and $\\mathscr{E}$ is the set of graph **edges** (links), i.e., pairs $(u,v)$ representing a connection between two vertices $u,v \\in \\mathscr{V}$. An **undirected** graph is one in which $(u,v) \\in \\mathscr{E} \\implies (v,u) \\in \\mathscr{E}$.\n",
        "\n",
        "There are several ways to represent $\\mathscr{E}$:\n",
        "1. As a **list of edges**: a list of pairs $(u,v)$, where $(u,v)$ means that there is an edge going from node $u$ to node $v$.\n",
        "2. As an **adjacency matrix**: a binary square matrix $A$ of size $|\\mathscr{V}| \\times |\\mathscr{V}|$, where $A_{u,v}=1$ iff there is a connection between nodes $u$ and $v$.\n",
        "3. As an **adjacency list**: An array of $|\\mathscr{V}|$ unordered lists, where the $i$th list corresponds to the $i$th node, and contains all the nodes directly connected to node $i$.\n"
      ]
    },
    {
      "cell_type": "markdown",
      "metadata": {
        "id": "miqd_tpfzr5y"
      },
      "source": [
        "Example: Below is a directed graph with four nodes and five edges.\n",
        "\n",
        "<image src=\"https://storage.googleapis.com/dm-educational/assets/graph-nets/toy_graph.png\" width=\"400px\">\n",
        "\n",
        "The arrows on the edges indicate the direction of each edge, e.g. there is an edge going from node 0 to node 1. Between node 0 and node 3, there are two edges: one going from node 0 to node 3 and one from node 3 to node 0.\n",
        "\n",
        "Node 0 has out-degree of 2, since it has two outgoing edges, and an in-degree of 2, since it has two incoming edges.\n",
        "\n",
        "The list of edges is:\n",
        "$$[(0, 1), (0, 3), (1, 2), (2, 0), (3, 0)]$$\n",
        "\n",
        "As adjacency matrix:\n",
        "\n",
        "$$\\begin{array}{l|llll}\n",
        " source \\setminus dest    & n_0 & n_1 & n_2 & n_3 \\\\ \\hline\n",
        "n_0 & 0    & 1    & 0    & 1    \\\\\n",
        "n_1 & 0    & 0    & 1    & 0    \\\\\n",
        "n_2 & 1    & 0    & 0    & 0    \\\\\n",
        "n_3 & 1    & 0    & 0    & 0\n",
        "\\end{array}$$\n",
        "\n",
        "As adjacency list:\n",
        "\n",
        "$$[\\{1, 3\\}, \\{2\\}, \\{0\\}, \\{0\\}]$$\n",
        "\n"
      ]
    },
    {
      "cell_type": "markdown",
      "metadata": {
        "id": "WZpm6OM0L7Rc"
      },
      "source": [
        "#### **3.1.2. Graph Neural Network Theory**"
      ]
    },
    {
      "cell_type": "markdown",
      "metadata": {
        "id": "rIg_7STnMBLW"
      },
      "source": [
        "A GNN is a neural network designed to work on graph data. We start with an initial representation of our problem in the form of a graph. In the figure below, you can see an example of such a graph. The diagram illustrates new important aspects of graph neural networks:\n",
        "- Each node has an initial vector representation (grey box associated with each node)\n",
        "- Node are connected by different edge types (represented by different coloured arrows)."
      ]
    },
    {
      "cell_type": "markdown",
      "metadata": {
        "id": "KFRNJeCsTOfk"
      },
      "source": [
        "![Screenshot from 2022-07-07 21-14-36.png](data:image/png;base64,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)\n",
        "\n",
        "*Image Source: [An Introduction to Graph Neural Networks: Models and Application ](https://www.youtube.com/watch?v=zCEYiCxrL_0&t=824s)*"
      ]
    },
    {
      "cell_type": "markdown",
      "metadata": {
        "id": "L5PbGwqo9pa-"
      },
      "source": [
        "The GNN updates these node representations during training, outputting task-specific output representations. An overview of this process is illustrated below:"
      ]
    },
    {
      "cell_type": "markdown",
      "metadata": {
        "id": "PNN5gRjlTsZ4"
      },
      "source": [
        "![image.png](data:image/png;base64,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)\n",
        "\n",
        "\n",
        "*Image Source: [An Introduction to Graph Neural Networks: Models and Application ](https://www.youtube.com/watch?v=zCEYiCxrL_0&t=824s)*"
      ]
    },
    {
      "cell_type": "markdown",
      "metadata": {
        "id": "ig5Ooc1IT0CG"
      },
      "source": [
        "Neural Message Passing is a popular framework to perform this update. In a nutshell, each node representation is updated by exchanging information with the neighbouring nodes. To examine the node update in detail, let's consider a smaller neighbourhood of the graph such as nodes D, E and F pictured below.\n",
        "\n",
        "![Screenshot from 2022-07-07 21-22-18.png](data:image/png;base64,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)"
      ]
    },
    {
      "cell_type": "markdown",
      "metadata": {
        "id": "j8qh_AwpViPM"
      },
      "source": [
        "To update the vector representation of node F, we consider the following:\n",
        "\n",
        "- Current vector representation of node F\n",
        "- Vector representations of all nodes connected to F (e.g. E and D).\n",
        "- Edge types of connected nodes.  \n",
        "\n",
        "For each neighbour node (e.g. E and F) we compute a 'message' using some function $f$, which takes in the adjacent node representation and edge type as input. The output of function $f$ is the message vector. There are a vareity of different functions we could use to prepare this message and we'll go into some concrete examples later in the tutorial.\n",
        "\n",
        "The messages from all the adjacent nodes are then summarized and used to update the current node state. The diagram below illustrates this process, whereby the vector representation of node F at time $t$ is labelled as $h^{n}_{t-1}$.\n",
        "\n",
        "The notation is as follows:\n",
        "- $t$ = timestep\n",
        "- $h$ = node vector representation\n",
        "- $k$ = edge type\n",
        "- $f$ = function which prepares a message\n",
        "- $⋃$ = function which summarised the messages\n",
        "- $q$ = node update function\n",
        "\n",
        "![Screenshot from 2022-07-07 21-25-03.png](data:image/png;base64,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)\n",
        "\n",
        "*Image Source: [An Introduction to Graph Neural Networks: Models and Application ](https://www.youtube.com/watch?v=zCEYiCxrL_0&t=824s)*"
      ]
    },
    {
      "cell_type": "markdown",
      "metadata": {
        "id": "S6Mn3J4eZp8l"
      },
      "source": [
        "The equation at the bottom of the image is coloured coded to match the step in the diagram. For example, black represents the function to prepare the message, blue the function to summarise these messages and orange to update the node step.\n",
        "\n",
        "Note that $⋃$ must be permutation invariant, as the messages are not ordered."
      ]
    },
    {
      "cell_type": "markdown",
      "metadata": {
        "id": "qc-PDBzFl3Mc"
      },
      "source": [
        "### **3.2. Graph Prediction Tasks**\n",
        "\n",
        "What are the kinds of problems we want to solve on graphs?\n",
        "\n",
        "\n",
        "The tasks fall into roughly three categories:\n",
        "\n",
        "1. **Node Classification**: E.g. what is the topic of a paper given a citation network of papers?\n",
        "2. **Link Prediction / Edge Classification**: E.g. are two people in a social network friends?\n",
        "3. **Graph Classification**: E.g. is this protein molecule (represented as a graph) likely going to be effective?\n",
        "\n",
        "<image src=\"https://storage.googleapis.com/dm-educational/assets/graph-nets/graph_tasks.png\" width=\"700px\">\n",
        "\n",
        "*The three main graph learning tasks. Image source: Petar Veličković.*\n",
        "\n",
        "Which examples of graph prediction tasks come to your mind? Which task types do they correspond to?\n"
      ]
    },
    {
      "cell_type": "markdown",
      "metadata": {
        "id": "MdhAhUTtpWj2"
      },
      "source": [
        "### **3.3. Formulating Recommender systems as a graph problem**\n",
        "\n",
        " A recommender system can be visualized as a graph, where entities (such as users and items) are nodes, and the interactions between them (such as ratings or purchase history) are edges. In the context of a movie recommendation system:\n",
        "\n",
        "- Nodes represent:\n",
        "    - Users: Individuals consuming the content.\n",
        "    - Movies: Content items to be recommended.\n",
        "- Edges represent:\n",
        "    - Ratings: A directed edge from a user to a movie, annotated with a weight that indicates the rating (e.g., on a scale of 1 to 5).\n",
        "\n"
      ]
    },
    {
      "cell_type": "markdown",
      "metadata": {
        "id": "O-YcvPGDSXvF"
      },
      "source": [
        "#### **3.3.1. Link (or Edge) Prediction**\n",
        "\n",
        "One of the foundational tasks in graph-based recommender systems is link prediction. In essence, link prediction tries to predict whether a link (or edge) should exist between two nodes, even if it's currently absent. For our movie recommendation system, this translates to predicting whether a user would like (or dislike) a movie they haven't yet rated.\n",
        "\n",
        "The process works as follows:\n",
        "1. Train on existing edges: Use known ratings (edges) from users to movies to train a model.\n",
        "2. Predict missing edges: For a given user, predict ratings for movies they haven't seen or rated. This is akin to predicting missing or potential edges in our graph.\n",
        "3. Recommend based on predictions: Movies with the highest predicted ratings are recommended to the user.\n",
        "\n",
        "In this section of the tutorial, we will leverage graph neural networks (GNNs) for this link prediction task. The GNNs operate on the graph, aggregating information from neighboring nodes to produce accurate predictions for unseen edges. The below figure showcases a user-item sub-knowledge graph. Each icon denotes an entity or concept, and the connecting lines or edges symbolize the relationships between them."
      ]
    },
    {
      "cell_type": "markdown",
      "metadata": {
        "id": "gVroFW_L9TP1"
      },
      "source": [
        "![Description](https://drive.google.com/uc?export=view&id=1OeP-Ufd1zK27IS7cNXug2TZ56NcqTX-B)\n",
        "\n",
        "*Image source: [HI2Rec: Exploring Knowledge in Heterogeneous Information for Movie Recommendation](https://www.semanticscholar.org/paper/HI2Rec%3A-Exploring-Knowledge-in-Heterogeneous-for-He-Wang/038eb4e6839352c8fa8f9c4f5ae5ff958e14c5a3)*"
      ]
    },
    {
      "cell_type": "code",
      "execution_count": null,
      "metadata": {
        "cellView": "form",
        "id": "RNKOrJhl-gNN"
      },
      "outputs": [],
      "source": [
        "#@title Load movielens dataset function\n",
        "def load_movielens_dataframes():\n",
        "    \"\"\"\n",
        "    Load the movielens/100k-ratings and movielens/100k-movies datasets from TFDS.\n",
        "\n",
        "    Returns:\n",
        "        ratings_df (pd.DataFrame): DataFrame containing the user ratings data.\n",
        "        movies_df (pd.DataFrame): DataFrame containing the movie details.\n",
        "\n",
        "    Example:\n",
        "        ratings_df, movies_df = load_movielens_dataframes()\n",
        "    \"\"\"\n",
        "\n",
        "    # Load the data\n",
        "    ratings = tfds.load('movielens/100k-ratings', split=\"train\", download=True)\n",
        "    movies = tfds.load('movielens/100k-movies', split=\"train\", download=True)\n",
        "\n",
        "    # Convert ratings data to DataFrame\n",
        "    ratings_records = [{\n",
        "        'user_id': example['user_id'].numpy().decode('utf-8'),\n",
        "        'movie_id': example['movie_id'].numpy().decode('utf-8'),\n",
        "        'user_rating': example['user_rating'].numpy()\n",
        "    } for example in ratings]\n",
        "    ratings_df = pd.DataFrame(ratings_records)\n",
        "\n",
        "    # Convert movies data to DataFrame\n",
        "    movies_records = [{\n",
        "        'movie_title': example['movie_title'].numpy().decode('utf-8'),\n",
        "        'movie_id': example['movie_id'].numpy().decode('utf-8'),\n",
        "        'movie_genres': list(example['movie_genres'].numpy()) # already encoded (e.g., 1 might correspond to \"Action\", 2 to \"Comedy\", and so forth)\n",
        "    } for example in movies]\n",
        "    movies_df = pd.DataFrame(movies_records)\n",
        "\n",
        "    return ratings_df, movies_df"
      ]
    },
    {
      "cell_type": "code",
      "execution_count": null,
      "metadata": {
        "id": "76l6TQb8-gNO"
      },
      "outputs": [],
      "source": [
        "# load movielens data as pandas dataframe\n",
        "ratings_df, movies_df = load_movielens_dataframes()"
      ]
    },
    {
      "cell_type": "code",
      "execution_count": null,
      "metadata": {
        "id": "T67M-quoXP-9"
      },
      "outputs": [],
      "source": [
        "movies_df.head()"
      ]
    },
    {
      "cell_type": "code",
      "execution_count": null,
      "metadata": {
        "id": "HP0ePI3v6mH9"
      },
      "outputs": [],
      "source": [
        "ratings_df.head()"
      ]
    },
    {
      "cell_type": "code",
      "execution_count": null,
      "metadata": {
        "id": "9jD7ArFfbU3-"
      },
      "outputs": [],
      "source": [
        "movies_df.shape, ratings_df.shape"
      ]
    },
    {
      "cell_type": "code",
      "execution_count": null,
      "metadata": {
        "id": "08aas4F0-gNO"
      },
      "outputs": [],
      "source": [
        "print('number of unique movies: ', len(ratings_df.movie_id.unique()))\n",
        "print('number of unique users: ', len(ratings_df.user_id.unique()))"
      ]
    },
    {
      "cell_type": "markdown",
      "metadata": {
        "id": "892snYCoxXZ-"
      },
      "source": [
        "Since our data is not structured as graph, we will use the below helper class to transform our tabular data into graph."
      ]
    },
    {
      "cell_type": "code",
      "execution_count": null,
      "metadata": {
        "cellView": "form",
        "id": "ibPCUIKX-gNO"
      },
      "outputs": [],
      "source": [
        "#@title Transform data into graph\n",
        "class GraphDataPreparation:\n",
        "    def __init__(\n",
        "        self, ratings_df: pd.DataFrame, movies_df: pd.DataFrame, split = 0.2\n",
        "    ):\n",
        "        \"\"\"\n",
        "        Initialize the class with ratings and movies dataframes.\n",
        "\n",
        "        Args:\n",
        "            ratings_df: DataFrame with ratings data.\n",
        "            movies_df: DataFrame with movies data.\n",
        "        \"\"\"\n",
        "        self.ratings_df = ratings_df\n",
        "        self.movies_df = movies_df\n",
        "\n",
        "        # Create mappings for userId and movieId to new continuous indexes\n",
        "        self.user_mapping = {\n",
        "            user_id: i for i, user_id in enumerate(self.ratings_df.user_id.unique())\n",
        "        }\n",
        "        self.movie_mapping = {\n",
        "            movie_id: i for i, movie_id in enumerate(self.ratings_df.movie_id.unique())\n",
        "        }\n",
        "        # Apply the mappings to set new continuous userIds and movieIds\n",
        "        self.ratings_df[\"user_id\"] = self.ratings_df[\"user_id\"].map(self.user_mapping)\n",
        "        self.ratings_df[\"movie_id\"] = self.ratings_df[\"movie_id\"].map(\n",
        "            self.movie_mapping\n",
        "        )\n",
        "        self.movies_df[\"movie_id\"] = self.movies_df[\"movie_id\"].map(self.movie_mapping)\n",
        "        # Initialize edge splitting transformation\n",
        "        self.transform = RandomLinkSplit(is_undirected=False, num_val=split)\n",
        "\n",
        "    def create_edge_index(self):\n",
        "        \"\"\"\n",
        "        Create an edge index for the graph. Edge direction is from user to movie.\n",
        "\n",
        "        Returns:\n",
        "            A tensor representing the edge index.\n",
        "        \"\"\"\n",
        "        user_nodes = self.ratings_df[\"user_id\"].to_numpy()\n",
        "        movie_nodes = (\n",
        "            self.ratings_df[\"movie_id\"].to_numpy()\n",
        "            + self.ratings_df[\"user_id\"].nunique()\n",
        "        )\n",
        "\n",
        "        edge_index = torch.tensor(np.array([user_nodes, movie_nodes]), dtype=torch.long)\n",
        "\n",
        "        return edge_index\n",
        "\n",
        "    def create_edge_features(self):\n",
        "        \"\"\"\n",
        "        Create edge features for the graph.\n",
        "\n",
        "        Returns:\n",
        "            A tensor representing the edge features.\n",
        "        \"\"\"\n",
        "        ratings = self.ratings_df[\"user_rating\"].to_numpy()\n",
        "        edge_attr = torch.tensor(ratings, dtype=torch.float).view(-1, 1)\n",
        "\n",
        "        return edge_attr\n",
        "\n",
        "    def create_node_features(self):\n",
        "        \"\"\"\n",
        "        Create node features for the graph.\n",
        "\n",
        "        Returns:\n",
        "            A tensor representing the node features.\n",
        "        \"\"\"\n",
        "\n",
        "        # Prepare movie features\n",
        "        movie_genres = self.movies_df[\"movie_genres\"].apply(lambda x: pd.Series(x))\n",
        "        movie_features = (\n",
        "            pd.get_dummies(movie_genres.stack()).groupby(level=0).sum().values\n",
        "        )\n",
        "\n",
        "        # Prepare user features\n",
        "        num_users = self.ratings_df[\"user_id\"].nunique()\n",
        "        user_embeddings = torch.nn.Embedding(num_users, movie_features.shape[1])\n",
        "        user_features = user_embeddings.weight.detach().numpy()\n",
        "\n",
        "        # Combine user and movie features\n",
        "        node_features = np.vstack([user_features, movie_features])\n",
        "        node_features = torch.tensor(node_features, dtype=torch.float)\n",
        "\n",
        "        return node_features\n",
        "\n",
        "    def create_edge_mask(self, original_edge_index, edge_label_index):\n",
        "        # Convert the edges to a set of tuples for easy lookup\n",
        "        label_edges_set = set([tuple(x) for x in edge_label_index.t().numpy()])\n",
        "\n",
        "        # Generate the mask by checking each edge in original_edge_index\n",
        "        mask = [tuple(x) for x in original_edge_index.t().numpy()]\n",
        "        mask = [edge in label_edges_set for edge in mask]\n",
        "\n",
        "        return np.array(mask)[:, None]\n",
        "\n",
        "    def convert_to_jraph(self, data):\n",
        "        \"\"\" Convert the Pytorch Data Object \"\"\"\n",
        "        graph = jraph.GraphsTuple(\n",
        "            nodes=np.array(data.x),\n",
        "            edges=np.array(data.edge_attr),\n",
        "            n_node=np.array([data.num_nodes]),\n",
        "            n_edge=np.array([data.num_edges]),\n",
        "            senders=np.array(data.edge_index[0]),  # users are source\n",
        "            receivers=np.array(data.edge_index[1]),  # movies are recievers\n",
        "            globals=np.array([])\n",
        "        )\n",
        "        return graph\n",
        "\n",
        "    def prepare_data(self):\n",
        "        \"\"\"\n",
        "        Prepare the graph data.\n",
        "\n",
        "        Returns:\n",
        "            A train and test PyG Data object with the prepared graph data.\n",
        "        \"\"\"\n",
        "        edge_index = self.create_edge_index()\n",
        "        edge_attr = self.create_edge_features()\n",
        "        node_features = self.create_node_features()\n",
        "        graph = Data(x=node_features, edge_index=edge_index, edge_attr=edge_attr)\n",
        "        train_graph, val_graph, test_graph = self.transform(graph)\n",
        "\n",
        "        train_mask = self.create_edge_mask(graph.edge_index, train_graph.edge_label_index)\n",
        "        val_mask = self.create_edge_mask(graph.edge_index, val_graph.edge_label_index)\n",
        "        test_mask = self.create_edge_mask(graph.edge_index, test_graph.edge_label_index)\n",
        "        graph = self.convert_to_jraph(graph)\n",
        "        return graph, train_mask, val_mask, test_mask\n"
      ]
    },
    {
      "cell_type": "code",
      "execution_count": null,
      "metadata": {
        "id": "Opi7kfWZHhaM"
      },
      "outputs": [],
      "source": [
        "# Convert data into graph\n",
        "graph_prep = GraphDataPreparation(ratings_df = ratings_df.copy(), movies_df = movies_df.copy(), split=0.4)\n",
        "graph, train_mask, val_mask, test_mask = graph_prep.prepare_data()\n",
        "graph.edges.shape"
      ]
    },
    {
      "cell_type": "markdown",
      "metadata": {
        "id": "uyp3msOAyga1"
      },
      "source": [
        "We will use graph convolution neural network (GCN) as our model. For more in-depth understanding of GCN, please go throught the above provided resources in your free time."
      ]
    },
    {
      "cell_type": "code",
      "execution_count": null,
      "metadata": {
        "cellView": "form",
        "id": "1JRhezle-gNP"
      },
      "outputs": [],
      "source": [
        "#@title Model\n",
        "class MLP(nn.Module):\n",
        "  \"\"\"A flax MLP.\"\"\"\n",
        "  features: Sequence[int]\n",
        "  kernel_init: Callable = jax.nn.initializers.he_uniform()\n",
        "  bias_init: Callable = jax.nn.initializers.zeros\n",
        "\n",
        "  @nn.compact\n",
        "  def __call__(self, inputs):\n",
        "    x = inputs\n",
        "    for i, feat in enumerate(self.features):\n",
        "        lyr = nn.Dense(feat, kernel_init=self.kernel_init, bias_init=self.bias_init, name=f\"mlp_dense_{i}\")\n",
        "        x = lyr(x)\n",
        "        x = nn.relu(x)\n",
        "        if i != len(self.features) - 1:\n",
        "            x = nn.relu(x)\n",
        "    return x\n",
        "\n",
        "def make_embed_fn(latent_size):\n",
        "    def embed(inputs):\n",
        "        return nn.Dense(latent_size)(inputs)\n",
        "    return embed\n",
        "\n",
        "class GraphConvLayer(nn.Module):\n",
        "\n",
        "  output_decoder_dim: int\n",
        "  latent_size: int\n",
        "  update_node_fn: Callable\n",
        "  aggregate_nodes_fn: Callable = jax.ops.segment_sum\n",
        "  add_self_edges: bool = False\n",
        "  symmetric_normalization: bool = True\n",
        "  layer_norm: bool = False\n",
        "\n",
        "  @nn.compact\n",
        "  def __call__(self, graph):\n",
        "    gcn = GraphConvolution(\n",
        "        update_node_fn=self.update_node_fn,\n",
        "        aggregate_nodes_fn=self.aggregate_nodes_fn,\n",
        "        add_self_edges=self.add_self_edges,\n",
        "        symmetric_normalization=self.symmetric_normalization\n",
        "    )\n",
        "    graph = gcn(graph)\n",
        "    if self.layer_norm:\n",
        "      # Apply layer normalization to the node embeddings\n",
        "      normalized_nodes = nn.LayerNorm()(graph.nodes)\n",
        "      # Update the graph with the normalized node embeddings\n",
        "      graph = graph._replace(nodes=normalized_nodes)\n",
        "\n",
        "    edge_predictions = jnp.sum(graph.nodes[graph.senders] * graph.nodes[graph.receivers], axis=-1)\n",
        "    edge_predictions = jnp.expand_dims(edge_predictions, axis=1)\n",
        "    edge_predictions = nn.Dense(self.output_decoder_dim, name=\"mlp_dense_output\")(edge_predictions)\n",
        "\n",
        "    # Apply sigmoid activation and scale it\n",
        "    edge_predictions = 4 * jax.nn.sigmoid(edge_predictions) + 1\n",
        "    return edge_predictions"
      ]
    },
    {
      "cell_type": "code",
      "execution_count": null,
      "metadata": {
        "id": "TKOGluw0-gNP"
      },
      "outputs": [],
      "source": [
        "# Define one layer gcn\n",
        "gcn_layer = GraphConvLayer(\n",
        "    output_decoder_dim = 1,\n",
        "    latent_size = 64,\n",
        "    update_node_fn=lambda n: MLP(features=[64, 64])(n),\n",
        "    aggregate_nodes_fn=jax.ops.segment_sum,\n",
        "    add_self_edges=False,\n",
        "    symmetric_normalization=True\n",
        ")\n",
        "\n",
        "# Initialize to see the output shapes\n",
        "params = gcn_layer.init(jax.random.PRNGKey(42), graph)\n",
        "output = gcn_layer.apply(params, graph)\n",
        "output.shape, graph.edges.shape"
      ]
    },
    {
      "cell_type": "code",
      "execution_count": null,
      "metadata": {
        "id": "t2vMHHHQY5oP"
      },
      "outputs": [],
      "source": [
        "# Define loss function\n",
        "def l1_loss(logits: np.ndarray, y: np.ndarray, mask: np.array, reduction: str = \"mean\") -> np.ndarray:\n",
        "    \"\"\"Implementation of l1_loss.\n",
        "\n",
        "    Args:\n",
        "        logits: model output logits.\n",
        "        y: class labels.\n",
        "        reduction: if reduction is mean, the average is returned, else if it is sum, the sum is returned.\n",
        "\n",
        "    Returns:\n",
        "       l1 loss.\n",
        "    \"\"\"\n",
        "    logits_masked = logits * mask.astype(int)\n",
        "    preds_masked = y * mask.astype(int)\n",
        "    if reduction == \"mean\":\n",
        "        loss = jnp.mean(jnp.abs(logits_masked - preds_masked))\n",
        "    if reduction == \"sum\":\n",
        "        loss = jnp.sum(jnp.abs(logits_masked - preds_masked))\n",
        "\n",
        "    return loss\n",
        "\n",
        "# check random loss without training\n",
        "l1_loss(output, graph.edges, mask=val_mask)"
      ]
    },
    {
      "cell_type": "code",
      "execution_count": null,
      "metadata": {
        "cellView": "form",
        "id": "uwsD2A7e-gNP"
      },
      "outputs": [],
      "source": [
        "#@title Define flax train state\n",
        "def create_train_state(\n",
        "    model, graph, tx, rngs\n",
        "):\n",
        "    \"\"\"Train state. This function initializes the model.\"\"\"\n",
        "\n",
        "    @jax.jit\n",
        "    def initialize(params_rng):\n",
        "        variables = model.init(\n",
        "            params_rng,\n",
        "            graph,\n",
        "        )\n",
        "        return variables\n",
        "\n",
        "    variables = initialize(rngs)\n",
        "    state = train_state.TrainState.create(apply_fn=model.apply, params=variables[\"params\"], tx=tx)\n",
        "\n",
        "    param_count = sum(x.size for x in jax.tree_util.tree_leaves(state.params))\n",
        "    print(\"---> number of model parameters: \", param_count)\n",
        "    return state"
      ]
    },
    {
      "cell_type": "code",
      "execution_count": null,
      "metadata": {
        "id": "jTEGj4ti-gNQ"
      },
      "outputs": [],
      "source": [
        "# Initialize model, train state, and other hparams\n",
        "optimizer = optax.adam(learning_rate=0.001)\n",
        "rng = jax.random.PRNGKey(0)\n",
        "rng, init_rng = jax.random.split(rng)\n",
        "rngs = {\"params\": rng, \"dropout\": init_rng}\n",
        "\n",
        "model = GraphConvLayer(\n",
        "    output_decoder_dim = 1,\n",
        "    latent_size = 128,\n",
        "    update_node_fn=lambda n: MLP(features=[128, 128, 64])(n),\n",
        "    aggregate_nodes_fn=jax.ops.segment_sum,\n",
        "    add_self_edges=True,\n",
        "    layer_norm=True,\n",
        "    symmetric_normalization=True\n",
        ")\n",
        "state = create_train_state(\n",
        "    model=model,\n",
        "    graph=graph,\n",
        "    tx=optimizer,\n",
        "    rngs=rngs,\n",
        ")"
      ]
    },
    {
      "cell_type": "markdown",
      "metadata": {
        "id": "cK56KwNzzis5"
      },
      "source": [
        "As you can see our model has 27458 parameters. You can play with this by changing hyper-parameters such as latent_size, MLP features, etc. Next, we will define train and evaluation steps and train the model."
      ]
    },
    {
      "cell_type": "code",
      "execution_count": null,
      "metadata": {
        "cellView": "form",
        "id": "f7Z_QtbN-gNQ"
      },
      "outputs": [],
      "source": [
        "# @title Train step\n",
        "@jax.jit\n",
        "def train_step(\n",
        "    state: train_state.TrainState,\n",
        "    graph: jnp.array,\n",
        "    labels: jnp.ndarray,\n",
        "    mask: jnp.ndarray,\n",
        "    rngs: dict,\n",
        ") -> Tuple[train_state.TrainState, tuple]:\n",
        "    \"\"\"Performs one update step over the graph.\n",
        "\n",
        "    Args:\n",
        "        state: training state.\n",
        "        graph: graph node features.\n",
        "        labels: graph edge labels.\n",
        "        mask: mask for labels to consider for optimization\n",
        "        rngs: rngs for droupout\n",
        "\n",
        "    Returns:\n",
        "        Current training state, the loss, and logits.\n",
        "    \"\"\"\n",
        "    step = state.step\n",
        "    rngs = {name: jax.random.fold_in(rng, step) for name, rng in rngs.items()}\n",
        "\n",
        "    def loss_fn(params, graph, labels):\n",
        "        # Compute logits and resulting loss.\n",
        "        variables = {\"params\": params}\n",
        "        logits = state.apply_fn(\n",
        "            variables,\n",
        "            graph=graph,\n",
        "            rngs=rngs,\n",
        "        )\n",
        "        loss = l1_loss(logits=logits, y=labels, mask=mask)\n",
        "        return loss, logits\n",
        "\n",
        "    grad_fn = jax.value_and_grad(loss_fn, has_aux=True)\n",
        "    (loss, logits), grads = grad_fn(state.params, graph, labels)\n",
        "    new_state = state.apply_gradients(grads=grads)\n",
        "    return new_state, (loss, logits)\n"
      ]
    },
    {
      "cell_type": "code",
      "execution_count": null,
      "metadata": {
        "cellView": "form",
        "id": "tFcdDJg_-gNQ"
      },
      "outputs": [],
      "source": [
        "# @title Evaluation step\n",
        "@jax.jit\n",
        "def evaluate_step(\n",
        "    state: train_state.TrainState,\n",
        "    graph: jnp.array,\n",
        "    labels: jnp.ndarray,\n",
        "    mask: jnp.ndarray,\n",
        "    dropout_rng: dict = None,\n",
        ") -> tuple:\n",
        "    \"\"\"Performs evaluation step over a set of inputs.\"\"\"\n",
        "    variables = {\"params\": state.params}\n",
        "    logits = state.apply_fn(\n",
        "        variables,\n",
        "        graph=graph,\n",
        "        rngs=dropout_rng,\n",
        "    )\n",
        "    loss = l1_loss(logits=logits, y=labels, mask=mask)\n",
        "    return (loss, logits)"
      ]
    },
    {
      "cell_type": "code",
      "execution_count": null,
      "metadata": {
        "cellView": "form",
        "id": "TftMqFOi-gNQ"
      },
      "outputs": [],
      "source": [
        "# @title Train loop function\n",
        "def train_eval(state, graph, train_mask, val_mask, rng, epochs = 10):\n",
        "    final_train_loss = []\n",
        "    final_val_loss = []\n",
        "    for epoch in range(epochs):\n",
        "        rng, epoch_rng = jax.random.split(rng)\n",
        "        epoch_rng = {\"dropout\": epoch_rng}\n",
        "\n",
        "        state, (train_loss, train_logits) = train_step(state=state, graph=graph, labels=graph.edges, mask=train_mask, rngs = epoch_rng)\n",
        "        val_loss, val_logits = evaluate_step(state=state, graph=graph, mask=val_mask, labels=graph.edges)\n",
        "        print(f\"Epoch: {epoch}, train_loss: {train_loss}, val_loss: {val_loss}\")\n",
        "        final_train_loss.append(train_loss.item())\n",
        "        final_val_loss.append(val_loss.item())\n",
        "\n",
        "    return (state, final_train_loss, final_val_loss)"
      ]
    },
    {
      "cell_type": "code",
      "execution_count": null,
      "metadata": {
        "id": "IS4Nf5vzZEbD"
      },
      "outputs": [],
      "source": [
        "# train the model\n",
        "epochs = 100\n",
        "final_state, final_train_loss, final_val_loss = train_eval(state=state, graph=graph, train_mask=train_mask, val_mask=val_mask, rng=rng, epochs = epochs)"
      ]
    },
    {
      "cell_type": "code",
      "execution_count": null,
      "metadata": {
        "id": "jewa4Hq8ZKJo"
      },
      "outputs": [],
      "source": [
        "# Plotting losses\n",
        "plt.figure(figsize=(10, 6))\n",
        "plt.plot(range(epochs), final_train_loss, label=\"Train Loss\", marker='o')\n",
        "plt.plot(range(epochs), final_val_loss, label=\"Validation Loss\", marker='*')\n",
        "plt.title(\"Training and Validation Loss\")\n",
        "plt.xlabel(\"Epochs\")\n",
        "plt.ylabel(\"Loss\")\n",
        "plt.legend()\n",
        "plt.grid(True)\n",
        "plt.tight_layout()\n",
        "plt.show()"
      ]
    },
    {
      "cell_type": "markdown",
      "metadata": {
        "id": "x2ufCvuiIZOg"
      },
      "source": [
        "#### **3.3.2. Inference**\n",
        "\n",
        "In this section, we will show how we can recommend top N movies for a specific user based on the trained GNN. Since we already have a test set edges. We will use this to demonstrate the inference. We will do the following:\n",
        "\n",
        "1. Extract test edges: With the test_mask, obtain the edges that belong to the test set.\n",
        "2. Predict ratings: For each of these test edges, use the trained GNN to predict a rating.\n",
        "3. Map to original data: Using the movie_mapping and user_mapping from the GraphDataPreparation class, convert the predicted edges back to the original movie and user IDs.\n",
        "4. Get movie names: For the mapped movie IDs, fetch the actual movie names.\n",
        "5. To get the top N recommended movies for a particular user, we will sort the movies based on the predicted ratings and then pick the top N movies for the user.\n",
        "\n",
        "\n",
        "Below we will implement two functions to do the above steps for us."
      ]
    },
    {
      "cell_type": "code",
      "execution_count": null,
      "metadata": {
        "id": "uM1qbPPgIbiG"
      },
      "outputs": [],
      "source": [
        "def infer_movie_ratings(graph, state, test_mask, data_prep: GraphDataPreparation):\n",
        "    \"\"\"\n",
        "    Infer movie ratings for the test set and map them to the original movies and users.\n",
        "\n",
        "    Args:\n",
        "        graph: The graph containing nodes and edges.\n",
        "        state: The trained state of the model.\n",
        "        test_mask: The mask indicating which edges belong to the test set.\n",
        "        data_prep: The GraphDataPreparation instance used to process the data.\n",
        "\n",
        "    Returns:\n",
        "        A DataFrame containing user IDs, movie names, and predicted ratings.\n",
        "    \"\"\"\n",
        "\n",
        "    # Using the test_mask, get the edges corresponding to the test set\n",
        "    test_edge_senders = graph.senders[test_mask.squeeze()]\n",
        "    test_edge_receivers = graph.receivers[test_mask.squeeze()] - len(data_prep.user_mapping)\n",
        "\n",
        "    # Predict the ratings using the trained model\n",
        "    _, logits = evaluate_step(state, graph, labels=graph.edges, mask=test_mask)\n",
        "    predicted_ratings = logits[test_mask]\n",
        "\n",
        "    # Map back to original user and movie IDs\n",
        "    reverse_user_mapping = {v: k for k, v in data_prep.user_mapping.items()}\n",
        "    reverse_movie_mapping = {v: k for k, v in data_prep.movie_mapping.items()}\n",
        "\n",
        "    original_user_ids = np.array([reverse_user_mapping[v] for v in test_edge_senders]).astype(int)\n",
        "    original_movie_ids = np.array([reverse_movie_mapping[v] for v in test_edge_receivers]).astype(int)\n",
        "\n",
        "    # Revert the remapping on the movie_id column of the movies_df\n",
        "    movies_df_original = data_prep.movies_df.copy()\n",
        "    movies_df_original['movie_id'] = movies_df_original['movie_id'].map(reverse_movie_mapping).astype(int)\n",
        "\n",
        "    # Get movie names using the original movie_ids\n",
        "    movie_title = movies_df_original.set_index('movie_id').loc[original_movie_ids, 'movie_title'].values\n",
        "\n",
        "    # Create a DataFrame with the results\n",
        "    result_df = pd.DataFrame({\n",
        "        'user_id': original_user_ids,\n",
        "        'movie_name': movie_title,\n",
        "        'predicted_rating': np.round(predicted_ratings, 3)\n",
        "    })\n",
        "\n",
        "    return result_df\n",
        "\n",
        "predicted_ratings_df = infer_movie_ratings(graph, final_state, test_mask, graph_prep)\n",
        "predicted_ratings_df.head()"
      ]
    },
    {
      "cell_type": "code",
      "execution_count": null,
      "metadata": {
        "id": "Rc9ZF3sNc5gV"
      },
      "outputs": [],
      "source": [
        "def get_top_n_recommendations(df, user_id, N=10):\n",
        "    \"\"\"\n",
        "    Get the top N recommended movies for a user.\n",
        "\n",
        "    Args:\n",
        "        df (pd.DataFrame): DataFrame containing user IDs, movie title, and predicted ratings.\n",
        "        user_id (int): The user ID for whom the recommendations are to be fetched.\n",
        "        N (int): The number of top movies to fetch.\n",
        "\n",
        "    Returns:\n",
        "        A list of top N movie title for the user.\n",
        "    \"\"\"\n",
        "\n",
        "    # Filter out the movies for the given user and sort them based on predicted ratings in descending order\n",
        "    top_movies = df[df['user_id'] == user_id].sort_values(by='predicted_rating', ascending=False).head(N)\n",
        "\n",
        "    return top_movies['movie_name'].tolist()\n",
        "\n",
        "# choose user ID to get it's N ratings\n",
        "user_id = 600\n",
        "N = 10\n",
        "top_10_movies = get_top_n_recommendations(predicted_ratings_df, user_id, N)\n",
        "print(f'Top {len(top_10_movies)} movies recommended for user ID: {user_id} are: ')\n",
        "\n",
        "for number, movie_title in enumerate(top_10_movies):\n",
        "    print(f'{number}: {movie_title}')"
      ]
    },
    {
      "cell_type": "markdown",
      "metadata": {
        "id": "fV3YG7QOZD-B"
      },
      "source": [
        "## Conclusion\n",
        "**Summary:**\n",
        "\n",
        "In this prac we introduced the general architecture of recommender systems and specifically focused on retrieving relevant items for users. We did this by demonstrating how Colaborative Filtering and GNNs could be used for this task. Lastly we also described the type of data that's collected and how it's all crunched to construct the datasets used to build the recommender models.\n",
        "\n",
        "**Next Steps:**\n",
        "\n",
        " - [Eugene Yan](https://eugeneyan.com/tag/recsys/) RecSys blog\n",
        " - [ACM RecSys YouTube](https://www.youtube.com/channel/UC2nEn-yNA1BtdDNWziphPGA)\n",
        "\n",
        "**References:**\n",
        "\n",
        "- Jeremy Howard & Silvain Gugger. [*Deep Learning for Coders with fastai and PyTorch*](https://www.oreilly.com/library/view/deep-learning-for/9781492045519/). 2020. O'Reilly.\n",
        "- Kim Falk. [*Practical Recommender Systems*](https://www.manning.com/books/practical-recommender-systems). 2019. Manning.\n",
        "- [*Google Recommendation Systems Course*](https://developers.google.com/machine-learning/recommendation).\n",
        "\n",
        "\n",
        "For other practicals from the Deep Learning Indaba, please visit [here](https://github.com/deep-learning-indaba/indaba-pracs-2023)."
      ]
    },
    {
      "cell_type": "markdown",
      "metadata": {
        "id": "o1ndpYE50BpG"
      },
      "source": [
        "## Feedback\n",
        "\n",
        "Please provide feedback that we can use to improve our practicals in the future."
      ]
    },
    {
      "cell_type": "code",
      "execution_count": null,
      "metadata": {
        "collapsed": true,
        "id": "OIZvkhfRz9Jz"
      },
      "outputs": [],
      "source": [
        "# @title Generate Feedback Form. (Run Cell)\n",
        "from IPython.display import HTML\n",
        "\n",
        "HTML(\n",
        "    \"\"\"\n",
        "<iframe\n",
        "\tsrc=\"https://forms.gle/Cg9aoa7czoZCYqxF7\",\n",
        "  width=\"80%\"\n",
        "\theight=\"1200px\" >\n",
        "\tLoading...\n",
        "</iframe>\n",
        "\"\"\"\n",
        ")"
      ]
    },
    {
      "cell_type": "markdown",
      "metadata": {
        "id": "oglV4kHMWnIN"
      },
      "source": [
        "<img src=\"https://baobab.deeplearningindaba.com/static/media/indaba-logo-dark.d5a6196d.png\" width=\"50%\" />"
      ]
    }
  ],
  "metadata": {
    "accelerator": "GPU",
    "colab": {
      "collapsed_sections": [
        "-ZUp8i37dFbU"
      ],
      "gpuType": "T4",
      "provenance": []
    },
    "kernelspec": {
      "display_name": "Python 3",
      "name": "python3"
    },
    "language_info": {
      "codemirror_mode": {
        "name": "ipython",
        "version": 3
      },
      "file_extension": ".py",
      "mimetype": "text/x-python",
      "name": "python",
      "nbconvert_exporter": "python",
      "pygments_lexer": "ipython3",
      "version": "3.9.17"
    },
    "vscode": {
      "interpreter": {
        "hash": "145833166d986a8417df3c7acb65d917d84b716b5a452e57fcacdc66f1a168c9"
      }
    }
  },
  "nbformat": 4,
  "nbformat_minor": 0
}