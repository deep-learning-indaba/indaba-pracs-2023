{
  "nbformat": 4,
  "nbformat_minor": 0,
  "metadata": {
    "colab": {
      "provenance": [],
      "collapsed_sections": [
        "nycDZL1DEHST",
        "_fsdlUFKGvfe",
        "D-h2S6tqj2FR",
        "OwA1Fh0CrQDB",
        "x5Mt7MqgD-xz",
        "75L3Jca8E8Y4",
        "fXRltjxo3sOn",
        "pNXGGoytarSk",
        "mAjBvpAgWHeN",
        "yUflKwKAwwLY",
        "xIyTqAEypl6F",
        "eZ4vmtwEzbtY",
        "pFjtIwHHUEHR",
        "fcISetQt1r_9"
      ],
      "toc_visible": true,
      "include_colab_link": true
    },
    "kernelspec": {
      "name": "python3",
      "display_name": "Python 3"
    },
    "language_info": {
      "name": "python"
    }
  },
  "cells": [
    {
      "cell_type": "markdown",
      "metadata": {
        "id": "view-in-github",
        "colab_type": "text"
      },
      "source": [
        "<a href=\"https://colab.research.google.com/github/JamesAllingham/indaba-pracs-2023/blob/intro-to-probability/Introduction_to_Probabilistic_Thinking_and_Programming.ipynb\" target=\"_parent\"><img src=\"https://colab.research.google.com/assets/colab-badge.svg\" alt=\"Open In Colab\"/></a>"
      ]
    },
    {
      "cell_type": "markdown",
      "metadata": {
        "id": "m2s4kN_QPQVe"
      },
      "source": [
        "# **Introduction to Probabilistic Thinking and Programming**\n",
        "\n",
        "<img src=\"https://www.pulsecarshalton.co.uk/wp-content/uploads/2016/08/jk-placeholder-image.jpg\" width=\"60%\" />\n",
        "\n",
        "[Add prac relevant image. Suggestions welcome!]\n",
        "\n",
        "<a href=\"https://colab.research.google.com/github/deep-learning-indaba/indaba-pracs-2023/blob/main/Introduction_to_Probabilistic_Thinking_and_Programming.ipynb\" target=\"_parent\"><img src=\"https://colab.research.google.com/assets/colab-badge.svg\" alt=\"Open In Colab\"/></a>\n",
        "\n",
        "© Deep Learning Indaba 2023. Apache License 2.0.\n",
        "\n",
        "**Authors:** Elizaveta Semenova, Kira Düsterwald & James Allingham\n",
        "\n",
        "**Reviewers:**\n",
        "\n",
        "**Introduction:**\n",
        "\n",
        "Thinking probabilistically and working with probability distributions can be very powerful tools for any machine learning practitioner. Unfortunately, they are tools that are often disregarded due to their *perceived* complexity. In this practical we hope to demistify these ideas by building intuition, provided practical tips, and introducing a very powerful framework for embracing the probabilistic approach – **probabilistic programming**. We'll both motivate why we need probabilistic programming and give a introduction for using it in practice.\n",
        "\n",
        "This prac is aimed at all knowledge levels! No matter what your prior experience with probabilistic thinking and/or programming, we are sure that you will be able to take away some useful knowledge from this practical. However, this means that depending on your level, some of the content will not be aimed at you. Don't worry, this will be clearly marked at all points. We reccomend that you try and stick to our suggestions in order to get the most out of this prac in the given time, but if curiosity gets the better of you that's also great!\n",
        "\n",
        "**Topics:**\n",
        "\n",
        "Content: <font color='red'>`Bayesian Probability`</font>, <font color='purple'>`Probabilistic Programming`</font>\n",
        "\n",
        "Level: <font color='blue'>`Beginner`</font>, <font color='orange'>`Intermediate`</font> & <font color='green'>`Advanced`</font>\n",
        "\n",
        "\n",
        "**Aims/Learning Objectives:**\n",
        "\n",
        "* [<font color='blue'>`Beginner`</font>] Understand what random variables and probability distributions are.\n",
        "* [<font color='blue'>`Beginner`</font>] Be able to work with probability distributions using `numpyro`.\n",
        "* [<font color='orange'>`Intermediate`</font>] Understand the difference between MLE, MAP, and Bayesian learning.\n",
        "* [<font color='green'>`Advanced`</font>] Understanding the challenges involved in computing Bayes rule, and how probabilistic programming solved these.\n",
        "* [<font color='green'>`Advanced`</font>] Be able to implement a simple probabilistic program with `numpyro`.\n",
        "\n",
        "**Prerequisites:**\n",
        "\n",
        "* Basic machine learning (e.g., simple supervised and unsupervised machine learning techniques).\n",
        "* Basic calculus (e.g., computing an integral and taking derivatives to solve min/max optimisation problems).\n",
        "* Python programming (with `jax` and `numpy`).\n",
        "\n",
        "**Outline:**\n",
        "\n",
        "[Points that link to each section. Auto-generate following the instructions [here](https://stackoverflow.com/questions/67458990/how-to-automatically-generate-a-table-of-contents-in-colab-notebook).]\n",
        "\n",
        "**Before you start:**\n",
        "\n",
        "For this practical, you will need to use a GPU to speed up training. To do this, go to the \"Runtime\" menu in Colab, select \"Change runtime type\" and then in the popup menu, choose \"GPU\" in the \"Hardware accelerator\" box.\n",
        "\n",
        "**Important:** you will also need to go to \"Tools\" > \"Settings\" > \"Miscellaneous\" > check \"Crab Mode\"."
      ]
    },
    {
      "cell_type": "markdown",
      "source": [
        "**Suggested experience level in this topic:**\n",
        "\n",
        "| Level         | Experience                            |\n",
        "| --- | --- |\n",
        "`Beginner`      | It is my first time being introduced to this work. |\n",
        "`Intermediate`  | I have done some basic courses/intros on this topic. |\n",
        "`Advanced`      | I work in this area/topic daily. |"
      ],
      "metadata": {
        "id": "SXAjuUBJG70B"
      }
    },
    {
      "cell_type": "code",
      "source": [
        "# @title [TODO] **Paths to follow:** What is your level of experience in the topics presented in this notebook? (Run Cell)\n",
        "experience = \"advanced\" #@param [\"beginner\", \"intermediate\", \"advanced\"]\n",
        "\n",
        "sections_to_follow=\"\"\n",
        "\n",
        "if experience == \"beginner\":\n",
        "  sections_to_follow=\"Introduction -> 1.1 Subsection -> 2.1 Subsection -> Conclusion -> Feedback\"\n",
        "elif experience == \"intermediate\":\n",
        "  sections_to_follow=\"Introduction -> 1.2 Subsection -> 2.2 Subsection -> Conclusion -> Feedback\"\n",
        "elif experience == \"advanced\":\n",
        "  sections_to_follow=\"Introduction -> 1.3 Subsection -> 2.3 Subsection -> Conclusion -> Feedback\"\n",
        "\n",
        "print(f\"Based on your experience, it is advised you follow these -- {sections_to_follow} sections. Note this is just a guideline.\")"
      ],
      "metadata": {
        "colab": {
          "base_uri": "https://localhost:8080/"
        },
        "id": "8NmnNOxPHA3t",
        "outputId": "65c9b291-e847-4eb5-b7c7-88b1d75d8ccc"
      },
      "execution_count": 1,
      "outputs": [
        {
          "output_type": "stream",
          "name": "stdout",
          "text": [
            "Based on your experience, it is advised you follow these -- Introduction -> 1.3 Subsection -> 2.3 Subsection -> Conclusion -> Feedback sections. Note this is just a guideline.\n"
          ]
        }
      ]
    },
    {
      "cell_type": "code",
      "source": [],
      "metadata": {
        "id": "QfhNTwjpHMtf"
      },
      "execution_count": 1,
      "outputs": []
    },
    {
      "cell_type": "markdown",
      "metadata": {
        "id": "6EqhIg1odqg0"
      },
      "source": [
        "## Installation and Imports"
      ]
    },
    {
      "cell_type": "code",
      "execution_count": 38,
      "metadata": {
        "id": "4boGA9rYdt9l",
        "outputId": "dd49ff12-348c-45e9-994a-500402d6e35b",
        "colab": {
          "base_uri": "https://localhost:8080/"
        }
      },
      "outputs": [
        {
          "output_type": "stream",
          "name": "stdout",
          "text": [
            "Requirement already satisfied: numpyro in /usr/local/lib/python3.10/dist-packages (0.12.1)\n",
            "Requirement already satisfied: jax>=0.4.7 in /usr/local/lib/python3.10/dist-packages (from numpyro) (0.4.14)\n",
            "Requirement already satisfied: jaxlib>=0.4.7 in /usr/local/lib/python3.10/dist-packages (from numpyro) (0.4.14+cuda11.cudnn86)\n",
            "Requirement already satisfied: multipledispatch in /usr/local/lib/python3.10/dist-packages (from numpyro) (1.0.0)\n",
            "Requirement already satisfied: numpy in /usr/local/lib/python3.10/dist-packages (from numpyro) (1.23.5)\n",
            "Requirement already satisfied: tqdm in /usr/local/lib/python3.10/dist-packages (from numpyro) (4.66.0)\n",
            "Requirement already satisfied: ml-dtypes>=0.2.0 in /usr/local/lib/python3.10/dist-packages (from jax>=0.4.7->numpyro) (0.2.0)\n",
            "Requirement already satisfied: opt-einsum in /usr/local/lib/python3.10/dist-packages (from jax>=0.4.7->numpyro) (3.3.0)\n",
            "Requirement already satisfied: scipy>=1.7 in /usr/local/lib/python3.10/dist-packages (from jax>=0.4.7->numpyro) (1.10.1)\n"
          ]
        }
      ],
      "source": [
        "## Install and import anything required. Capture hides the output from the cell.\n",
        "# @title Install and import required packages. (Run Cell)\n",
        "\n",
        "!pip install numpyro\n",
        "\n",
        "import jax\n",
        "from jax import random\n",
        "import jax.numpy as jnp\n",
        "from jax import random\n",
        "\n",
        "import numpyro\n",
        "numpyro.enable_validation()\n",
        "# ^ This allows numpyro to check e.g., if x is in the domain of a uniform dist.\n",
        "# Since speed isn't a requirement for a tutorial, let's keep it on.\n",
        "import numpyro.distributions as dist\n",
        "import numpy as np\n",
        "\n",
        "from scipy.stats import gaussian_kde\n",
        "import scipy.stats as stats\n",
        "import math\n",
        "import pandas as pd\n",
        "\n",
        "import seaborn as sns\n",
        "import matplotlib.pyplot as plt\n",
        "plt.rcParams['mathtext.fontset'] = 'cm'\n",
        "plt.rcParams['font.family'] = 'STIXGeneral'"
      ]
    },
    {
      "cell_type": "code",
      "execution_count": 3,
      "metadata": {
        "id": "-9X10jhocGaS",
        "cellView": "form"
      },
      "outputs": [],
      "source": [
        "# @title Helper Functions. (Run Cell)\n",
        "\n",
        "def Gaussian_conditional(mean, cov, x=None,y=None):\n",
        "  assert not (x is None and y is None) and not (x is not None and y is not None)\n",
        "  if x is not None:\n",
        "    var = cov[1,1] -  cov[1,0] * cov[0,0] ** (-1) * cov[0,1]\n",
        "    mu = mean[1] + cov[1,0] * cov[0,0] ** (-1) * (x - mean[0])\n",
        "  else:\n",
        "    var = cov[0,0] -  cov[0,1] * cov[1,1] ** (-1) * cov[1,0]\n",
        "    mu = mean[0] + cov[0,1] * cov[1,1] ** (-1) * (y - mean[1])\n",
        "  return mu, var**0.5\n",
        "\n",
        "def plot_log_gaussian_ellipse(ax, mean, cov, color='b', alpha=1, lw=1, label=None, MAP_size=5, std_levels=[1, 2, 4, 6]):\n",
        "\n",
        "  eigenvalues, eigenvectors = jnp.linalg.eigh(cov)\n",
        "  theta = jnp.linspace(0, 2*jnp.pi, 1200);\n",
        "  std_ellipsis = (jnp.sqrt(eigenvalues[None,:]) * eigenvectors) @ jnp.stack([jnp.sin(theta), jnp.cos(theta)])\n",
        "\n",
        "  artists = []\n",
        "\n",
        "  for level in std_levels:\n",
        "    artists.append(ax.plot(mean[0] + level*std_ellipsis[0,:],\n",
        "                           mean[1] + level*std_ellipsis[1,:], c=color,\n",
        "                           alpha=alpha, lw=lw))\n",
        "\n",
        "  artists.append(ax.scatter([mean[0]], [mean[1]], MAP_size, color=color,\n",
        "                            label=label, alpha=alpha, marker='x'))\n",
        "\n",
        "  return artists"
      ]
    },
    {
      "cell_type": "code",
      "execution_count": 4,
      "metadata": {
        "id": "KeJDUC-oVyhN",
        "outputId": "99ef9c63-c0ba-475f-a6de-90546df0dac5",
        "colab": {
          "base_uri": "https://localhost:8080/"
        }
      },
      "outputs": [
        {
          "output_type": "stream",
          "name": "stderr",
          "text": [
            "WARNING:jax._src.xla_bridge:No GPU/TPU found, falling back to CPU. (Set TF_CPP_MIN_LOG_LEVEL=0 and rerun for more info.)\n"
          ]
        }
      ],
      "source": [
        "# Since we are using Jax, we will need a random key:\n",
        "rng = random.PRNGKey(42)"
      ]
    },
    {
      "cell_type": "markdown",
      "source": [
        "# Probability distributions and random variables – <font color='blue'>`Beginner`</font>"
      ],
      "metadata": {
        "id": "ZNlT8E41STXX"
      }
    },
    {
      "cell_type": "markdown",
      "source": [
        "*Note: unless marked otherwise, all subsections in this section are <font color='blue'>`Beginner`</font> friendly.* 🙂\n",
        "\n",
        "In order to dive into the exciting world of probabilistic thinking and programming, we first need to build some important foundations. In particular, we will need understand what a probability distribution is, some simple but fundamental rules of probability, and how to interact with probabilities in code. Along with way, we will have some opportunities to explore some practical tips and tricks that will be very useful for our exploration of probabilistic world.\n",
        "\n",
        "Probability distributions and random variables allow us to describe and do calculations involving random events, i.e., events whose outcomes are random. An example of such a random event would be flipping a coin or rolling a die. In the first case, the possible outcomes are *heads* or *tails*.\n",
        "\n",
        "**Group task 1:** discuss with your neighbours, what are the possible outcomes when rolling a die?\n"
      ],
      "metadata": {
        "id": "-SyMxGciSYVv"
      }
    },
    {
      "cell_type": "markdown",
      "source": [
        "A **random variable** $X$ allows us to assign numerical values to the possible outcomes of a random event. For example in the coin flipping example we could use a binary random varible with $X = 1$ if the coin is heads and $X = 0$ for tails.\n",
        "\n",
        "**Group task 2:** discuss with your neighbours and write down a random variable to describe the die rolling event."
      ],
      "metadata": {
        "id": "0dZwrO_bEBns"
      }
    },
    {
      "cell_type": "markdown",
      "source": [
        "A **probability distribution** $p(X = x)$ describes the probability that $X$ takes each of its possible values $x$.\n",
        "\n",
        "In order to make things more concrete, let's explore a few common probabilty distributions."
      ],
      "metadata": {
        "id": "rVAonKYn2-mZ"
      }
    },
    {
      "cell_type": "markdown",
      "source": [
        "#### Answer to group task 1"
      ],
      "metadata": {
        "id": "nycDZL1DEHST"
      }
    },
    {
      "cell_type": "markdown",
      "source": [
        "Assuming that the die has 6 sides, the outcomes are ⚀, ⚁, ⚂, ⚃, ⚄, and ⚅."
      ],
      "metadata": {
        "id": "KJ1QCymdGqJ5"
      }
    },
    {
      "cell_type": "markdown",
      "source": [
        "#### Answer to group task 2\n"
      ],
      "metadata": {
        "id": "_fsdlUFKGvfe"
      }
    },
    {
      "cell_type": "markdown",
      "source": [
        "Note that there are many possible answers, here is one:\n",
        "\n",
        "$$\n",
        "X = \\begin{cases}\n",
        "1 \\text{ if } ⚀ \\\\\n",
        "2 \\text{ if } ⚁ \\\\\n",
        "3 \\text{ if } ⚂ \\\\\n",
        "4 \\text{ if } ⚃ \\\\\n",
        "5 \\text{ if } ⚄ \\\\\n",
        "6 \\text{ if } ⚅ \\\\\n",
        "\\end{cases}\n",
        "$$"
      ],
      "metadata": {
        "id": "P88zv4TkGvff"
      }
    },
    {
      "cell_type": "markdown",
      "source": [
        "### The Bernoulli distribution"
      ],
      "metadata": {
        "id": "5czMPIKY2c2y"
      }
    },
    {
      "cell_type": "markdown",
      "source": [
        "A Bernoulli distribution is used to describe random events with two possible outcomes e.g., when we have a random variable that takes on one of two values $x \\in \\{0, 1\\}$:\n",
        "\\begin{align}\n",
        "p(X = 1) &= p \\\\\n",
        "p(X = 0) &= 1 - p\n",
        "\\end{align}\n",
        "where $0 \\le p \\le 1$. Here $p$ is a parameter which controls the probability of each outcome. For example, in the case of a *fair* coin toss, $p = 0.5$ so that both outcomes have a 50\\% chance of occuring. As we will see shortly, most distributions have multiple parameters.\n",
        "\n",
        "A probability distribution can be uniquely defined by its probability mass function (PMF), or probability desnity function (PDF) in the case of continuous distributions. For the Bernoulli distribution we write the PMF as\n",
        "\\begin{align}\n",
        "p(X = x) = \\text{Bernoulli}(X\\mid p) &= \\begin{cases}\n",
        "p\\, & \\text{if } x = 1 \\\\\n",
        "1 - p\\, & \\text{if } x = 0\n",
        "\\end{cases} \\\\\n",
        "&= p^x(1-p)^{1-x}.\n",
        "\\end{align}\n",
        "\n",
        "**Exercise:** convince yourself that the two definitions of the Bernoulli distribution shown above are equivalent."
      ],
      "metadata": {
        "id": "76aOYczHEESu"
      }
    },
    {
      "cell_type": "markdown",
      "source": [
        "Now let's construct a Bernoulli distribution in code, so that we can play around with it and get some intuition.\n",
        "\n",
        "**Note:** In this practical we are going to use `numpyro` to construct our distributions. However there are several other `jax` packages that work similarly (e.g., `distrax`) as well as several options for `tensorflow` (e.g., `tensorflow_probability`) and `pytorch` (e.g., `torch.distribution`). Don't worry too much about the specifics of how `numpyro` works, e.g., the names of the distributions and their arguments, instead try to understand what the code is doing."
      ],
      "metadata": {
        "id": "MmbE11YdfUiX"
      }
    },
    {
      "cell_type": "code",
      "source": [
        "p = jnp.array(0.5)\n",
        "bernoulli = dist.Bernoulli(probs=p)"
      ],
      "metadata": {
        "id": "TSgMisgEN32q"
      },
      "execution_count": 5,
      "outputs": []
    },
    {
      "cell_type": "markdown",
      "source": [
        "Now that we have constructed the distribution we can get a sample from it:"
      ],
      "metadata": {
        "id": "_na1S1m4iai9"
      }
    },
    {
      "cell_type": "code",
      "source": [
        "sample = bernoulli.sample(key=rng)\n",
        "print(sample)"
      ],
      "metadata": {
        "colab": {
          "base_uri": "https://localhost:8080/"
        },
        "id": "7A9TQOXUf9-i",
        "outputId": "b89f1ddf-8c6d-43f4-c62e-cd33278498ca"
      },
      "execution_count": 6,
      "outputs": [
        {
          "output_type": "stream",
          "name": "stdout",
          "text": [
            "1\n"
          ]
        }
      ]
    },
    {
      "cell_type": "markdown",
      "source": [
        "And we can evaluate the probability of observing a sample.\n",
        "\n",
        "**Note:** the distribution objects in `numpyro` (and indeed most other libraries for probability distributions) return *log*-probabilities, rather than raw probabilities. This means that we need to take the exponent if we want to know the probabilitiy."
      ],
      "metadata": {
        "id": "FxBBsLKKiqPW"
      }
    },
    {
      "cell_type": "code",
      "source": [
        "log_prob = bernoulli.log_prob(sample)\n",
        "print(f\"log p(X = {sample}) = {log_prob}\")\n",
        "print(f\"p(X = {sample}) = {jnp.exp(log_prob)}\")"
      ],
      "metadata": {
        "colab": {
          "base_uri": "https://localhost:8080/"
        },
        "id": "E5OjpXAVii6j",
        "outputId": "c7989cbd-034a-49d9-f51e-8cbd1a126de6"
      },
      "execution_count": 7,
      "outputs": [
        {
          "output_type": "stream",
          "name": "stdout",
          "text": [
            "log p(X = 1) = -0.6931471824645996\n",
            "p(X = 1) = 0.5\n"
          ]
        }
      ]
    },
    {
      "cell_type": "markdown",
      "source": [
        "As expected, we get a probability of 0.5."
      ],
      "metadata": {
        "id": "uZN1M6OojiIK"
      }
    },
    {
      "cell_type": "markdown",
      "source": [
        "We can also easily get multiple samples:"
      ],
      "metadata": {
        "id": "rNKULlkvpuaV"
      }
    },
    {
      "cell_type": "code",
      "source": [
        "n = 6 #@param {type:\"slider\", min:1, max:10, step:1}\n",
        "samples = bernoulli.sample(key=rng, sample_shape=(n,))\n",
        "print(samples)"
      ],
      "metadata": {
        "colab": {
          "base_uri": "https://localhost:8080/"
        },
        "id": "A0exxfFgp2yJ",
        "outputId": "c65000b2-4be6-41dd-abce-e075791f464d"
      },
      "execution_count": 8,
      "outputs": [
        {
          "output_type": "stream",
          "name": "stdout",
          "text": [
            "[0 0 0 1 1 0]\n"
          ]
        }
      ]
    },
    {
      "cell_type": "markdown",
      "source": [
        "What if we wanted to evaulate the probability of observing all of our samples?\n",
        "\n",
        "The `bernoulli` object we created earlier treats each each sample individually, and returns the probabilities of observing each sample on its own:"
      ],
      "metadata": {
        "id": "Ar5WgG53rnvq"
      }
    },
    {
      "cell_type": "code",
      "source": [
        "individual_sample_probs = jnp.exp(bernoulli.log_prob(samples))\n",
        "print(individual_sample_probs)"
      ],
      "metadata": {
        "colab": {
          "base_uri": "https://localhost:8080/"
        },
        "id": "xvxt07MzqqC6",
        "outputId": "9a36144b-1fc7-4232-80fa-572108e70238"
      },
      "execution_count": 9,
      "outputs": [
        {
          "output_type": "stream",
          "name": "stdout",
          "text": [
            "[0.5 0.5 0.5 0.5 0.5 0.5]\n"
          ]
        }
      ]
    },
    {
      "cell_type": "markdown",
      "source": [
        "But, we can use the one of the laws of probability to compute the probability of observing all of the samples together:\n",
        "$$\n",
        "p(X_1=x_1, X_2=x_2, \\dots, X_N=x_n) = \\prod_{n=1}^N p(X_n=x_n).\n",
        "$$\n",
        "This is called the *product rule of probability*, and it says that for *independent* random variables, the joint probability (i.e., the probability of observing them all together) is equal to the product of the individual probabilities.\n",
        "\n",
        "Now, let's calculate the joint probability of our samples."
      ],
      "metadata": {
        "id": "_b86hUVwsMrT"
      }
    },
    {
      "cell_type": "code",
      "source": [
        "joint_prob = jnp.prod(individual_sample_probs)\n",
        "print(joint_prob)"
      ],
      "metadata": {
        "colab": {
          "base_uri": "https://localhost:8080/"
        },
        "id": "obXuw1Crt3gK",
        "outputId": "5b009cbf-3b49-4279-9c7d-812b6fb82374"
      },
      "execution_count": 10,
      "outputs": [
        {
          "output_type": "stream",
          "name": "stdout",
          "text": [
            "0.015625\n"
          ]
        }
      ]
    },
    {
      "cell_type": "markdown",
      "source": [
        "**Group task 3:** Discuss with your neighbour, why do you think that libraries usually return *log*-probabilities?"
      ],
      "metadata": {
        "id": "XuuP6uSvuKcw"
      }
    },
    {
      "cell_type": "markdown",
      "source": [
        "**Group task 4:** Play with the following slider, and make sure that you understand the role of the Bernoulli distribution's $p$ parameter."
      ],
      "metadata": {
        "id": "tiHst_mlJw3m"
      }
    },
    {
      "cell_type": "code",
      "source": [
        "#@title Bernolli distribution interactive excercise { run: \"auto\" }\n",
        "\n",
        "p_ = 0.37 #@param {type:\"slider\", min:0, max:1, step:0.01}\n",
        "\n",
        "n_ = 1000\n",
        "bernoulli_ = dist.Bernoulli(probs=p_)\n",
        "samples_ = bernoulli_.sample(key=rng, sample_shape=(n_,))\n",
        "\n",
        "num_ones = (samples_ == 1.).sum()\n",
        "num_zeros = (samples_ == 0.).sum()\n",
        "\n",
        "fig = plt.figure(dpi=100)\n",
        "ax = fig.add_subplot(1, 1, 1)\n",
        "ax.bar([0, 1], [num_zeros/n_, num_ones/n_])\n",
        "ax.set_xticks([0, 1])\n",
        "ax.set_xlabel('x')\n",
        "ax.set_ylabel('p(X=x)')\n",
        "ax.grid(0.3)\n",
        "plt.show()"
      ],
      "metadata": {
        "colab": {
          "base_uri": "https://localhost:8080/",
          "height": 448
        },
        "id": "AQysWurNJ_kW",
        "outputId": "4f93c240-7a02-42b5-bd9f-338ef24b0c2a"
      },
      "execution_count": 22,
      "outputs": [
        {
          "output_type": "display_data",
          "data": {
            "text/plain": [
              "<Figure size 640x480 with 1 Axes>"
            ],
            "image/png": "[encoded data removed]"
          },
          "metadata": {}
        }
      ]
    },
    {
      "cell_type": "markdown",
      "source": [
        "#### Answer to group task 3\n"
      ],
      "metadata": {
        "id": "D-h2S6tqj2FR"
      }
    },
    {
      "cell_type": "markdown",
      "source": [
        "The answer, as is often the case, is numerical stability! When working with numbers between 0 and 1 (i.e., probabilities) it is easy to run into underflow.\n",
        "\n",
        "For example, consider computing the probability of several independent events $A$, $B$, $C$, $\\ldots$:\n",
        "$$\n",
        "p(A, B, C, \\ldots) = p(A) \\times p(B) \\times p(C) \\times \\ldots,\n",
        "$$\n",
        "because we are multiplying numbers that are between 0 and 1, we know that the result will be smaller for each multiplication. As we perform more and more multiplications, it becomes more likely that the computation will underflow and erroneously produce a result of 0.\n",
        "\n",
        "We can avoid this problem by instead working with log-probabilities. Continuing the above example we get\n",
        "$$\n",
        "\\log p(A, B, C, \\ldots) = \\log p(A) + \\log p(B) + \\log p(C) + \\ldots,\n",
        "$$\n",
        "where by the log laws, we have replaced all of the multiplications with additions, thereby avoiding any numerical issues."
      ],
      "metadata": {
        "id": "OCOtXSelj2FR"
      }
    },
    {
      "cell_type": "markdown",
      "source": [
        "## [Optional] a note on notation"
      ],
      "metadata": {
        "id": "9MeNeqm-8ES_"
      }
    },
    {
      "cell_type": "markdown",
      "source": [
        "In the text above we introduced a lot of new notation, so let's spend a little more time to make sure that everything is clear before moving on. If you are new to this topic, or have seen some of it before but are confused by the way we've written things, then give this section a read.\n",
        "\n",
        "**$X$ vs $x$**\n",
        "\n",
        "* $X$ representes a random variable, that is, a variable which could take on several different values, depending on the outcome of some random event.\n",
        "* $x$ represents a particular value that $X$ could take. You can think of $x$ much like a python variable `x` which at any time has a single value.\n",
        "*One way of deciding whether to write $X$ or $x$ is to as the question \"Is the value of the variable known?\", if the answer is yes then we write $x$, if the answer is no, then we write $X$.\n",
        "\n",
        "**$p(X = x)$ vs $p(X)$ vs $p(x)$**\n",
        "\n",
        "* $p(X)$ is a shorthand that means the same thing as $p(X = x)$, i.e., it represents the PDF of a random variable $X$.\n",
        "* $p(x)$ has a slightly different meaning, it signifies that probability of the random variable $X$ taking the value $x$. Instead of representing the PDF, it represents the PDF evaluated at $x$. It is a probability value rather than a function.\n",
        "* You might also see the notation $p_X(x)$, which has the same meaning as $p(x)$, but includes the random varialbe $X$ for clarity, as if we write $p_X(1)$ we can still see that the random varaible is $X$.\n",
        "\n",
        "\n",
        "**$p$ vs $P$**\n",
        "\n",
        "* Sometimes you may see notation that uses both $p$ and $P$. In this case $P$ and $p$ are being used to differentiate between distributions for *discrete* and *continuous* random variables, respectively.\n",
        "* You may also see other notations such as $\\text{Pr}$ or $\\mathbb{P}$. These don't have any special meaning unless otherwise mentioned in the text where they appear.\n",
        "\n",
        "\n",
        "\n"
      ],
      "metadata": {
        "id": "mB7Uu-hW8JoW"
      }
    },
    {
      "cell_type": "markdown",
      "source": [
        "## The categorical distribution"
      ],
      "metadata": {
        "id": "4LDwuZo4dy_h"
      }
    },
    {
      "cell_type": "markdown",
      "source": [
        "A categorical distribution is used to model random events with multiple *discrete* outcomes, such as the die rolling event from above. By discrete, we mean that there is a countable number of outcomes. We will tackle uncountable outcomes shortly.\n",
        "\n",
        "As with the Bernoulli distribution, we can characterise the categorical distribution with its PMF:\n",
        "\\begin{align}\n",
        "p(X = x) = \\text{categorical}(X\\mid\\mathbf{p}) = \\prod_{k=1}^K p_k^{[x=k]},\n",
        "\\end{align}\n",
        "where $K$ is the number of outcomes, $\\textbf{p} = [p_1, p_2, \\dots, p_K]$, $p_k$ is the probability of the $k$th outcome, $\\sum_k p_k = 1$, and $[x = k]$ is called an Iverson bracket which evaluates to 1 if $x = k$ and 0 otherwise.\n",
        "\n",
        "**Exercise:** convince yourself that a categorical distribution with $K = 2$ is equivalent to a Bernoulli distribution.\n",
        "\n",
        "Now, let's start playing with this distribution in code!"
      ],
      "metadata": {
        "id": "uH-WA93AenYA"
      }
    },
    {
      "cell_type": "code",
      "source": [
        "ps = jnp.array([0.1, 0.2, 0.3, 0.4])\n",
        "categorical = dist.Categorical(probs=ps)"
      ],
      "metadata": {
        "id": "UK8ZszrXyPXj"
      },
      "execution_count": 12,
      "outputs": []
    },
    {
      "cell_type": "markdown",
      "source": [
        "As before we can take some samples:"
      ],
      "metadata": {
        "id": "EBgG4nh4zy0U"
      }
    },
    {
      "cell_type": "code",
      "source": [
        "samples = categorical.sample(key=rng, sample_shape=(10,))\n",
        "print(samples)"
      ],
      "metadata": {
        "colab": {
          "base_uri": "https://localhost:8080/"
        },
        "id": "y8Hc_mihz4cG",
        "outputId": "b8cd1a8d-e287-4605-914f-11685137d586"
      },
      "execution_count": 13,
      "outputs": [
        {
          "output_type": "stream",
          "name": "stdout",
          "text": [
            "[3 2 1 3 3 1 2 1 3 3]\n"
          ]
        }
      ]
    },
    {
      "cell_type": "markdown",
      "source": [
        "And compute the probability for each of the random events:"
      ],
      "metadata": {
        "id": "RvDnzH8e0IGU"
      }
    },
    {
      "cell_type": "code",
      "source": [
        "print(f\"p(X=0) = {jnp.exp(categorical.log_prob(0)):.1f}\")\n",
        "print(f\"p(X=1) = {jnp.exp(categorical.log_prob(1)):.1f}\")\n",
        "print(f\"p(X=2) = {jnp.exp(categorical.log_prob(2)):.1f}\")\n",
        "print(f\"p(X=3) = {jnp.exp(categorical.log_prob(3)):.1f}\")"
      ],
      "metadata": {
        "colab": {
          "base_uri": "https://localhost:8080/"
        },
        "id": "fSzBoL180Ldi",
        "outputId": "a6420009-5ecc-40c9-a3f2-53006b98cea0"
      },
      "execution_count": 14,
      "outputs": [
        {
          "output_type": "stream",
          "name": "stdout",
          "text": [
            "p(X=0) = 0.1\n",
            "p(X=1) = 0.2\n",
            "p(X=2) = 0.3\n",
            "p(X=3) = 0.4\n"
          ]
        }
      ]
    },
    {
      "cell_type": "markdown",
      "source": [
        "**Group task 5:** Play with the following sliders, which control the paramters of the categorical distribution. Note that because $\\sum_k p_k = 1$, we are using an alternative way to represent the categorical distribution. Instead of specifying the probabilities $p_k$, we specifiy logits $l_k$. Each $p_k$ is then computed as\n",
        "$$\n",
        "p_k = \\frac{\\exp(l_k)}{\\sum_{k'}\\exp(l_k)},\n",
        "$$\n",
        "i.e., using the softmax function."
      ],
      "metadata": {
        "id": "5IzIHSHJPa5W"
      }
    },
    {
      "cell_type": "code",
      "source": [
        "#@title categorical distribution interactive excercise {run: \"auto\"}\n",
        "l_0 = 0.7 #@param {type:\"slider\", max:4, step:0.1}\n",
        "l_1 = 0.3 #@param {type:\"slider\", max:4, step:0.1}\n",
        "l_2 = 2 #@param {type:\"slider\", max:4, step:0.1}\n",
        "l_3 = 1.6 #@param {type:\"slider\", max:4, step:0.1}\n",
        "\n",
        "logits_ = jnp.array([l_0, l_1, l_2, l_3], dtype=jnp.float32)\n",
        "categorical_ = dist.Categorical(logits=logits_)\n",
        "samples_ = categorical_.sample(key=rng, sample_shape=(1000,))\n",
        "\n",
        "values =[0, 1, 2, 3]\n",
        "hist, _ = jnp.histogram(\n",
        "    samples_, bins=jnp.array(values + [4]), density=True\n",
        ")\n",
        "\n",
        "fig = plt.figure(dpi=100)\n",
        "ax = fig.add_subplot(1, 1, 1)\n",
        "ax.bar(values, hist)\n",
        "ax.set_xticks(values)\n",
        "ax.set_xlabel('x')\n",
        "ax.set_ylabel('p(X=x)')\n",
        "ax.grid(0.3)\n",
        "plt.show()"
      ],
      "metadata": {
        "colab": {
          "base_uri": "https://localhost:8080/",
          "height": 448
        },
        "id": "Y01AEUaTPTWO",
        "outputId": "e975f5e1-4ea3-4365-daad-77ac14aea9d2"
      },
      "execution_count": 21,
      "outputs": [
        {
          "output_type": "display_data",
          "data": {
            "text/plain": [
              "<Figure size 640x480 with 1 Axes>"
            ],
            "image/png": "[encoded data removed]"
          },
          "metadata": {}
        }
      ]
    },
    {
      "cell_type": "markdown",
      "source": [
        "## The normal distribution"
      ],
      "metadata": {
        "id": "xiPgkj5FOccQ"
      }
    },
    {
      "cell_type": "markdown",
      "source": [
        "The normal, also known as Gaussian, distribution is one of the most common distributions for modelling *continuous* random variables, i.e., corresponding to events with an uncountable number of outcomes. It's probability density function is\n",
        "$$\n",
        "p(X = x) = \\mathcal{N}(x\\mid \\mu, \\sigma) = \\frac{1}{\\sqrt{2\\pi\\sigma^2}}\\exp\\left(-\\frac{(\\mu - x)^2}{2\\sigma^2}\\right),\n",
        "$$\n",
        "where $\\mu$ and $\\sigma$ are the *mean* and *standard deviation* (also called the location, and scale or square-root of the *variance* $\\sigma^2$, respectively).\n",
        "\n",
        "Once again, the best way to get a sense for this distribution is to play with some code!\n",
        "\n",
        "**Group task 6:** play with the following sliders, and discuss with your neighbours – how do the mean and standard deviation affect the samples?"
      ],
      "metadata": {
        "id": "Woeirrc_O4qa"
      }
    },
    {
      "cell_type": "code",
      "source": [
        "#@title normal distribution interactive excercise {run: \"auto\"}\n",
        "μ_ = 0 #@param {type:\"slider\", min:-5, max:5, step:0.1}\n",
        "σ_ = 1 #@param {type:\"slider\", max:4, step:0.1}\n",
        "\n",
        "normal = dist.Normal(loc=μ_, scale=σ_)\n",
        "samples_ = normal.sample(key=rng, sample_shape=(10000,))\n",
        "\n",
        "fig = plt.figure(dpi=100)\n",
        "ax = fig.add_subplot(1, 1, 1)\n",
        "ax.hist(samples_, bins=50, density=True, alpha=0.5)\n",
        "x = jnp.linspace(-10, 10, 3000)\n",
        "kde = gaussian_kde(samples_)\n",
        "ax.plot(x, kde(x), color='C0', lw=3, alpha=0.5)\n",
        "ax.set_xlabel('x')\n",
        "ax.set_ylabel('p(X=x)')\n",
        "ax.set_xlim(-10, 10)\n",
        "ax.grid(0.3)\n",
        "plt.show()"
      ],
      "metadata": {
        "colab": {
          "base_uri": "https://localhost:8080/",
          "height": 448
        },
        "id": "8b2JE92rlfDK",
        "outputId": "a6ab6071-92f4-4e74-8dab-2ffa69f18af7"
      },
      "execution_count": 16,
      "outputs": [
        {
          "data": {
            "image/png": "[encoded data removed]",
            "text/plain": [
              "<Figure size 640x480 with 1 Axes>"
            ]
          },
          "metadata": {},
          "output_type": "display_data"
        }
      ]
    },
    {
      "cell_type": "code",
      "source": [
        "#@title Implementing the normal PDF from scratch!\n",
        "#@markdown **code task 1:** Let's implement the PDF for the normal distribution from scratch, just using functions from `jax`.\n",
        "#@markdown *Hint:* You may want to use `jnp.pi`, `jnp.sqrt`, and `jnp.exp`.\n",
        "\n",
        "def normal_pdf(loc, scale, x):\n",
        "    p_x =  # TODO: your code goes here!\n",
        "\n",
        "    return p_x"
      ],
      "metadata": {
        "id": "G5TGZeGja-vp",
        "colab": {
          "base_uri": "https://localhost:8080/",
          "height": 144
        },
        "outputId": "7c100fb2-bacb-42af-ad09-c9cbe5761f01"
      },
      "execution_count": 17,
      "outputs": [
        {
          "ename": "SyntaxError",
          "evalue": "ignored",
          "output_type": "error",
          "traceback": [
            "\u001b[0;36m  File \u001b[0;32m\"<ipython-input-17-b1d8812d3c13>\"\u001b[0;36m, line \u001b[0;32m6\u001b[0m\n\u001b[0;31m    p_x =  # TODO: your code goes here!\u001b[0m\n\u001b[0m           ^\u001b[0m\n\u001b[0;31mSyntaxError\u001b[0m\u001b[0;31m:\u001b[0m invalid syntax\n"
          ]
        }
      ]
    },
    {
      "cell_type": "code",
      "source": [
        "# @title Run me to test your code\n",
        "\n",
        "def test_normal_pdf(pdf_fn):\n",
        "  assert pdf_fn(0, 1, 0) == jnp.exp(dist.Normal(loc=0, scale=1).log_prob(0)), \"Normal(X=0|0, 1) is incorrect.\"\n",
        "  assert pdf_fn(0, 2, 0) == jnp.exp(dist.Normal(loc=0, scale=2).log_prob(0)), \"Normal(X=0|0, 2) is incorrect.\"\n",
        "  assert pdf_fn(0, 1, 1) == jnp.exp(dist.Normal(loc=0, scale=1).log_prob(1)), \"Normal(X=0|1, 1) is incorrect.\"\n",
        "  assert pdf_fn(2, 3, 1) == jnp.exp(dist.Normal(loc=2, scale=3).log_prob(1)), \"Normal(X=1|2, 3) is incorrect.\"\n",
        "  print(\"Nice! Your answer looks correct.\")\n",
        "\n",
        "test_normal_pdf(normal_pdf)"
      ],
      "metadata": {
        "cellView": "form",
        "id": "KuLrhFtXdanR"
      },
      "execution_count": null,
      "outputs": []
    },
    {
      "cell_type": "code",
      "source": [
        "# @title Answer to code task 1 (Try not to peek until you've given it a good try!')\n",
        "\n",
        "def normal_pdf(loc, scale, x):\n",
        "    p_x = 1 / jnp.sqrt(2 * jnp.pi * scale**2)\n",
        "    p_x *= jnp.exp(-((loc - x)**2) / (2 * scale**2))\n",
        "\n",
        "    return p_x\n",
        "\n",
        "test_normal_pdf(normal_pdf)"
      ],
      "metadata": {
        "id": "IeFskS67eAxi",
        "cellView": "form"
      },
      "execution_count": null,
      "outputs": []
    },
    {
      "cell_type": "markdown",
      "source": [
        "#### Answer to group task 6\n",
        "\n"
      ],
      "metadata": {
        "id": "OwA1Fh0CrQDB"
      }
    },
    {
      "cell_type": "markdown",
      "source": [
        "The mean controls where the center of the distribution is located. In other words, it controls where the most likely *location* to sample a values is.\n",
        "\n",
        "The standard deviation controls how wide the distribution is. In other words, it controls how likely we are to draw samples farther away from the mean."
      ],
      "metadata": {
        "id": "zqb8a9Z4rwY-"
      }
    },
    {
      "cell_type": "markdown",
      "source": [
        "### Expected Values"
      ],
      "metadata": {
        "id": "M1ETQ-5aYLwf"
      }
    },
    {
      "cell_type": "markdown",
      "source": [
        "The expected value of a random variable is the value that we expect to get on average when we sample a large number of different outcomes from the random event.\n",
        "\n",
        "For example, if we consider our example of flipping a coin from above, where $X = 1$ if the coin lands on heads and $X = 0$ if the coin lands on tails, then intuitively the expected value is $0.5$.\n",
        "\n",
        "More precisely, we can write the expected value as\n",
        "$$\n",
        "\\mathbb{E}[X] = \\sum_x x \\cdot p(X=x),\n",
        "$$\n",
        "for a discrete random variable $X$. For a continuous random varaible, the sum would be replaced with an integral. From this definition, we can think of the expected value as a weighted average of all of the values of $X$, where the weighting for each value is the probability of observing it."
      ],
      "metadata": {
        "id": "iVrAVUFar7xc"
      }
    },
    {
      "cell_type": "markdown",
      "source": [
        "**Group task 7:** Working with your neighbour, compute the expected value for the standard six-sided die rolling event from above."
      ],
      "metadata": {
        "id": "uNKCGxj5qtus"
      }
    },
    {
      "cell_type": "markdown",
      "source": [
        "#### Answer to group task 7"
      ],
      "metadata": {
        "id": "x5Mt7MqgD-xz"
      }
    },
    {
      "cell_type": "markdown",
      "source": [
        "Assuming that we use the following random variable to represent our die throw\n",
        "$$\n",
        "X = \\begin{cases}\n",
        "1 \\text{ if } ⚀ \\\\\n",
        "2 \\text{ if } ⚁ \\\\\n",
        "3 \\text{ if } ⚂ \\\\\n",
        "4 \\text{ if } ⚃ \\\\\n",
        "5 \\text{ if } ⚄ \\\\\n",
        "6 \\text{ if } ⚅ \\\\\n",
        "\\end{cases}\n",
        "$$\n",
        "the expected value is\n",
        "$$\n",
        "\\mathbb{E}[X] = \\frac{1}{6} \\cdot 1 + \\frac{1}{6} \\cdot 2 + \\frac{1}{6} \\cdot 3 + \\frac{1}{6} \\cdot 4 + \\frac{1}{6} \\cdot 5 + \\frac{1}{6} \\cdot 6 = 3.5.\n",
        "$$"
      ],
      "metadata": {
        "id": "8_XQ0i7qEBRb"
      }
    },
    {
      "cell_type": "markdown",
      "source": [
        "#### Monte-Carlo estimation"
      ],
      "metadata": {
        "id": "kcvbxSPesAaa"
      }
    },
    {
      "cell_type": "markdown",
      "source": [
        "Instead of computing an expected value exactly, we can estimate it using a *Monte-Carlo* approximation.  We can describe this procedure using the following mathematical notation:\n",
        "$$\n",
        "\\mathbb{E}[X] \\approx \\frac{1}{N} \\sum_{n=1}^{N} x_n\\,, \\quad x_n \\sim p(X).\n",
        "$$\n",
        "That is, we sample $N$ values $x_n$ from $p(X)$ and then take the average. Because the values appear proportionally to their probabilities, for large values of $N$, this approximation will become accurate.\n",
        "\n",
        "We can also implement this in code! Let's calculate the expected value of the normal distribution $\\mathcal{N}(x \\mid \\mu, \\sigma)$.\n",
        "\n",
        "**Group task 8:** Working with your neighbours, play with the following sliders, and try to answer these questions:\n",
        "1. Start with a large value for $N$ and a small value for $\\sigma$, what number does the expected value approximate? *Hint:* change the value of $\\mu$ and see what happens to the expected value.\n",
        "2. Now, start decreasing $N$ and/or increasing $\\sigma$. What happens to the expected value?\n",
        "3. What notation in the equation above do lines 7 and 9 in the code bellow correspond to?"
      ],
      "metadata": {
        "id": "1fr-WF2crSi5"
      }
    },
    {
      "cell_type": "code",
      "source": [
        "#@title Expected value interactive excercise {run: \"auto\"}\n",
        "N = 100 #@param {type:\"slider\", min:1, max:400, step:1}\n",
        "μ = 0 #@param {type:\"slider\", min:-5, max:5, step:0.1}\n",
        "σ = 1 #@param {type:\"slider\", min: 0.1, max:4, step:0.1}\n",
        "\n",
        "normal = dist.Normal(loc=μ, scale=σ)\n",
        "samples = normal.sample(key=rng, sample_shape=(N,))\n",
        "\n",
        "expected_value = jnp.sum(samples) / N\n",
        "\n",
        "print(f'E[X] = {expected_value:.5f}')"
      ],
      "metadata": {
        "id": "t6a-1-UqA6wm"
      },
      "execution_count": null,
      "outputs": []
    },
    {
      "cell_type": "markdown",
      "source": [
        "##### Answer to group task 8\n"
      ],
      "metadata": {
        "id": "75L3Jca8E8Y4"
      }
    },
    {
      "cell_type": "markdown",
      "source": [
        "1. The expected value for a random variable with a normal distribution is the mean parameter $\\mu$. For this reason the term *mean* is often used synonimously with *expected value*.\n",
        "2. As we decrease $N$ and/or increase $\\sigma$, the Monte Carlo approximation becomes less accurate. **Fun fact**, for a standard Monte Carlo approximator such as this, the approximation error decreases at a rate of $\\sqrt{N}$. In other words, if we multiply $N$ by 4, the error in the approximation should be divided by 2."
      ],
      "metadata": {
        "id": "pIHom8vjFy4V"
      }
    },
    {
      "cell_type": "markdown",
      "source": [
        "#### Functions of random variables"
      ],
      "metadata": {
        "id": "56-Iq0TfsIEs"
      }
    },
    {
      "cell_type": "markdown",
      "source": [
        "We can also calculate expected values of functions of random variables. For example, the variance of a random variable can be caculated using the following expected value\n",
        "$$\n",
        "\\mathbb{V}[X] = \\mathbb{E}[(X - \\mu)^2],\n",
        "$$\n",
        "where $\\mu = \\mathbb{E}[X]$ is the mean, as described above."
      ],
      "metadata": {
        "id": "nX27gGLKO2A_"
      }
    },
    {
      "cell_type": "code",
      "source": [
        "#@title Estimating the variance - <font color='orange'>`Intermediate`</font>\n",
        "#@markdown **[Optional] code task 2:** Let's implement a Monte Carlo estimator for the variance.\n",
        "#@markdown You can tell if your answer is correct if the estimated variance is close to $\\sigma^2$ for large $N$.\n",
        "\n",
        "N = 100 #@param {type:\"slider\", min:1, max:400, step:1}\n",
        "μ = 0 #@param {type:\"slider\", min:-5, max:5, step:0.1}\n",
        "σ = 1 #@param {type:\"slider\", min: 0.1, max:4, step:0.1}\n",
        "\n",
        "normal = dist.Normal(loc=μ, scale=σ)\n",
        "samples = normal.sample(\n",
        "    key=rng, sample_shape=(N,)\n",
        ")\n",
        "\n",
        "# TODO: your code goes here!\n",
        "\n",
        "print(f'V[X] = {var:.5f}')\n"
      ],
      "metadata": {
        "id": "QqIeNZF8R86i"
      },
      "execution_count": null,
      "outputs": []
    },
    {
      "cell_type": "code",
      "source": [
        "# @title Answer to code task 2 (Try not to peek until you've given it a good try!')\n",
        "\n",
        "normal = dist.Normal(loc=μ, scale=σ)\n",
        "samples = normal.sample(\n",
        "    key=rng, sample_shape=(N,)\n",
        ")\n",
        "\n",
        "mean = jnp.mean(samples)\n",
        "var = jnp.mean((samples - mean)**2)\n",
        "\n",
        "print(f'V[X] = {var:.5f}')"
      ],
      "metadata": {
        "cellView": "form",
        "id": "ZrQEp74nS6dh"
      },
      "execution_count": null,
      "outputs": []
    },
    {
      "cell_type": "markdown",
      "source": [
        "#### [Optional] a note on notation: expectations"
      ],
      "metadata": {
        "id": "RL4xtqu3rdIX"
      }
    },
    {
      "cell_type": "markdown",
      "source": [
        "**$E$ vs $\\mathrm{E}$ vs $\\mathbb{E}$**\n",
        "\n",
        "* You may also have seen a variety of notations for expected values ($E$, $\\mathrm{E}$, $\\mathbb{E}$) and variances ($V$, $\\mathrm{V}$, $\\mathbb{V}$, $\\text{Var}$). Don't worry, all of these share the exact same meaning."
      ],
      "metadata": {
        "id": "crPIbbSSrjRp"
      }
    },
    {
      "cell_type": "markdown",
      "source": [
        "### [Optional] Reparameterisation - <font color='orange'>`Intermediate`</font>"
      ],
      "metadata": {
        "id": "fXRltjxo3sOn"
      }
    },
    {
      "cell_type": "markdown",
      "source": [
        "Just for fun, let's explore an interesting (and useful!) property of the normal distribution.\n",
        "\n",
        "Let's say we have samples $x_n$ from a $\\mathcal{N}(x|0, 1)$ distribution, but what we really want is samples $y_n$ from $\\mathcal{N}(y|\\mu, \\sigma)$. It turns out, that we can easily convert from $x_n$ to $y_n$, or vice-versa. To be specific, we can convert between the random variable $X$ to the random variable $Y$, as follows\n",
        "$$\n",
        "Y = \\sigma X + \\mu\n",
        "$$\n",
        "or\n",
        "$$\n",
        "X = Y/\\sigma - \\mu/\\sigma.\n",
        "$$\n",
        "\n",
        "In fact, this property is several other probability distributions called the [location-scale family](https://en.wikipedia.org/wiki/Location%E2%80%93scale_family). All of these distribuions have the similarity that they are parameterised by a location parameter $\\mu$ and a scale paramter $\\sigma$! Converting from one distribution to another like this is called *reparameterisation*.\n",
        "\n",
        "As usual, let's convince ourselves that this is true with some code 😎"
      ],
      "metadata": {
        "id": "-Lffd-UM3sOp"
      }
    },
    {
      "cell_type": "code",
      "source": [
        "normal_x = dist.Normal(loc=0, scale=1)\n",
        "samples_x = normal_x.sample(key=rng, sample_shape=(5,))\n",
        "\n",
        "μ = 1\n",
        "σ = 2\n",
        "normal_y = dist.Normal(loc=μ, scale=σ)\n",
        "samples_y = normal_y.sample(key=rng, sample_shape=(5,))\n",
        "# Note that we are using the same random key as above.\n",
        "\n",
        "print(f\"xs =\\t\\t{samples_x}\")\n",
        "print(f\"ys =\\t\\t{samples_y}\")\n",
        "print(f\"xs*σ + μ =\\t{samples_x * σ + μ}\")"
      ],
      "metadata": {
        "id": "uCm2K1YZZsq0"
      },
      "execution_count": null,
      "outputs": []
    },
    {
      "cell_type": "markdown",
      "source": [
        "#### [Optional] Extra reading – the reparameterisation trick - <font color='green'>`Advanced`</font>"
      ],
      "metadata": {
        "id": "pNXGGoytarSk"
      }
    },
    {
      "cell_type": "markdown",
      "source": [
        "When using gradient descent to learn the parameters of the distribution probability distribution given samples from that distribution, we run into a problem. It is not possible to back-propagate through a random operation like sampling. However, if we distribution we are trying to learn is reparameterisable (e.g., it is a from the location-scale family), then we can get around this issue. As an example, instead of doing\n",
        "$$\n",
        "z_i \\sim \\mathcal{N}(z\\mid \\mu, \\sigma),\n",
        "$$\n",
        "we do\n",
        "\\begin{align}\n",
        "x_i &\\sim \\mathcal{N}(x\\mid 0, 1), \\\\\n",
        "z_i &= x_i * \\sigma + \\mu.\n",
        "\\end{align}\n",
        "As illustrated in the diagram below, this allows us to do back-propagation as required.\n",
        "\n",
        "![image.png](data:image/png;base64,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)"
      ],
      "metadata": {
        "id": "r13Z-Z60bb6P"
      }
    },
    {
      "cell_type": "markdown",
      "source": [
        "## The *multivariate* normal distribution"
      ],
      "metadata": {
        "id": "Eb2y5gw9dz3v"
      }
    },
    {
      "cell_type": "markdown",
      "source": [
        "*Note: some of the mathematics (involving matrix algebra) in this section is slightly more complicated and may be closer to an <font color='orange'>`Intermediate`</font> level. If you are struggling with the matrices don't worry! We also present the special two-dimmensional case, which doesn't require any matrices. The important take-aways here are not the mathematics, but rather the concepts and intuitions which are still 100% certified <font color='blue'>`Beginner`</font> friendly.* 🙌\n",
        "\n",
        "The multivariate normal distribution is a generalization of the normal distribution to consider multiple random variables that have a *joint* distribution. In other words, it lets us model variables that are not independent – if we know the value of one variable, that tells us something about the other variables! The more one variable tells us about another, the larger the *covariance* or *correlation* between the two. Enough text, let's take a look at the equations, which will hopefully give some further insight. First let's look at the general PDF for an $D$-dimmensional random variable $\\mathbf{X}$:\n",
        "$$\n",
        "p(\\mathbf{X} = \\mathbf{x}) = \\mathcal{N}(\\mathbf{x}\\mid \\boldsymbol{\\mu}, \\Sigma) = \\frac{1}{\\sqrt{(2\\pi)^D|\\Sigma|}}\\exp\\left(-\\frac{1}{2}(\\mathbf{x} - \\boldsymbol{\\mu})^\\intercal\\Sigma^{-1}(\\mathbf{x} - \\boldsymbol{\\mu})\\right),\n",
        "$$\n",
        "where $\\mathbf{x}$ and $\\boldsymbol{\\mu}$ are now vectors of numbers rather than single numbers, $\\Sigma$ is a *covariance matrix* that replaces $\\sigma$ from our univariate definition above, and $|\\Sigma|$ is its determinant. The covariance matrix looks like this:\n",
        "$$\n",
        "\\Sigma = \\left[\\matrix{\n",
        "    \\sigma_1^2 & \\rho_{12} \\sigma_1 \\sigma_2 & \\cdots &  \\rho_{1D} \\sigma_1 \\sigma_D  \\\\\n",
        "    \\rho_{21} \\sigma_2\\sigma_1 & \\sigma_2^2 & \\cdots &  \\rho_{2D} \\sigma_2 \\sigma_D \\\\\n",
        "    \\vdots & \\vdots & \\ddots & \\vdots \\\\\n",
        "    \\rho_{D1} \\sigma_D \\sigma_1 & \\rho_{D2} \\sigma_D \\sigma_2 & \\cdots & \\sigma_D^2}\\right],\n",
        "$$\n",
        "where $\\sigma_i^2$ is the variance for the $i$th dimmension, and $\\rho_{ij} = \\rho_{ji}$ is the *correlation* between the $i$th and $j$th dimmensions.\n",
        "\n",
        "**[Optional] excercise:** If you and your neighbours are very comfortable with matrix algebra, try and convince yourselves that the equation above is equivalent to the univariate case when $D = 1$.\n",
        "\n",
        "Now let's look at how the equation above simplifies in the two-dimmensional case!\n",
        "$$\n",
        "p(X_1 = x_1, X_2 = x_2) = \\mathcal{N}\\left(\\left[\\matrix{x_1 \\\\ x_2}\\right]\\middle| \\left[\\matrix{\\mu_1 \\\\ \\mu_2}\\right], \\left[\\matrix{\\sigma_1^2 & \\rho \\sigma_1 \\sigma_2 \\\\ \\rho \\sigma_1 \\sigma_2  &\\sigma_2^2}\\right]\\right) \\\\\n",
        "= \\frac{1}{2\\pi\\sigma_1\\sigma_2\\sqrt{1 - \\rho^2}}\\exp\\left(-\\frac{1}{2(1 - \\rho^2)}\\left[\\left(\\frac{x_1 - \\mu_1}{\\sigma_1}\\right)^2 -2\\rho\\left(\\frac{x_1 - \\mu_1}{\\sigma_1}\\right)\\left(\\frac{x_2 - \\mu_2}{\\sigma_2}\\right)  + \\left(\\frac{x_2 - \\mu_2}{\\sigma_2}\\right)^2 \\right] \\right)\n",
        "$$\n",
        "\n",
        "**Group task 9:** Let's try understand what this equation means. Discuss the following questions with your neighbours. If the answers don't seem obvious to you, don't worry! As usual, we have some code to play with to help our understanding, so feel free to use any combination of mathematics and playing with sliders to help you understand. If playing with the sliders still doesn't help, don't worry, the next section will also make things more clear.\n",
        "1. If $\\rho = 0$, how does this two-dimmensional case relate to the one-dimmensional case above?\n",
        "2. Now, think about what happens as $\\rho$ becomes larger? What if it becomes negative?\n",
        "\n",
        "\n",
        "\n"
      ],
      "metadata": {
        "id": "IDG5vnjddz3w"
      }
    },
    {
      "cell_type": "code",
      "source": [
        "#@title Multivariate normal interactive excercise 1 {run: \"auto\"}\n",
        "\n",
        "#@markdown Both plots below show a 2D normal distribution. Each plot is useful for visualizing the distribution in different ways.\n",
        "\n",
        "#@markdown The plot on the left helps us visualise the probability values for each $(x_1, x_2)$ pair.\n",
        "\n",
        "#@markdown The plot on the right helps us visualise the shape of the distribution from above. Note that the colors represent the same probabilities as the left hand plot. Each ring shows pairs of equal probability.\n",
        "\n",
        "from matplotlib import gridspec\n",
        "from scipy.stats import norm\n",
        "\n",
        "μ1 = -0.6 #@param {type:\"slider\", min:-5, max:5, step:0.1}\n",
        "σ1 = 1.2 #@param {type:\"slider\", min: 0.1, max:4, step:0.1}\n",
        "μ2 = 1.4 #@param {type:\"slider\", min:-5, max:5, step:0.1}\n",
        "σ2 = 2.1 #@param {type:\"slider\", min: 0.1, max:4, step:0.1}\n",
        "ρ = 0 #@param {type:\"slider\", min: -1, max:1, step:0.1}\n",
        "\n",
        "μ = jnp.array([μ1, μ2])\n",
        "Σ = jnp.array([[σ1**2, ρ*σ1*σ2],[ρ*σ2*σ1, σ2**2]])\n",
        "\n",
        "fig = plt.figure(figsize=(12, 6))\n",
        "\n",
        "ax1 = fig.add_subplot(121, projection='3d')\n",
        "\n",
        "X1 = jnp.arange(-5, 5, 0.25)\n",
        "X2 = jnp.arange(-5, 5, 0.25)\n",
        "X1, X2 = jnp.meshgrid(X1, X2)\n",
        "Xs = jnp.concatenate(\n",
        "    [X1.reshape(-1, 1), X2.reshape(-1, 1)], axis=1\n",
        ")\n",
        "Z = jax.vmap(\n",
        "    lambda x: jnp.exp(dist.MultivariateNormal(μ, Σ).log_prob(x))\n",
        ")(Xs).reshape(X1.shape)\n",
        "\n",
        "from matplotlib import cm\n",
        "ax1.plot_surface(X1, X2, Z, cmap=cm.coolwarm,\n",
        "                linewidth=0, alpha=0.4, antialiased=False)\n",
        "ax1.set_title('3D surface plot')\n",
        "\n",
        "\n",
        "ax2 = fig.add_subplot(122)\n",
        "ax2.contourf(X1, X2, Z, cmap=cm.coolwarm,\n",
        "            alpha=0.4, antialiased=False)\n",
        "ax2.set_title('2D contour plot')\n",
        "\n",
        "\n",
        "ax2.grid(alpha=0.3)\n",
        "plt.show()"
      ],
      "metadata": {
        "id": "nsJIDPpTXE4p",
        "cellView": "form"
      },
      "execution_count": null,
      "outputs": []
    },
    {
      "cell_type": "markdown",
      "source": [
        "### The sum rule and the product rule revisited!"
      ],
      "metadata": {
        "id": "AdSfc6AEdz3y"
      }
    },
    {
      "cell_type": "markdown",
      "source": [
        "TODO: integrate with Kira's content below. E.g., steal the venn diagram tasks.\n",
        "\n",
        "Now that we've introduced a multivariate distribution, we can use it to explore two important concepts when working with probability distributions – marginal and conditional distributions. This will naturally lead to two important rules of probablility that we'll need later in the practical (and life) – the sum and product rules.\n",
        "\n"
      ],
      "metadata": {
        "id": "65EJr6Xtdz3y"
      }
    },
    {
      "cell_type": "markdown",
      "source": [
        "#### Marginal distributions and the sum rule"
      ],
      "metadata": {
        "id": "aQCqhmFGC_nD"
      }
    },
    {
      "cell_type": "markdown",
      "source": [
        "Let's consider $p(X_1, X_2)$ a *joint* distribution over two random variables $X_1$ and $X_2$. Now, what if we only cared about one of the random variables e.g., $X_1$? We can use the *sum* rule to *marginalise* away $X_2$ from the joint distribution to give us the *marginal* distribution $p(X_1)$. Concretely, for a discrete $X_2$, the sum rule can be written as\n",
        "$$\n",
        "p(X_1 = x_1) = \\sum_{x_2} p(X_1 = x_1, X_2 = x_2).\n",
        "$$\n",
        "Similarly, for a continuous $X_2$ we'd have\n",
        "$$\n",
        "p(X_1 = x_1) = \\int p(X_1 = x_1, X_2 = x_2)\\, \\mathrm{d}x_2.\n",
        "$$\n",
        "This rule tells us that if we want a marginal distribution, we just need to enumerate all of the values of the variables that we don't want and sum the resulting distributions.\n",
        "\n",
        "What if we have three (or more) random variables? Nothing special, which ever variables we don't want to keep in our marginal distribution, we sum over, for example\n",
        "$$\n",
        "p(X_1 = x_1, X_3 = x_3) = \\sum_{x_2} \\sum_{x_4} p(X_1 = x_1, X_2 = x_2, X_3 = x_3, X_4 = x_4).\n",
        "$$\n",
        "\n",
        "For a multivariate normal distribution, the sum rule has a very simple and clear form, which will hopefully make things more clear. Specifically, if\n",
        "$$p(X_1, X_2) = \\mathcal{N}\\left(\\left[\\matrix{x_1 \\\\ x_2}\\right]\\middle| \\left[\\matrix{\\mu_1 \\\\ \\mu_2}\\right], \\left[\\matrix{\\sigma_1^2 & \\rho \\sigma_1 \\sigma_2 \\\\ \\rho \\sigma_1 \\sigma_2  &\\sigma_2^2}\\right]\\right),$$\n",
        "as defined above, then\n",
        "$$\n",
        "p(X_1) = \\mathcal{N}\\left(x_1 \\mid \\mu_1, \\sigma_1\\right).\n",
        "$$\n",
        "In other words, we simply 'drop' the variables that we don't care about, and get another normal distribution with only the ones that we do care about!\n",
        "\n",
        "*Note:* some keen-eyed readers may have noticed something slightly strange... in the joint distribution formula all of the $σ$s on the diagonal are squared, where as in the marginal formal we just write $\\sigma$ without the square. That is simply a convention, you can also write $\\mathcal{N}\\left(x_1 \\mid \\mu_1, \\sigma_1^2\\right)$, the meaning is the same.\n"
      ],
      "metadata": {
        "id": "O6z5dEnIDSkd"
      }
    },
    {
      "cell_type": "markdown",
      "source": [
        "#### Conditional distributions and the product rule\n",
        "\n",
        "As we mentioned above, we use *joint* distributions when one random variable tells us something about another random variable. But how do we actually use that information? For example, if $X_2 = 2$, how does that change the distribution over $X_1$? That is exactly what *conditional* distributions tell us. To be concrete the *conditional* distribution of $X_1$ given $X_2$ can be calculated as\n",
        "$$\n",
        "p(X_1 = x_1|X_2 = x_2) = \\frac{p(X_1 = x_1, X_2 = x_2)}{p(X_2 = x_2)},\n",
        "$$\n",
        "in other words, it is the ratio of the *joint* distribution and the *marginal* distribution of the conditioning variable. Rearanging the above formula, we can now write down a formula for a *join* distribution in the case where the variables *are not* independant\n",
        "$$\n",
        "p(X_1 = x_1, X_2 = x_2) = p(X_1 = x_1|X_2 = x_2)p(X_2 = x_2).\n",
        "$$\n",
        "What $X_1$ and $X_2$ *are* independant? Then\n",
        "$$\n",
        "p(X_1 = x_1|X_2 = x_2) = p(X_1 = x_1),\n",
        "$$\n",
        "and the we can write the joint as\n",
        "$$\n",
        "p(X_1 = x_1, X_2 = x_2) = p(X_1 = x_1)p(X_2 = x_2),\n",
        "$$\n",
        "which recovers the formula we used in group task 3!\n",
        "\n",
        "As above, for more than two variables, things are still simple\n",
        "$$\n",
        "p(X_1 = x_1, X_3 = x_3|X_2 = x_2, X_4 = x_4) = \\frac{p(X_1 = x_1, X_2 = x_2, X_3 = x_3, X_4 = x_4)}{p(X_2 = x_2, X_4 = x_4)}\n",
        "$$\n",
        "or equivalently\n",
        "$$\n",
        "p(X_1 = x_1, X_2 = x_2, X_3 = x_3, X_4 = x_4) = p(X_1 = x_1, X_3 = x_3|X_2 = x_2, X_4 = x_4)p(X_2 = x_2, X_4 = x_4).\n",
        "$$\n",
        "\n",
        "And also like above, for the 2-dimmensional normal we get some simple equations which can help us understand what is going on when we work with conditional distributions.\n",
        "$$\n",
        "p(X_1=x_1|X_2=x_2) = \\mathcal{N}\\left(x_1\\middle| \\mu_1 + \\frac{\\sigma_1}{\\sigma_2}\\rho(x_2 - \\mu_2), (1 - \\rho^2)\\sigma_1^2\\right).\n",
        "$$"
      ],
      "metadata": {
        "id": "qmi83dT-IzUS"
      }
    },
    {
      "cell_type": "markdown",
      "source": [
        "**Group task 10:** Let's try understand the equations sum and product rules by considering the 2-dimmensional normal setting. Discuss the following questions with your neighbours. If the answers don't seem obvious to you, don't worry! As usual, we have some code to play with to help our understanding, so feel free to use any combination of mathematics and playing with sliders to help you understand.\n",
        "1. If $\\rho = 0$, what happens to the conditional distributions?\n",
        "2. If $\\rho \\rightarrow 1$, what happens to the conditional distributions? (*Hint:* with a large $\\rho$, try setting the standard deviations to 1 and then set mean values to 0 and then slowly increasing or decreasing them).\n",
        "3. How do the standard deviations (and their ratio) impact the conditional distributions (for any value of $\\rho$)?\n",
        "4. How does the value of $\\rho$ impact the marginal distributions?"
      ],
      "metadata": {
        "id": "zGlCtPF0S1I7"
      }
    },
    {
      "cell_type": "code",
      "source": [
        "#@title multivariate normal interactive excercise 2 {run: \"auto\"}\n",
        "\n",
        "from matplotlib import gridspec\n",
        "from scipy.stats import norm\n",
        "\n",
        "μ1 = 0.7 #@param {type:\"slider\", min:-5, max:5, step:0.1}\n",
        "σ1 = 1.8 #@param {type:\"slider\", min: 0.1, max:4, step:0.1}\n",
        "μ2 = 1.6 #@param {type:\"slider\", min:-5, max:5, step:0.1}\n",
        "σ2 = 1 #@param {type:\"slider\", min: 0.1, max:4, step:0.1}\n",
        "ρ = 0.529 #@param {type:\"slider\", min: -0.999, max:0.999, step:0.001}\n",
        "x1 = -0.4 #@param {type:\"slider\", min:-5, max:5, step:0.1}\n",
        "x2 = 2.2 #@param {type:\"slider\", min:-5, max:5, step:0.1}\n",
        "\n",
        "μ = jnp.array([μ1, μ2])\n",
        "Σ = jnp.array([[σ1**2, ρ*σ1*σ2],[ρ*σ2*σ1, σ2**2]])\n",
        "\n",
        "cond_μ_x1, cond_σ_x1 = Gaussian_conditional(μ, Σ, x=None, y=x2)\n",
        "cond_μ_x2, cond_σ_x2 = Gaussian_conditional(μ, Σ, x=x1, y=None)\n",
        "\n",
        "xrange = jnp.linspace(-10, 10, 300)\n",
        "density_x1 = norm.pdf(xrange, μ1, σ1)\n",
        "density_x2 = norm.pdf(xrange, μ2, σ2)\n",
        "\n",
        "cond_density_x1 = norm.pdf(xrange, cond_μ_x1, cond_σ_x1)\n",
        "cond_density_x2 = norm.pdf(xrange, cond_μ_x2, cond_σ_x2)\n",
        "\n",
        "plt.figure(dpi=140)\n",
        "gs = gridspec.GridSpec(2, 2, width_ratios=[1,3], height_ratios=[3,1])\n",
        "ax = plt.subplot(gs[0,1])\n",
        "axl = plt.subplot(gs[0,0], sharey=ax)\n",
        "axb = plt.subplot(gs[1,1], sharex=ax)\n",
        "\n",
        "plot_log_gaussian_ellipse(ax, μ, Σ, color='C0', alpha=1, lw=1, label=None, MAP_size=5, std_levels=[0.7, 1.5, 2.3])\n",
        "ax.set_title('joint distribution $p(X_1, X_2)$')\n",
        "ax.axvline(x1, lw=1, c='C1')\n",
        "ax.axhline(x2, lw=1, c='C2')\n",
        "\n",
        "axb.plot(xrange, density_x1, c='C0', lw=1, label='marginal $p(X_1=x_1)$')\n",
        "axb.plot(xrange, cond_density_x1, '--', c='C2', lw=1, label=f'conditional $p(X_1=x_1 | X_2={x2})$')\n",
        "axb.set_xlabel('$X_1$')\n",
        "axb.set_xlim([-3,4])\n",
        "axb.legend(bbox_to_anchor=[0.5, -1.1],\n",
        "           loc='center')\n",
        "\n",
        "axl.plot(density_x2, xrange, c='C0', lw=1, label='marginal $p(X_2 = x_2)$')\n",
        "axl.plot(cond_density_x2, xrange, '--', c='C1', lw=1, label=f'conditional $p(X_2 = x_2 | X_1={x1})$')\n",
        "axl.set_ylabel('$X_2$')\n",
        "axl.set_ylim([-1.5,7.5])\n",
        "axl.invert_xaxis()\n",
        "axl.legend(bbox_to_anchor=[-0.15, -0.3],\n",
        "           loc='center')\n",
        "\n",
        "ax.grid(alpha=0.3)\n",
        "axl.grid(alpha=0.3)\n",
        "axb.grid(alpha=0.3)\n",
        "plt.show()"
      ],
      "metadata": {
        "cellView": "form",
        "id": "OXdON-zUJha2"
      },
      "execution_count": null,
      "outputs": []
    },
    {
      "cell_type": "markdown",
      "source": [
        "##### [Optional] a note on notation: conditional distributions"
      ],
      "metadata": {
        "id": "xjvo9NWnqKRd"
      }
    },
    {
      "cell_type": "markdown",
      "source": [
        "**What is the '$\\mid$' in $p(X\\mid a, b, c)$?**\n",
        "\n",
        "* The bar we often see in the middle of probability distribution notation is used to separate the random variables of the distribution from the variables that the random variables are conditioned on.\n",
        "* In other words, we have a function with two different kinds of inputs. The inputs on the right of $|$ are conditioning variables. The inputs on the left of $|$ are the values of the random variables under the probability distribution. The output of the function is the probability of the values of these random variables.\n",
        "* We read $p(A \\mid B, C)$ as 'the probability of A *given* B and C'."
      ],
      "metadata": {
        "id": "AHPOL7xBqZUd"
      }
    },
    {
      "cell_type": "markdown",
      "source": [
        "##### Answer to group task 9"
      ],
      "metadata": {
        "id": "45j_BaqvUHIk"
      }
    },
    {
      "cell_type": "markdown",
      "source": [
        "1. If $\\rho = 0$, the 2-dimmensional case is the same as having two 1-dimmensional gaussians. In this case, we see that the value of $X_1$ doesn't impact the value of $X_2$, and vice-versa.\n",
        "2. As $\\rho$ becomes larger, we see that the values of $X_1$ and $X_2$ do have some relation. Specifically, we see that for a large value of $X_1$ we expect to see a large value of $X_2$ (and vice-versa). If $\\rho$ is negative, we still see that $X_1$ and $X_2$ affect each other, except now for large values of $X_1$, we get large *negative* values of $X_2$."
      ],
      "metadata": {
        "id": "Rb39001sULwK"
      }
    },
    {
      "cell_type": "markdown",
      "source": [
        "##### Answer to group task 10"
      ],
      "metadata": {
        "id": "X8In9RwlUNTA"
      }
    },
    {
      "cell_type": "markdown",
      "source": [
        "1. If $\\rho = 0$, the conditional distributions match the marginal distributions, since conditioning on an independent variable has no affect.\n",
        "2. As $\\rho \\rightarrow 1$, the value of the conditional distribution becomes more and more influenced by the value of the conditioning variable. If both means are 0, and both standard deviations are 1, then the conditional distribution converges to the values of the conditioning variable.\n",
        "3. The smaller the ratio, i.e., the less (relatively) confident we are about the conditioning variable, the less the conditioning variable affects the conditional distribution.\n",
        "4. $\\rho$ does not affect the marginal distributions."
      ],
      "metadata": {
        "id": "Tq1LOl8gUNTC"
      }
    },
    {
      "cell_type": "markdown",
      "source": [
        "### Batch and event shapes"
      ],
      "metadata": {
        "id": "5dnSEOspdz32"
      }
    },
    {
      "cell_type": "markdown",
      "source": [
        "Let's take a moment to look at some code for both the multivariate normal and its simpler friend the univariate normal. We'll take this opportunity to learn something about how `numpyro` (and most other packages for working with probability distributions) handle batches of data – something we'll have to understand for training machine learning models!\n",
        "\n",
        "All distributions in `numpyro` have an `event_shape` – which describes how my dimensions the random variable is, e.g., for a 2-dimmensional normal distribution this would be 2 – and a `batch_shape` which describes how many sets of parameters the distribution has – it is probably easier to show, rather than tell, what this means with the following examples.\n",
        "\n",
        "Let's first look at a simple univariate normal $\\mathcal{N}(x|0, 1)$, as we've seen before in this practical. We will evaluate the probabilities of $X = 1$ and $X = 2$:"
      ],
      "metadata": {
        "id": "RItGS3hhVGAR"
      }
    },
    {
      "cell_type": "code",
      "source": [
        "values = jnp.array([1., 2.])\n",
        "normal = dist.Normal(0., 1.)\n",
        "print(f\"event_shape = {normal.event_shape}\")\n",
        "print(f\"batch_shape = {normal.batch_shape}\")\n",
        "print(f\"p(X = {values}) = {jnp.exp(normal.log_prob(values))}\")"
      ],
      "metadata": {
        "id": "vlbegU_Rdz33"
      },
      "execution_count": null,
      "outputs": []
    },
    {
      "cell_type": "markdown",
      "source": [
        "We see that this distribution has an empty event shape, which you can think of as being the same as an event shape of 1 (like how a scalar is the same as vector of length 1). The batch shape is also empty, since we only specified one set of parameters ($\\mu = 0, \\sigma = 1$).  \n",
        "\n",
        "Now since we tried to evaluate the probability of two values at once, and neither the event shape nor the batch shape are 2, this is equivalent to calling `dist.log_prob(1.)` and `dist.log_prob(2.)` separately. `numpyro` is just making our lives easier by [*broadcasting*](https://numpy.org/doc/stable/user/basics.broadcasting.html) the `log_prob` calculation to do both $p(X=1) = \\mathcal{N}(X=1|0, 1)$ and $p(X=2) = \\mathcal{N}(X=2|0, 1)$ at the same time.\n",
        "\n",
        "We could also specify a *batch* of two sets of parameters so that we are essentially working with $\\mathcal{N}(x|0, 1)$ and $\\mathcal{N}(x|1, 2)$ at the same time:"
      ],
      "metadata": {
        "id": "QhNYzZcNXCvq"
      }
    },
    {
      "cell_type": "code",
      "source": [
        "batch_normal = dist.Normal(jnp.array([0., 1.]), jnp.array([1., 2.]))\n",
        "print(f\"event_shape = {batch_normal.event_shape}\")\n",
        "print(f\"batch_shape = {batch_normal.batch_shape}\")\n",
        "print(f\"[p(X_1 = {values[0]}), p(X_2 = {values[1]})] = {jnp.exp(batch_normal.log_prob(values))}\")\n",
        "print(f\"p(X_1 = {values[0]}, X_2 = {values[1]}) = {jnp.prod(jnp.exp(batch_normal.log_prob(values)))}\")"
      ],
      "metadata": {
        "id": "1GX4p--adz33"
      },
      "execution_count": null,
      "outputs": []
    },
    {
      "cell_type": "markdown",
      "source": [
        "Now, notice that while the event shape is empty (as expected since we are still working with a univariate normal), the batch size is 2!\n",
        "\n",
        "As a result, the calculation we are doing is equivalent to separately calculating $p(X_1=1) = \\mathcal{N}(X_1=1|0, 1)$ and $p(X_2=2) = \\mathcal{N}(X_2=2|1, 2)$! Again, this is just `numpyro` making our lives easier.\n",
        "\n",
        "If we want to calculate $p(X_1=1,X_2=2)$, i.e., the joint probability that $X_1 = 1$ and $X_2 = 2$, then we either need to manually multiply the probabilities (assuming that $X_1$ and $X_2$ are independent) – as we've in the cell above – or we need to work with a multivariate normal.\n",
        "\n",
        "Let's first look at the case when the $X_1$ and $X_2$ are independent:"
      ],
      "metadata": {
        "id": "lDO01bdwYr-C"
      }
    },
    {
      "cell_type": "code",
      "source": [
        "multivariate_diagonal_normal = dist.MultivariateNormal(jnp.array([0., 1.]), jnp.array([[1., 0.], [0., 2.**2]]))\n",
        "print(f\"event_shape = {multivariate_diagonal_normal.event_shape}\")\n",
        "print(f\"batch_shape = {multivariate_diagonal_normal.batch_shape}\")\n",
        "print(f\"p(X_1 = {values[0]}, X_2 = {values[1]})) = {jnp.exp(multivariate_diagonal_normal.log_prob(values))}\")"
      ],
      "metadata": {
        "id": "o5GITSV8dz34"
      },
      "execution_count": null,
      "outputs": []
    },
    {
      "cell_type": "markdown",
      "source": [
        "As expected, for this 2-dimmensional normal, we now have an event size of 2! And because we only specified one set of parameters, the batch shape is empty.\n",
        "\n",
        "As a result of this event shape, when we ask for the `log_prob` of our two numbers, we automatically get a single *joint* probability, which matches the value we manually calculated above.\n",
        "\n",
        "Using a multivariate normal, we can also introduce some convariance between $X_1$ and $X_2$:"
      ],
      "metadata": {
        "id": "cirylJk-cOe1"
      }
    },
    {
      "cell_type": "code",
      "source": [
        "multivariate_full_normal = dist.MultivariateNormal(jnp.array([0., 1.]), jnp.array([[1., 1.], [1., 2.**2]]))\n",
        "print(f\"event_shape = {multivariate_full_normal.event_shape}\")\n",
        "print(f\"batch_shape = {multivariate_full_normal.batch_shape}\")\n",
        "print(f\"p(X_1 = {values[0]}, X_2 = {values[1]}) = {jnp.exp(multivariate_full_normal.log_prob(values))}\")"
      ],
      "metadata": {
        "id": "jWaOGgZbdz34"
      },
      "execution_count": null,
      "outputs": []
    },
    {
      "cell_type": "markdown",
      "source": [
        "This results in a slightly different value for the joint probability, but otherwise eveything looks the same.\n",
        "\n",
        "Of course, we can get a bit crazy and we can have non-empty event shape *and* a non-empty batch shape, but we'll leave that as a homework excercise for the curious to play with."
      ],
      "metadata": {
        "id": "vtxMMoziczra"
      }
    },
    {
      "cell_type": "markdown",
      "source": [
        "## The beta distribution\n"
      ],
      "metadata": {
        "id": "wex5EcAGV8KA"
      }
    },
    {
      "cell_type": "markdown",
      "source": [
        "The final distribution on our *grand tour of probability distributions* is the beta distribution. We're taking a look at this for two reasons. Firstly, we just want to take a look at another continuous probablility distribution, for the sake of perspective. Secondly, this distribution will be useful later in the practical – so if you aren't already familiar with it, stick around for this section.\n",
        "\n",
        "The beta distribution can be used to describe a continuous random variable between 0 and 1, for example percentages and ratios. It has the following form\n",
        "$$\n",
        "p(X = x) = \\mathrm{Beta}(x|\\alpha,\\beta) = \\frac{1}{\\mathrm{B}(\\alpha,\\beta)}x^{\\alpha-1}(1 - x)^{\\beta - 1},\n",
        "$$\n",
        "where $\\alpha > 0$ and and $\\beta > 0$ are the two *shape* parameters of the distribution, and $\\mathrm{Beta}$ is the beta function. Don't worry about the exact form of the beta function, all you need to know is that we can easily compute it using `numpy` or similar libraries, and it just ensures that the probability distribution is normalised – that is, that the total probability of all of the events adds up to 1.\n",
        "\n",
        "**Excercise:** Instead thinking too much about the beta function, let's play around with the following sliders to get an idea of what the beta distribution is like.\n",
        "* Try making each parameter big or small while leaving the other at the same value.\n",
        "* Then try make them both big or small.\n",
        "\n",
        "We're just trying to get a feel for the kinds of behaviour the beta distribution can describe, and how it is different from the normal distribution. Later on we'll use the beta distribution in an example which will help us get some further intuition for this distribution."
      ],
      "metadata": {
        "id": "6nfJCmpUfDv-"
      }
    },
    {
      "cell_type": "code",
      "source": [
        "#@title beta distribution interactive excercise {run: \"auto\"}\n",
        "α = 2 #@param {type:\"slider\", min:0.1, max:10, step:0.1}\n",
        "β = 2 #@param {type:\"slider\", min:0.1, max:10, step:0.1}\n",
        "\n",
        "beta = dist.Beta(α, β)\n",
        "xs = jnp.linspace(0, 1, 1000)\n",
        "\n",
        "fig = plt.figure(dpi=100)\n",
        "ax = fig.add_subplot(1, 1, 1)\n",
        "ax.plot(xs, jnp.exp(beta.log_prob(xs)), color='C0', lw=3, alpha=0.5)\n",
        "ax.set_xlabel('x')\n",
        "ax.set_ylabel('p(X=x)')\n",
        "ax.grid(0.3)\n",
        "plt.show()"
      ],
      "metadata": {
        "id": "q9nA-q40p1Ts",
        "outputId": "5323db3f-e8be-49b6-a861-fa1eac7ef8c8",
        "colab": {
          "base_uri": "https://localhost:8080/",
          "height": 448
        }
      },
      "execution_count": 55,
      "outputs": [
        {
          "output_type": "display_data",
          "data": {
            "text/plain": [
              "<Figure size 640x480 with 1 Axes>"
            ],
            "image/png": "[encoded data removed]"
          },
          "metadata": {}
        }
      ]
    },
    {
      "cell_type": "markdown",
      "source": [
        "## The (continuous) uniform distribution"
      ],
      "metadata": {
        "id": "PGo1rjc7Ph_H"
      }
    },
    {
      "cell_type": "markdown",
      "source": [
        "For the sake of completeness, let's formally introduce one of the most simple continuous distributions – the uniform distribution. Under this distribution, all possible values are equally likely. The uniform distribution has the following form\n",
        "$$\n",
        "p(X = x) = \\mathrm{Uniform}(x\\mid a, b) = \\begin{cases}\n",
        "\\frac{1}{b - a}\\, & \\text{if } a \\le x \\le b \\\\\n",
        "0\\, & \\text{otherwise},\n",
        "\\end{cases}\n",
        "$$\n",
        "where $a$ and $b$ are the upper and lower bound parameters, respectively.\n",
        "\n",
        "As has been our custom, here is an interactive plot of the distribution if you'd like to get a better picture."
      ],
      "metadata": {
        "id": "bJiqtqEjPvn9"
      }
    },
    {
      "cell_type": "code",
      "source": [
        "#@title uniform distribution interactive excercise {run: \"auto\"}\n",
        "#@markdown Note: `a` must be smaller than `b`.\n",
        "a = -1 #@param {type:\"slider\", min:-5, max:5, step:0.1}\n",
        "b = 3 #@param {type:\"slider\", min:-5, max:5, step:0.1}\n",
        "\n",
        "uniform = dist.Uniform(low=a, high=b)\n",
        "xs = jnp.linspace(-5, 5, 1000)\n",
        "\n",
        "fig = plt.figure(dpi=100)\n",
        "ax = fig.add_subplot(1, 1, 1)\n",
        "ax.plot(xs, jnp.exp(uniform.log_prob(xs)), color='C0', lw=3, alpha=0.5)\n",
        "ax.set_xlabel('x')\n",
        "ax.set_ylabel('p(X=x)')\n",
        "ax.grid(0.3)\n",
        "ax.set_xlim(-5, 5)\n",
        "plt.show()"
      ],
      "metadata": {
        "colab": {
          "base_uri": "https://localhost:8080/",
          "height": 505
        },
        "id": "OGTxdda9R2rn",
        "outputId": "b72e2f26-d46f-4da9-9b02-2ae89495ab94"
      },
      "execution_count": 37,
      "outputs": [
        {
          "output_type": "stream",
          "name": "stderr",
          "text": [
            "<ipython-input-37-612be9131742>:11: UserWarning: Out-of-support values provided to log prob method. The value argument should be within the support.\n",
            "  ax.plot(xs, jnp.exp(uniform.log_prob(xs)), color='C0', lw=3, alpha=0.5)\n"
          ]
        },
        {
          "output_type": "display_data",
          "data": {
            "text/plain": [
              "<Figure size 640x480 with 1 Axes>"
            ],
            "image/png": "[encoded data removed]"
          },
          "metadata": {}
        }
      ]
    },
    {
      "cell_type": "markdown",
      "source": [
        "## [Optional] comparing distributions with the KL divergence – <font color='orange'>`Intermediate`</font>"
      ],
      "metadata": {
        "id": "mAjBvpAgWHeN"
      }
    },
    {
      "cell_type": "markdown",
      "source": [
        "Now that we've seen a few different distributions, and also seen how varied the behaviour of a single distribution can be depending on the setting of the parameters, let's take the opportunity to think about how to compare distributions mathematically.\n",
        "\n",
        "We're going to use a tool called the Kullback–Leibler (KL) divergence as a *metric* to compare two distributions, $p$ and $q$:\n",
        "$$\n",
        "D_\\mathrm{KL}\\left[p\\mid\\mid q\\right] = \\mathbb{E}_{x\\sim p}\\left[-\\log\\frac{q(x)}{p(x)}\\right].\n",
        "$$\n",
        "We can think of the KL divergence as taking a number of samples $x$ from $p(X)$ and then comparing how likley those samples are under $q$ and $p$. A few things to note about the KL divergence:\n",
        "1. If $D_\\mathrm{KL}\\left[p\\mid\\mid q\\right] = 0$, then $p$ and $q$ are the same distribution.\n",
        "2. $D_\\mathrm{KL}\\left[p\\mid\\mid q\\right] \\ne D_\\mathrm{KL}\\left[q\\mid\\mid p\\right]$, in general.\n",
        "3. If $p(X)$ is not 0 wherever $q(X) = 0$, then then $D_\\mathrm{KL}\\left[p\\mid\\mid q\\right] = \\infty$. This means that the support of $q(X)$ must contain the support of $p(X)$ if we want to use the KL divergence to compare distributions.\n",
        "4. For some simple cases (i.e., normal + normal) the formula above can be written in an exact form without the expectation.\n",
        "\n",
        "Let's take a look at a simple implementation of the KL divergence:"
      ],
      "metadata": {
        "id": "NdrhmDZHfF5W"
      }
    },
    {
      "cell_type": "code",
      "source": [
        "def kl_divergence(p: dist.Distribution, q: dist.Distribution, n: int = 10_000):\n",
        "    xs = p.sample(rng, sample_shape = (n,))\n",
        "    p_log_probs = p.log_prob(xs)\n",
        "    q_log_probs = q.log_prob(xs)\n",
        "\n",
        "    return -(q_log_probs - p_log_probs).mean()"
      ],
      "metadata": {
        "id": "srshSYgQXsj4"
      },
      "execution_count": 53,
      "outputs": []
    },
    {
      "cell_type": "markdown",
      "source": [
        "**Group task 11:** Use the `kl_divergence` function above, as well as `dist.Normal`, `dist.Uniform`, and `dist.Beta`, to answer the following questions.\n",
        "\n",
        "1. Calculate the following KL divergence. What do we see?\n",
        "  * $D_\\mathrm{KL}\\left[\\mathrm{Uniform}(0, 1) \\mid\\mid \\mathrm{Uniform}(0, 1)\\right]$\n",
        "  * $D_\\mathrm{KL}\\left[\\mathrm{Beta}(5, 2) \\mid\\mid \\mathrm{Beta}(5, 2)\\right]$\n",
        "2. Calculate the following KL divergences. What can we say about the relationship between the beta and uniform distributions?\n",
        "  * What is $D_\\mathrm{KL}\\left[\\mathrm{Uniform}(0, 1) \\mid\\mid \\mathrm{Beta}(5, 2)\\right]$?\n",
        "  * What is $D_\\mathrm{KL}\\left[\\mathrm{Uniform}(0, 1) \\mid\\mid \\mathrm{Beta}(2, 2)\\right]$?\n",
        "  * What is $D_\\mathrm{KL}\\left[\\mathrm{Uniform}(0, 1) \\mid\\mid \\mathrm{Beta}(1, 1)\\right]$?\n",
        "3. What is $D_\\mathrm{KL}\\left[ \\mathrm{Beta}(5, 2) \\mid\\mid \\mathrm{Uniform}(0, 1)\\right]$. How does it compare to $D_\\mathrm{KL}\\left[\\mathrm{Uniform}(0, 1) \\mid\\mid \\mathrm{Beta}(5, 2)\\right]$ from above?\n",
        "4. Compare $D_\\mathrm{KL}\\left[\\mathrm{Uniform}(-1, 1) \\mid\\mid \\mathcal{N}(0, 1)\\right]$ and $D_\\mathrm{KL}\\left[\\mathcal{N}(0, 1) \\mid\\mid  \\mathrm{Uniform}(-1, 1) \\right]$."
      ],
      "metadata": {
        "id": "CubnajmLg8Yc"
      }
    },
    {
      "cell_type": "markdown",
      "source": [
        "### [Optional] A note on notation: KL divergences"
      ],
      "metadata": {
        "id": "qyM0FiNjhuz-"
      }
    },
    {
      "cell_type": "markdown",
      "source": [
        "* The KL divergence is also written simply as $\\mathrm{KL}$.\n",
        "* The double bar '$\\mid \\mid$' is simply a notation choice, and doesn't realted to the single bar '$\\mid$' in conditional probability distributions.\n",
        "* We read $D_\\mathrm{KL}\\left[p \\mid\\mid q\\right]$ as 'the KL divergence between p and q', or alternatively 'the KL divergence from **q** and **p**' to reflect the asymmetry.\n",
        "* The KL divergence is also called the *relative entropy*."
      ],
      "metadata": {
        "id": "s-bpfJeqplRy"
      }
    },
    {
      "cell_type": "markdown",
      "source": [
        "### Answer to group task 11"
      ],
      "metadata": {
        "id": "5m6b5-O8h6W3"
      }
    },
    {
      "cell_type": "markdown",
      "source": [
        "1. Both KL divergences are 0, since $p = q$.\n",
        "2. As the beta distributions shape parameters both get closer to 1, the KL divergence gets smaller, until the KL divergence becomes $\\approx 0$, when both shape parameters are 1. This means that ${Beta}(1, 1)$ is a uniform distribution between 0 and 1.\n",
        "3. As expected, $D_\\mathrm{KL}\\left[ \\mathrm{Beta}(5, 2) \\mid\\mid \\mathrm{Uniform}(0, 1)\\right] \\ne D_\\mathrm{KL}\\left[ \\mathrm{Uniform}(0, 1) \\mid\\mid \\mathrm{Beta}(5, 2)\\right]$\n",
        "4. While the first KL divergence is valid, the second is $\\infty$."
      ],
      "metadata": {
        "id": "I_CorqpYpH66"
      }
    },
    {
      "cell_type": "markdown",
      "source": [
        "# Bayesian inference: What, Why, How.\n",
        "\n",
        "*What you will learn:*\n",
        "\n",
        "- What is Bayesian inference?\n",
        "- Why do we care?\n",
        "- How to perform Bayesian inference: a painful way and a modern way."
      ],
      "metadata": {
        "id": "P8Tc509dapfl"
      }
    },
    {
      "cell_type": "markdown",
      "source": [
        "## *What* is Bayesian inference?\n",
        "\n",
        "\n",
        "In short, Bayesian inference is the process of deducing properties of a probability distribution from data using Bayes’ theorem. It incorporates the idea that probability should include a measure of **belief** about a prediction or outcome.\n",
        "\n",
        "\n",
        "Bayesian inference is a method of statistical inference in which probability is used to **update beliefs** about model's parameters based on available **evidence or data**."
      ],
      "metadata": {
        "id": "43vgBL_mfPLK"
      }
    },
    {
      "cell_type": "markdown",
      "source": [
        "**Group task NN:**\n",
        "\n",
        "To better undertand the role of prior beliefs and **subjective probability**, discuss with your neighbour the following questions:\n",
        "\n",
        "\n",
        "- What about the probability that it will rain tomorrow?\n",
        "- What is the probability that the next president will be a woman?\n",
        "- What is the probability that aliens built the pyramids?\n",
        "\n",
        "Such questions cannot be answered by \"long-run\" probability, i.e. probability obtained from multiple repeated runs of the same experiment. A certain degree of personal belief involved.\n",
        "\n",
        "Priors and subjective probability are foundational for Bayesian inference.\n"
      ],
      "metadata": {
        "id": "PCpCqkFMfSt_"
      }
    },
    {
      "cell_type": "markdown",
      "source": [
        "## Conditional, joint and marginal probabilities\n",
        "\n",
        "### Conditional and joint probabilities\n",
        "\n",
        "The **conditional probability** is the probability that $X$ takes some value for a given value of $Y$, and is written $P(A=a \\vert B=b)$.\n",
        "\n",
        "**Joint probabilities** tell us the the probability of two or more events or random variables occuring. For two variables, we write $P(A=a,B=b)$.\n",
        "\n",
        "These two quantities are related via: $P(A,B) = P(A \\vert B) P(B) = P(B \\vert A) P(A)$.\n",
        "\n",
        "**Group task XX:** Show how the conditional probability $P(A \\vert B)$ would look on a Venn diagram.\n",
        "\n",
        "**Group task XX:** Can you see using your Venn diagram that the above statement about joint probabilities is true? What is $P(A\\vert B)$ when $A$ and $B$ are independent events (i.e., no overlap on a Venn diagram)?"
      ],
      "metadata": {
        "id": "qQ6oiwbgwBU9"
      }
    },
    {
      "cell_type": "markdown",
      "source": [
        "### Answer to group task XX"
      ],
      "metadata": {
        "id": "yUflKwKAwwLY"
      }
    },
    {
      "cell_type": "markdown",
      "source": [
        "Conditional probability of A given B:\n",
        "\n",
        "$$P(A \\vert B)=\\frac{P(A \\cap B)}{P(B)}.$$\n",
        "\n",
        "![image.png](data:image/png;base64,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)\n",
        "\n",
        "\n",
        "$P(A \\vert B)$ - probability of event A given B has occured<br>\n",
        "$P(A \\cap B)$ - probability of event A occured and B occured"
      ],
      "metadata": {
        "id": "mJ9mxfbvfSrG"
      }
    },
    {
      "cell_type": "markdown",
      "source": [
        "### Marginalisation\n",
        "\n",
        "When we sum or integrate over all of one variable in a joint probability, we can get the probability distribution of the other! That is, for discrete distributions $P(A) = \\sum_{i=1}^N P(A,B=b_i)$ and for continuous $P(A) = \\int_{B} P(A,B=b)db$. These are called **marginal probabilities** -- you can intuit the name by thinking of integrating or summing towards the $A$ or $B$ variable axis.\n",
        "\n",
        "**Group task MM**: What does marginalisation look like on your Venn diagram?"
      ],
      "metadata": {
        "id": "2wO-K05sxETG"
      }
    },
    {
      "cell_type": "markdown",
      "source": [
        "## Bayes Theorem\n",
        "\n",
        "Conditional probability is the axis on which Bayesian statistics turns!\n",
        "\n",
        "From the joint and conditional formulae, we can relate two conditional probabilities:\n",
        "\n",
        "\\begin{equation}\n",
        "P(B \\vert A) = \\frac{P(A \\vert B)P(B)}{P(A)}\n",
        "\\end{equation}\n",
        "\n",
        "Same equation...\n",
        "\n",
        "...but different interpretation.\n",
        "\n",
        "**The famous Bayes Theorem!**"
      ],
      "metadata": {
        "id": "OBwM_HP5ffvY"
      }
    },
    {
      "cell_type": "markdown",
      "source": [
        "### Prior, likelihood and posterior\n",
        "\n",
        "This is commonly seen in models with data or evidence $\\mathcal{D}$ and parameters $\\theta$ as:\n",
        "\n",
        "\\begin{equation}\n",
        "P(\\theta \\vert \\mathcal{D}) = \\frac{P(\\mathcal{D} \\vert \\theta)P(\\mathcal{\\theta})}{P(D)}\n",
        "\\end{equation}\n",
        "\n",
        "* The denominator $P(\\mathcal{D})$ is often called a *normaliser* or evidence.\n",
        "* $P(\\mathcal{\\theta})$ is the *prior*.\n",
        "* $P(\\mathcal{D} \\vert \\theta)$ is the *likelihood*.\n",
        "* and $P(\\theta \\vert \\mathcal{D})$ is the *posterior*\n",
        "\n",
        "For this reason, you will often see Bayes rule summarised as \"posterior $\\propto$ prior $\\times$ likelihood\", which ignores the denominator since it is a constant (independent of $\\mathcal{D}$). This posterior summarises our belief state about the possible values of $\\theta$.\n",
        "\n",
        "Or in a picture format:\n",
        "\n",
        "![image.png](data:image/png;base64,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)\n",
        "\n",
        "\n",
        "To reiterate:\n",
        "\n",
        "- Prior is what is known or estimated a priori\n",
        "- Likelihood is probability of data given parameters of interest\n",
        "- Posterior is probability of parameters of interest given data"
      ],
      "metadata": {
        "id": "x52Th0NHffsv"
      }
    },
    {
      "cell_type": "markdown",
      "source": [
        "## Bayesian inference: examples and intuition."
      ],
      "metadata": {
        "id": "FeugCb2mdNuA"
      }
    },
    {
      "cell_type": "markdown",
      "source": [
        "\n",
        "### Example: diagnosing the cause of headache\n",
        "\n",
        "<div align=\"center\">\n",
        "\n",
        "![head.png](data:image/png;base64,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)\n",
        "</div>\n",
        "\n",
        "Imagine a situation where you need make a decision concerning your health. You have a headache, and can choose between two doctors:\n",
        "\n",
        "**Doctor 1:**\n",
        "- Has a mental model for the cause of pain.\n",
        "- Performs tests.\n",
        "\n",
        "**Doctor 2:**\n",
        "- Has a mental model for the cause of pain,\n",
        "- Hass access to the patient's chronic history,\n",
        "- Performs tests.\n",
        "\n",
        "Which doctor do you choose?\n",
        "\n",
        "Inference without priors is like a doctor who does not know the patient's history!"
      ],
      "metadata": {
        "id": "4vhzD3xRapaI"
      }
    },
    {
      "cell_type": "markdown",
      "source": [
        "### Example: diagnosing flu.\n",
        "\n",
        "For two simple events, Bayes' theorem can be written as\n",
        "\n",
        "$$ p(A|B) = \\frac{p(B|A) p(A)}{p(B)}.$$\n",
        "\n",
        "\n",
        "**Group task:** We know that the probability of having fever this time of the year is 10%, probability of having a flu this time of the year is 7%, and among all people having a flu, 70% of them have fever.\n",
        "Find probability of a patient having a flu given they have high temperature."
      ],
      "metadata": {
        "id": "HRWk2c9idrzg"
      }
    },
    {
      "cell_type": "markdown",
      "source": [
        "\n",
        "\n",
        "**Group task NN:** discuss with your neighbours, what are the possible outcomes when rolling a die?"
      ],
      "metadata": {
        "id": "geWPFmGRdVtL"
      }
    },
    {
      "cell_type": "markdown",
      "source": [
        "## Choosing the prior distribution (conjugate or not)\n",
        "\n",
        "In the doctor example, if the doctor we go to has access to history, but only from when the patient was a child and not for their recent years as an adult, they might make the wrong inferences about the current cause of a headache -- for example, if they don't know that the patient was in a car accident a year ago!\n",
        "\n",
        "The choice of the prior is really important! It can depend on a few things:\n",
        "\n",
        "- Type of distribution (we will see in a second).\n",
        "- Hyperparameters/hyperpriors.\n",
        "- Often there is a 'natural' candidate for prior choice.\n",
        "- Whether it creates a posterior that is mathematically solvable or not.\n",
        "- Some do (conjugate priors)\n",
        "- Most do not (non-conjugate)..."
      ],
      "metadata": {
        "id": "KC9k5YRlffqX"
      }
    },
    {
      "cell_type": "markdown",
      "source": [
        "### Informative or non-informative priors\n",
        "\n",
        "- Main source of criticism from non-Bayesians is how priors are chosen.\n",
        "- Priors should be informed by existing knowledge.\n",
        "- But what if we don't know anything really prior to inference?\n",
        "- Non-informative/informative priors outside scope of this but something to pay attention to."
      ],
      "metadata": {
        "id": "mS8Lr6nofSlp"
      }
    },
    {
      "cell_type": "markdown",
      "source": [
        "## *How* can we perform Bayesian inference?"
      ],
      "metadata": {
        "id": "nFfDTaxeggOX"
      }
    },
    {
      "cell_type": "markdown",
      "source": [
        "### What does it take?\n",
        "- Data,\n",
        "- A generative model,\n",
        "- Our beliefs before seeing the data.\n",
        "\n",
        "### What does it make?\n",
        "- The values of parameters that could give rise to the observed data **in the form of a distribution**."
      ],
      "metadata": {
        "id": "2gO2MFtMgeAP"
      }
    },
    {
      "cell_type": "markdown",
      "source": [
        "### *How* can we perform Bayesian inference?\n",
        "\n",
        "- **Analytically**\n",
        "        \n",
        "     This is an elegant approach. However, it is rarely available in real life.\n",
        "\n",
        "- **Numerically**\n",
        "\n",
        "    - Rather than deriving a posterior distribution in the closed form, we can use computational tools to **sample** from the posterior. The obtained samples describe the distributions of parameters.\n",
        "    \n",
        "    - We achieve this by exploring the space of parameters to find the most probable combinations of parameters.\n",
        "    \n",
        "    - Further we treat the obtained sampled as new data, to extract information about parameters, such as mean, credible interval or other statistics."
      ],
      "metadata": {
        "id": "I3XYForYYmfs"
      }
    },
    {
      "cell_type": "markdown",
      "source": [
        "### Example of analytical derivation of Gaussian-Gaussian posterior\n",
        "\n",
        "Normal-Normal"
      ],
      "metadata": {
        "id": "E4kG6d2tgmkY"
      }
    },
    {
      "cell_type": "markdown",
      "source": [
        "## Numerically\n",
        "\n",
        "- Markov Chain Monte Carlo (MCMC) family of algorithm, e.g.\n",
        "  * Metropolis-Hastings\n",
        "  * Gibbs\n",
        "  * Hamiltonian Monte Carlo (HMC)\n",
        "  * No-U-Turn sampler (NUTS)\n",
        "  * further variants such as SGHMC, LDHMC, etc\n",
        "- Variational Bayes\n",
        "- Approximate Bayesian Computation (ABC)\n",
        "- Particle filters\n",
        "- Laplace approximation\n",
        "\n",
        "More on this later! First, let's discuss some analytics and point estimates."
      ],
      "metadata": {
        "id": "sG4ITI4RYl21"
      }
    },
    {
      "cell_type": "markdown",
      "source": [
        "## Point estimates and Bayesian inference for Bernoulli-Beta coin flips"
      ],
      "metadata": {
        "id": "-QTzeP7H2dbz"
      }
    },
    {
      "cell_type": "markdown",
      "source": [
        "### [TODO] Binomial-Beta example -- integrate with coin tossing prior code and MLE/MAP examples (all of this section!)\n",
        "\n",
        "Binomial distribution is when there is success (1) or failure (0) with the proportion of success ($\\pi$) in $n$ trials:\n",
        "\n",
        " $$y|\\pi \\sim Binomial(\\pi,n)$$\n",
        "\n",
        "Beta distribution is  the conjugate of binomial defined by two parameters $a$ and $b$.\n",
        "\n",
        "Beta distributuon is 'natural' fit becasue it ranges from 0 to 1.\n",
        "\n",
        " $$\\pi \\sim Beta(a,b)$$\n",
        "\n",
        "Because of conjugacy, posterior can be found analytically:\n",
        "\n",
        "$$p(\\pi|y) \\sim Beta(y+a,n-y+b)$$"
      ],
      "metadata": {
        "id": "ATiyaoPJffnx"
      }
    },
    {
      "cell_type": "markdown",
      "source": [
        "### Point estimates\n",
        "\n",
        "To illustrate the use of Bayes' Theorem further, let's explore the coin flip example that you saw with the Bernoulli distribution to try to figure out whether a coin is weighted or not.\n",
        "\n",
        "We really just want one answer out of this problem -- the probability that a coin will give us a heads (since we know that the probability of tails is just $1- P(heads)$). This is a **point estimate**: one answer out of a range.\n",
        "\n",
        "In machine learning, we are often interested in estimating parameters $\\theta$ that best allow us to describe our data. Generally this leads to solving some optimisation problem for a loss function $\\mathcal{L}$, i.e.\n",
        "\\begin{equation*}\n",
        "\\hat{\\theta} = {\\arg \\min}_\\theta \\mathcal{L}(\\theta)\n",
        "\\end{equation*}\n",
        "\n",
        "This gives us a **point estimate** $\\hat{\\theta}$.\n",
        "\n",
        "**Group task XX**: Does a point estimate tell us anything about our uncertainty or the distribution from which we draw the estimate?"
      ],
      "metadata": {
        "id": "rGM60pjz2p5X"
      }
    },
    {
      "cell_type": "markdown",
      "source": [
        "#### Answer to group task XX"
      ],
      "metadata": {
        "id": "xIyTqAEypl6F"
      }
    },
    {
      "cell_type": "markdown",
      "source": [
        "No. Point estimates _assume_ there is a true but unknown value of the parameters we want to find. We use (Bayesian) inference (which noteably here isn't the same as inference in the prediction sense) to incorporate uncertainty. Inherently, we represent this as randomness, and rather than find the true value of the parameter, we look for its distribution in the posterior $p(\\theta \\vert \\mathcal{D})$."
      ],
      "metadata": {
        "id": "nvkQhgdWp_rH"
      }
    },
    {
      "cell_type": "markdown",
      "source": [
        "### Maximum likelihood estimation\n",
        "\n",
        "We might want to choose the point estimate of parameters that maximises the probability that our model describes the training data. This is called **maximum likelihood estimation** (MLE), and is what one most commonly does when fitting point estimates for parameters.\n",
        "\n",
        "\\begin{equation*}\n",
        "\\hat{\\theta}_{MLE} := {\\arg \\max}_{\\theta} p(\\mathcal{D} \\vert \\theta)\n",
        "\\end{equation*}\n",
        "\n",
        "Let's apply this to coin tosses, using what we already know about distributions from the first section of the practical.\n",
        "\n",
        "#### MLE for a Bernoulli distribution\n",
        "\n",
        "First, some maths. Let's assume we have some $N$ coin flips, which we can assume are independent, where $H=1$ is a flip resulting in heads and $H=0$ tails. Let's denote the random variable for the flip on trial $i$ by $h_i$.\n",
        "\n",
        "We can model this as a Bernoulli distribution, like we did in section XX. Given $n$ trials (coin flips), we want to compute the MLE parameter that tells us whether the coin is weighted or not: what is the proportion or likelihood of getting heads, $P(H=1) = \\theta$?\n",
        "\n",
        "**Exercise [intermediate]**: Write down the **negative log likelihood** ($NLL(\\theta)$) for this problem. Try to simplify as far as you can go!"
      ],
      "metadata": {
        "id": "mBK9e_5rqKsU"
      }
    },
    {
      "cell_type": "markdown",
      "source": [
        "#### Hint"
      ],
      "metadata": {
        "id": "eZ4vmtwEzbtY"
      }
    },
    {
      "cell_type": "markdown",
      "source": [
        "Break down what this means -- likelihood means $p(H \\vert \\theta)$, log means logarithm, and negative means multiplying something by -1 (ask your instructor if you don't know why we do these steps, they each make our jobs in computing probabilities easier!)."
      ],
      "metadata": {
        "id": "Y4xAgNF3zfKC"
      }
    },
    {
      "cell_type": "markdown",
      "source": [
        "#### Answer"
      ],
      "metadata": {
        "id": "pFjtIwHHUEHR"
      }
    },
    {
      "cell_type": "markdown",
      "source": [
        "Think of the **likelihood** bit first: this is just $p(H \\vert \\theta)$ from our definition above. We have $N$ trials and they are independent, so the overall likelihood is going to be the product of the likelihood on each trial, $p(h_i \\vert \\theta)$:\n",
        "\n",
        "\\begin{eqnarray*}\n",
        "\\mathcal{L}(\\theta) = \\prod_{i=1}^N p(h_i \\vert \\theta)\n",
        "\\end{eqnarray*} \\\\\n",
        "\n",
        "Now we can combine the likelihood with the **negative log** bit and what we know about the form of the Bernoulli distribution to get:\n",
        "\n",
        "\\begin{eqnarray*}\n",
        "NLL(\\theta) &=& - \\log \\prod_{i=1}^N p(h_i \\vert \\theta) \\\\\n",
        "&=& -\\log \\Bigg[ \\prod_{i=1}^N \\theta^{h_i} (1-\\theta)^{(1-h_i)} \\Bigg] \\\\\n",
        "\\end{eqnarray*} \\\\\n",
        "\n",
        "Using the properties of the logarithm (remember, these turn products into sums!):\n",
        "\n",
        "\\begin{eqnarray*}\n",
        "NLL(\\theta) &=& - \\sum_{i=1}^N \\bigg[h_i \\log(\\theta) + (1-h_i)\\log(1-\\theta)\\bigg] \\\\\n",
        "&=& - \\Bigg[\\sum_{i=1}^N h_i \\Bigg] \\log(\\theta) - \\Bigg[\\sum_{i=1}^N 1-h_i \\Bigg]\\log(1-\\theta) \\\\\n",
        "\\end{eqnarray*} \\\\\n",
        "\n",
        "Now the Bernoulli R.V.s $h_i$ are defined as either 0 or 1, depending in this case on whether each is heads or tails. So when we are summing over them we are really _counting_ the number of heads and tails (which remember is the same as $N-$ number of heads) across all the trials!\n",
        "\n",
        "Let's call the number of heads $N_1$ and the number of tails $N_0$. Then the negative log likelihood becomes:\n",
        "\n",
        "\\begin{eqnarray*}\n",
        "NLL(\\theta) &=& - N_1 \\log(\\theta) - N_0 \\log(1-\\theta) \\\\\n",
        "&=& - \\Big[ N_1 \\log\\theta + N_0 \\log(1-\\theta)\\Big]\n",
        "\\end{eqnarray*}"
      ],
      "metadata": {
        "id": "ycL66HdyUGvw"
      }
    },
    {
      "cell_type": "markdown",
      "source": [
        "#### MLE by hand\n",
        "We can implement this in code to find the MLE estimate ($\\arg \\max_\\theta NLL(\\theta)$), but we can also go a bit further and try to simplify the equation we have found via optimisation. We want to minimise the NLL, so we can set the derivative of the quantity to 0 and then solve.\n",
        "\n",
        "**Exercise**: Find the MLE by solving the optimisation problem $\\frac{d}{d\\theta} NLL(\\theta) = 0$. Does the answer make sense to you?"
      ],
      "metadata": {
        "id": "0ZqZ-nPEzvSj"
      }
    },
    {
      "cell_type": "markdown",
      "source": [
        "#### Answer:"
      ],
      "metadata": {
        "id": "fcISetQt1r_9"
      }
    },
    {
      "cell_type": "markdown",
      "source": [
        "Diving in:\n",
        "\n",
        "\\begin{eqnarray*}\n",
        "  0 &=& \\frac{d}{d\\theta} NLL(\\theta) \\\\\n",
        "  &=& \\frac{d}{d\\theta} \\bigg[ - \\Big[ N_1 \\log\\theta + \\big[N_0-N\\big] \\log(1-\\theta)\\Big]\\bigg] \\\\\n",
        "  &=& -N_1 \\frac{d}{d\\theta}\\big[\\log\\theta\\big] -N_0 \\frac{d}{d\\theta} \\big[\\log(1-\\theta)\\big]\\\\\n",
        "\\end{eqnarray*} \\\\\n",
        "\n",
        "You need to remember the univariate chain rule and derivative of logarithm to do the next step! Just look them up if you've forgotten! 🤭\n",
        "\n",
        "\\begin{eqnarray*}\n",
        "  0 &=& -\\frac{N_1}{\\theta} + \\frac{N_0}{1-\\theta} \\\\\n",
        "  \\implies \\hat{\\theta}_{MLE} = \\frac{N_1}{N_1+N_0} = \\frac{N_1}{N}\n",
        "\\end{eqnarray*} \\\\\n",
        "\n",
        "\n",
        "This answer is just the (empirical i.e. experimental) fraction of heads that we flipped across all $N$ trials -- that should make sense!"
      ],
      "metadata": {
        "id": "z4fnycca2pCK"
      }
    },
    {
      "cell_type": "markdown",
      "source": [
        "#### Implement MLE\n",
        "\n",
        "Now, implement the MLE for the Bernoulli distribution."
      ],
      "metadata": {
        "id": "P2l8la0d2r7Y"
      }
    },
    {
      "cell_type": "markdown",
      "source": [
        "#### Answer [TODO -- coding block, answer: integrate with James and Liza]"
      ],
      "metadata": {
        "id": "ay6pMtY72xlB"
      }
    },
    {
      "cell_type": "code",
      "source": [],
      "metadata": {
        "id": "iDyiMYso2zfJ"
      },
      "execution_count": null,
      "outputs": []
    },
    {
      "cell_type": "markdown",
      "source": [
        "#### Problems with MLE [TODO -- turn into sliders and code]\n",
        "\n",
        "MLE seems to be a straightforward and intuitive approach, but it has a few problems. It doesn't take into account the amount of data we have fed it or any notion of uncertainty, and is prone to overfitting because it may perfectly fit the empirical data we give it, but not predict well on future data.\n",
        "\n",
        "**Group task XX**: For example, let's consider the case in which we take 4 trials and see 4 heads consecutively. Using the sliders and formula above, calculate the MLE for the parameters in this situation. How likely do you think it is that this reflects the truth? What is the probability that we just happened to get 4 heads in a row for a balanced coin?"
      ],
      "metadata": {
        "id": "p3h8Pnwb1wM9"
      }
    },
    {
      "cell_type": "markdown",
      "source": [
        "#### [TODO] Answer to group task XX"
      ],
      "metadata": {
        "id": "8R0oSKKI14Vj"
      }
    },
    {
      "cell_type": "code",
      "source": [],
      "metadata": {
        "id": "vy8ZEs6fqJjq"
      },
      "execution_count": null,
      "outputs": []
    },
    {
      "cell_type": "markdown",
      "source": [
        "The probability of 4 heads in a row for a balanced coin is just $\\frac{1}{16}$ (order matters)."
      ],
      "metadata": {
        "id": "H3MD2LDYfANm"
      }
    },
    {
      "cell_type": "markdown",
      "source": [
        "#### Advanced: MLE is minimising KLD [TODO: change qs to ps with different parameters]\n",
        "\n",
        "It turns out that minimising the KL divergence is the same as maximising the likelihood estimate!\n",
        "\n",
        "\\begin{equation*}\n",
        "\\arg \\min_\\theta D_{KL} (p \\vert\\vert q) = \\arg \\max_\\theta p(\\mathcal{D} \\vert \\theta)\n",
        "\\end{equation*}\n",
        "\n",
        "Let's walk through the proof.\n",
        "\n",
        "Remember that when $p$ is the underlying distribution, minimising the KL divergence means finding optimal parameters $\\theta$ for distribution (or model) $q$ so that $\\mathbb{E}_{x \\sim p} \\big[ \\log \\frac{p(x)}{q(x \\vert \\theta)} \\big]$ is minimal.\n",
        "\n",
        "**Exercise**: See if you can think how to simplify this equation into terms containing just $\\theta$."
      ],
      "metadata": {
        "id": "Iksgz38P6B5P"
      }
    },
    {
      "cell_type": "markdown",
      "source": [
        "##### Answer:"
      ],
      "metadata": {
        "id": "V9vK1NR-jQEi"
      }
    },
    {
      "cell_type": "markdown",
      "source": [
        "\\begin{eqnarray*}\n",
        "\\arg \\min_\\theta D_{KL}(p \\vert \\vert q) &=& \\arg \\min_\\theta \\mathbb{E}_{x \\sim p} \\bigg[ \\log \\frac{p(x)}{q(x \\vert \\theta)} \\bigg] \\\\\n",
        "&=& \\arg \\min_\\theta \\mathbb{E}_{x \\sim p} \\big[ \\log p(x) - \\log q(x \\vert \\theta) \\big] \\\\\n",
        "&=& \\arg \\min_\\theta - \\mathbb{E}_{x \\sim p} \\big[ \\log q(x \\vert \\theta) \\big] \\\\\n",
        "\\end{eqnarray*}\n",
        "\n",
        "Since $p$ is not dependent on $\\theta$."
      ],
      "metadata": {
        "id": "Zaj2XAW_jU4Z"
      }
    },
    {
      "cell_type": "markdown",
      "source": [
        "#### Optimisation on the min KLD problem\n",
        "\n",
        "Note that we can always flip a minimisation into a maximisation using a negative sign:\n",
        "\n",
        "\\begin{equation*}\n",
        "\\arg \\min_\\theta \\Big[- \\mathbb{E}_{x \\sim p} \\big[ \\log q(x \\vert \\theta) \\big]\\Big] = \\arg \\max_\\theta \\mathbb{E}_{x \\sim p} \\big[ \\log q(x \\vert \\theta) \\big]\n",
        "\\end{equation*} \\\\\n",
        "\n",
        "And here's a tricky bit that you may not of seen: we need to use the definition of expectation and the law of large numbers to write out the expectation in terms of some $x_i$ drawn from the distribution $p$:\n",
        "\n",
        "\\begin{eqnarray*}\n",
        " \\arg \\max_\\theta \\mathbb{E}_{x \\sim p} \\big[ \\log q(x \\vert \\theta) \\big] &=& \\arg \\max_\\theta \\lim_{n \\rightarrow \\infty} \\sum_{i=1}^n \\log(p(x_i \\vert \\theta)) \\\\\n",
        " &=& \\arg\\max_\\theta \\log P(x\\vert \\theta) \\\\\n",
        " &=& \\arg \\max_\\theta P(\\mathcal{D} \\vert \\theta) \\\\\n",
        " &=& \\hat{\\theta}_{MLE}\n",
        "\\end{eqnarray*}\n",
        "\n",
        "As we wished to show!"
      ],
      "metadata": {
        "id": "OfF-8DQSkAwo"
      }
    },
    {
      "cell_type": "markdown",
      "source": [
        "### Regularisation and maximum a posterior estimation\n",
        "\n",
        "We can try to eliminate some overfitting through adding a penalty term to the NLL (regularisation):\n",
        "\n",
        "\\begin{equation*}\n",
        "\\mathcal{L}(\\theta; \\lambda) = NLL  - \\lambda C(\\theta)\n",
        "\\end{equation*}\n",
        "\n",
        "Commonly, we use $C = p(\\theta)$, where $p(\\theta)$ is the prior for $\\theta$. If $\\lambda = 1$,\n",
        "\\begin{eqnarray*}\n",
        "\\hat{\\theta} &=& \\arg \\min_\\theta -\\big[\\log p(\\mathcal{D\\vert \\theta}) + 1\\cdot \\log p(\\theta)\\big]\\\\\n",
        "&=& \\arg \\max_\\theta \\big[\\log p(\\mathcal{D\\vert \\theta}) + \\log p(\\theta)\\big] \\\\\n",
        "& =& \\arg\\max_\\theta \\log \\big[p(\\mathcal{D\\vert \\theta})p(\\theta)\\big] \\\\\n",
        "&=& \\arg\\max_\\theta \\log p(\\theta \\vert \\mathcal{D})\n",
        "\\end{eqnarray*}\n",
        "\n",
        "This is the same as _maximising the log posterior_ -- hence, **maximum a posterior estimation**!\n",
        "\n",
        "Let's apply this to the Bernoulli coin flip example. We'll use a beta distribution for the prior, $p(\\theta) = \\text{Beta}(\\theta \\vert a,b)$:\n",
        "\\begin{equation*}\n",
        "p(\\theta \\vert a,b) = \\text{Beta} (\\theta \\vert a,b) = \\frac{\\theta^{a-1}(1-\\theta)^{b-1}}{\\beta(a,b)}\n",
        "\\end{equation*}\n",
        "\n",
        "**Exercise**: By hand, calculate the MAP estimate with the beta prior.\n",
        "\n",
        "Note that the MAP estimate is still a point estimate -- it just takes into account our belief about the prior distribution."
      ],
      "metadata": {
        "id": "VGbvL5lA3RQN"
      }
    },
    {
      "cell_type": "markdown",
      "source": [
        "### Answer [TODO -- make clearer the steps taken]"
      ],
      "metadata": {
        "id": "4HlQ31A5-Vc1"
      }
    },
    {
      "cell_type": "markdown",
      "source": [
        "Note that $\\beta(a,b)$ does not depend on $\\theta$ (is a constant), so it drops out of any max/min calculations.\n",
        "\n",
        "\\begin{eqnarray*}\n",
        "\\mathcal{L}(\\theta) &=& \\log p(\\mathcal{D}\\vert \\theta)+\\log P(\\theta) \\\\\n",
        "&=& \\big[ N_1 \\log \\theta + N_0 \\log (1-\\theta)\\big] + \\big[(a-1)\\log\\theta+(b-1)\\log(1-\\theta)\\big] \\\\\n",
        "\\implies 0 &=& \\frac{d}{d\\theta} \\big[ N_1 \\log \\theta + N_0 \\log (1-\\theta)\\big] + \\big[(a-1)\\log\\theta+(b-1)\\log(1-\\theta)\\big] \\\\\n",
        "\\implies 0 &=& \\frac{N_1 + a-1}{\\theta} - \\frac{N_0+b-1}{ (1-\\theta)} \\\\\n",
        "\\implies \\theta_{MAP} &=& \\frac{N_1 + a -1}{N_1 + N_0 + a +b -2}\n",
        "\\end{eqnarray*}"
      ],
      "metadata": {
        "id": "QT89_b-M-cJt"
      }
    },
    {
      "cell_type": "markdown",
      "source": [
        "### To go a little further: conjugate priors\n",
        "\n",
        "Note that we can actually compute the posterior directly:\n",
        "\n",
        "\\begin{eqnarray*}\n",
        "p(\\theta \\vert H) &=& \\frac{p(\\theta)p(H\\vert \\theta)}{p(H)} \\\\\n",
        "&=& \\frac{\\text{Beta}(\\theta \\vert a,b)\\cdot \\theta}{p(H)} \\\\ & \\propto& \\theta \\cdot \\text{Beta}(\\theta \\vert a,b) \\\\\n",
        "& \\propto & \\theta \\cdot \\theta^{a-1}(1-\\theta)^{b-1} = \\text{Beta}(\\theta \\vert a +1, b)\n",
        "\\end{eqnarray*}\n",
        "\n",
        "We get another Beta distribution, which we can manipulate and compute easily and exactly! This is because we used a prior from the exponential family, and this is known as a **conjugate prior**. Conjugate priors are particularly useful because they allow us to ensure tractable posteriors, that is posterior distributions that we can compute and work with easily.\n",
        "\n",
        "Note: This practical doesn't cover conjugacy and the exponential family in depth, but you should ask your tutor if you want to find out more!\n",
        "\n",
        "### Comparing models using MAP\n",
        "\n",
        "You should probably have noticed that the MAP estimate is very much biased by the prior that we choose. So, how do we know which model of the prior is the best one? Well, we can just use Bayes' Rule again!\n",
        "\n",
        "After seeing some data, let's decide which model (bent or fair) best fits. We can just directly compare the **evidence** for a model given by\n",
        "\\begin{equation*}\n",
        "P(\\mathcal{D} \\vert \\mathcal{M}) = \\int P(\\mathcal{D} \\vert \\theta_M) P(\\theta_M \\vert \\mathcal{M}) d\\theta_M\n",
        "\\end{equation*}"
      ],
      "metadata": {
        "id": "ro6zm-T5A4rw"
      }
    },
    {
      "cell_type": "markdown",
      "source": [
        "### Influence of priors [TODO: integrate with above / fix order]\n",
        "\n",
        "Let us explore how much priors can actually influence posterior. Since tha marginal distribution $p(y)$ does not depend on the parameters, we will only explore the posterior up the to proportionality term\n",
        "\n",
        "$$p(\\theta |y ) ∝ p(y| \\theta) p(\\theta).$$\n",
        "\n",
        "If we have access to point-wise evaluations of the likelihood $p(y | \\theta)$ and prior $p(\\theta)$, we can compute their product to obtain posterior.\n",
        "\n",
        "Consider the coin tossing problem, which we describe using the Binomial distribution. Out of\n",
        "$$n=10$$\n",
        "tosses we obtained\n",
        "$$h=6$$\n",
        "successes. What is the probability of 'success' for this coin?"
      ],
      "metadata": {
        "id": "Rc9oFcrVY6dm"
      }
    },
    {
      "cell_type": "code",
      "source": [
        "##############################################\n",
        "# prioir x likelihood = posterior\n",
        "##############################################\n",
        "\n",
        "h=6\n",
        "\n",
        "n=9\n",
        "\n",
        "# define grid\n",
        "grid_points=100\n",
        "\n",
        "# define regular grid in the (0,1) interval\n",
        "p_grid = jnp.linspace(0, 1, grid_points)\n",
        "\n",
        "# compute likelihood at each point in the grid\n",
        "likelihood = stats.binom.pmf(h, n, p_grid)"
      ],
      "metadata": {
        "id": "bc9362eTY0fS"
      },
      "execution_count": null,
      "outputs": []
    },
    {
      "cell_type": "code",
      "source": [
        "def computePosterior(likelihood, prior):\n",
        "    # this functionm computes posterior\n",
        "    # and plots the result\n",
        "\n",
        "    # compute product of likelihood and prior\n",
        "    unstd_posterior = likelihood * prior\n",
        "\n",
        "    # standardize posterior\n",
        "    posterior = unstd_posterior / unstd_posterior.sum()\n",
        "\n",
        "    plt.figure(figsize=(17, 3))\n",
        "    ax1 = plt.subplot(131)\n",
        "    ax1.set_title(\"Prior\")\n",
        "    plt.plot(p_grid, prior)\n",
        "\n",
        "    ax2 = plt.subplot(132)\n",
        "    ax2.set_title(\"Likelihood\")\n",
        "    plt.plot(p_grid, likelihood)\n",
        "\n",
        "    ax3 = plt.subplot(133)\n",
        "    ax3.set_title(\"Posterior\")\n",
        "    plt.plot(p_grid, posterior)\n",
        "    plt.show()\n",
        "\n",
        "    return"
      ],
      "metadata": {
        "id": "hQNCIpIAokwq"
      },
      "execution_count": null,
      "outputs": []
    },
    {
      "cell_type": "markdown",
      "source": [
        "**Prior1 - Uniform.**\n",
        "\n",
        "Our first prior will be a Uniform distribution:\n",
        "\n",
        "$$p(\\theta) = 1.$$"
      ],
      "metadata": {
        "id": "ZP4xv6RdpiP6"
      }
    },
    {
      "cell_type": "code",
      "source": [
        "# Unifrom prior\n",
        "prior1 = jnp.repeat(1, grid_points)\n",
        "\n",
        "# visulaise prior, likelihood, posteroir\n",
        "posterior1 = computePosterior(likelihood, prior1)"
      ],
      "metadata": {
        "id": "brYd3IrcpeLM"
      },
      "execution_count": null,
      "outputs": []
    },
    {
      "cell_type": "markdown",
      "source": [
        "**Prior2 - Step-function.**\n",
        "\n",
        "**Group task NN**\n",
        "\n",
        "Implement the step-function prior:\n",
        "\n",
        "$$p(\\theta) = 1.$$\n",
        "\n",
        "$$\n",
        "p(\\theta) = \\begin{cases}\n",
        "0 \\text{ if } \\theta <= 0.5 \\\\\n",
        "1 \\text{ otherwise. }\n",
        "\\end{cases}\n",
        "$$\n",
        "\n",
        "How do you think will the posterior change?\n"
      ],
      "metadata": {
        "id": "ep1STrY0qt9T"
      }
    },
    {
      "cell_type": "markdown",
      "source": [
        "#### Answer to group task NN"
      ],
      "metadata": {
        "id": "HstCVyl5rLo1"
      }
    },
    {
      "cell_type": "code",
      "source": [
        "prior2 = (p_grid >= 0.5).astype(int)\n",
        "posterior2 = computePosterior(likelihood, prior2)"
      ],
      "metadata": {
        "id": "qMo79Ni7qtyO"
      },
      "execution_count": null,
      "outputs": []
    },
    {
      "cell_type": "markdown",
      "source": [
        "**Prior3**"
      ],
      "metadata": {
        "id": "hI_Gtc7HrU_m"
      }
    },
    {
      "cell_type": "code",
      "source": [
        "prior3 = jnp.exp(- 5 * abs(p_grid - 0.5))\n",
        "posterior3 = computePosterior(likelihood, prior3)"
      ],
      "metadata": {
        "id": "9ENdvuYPqSbv"
      },
      "execution_count": null,
      "outputs": []
    },
    {
      "cell_type": "markdown",
      "source": [
        "## The Monte Carlo method\n",
        "\n",
        "[Kira suggestion -- move this down, collapse all of coin tossing into one section with compute by hand + coding...]\n",
        "\n",
        "is a group of algorithms which use random sampling repeatedly to make numerical estimations of unknown qunatities/parameters (originated within the Manhattan Project thanks to Stanislaw Ulam).\n",
        "\n",
        "Let us tacke the following problem:\n",
        "\n",
        "Find approximate value of $\\pi.$\n",
        "\n",
        "Note: we are solving a **deterministic** problem using **probabilistic methods**, i.e. random number generation."
      ],
      "metadata": {
        "id": "5bqeEJ-orcoq"
      }
    },
    {
      "cell_type": "code",
      "source": [
        "##############################################\n",
        "# the Monte Carlo method - compute pi\n",
        "##############################################\n",
        "\n",
        "def in_circle(x, y, r):\n",
        "    # is point (x,y) within circle of radius r?\n",
        "\n",
        "    return jnp.sqrt(x **2 + y**2) <= r**2"
      ],
      "metadata": {
        "id": "i713pVxVrWYN"
      },
      "execution_count": null,
      "outputs": []
    },
    {
      "cell_type": "code",
      "source": [
        "def approx_pi(r, n):\n",
        "\n",
        "    xs, ys, cols = [], [], []\n",
        "\n",
        "    count = 0\n",
        "\n",
        "    for i in range(n):\n",
        "        x = np.random.uniform(0,r,1)\n",
        "        y = np.random.uniform(0,r,1)\n",
        "        xs.append(x)\n",
        "        ys.append(y)\n",
        "\n",
        "        if in_circle(x, y, r):\n",
        "            count += 1\n",
        "            cols.append(\"red\")\n",
        "        else:\n",
        "            cols.append(\"steelblue\")\n",
        "\n",
        "    pi_appr = round(4 * count/n, 3)\n",
        "\n",
        "    plt.figure(figsize=(2, 2))\n",
        "    plt.scatter(xs, ys, c = cols, s=2)\n",
        "    plt.title(\"pi (approximately) = \" + str(pi_appr))\n",
        "    plt.xticks([])\n",
        "    plt.yticks([])\n",
        "    plt.show()\n",
        "\n",
        "    return pi_appr"
      ],
      "metadata": {
        "id": "FwhB2ZB8seJ8"
      },
      "execution_count": null,
      "outputs": []
    },
    {
      "cell_type": "markdown",
      "source": [
        "**Group task NN.**\n",
        "\n",
        "Using the functions above, iterate $n$ through vaules $5*10^1, 5*10^2, 5*10^3$ and run the function approximating $\\pi$. How does the result change?"
      ],
      "metadata": {
        "id": "A1nfWgJnsxuS"
      }
    },
    {
      "cell_type": "code",
      "source": [
        "r = 1\n",
        "\n",
        "for n in 5*10**jnp.array([1,2,3]):\n",
        "    approx_pi(r, n)"
      ],
      "metadata": {
        "id": "G0pkQD6WsrXy"
      },
      "execution_count": null,
      "outputs": []
    },
    {
      "cell_type": "markdown",
      "source": [
        "## Monte Carlo integration\n",
        "\n",
        "The same principle - of using random sampling to solve deterministic problems - can be applied to computing integral of a function.\n",
        "\n",
        "Problem to solve: find value of the integral\n",
        "\n",
        "$$\\int_a^b f(x)dx. $$\n",
        "\n",
        "Monte Carlo integration estimates this integral by estimaing the fraction of random points that fall below $f(x)$."
      ],
      "metadata": {
        "id": "iSUGVJY6tXmS"
      }
    },
    {
      "cell_type": "markdown",
      "source": [
        "In our context, we are interested in estimating expectations\n",
        "\n",
        "$$ E[h(x)] = \\int h(x)f(x)dx,$$\n",
        "\n",
        "which can be done with\n",
        "\n",
        "$$ \\bar{h}_n = \\frac{1}{n} \\sum_i^n h(x_i),$$\n",
        "where $x_i ∼ f$ is a draw from the density $f$.\n",
        "\n",
        "The convergence of Monte Carlo integration is $0(n^{1/2})$ and independent of the dimensionality. Hence Monte Carlo integration **generally** beats numerical intergration for moderate- and high-dimensional integration since numerical integration (quadrature) converges as $0(n^d)$."
      ],
      "metadata": {
        "id": "vv5k5tRztu9E"
      }
    },
    {
      "cell_type": "markdown",
      "source": [
        "### Monte Carlo integration - Example\n",
        "\n",
        "Estiamte the integral $\\int_0^1 e^x dx$."
      ],
      "metadata": {
        "id": "EDnTeJKVtyzN"
      }
    },
    {
      "cell_type": "code",
      "source": [
        "##############################################\n",
        "# the Monte Carlo method - integration\n",
        "##############################################"
      ],
      "metadata": {
        "id": "a1jZKoUbsu5Q"
      },
      "execution_count": null,
      "outputs": []
    },
    {
      "cell_type": "code",
      "source": [
        "jnp.exp(1) - jnp.exp(0)"
      ],
      "metadata": {
        "id": "4cuejKpqt3HB"
      },
      "execution_count": null,
      "outputs": []
    },
    {
      "cell_type": "code",
      "source": [
        "plt.figure(figsize=(3, 3))\n",
        "\n",
        "x = jnp.linspace(0, 1, 100)\n",
        "plt.plot(x, jnp.exp(x));\n",
        "pts = np.random.uniform(0,1,(100, 2))\n",
        "pts[:, 1] *= jnp.e\n",
        "\n",
        "cols = ['steelblue'] * 100\n",
        "for i in range(100):\n",
        "    if pts[i,1] > jnp.exp(pts[i,0]):     # acceptance / rejection step\n",
        "        cols[i] = 'red'\n",
        "\n",
        "\n",
        "plt.scatter(pts[:, 0], pts[:, 1], c = cols)\n",
        "plt.xlim([0,1])\n",
        "plt.ylim([0, jnp.e]);"
      ],
      "metadata": {
        "id": "ziPovUw6t4ek"
      },
      "execution_count": null,
      "outputs": []
    },
    {
      "cell_type": "code",
      "source": [
        "# Monte Carlo approximation\n",
        "\n",
        "for n in 10**np.array([1,2,3,4,5,6,7,8]):\n",
        "    pts = np.random.uniform(0, 1, (n, 2))\n",
        "    pts[:, 1] *= jnp.e\n",
        "    count = jnp.sum(pts[:, 1] < jnp.exp(pts[:, 0]))\n",
        "    volume = jnp.e * 1 # volume of region\n",
        "    sol = (volume * count)/n\n",
        "    print('%10d %.6f' % (n, sol))"
      ],
      "metadata": {
        "id": "Axzu3wN1t6bg"
      },
      "execution_count": null,
      "outputs": []
    },
    {
      "cell_type": "markdown",
      "source": [
        "## Coin tossing\n",
        "\n",
        "How to derive the MLE estimate?\n",
        "\n",
        "$$L (\\theta) = \\theta^\\text{heads} (1-\\theta)^\\text{tails}  $$\n",
        "\n",
        "\n",
        "$$\\log L (\\theta) = \\text{heads} * \\log \\theta +  \\text{tails} * \\log (1-\\theta)  $$\n",
        "\n",
        "$$ \\frac{d \\log L}{ \\ d \\theta} = \\frac{\\text{heads}}{\\theta} + \\frac{\\text{tails}}{1-\\theta} = 0 $$\n",
        "\n",
        "and so\n",
        "\n",
        "$$ \\hat{\\theta} = \\frac{\\text{heads}}{\\text{heads + tails}} $$"
      ],
      "metadata": {
        "id": "XTVAQbUhuBtH"
      }
    },
    {
      "cell_type": "markdown",
      "source": [
        "### Approach without priors"
      ],
      "metadata": {
        "id": "dvPPX3FnuRYx"
      }
    },
    {
      "cell_type": "code",
      "source": [
        "##############################################\n",
        "# coin tossing\n",
        "##############################################\n",
        "\n",
        "n = 10\n",
        "h = 6\n",
        "p = h/n\n",
        "print(p)"
      ],
      "metadata": {
        "id": "uwvVdvYmt75D"
      },
      "execution_count": null,
      "outputs": []
    },
    {
      "cell_type": "markdown",
      "source": [
        "### The Bayesian way\n",
        "\n",
        "Beta distribution:\n",
        "\n",
        "$$ \\text{Beta}_\\theta(a,b)  = C * \\theta^{(a-1)} (1 - \\theta)^{(b-1)} $$\n",
        "\n",
        "If we compute the posterior distribution analytically, we will obtain a Beta distribution with new parameters."
      ],
      "metadata": {
        "id": "Szy_5XM8uOIa"
      }
    },
    {
      "cell_type": "code",
      "source": [
        "a, b = 10, 10                   # hyperparameters\n",
        "prior = stats.beta(a, b)        # prior\n",
        "post = stats.beta(h+a, n-h+b)   # posterior"
      ],
      "metadata": {
        "id": "Gvc2qC5kuLvx"
      },
      "execution_count": null,
      "outputs": []
    },
    {
      "cell_type": "code",
      "source": [
        "def beta_binomial(n, h, a, b):\n",
        "    # frequentist\n",
        "    p = h/n\n",
        "    rv = stats.binom(n, p)\n",
        "    mu = rv.mean()\n",
        "\n",
        "    # Bayesian\n",
        "    prior = stats.beta(a, b)\n",
        "    post = stats.beta(h+a, n-h+b)\n",
        "\n",
        "    thetas = np.linspace(0, 1, 200)\n",
        "    plt.figure(figsize=(5, 3))\n",
        "    plt.plot(thetas, prior.pdf(thetas), label='Prior', c='blue')\n",
        "    plt.plot(thetas, post.pdf(thetas), label='Posterior', c='red')\n",
        "    plt.plot(thetas, n*stats.binom(n, thetas).pmf(h), label='Likelihood', c='green')\n",
        "    plt.axvline((h+a-1)/(n+a+b-2), c='red', linestyle='dashed', alpha=0.4, label='MAP')\n",
        "    plt.axvline(mu/n, c='green', linestyle='dashed', alpha=0.4, label='MLE')\n",
        "    plt.xlim([0, 1])\n",
        "    plt.xlabel(r'$\\theta$', fontsize=14)\n",
        "    plt.ylabel('Density', fontsize=16)\n",
        "    plt.legend();"
      ],
      "metadata": {
        "id": "bLhdl7jPuWfU"
      },
      "execution_count": null,
      "outputs": []
    },
    {
      "cell_type": "code",
      "source": [
        "beta_binomial(100, 80, 10, 10)"
      ],
      "metadata": {
        "id": "SeQZXClTuZRp"
      },
      "execution_count": null,
      "outputs": []
    },
    {
      "cell_type": "code",
      "source": [
        "beta_binomial(4, 3, 10, 10)"
      ],
      "metadata": {
        "id": "flGa5ycXubS-"
      },
      "execution_count": null,
      "outputs": []
    },
    {
      "cell_type": "code",
      "source": [
        "beta_binomial(4, 3, 2, 2)"
      ],
      "metadata": {
        "id": "AQlqs8Y1uc6f"
      },
      "execution_count": null,
      "outputs": []
    },
    {
      "cell_type": "code",
      "source": [
        "beta_binomial(4, 3, 1, 1)"
      ],
      "metadata": {
        "id": "pGNjZEZqueoc"
      },
      "execution_count": null,
      "outputs": []
    },
    {
      "cell_type": "markdown",
      "source": [
        "## MLE and MAP for binary digit data [TODO -- fix this entire section!]\n",
        "\n",
        "Now let's apply these point estimates to image data. We'll take a data set of black and white pixels of digits, like MNIST. We can create a single vector of data by concatenating all the rows of the pixel image.\n",
        "\n",
        "The data set has $N$ images and each image has $D$ pixels ($D$ is number of rows $\\times$ number of columns). That is, image $\\vec{x}^{(i)}$ is a vector $(x_1^{(i)},x_2^{(i)},...,x_D^{(i)})$, with $x_d^{(i)} \\in \\{0,1\\}, d\\in\\{1,2,...,D\\}, \\forall i \\in \\{1,2,...,N\\}$.\n",
        "\n",
        "**Group task 14**: Think about what type of distribution might best model this data. Does a multivariate Gaussian work, for example? Why not?\n",
        "\n",
        "We'll model this using a multivariate Bernoulli distribution. Let the parameter vector be given by $\\vec{p} = (p_1,p_2,...,p_d,...,p_D)$:\n",
        "\\begin{equation*}\n",
        "p(\\vec{x} \\vert  \\vec{p}) = \\prod_{d=1}^D p_d^{x_d}(1-p_d)^{(1-x_d)}\n",
        "\\end{equation*}\n",
        "\n",
        "**Group task 15**: What is the equation for the MLE estimate of $\\vec{p}$?"
      ],
      "metadata": {
        "id": "EDug97NaAEX5"
      }
    },
    {
      "cell_type": "markdown",
      "source": [
        "#### Answer to group task 14"
      ],
      "metadata": {
        "id": "g8EMiDSVNrAF"
      }
    },
    {
      "cell_type": "markdown",
      "source": [
        "#### Answer to group task 15"
      ],
      "metadata": {
        "id": "hr_-hU_3Nvf5"
      }
    },
    {
      "cell_type": "markdown",
      "source": [],
      "metadata": {
        "id": "pxyClEJ5NyqL"
      }
    },
    {
      "cell_type": "markdown",
      "source": [
        "### MAP estimate for binary digit data\n",
        "\n",
        "Let's assume independent beta priors for the parameters $p_d$, so that $P(\\vec{p}) = \\prod_d P(p_d)$ and:\n",
        "\\begin{equation*}\n",
        "P(p_d \\vert a,b) \\propto p_d^{a-1}(1-p_d)^{b-1}\n",
        "\\end{equation*}\n",
        "\n",
        "**Group task 16**: What is the MAP estimate for $\\vec{p}$?"
      ],
      "metadata": {
        "id": "O0YR8ZFNNzDc"
      }
    },
    {
      "cell_type": "markdown",
      "source": [
        "#### Answer to group task 16"
      ],
      "metadata": {
        "id": "34rWudgyNuzj"
      }
    },
    {
      "cell_type": "markdown",
      "source": [
        "### Implementing the MAP and MLE on data\n",
        "\n",
        "Let's implement the MLE and MAP estimate on real data!\n",
        "\n",
        "Your task is to fill in the derivations you have done for the MLE and MAP estimate (the data load and visualisations should be done for you)."
      ],
      "metadata": {
        "id": "s-uidFnvO-yC"
      }
    },
    {
      "cell_type": "markdown",
      "source": [
        "Is the MAP estimate helpful? When would we choose to use a MAP estimate over the MLE?"
      ],
      "metadata": {
        "id": "U4YQTL9JbbRq"
      }
    },
    {
      "cell_type": "markdown",
      "source": [
        "## Markov Chain Monte Carlo\n",
        "\n",
        " - We want to estiamte the posterior distribution, but this is often intractable\n",
        "\n",
        "\n",
        "#### Markov Chain Monte Carlo idea:\n",
        "\n",
        "- draw samples from a (simple) proposal distribution so that each draw depends only on the state of the previous draw (i.e. the samples form a Markov chain)\n",
        "- under certain conditions, the Markov chain will have a unique stationary distribution\n",
        "\n",
        "- we set up an acceptance criteria for each draw based on comparing successive states with respect to a target distribution that enusre that the stationary distribution is the posterior distribution we are searching for\n",
        "\n",
        "- there is no need to evaluate the potentially intractable marginal likelihood\n",
        "\n",
        "- after sufficient number of iterations, the Markov chain of accepted draws will converge to the staionary distribution, and we can use those samples as (correlated) draws from the posterior distribution, and find functions of the posterior distribution"
      ],
      "metadata": {
        "id": "mcG94irlukaN"
      }
    },
    {
      "cell_type": "markdown",
      "source": [
        "## [Optional] Metropolis-Hastings random walk algorithm\n",
        "\n",
        "- Start with an initial guess for $\\theta$\n",
        "\n",
        "- Chose a new proposed value as $\\theta_p = \\theta + \\delta_\\theta, \\delta_\\theta \\sim N(0, \\sigma).$\n",
        "   \n",
        "  Here we have chosen the proposal distribution to be $N(0, \\sigma).$\n",
        "  \n",
        "- If $g$ is the posterior probability, calculate the ratio $\\rho = \\frac{g(\\theta_p \\mid X)}{g(\\theta \\mid X)}$\n",
        "\n",
        "- (adjust for symmetry of the proposal distribution)\n",
        "\n",
        "\n",
        "- If $\\rho \\ge 1,$ accept $\\theta = \\theta_p;$ if $\\rho < 1,$ accept  $\\theta = \\theta_p$ with probability $p,$ otherwise keep $\\theta = \\theta.$ (This step is done with the help of the standard Uniform distribution)"
      ],
      "metadata": {
        "id": "7fADNOfEuyIF"
      }
    },
    {
      "cell_type": "code",
      "source": [
        "##############################################\n",
        "# Metropolis-Hastings\n",
        "##############################################"
      ],
      "metadata": {
        "id": "EB8ylerrugTN"
      },
      "execution_count": null,
      "outputs": []
    },
    {
      "cell_type": "code",
      "source": [
        "def target(likelihood, prior, n, h, theta):\n",
        "    if theta < 0 or theta > 1:\n",
        "        return 0\n",
        "    else:\n",
        "        return likelihood(n, theta).pmf(h)*prior.pdf(theta)\n",
        "\n",
        "n = 100\n",
        "h = 61\n",
        "a = 10\n",
        "b = 10\n",
        "likelihood = stats.binom\n",
        "prior = stats.beta(a, b)\n",
        "sigma = 0.3\n",
        "\n",
        "naccept = 0\n",
        "theta = 0.1\n",
        "niters = 10000\n",
        "\n",
        "samples = np.zeros(niters+1)\n",
        "samples[0] = theta\n",
        "\n",
        "for i in range(niters):\n",
        "    theta_p = theta + stats.norm(0, sigma).rvs()\n",
        "    rho = min(1, target(likelihood, prior, n, h, theta_p)/target(likelihood, prior, n, h, theta ))\n",
        "    u = np.random.uniform()\n",
        "    if u < rho:\n",
        "        naccept += 1\n",
        "        theta = theta_p\n",
        "    samples[i+1] = theta\n",
        "\n",
        "nmcmc = len(samples)//2\n",
        "print(\"Portion of accepted steps = \" + str(naccept/niters))\n",
        "\n",
        "post = stats.beta(h+a, n-h+b)\n",
        "thetas = np.linspace(0, 1, 200)\n",
        "\n",
        "plt.figure(figsize=(4, 4))\n",
        "plt.hist(samples[nmcmc:], 20, histtype='step', linewidth=1, label='Distribution of posterior samples', density =True);\n",
        "plt.hist(prior.rvs(nmcmc), 40, histtype='step',  linewidth=1, label='Distribution of prior samples', density=True);\n",
        "plt.plot(thetas, post.pdf(thetas), c='red', linestyle='--', alpha=0.5, label='True posterior')\n",
        "plt.xlim([0,1]);\n",
        "plt.legend(loc='best');"
      ],
      "metadata": {
        "id": "EmBor-qeu2z0"
      },
      "execution_count": null,
      "outputs": []
    },
    {
      "cell_type": "markdown",
      "source": [
        "We run the chain for $N$ iterations and discard the first $B$ samples. This is called **burn-in**.\n",
        "\n",
        "We can run several parallel versions of the algorithm. Each of them is called a **chain.**\n",
        "\n",
        "Neigbouring samples will contain similar information. We might want to save only every second, or fifth, or tenth. This is called **thinnning.**"
      ],
      "metadata": {
        "id": "XVHQC0CDvNTL"
      }
    },
    {
      "cell_type": "markdown",
      "source": [
        "## Convergence diagnostics\n",
        "\n",
        "Rigorous way of assesing convergence is an unsolved problems. But there are several tool swe can use to convice ourselves that an MCMC has converged, such as\n",
        "\n",
        "- trace plots need to look stationary\n",
        "- parallel chains should carry similar information"
      ],
      "metadata": {
        "id": "1jvQPC7PvZqj"
      }
    },
    {
      "cell_type": "code",
      "source": [
        "## Convergence diagnostics\n",
        "\n",
        "def mh_coin(niters, n, h, theta, likelihood, prior, sigma):\n",
        "    samples = [theta]\n",
        "    while len(samples) < niters:\n",
        "        theta_p = theta + stats.norm(0, sigma).rvs()\n",
        "        rho = min(1, target(likelihood, prior, n, h, theta_p)/target(likelihood, prior, n, h, theta ))\n",
        "        u = np.random.uniform()\n",
        "        if u < rho:\n",
        "            theta = theta_p\n",
        "        samples.append(theta)\n",
        "\n",
        "    return samples"
      ],
      "metadata": {
        "id": "TIwXccUivgNU"
      },
      "execution_count": null,
      "outputs": []
    },
    {
      "cell_type": "code",
      "source": [
        "\n",
        "n = 100\n",
        "h = 61\n",
        "lik = stats.binom\n",
        "prior = stats.beta(a, b)\n",
        "sigma = 0.05\n",
        "niters = 100\n",
        "\n",
        "chains = [mh_coin(niters, n, h, theta, likelihood, prior, sigma) for theta in np.arange(0.1, 1, 0.2)]"
      ],
      "metadata": {
        "id": "prEf_DbWviQ4"
      },
      "execution_count": null,
      "outputs": []
    },
    {
      "cell_type": "code",
      "source": [
        "# compare multiple chains\n",
        "\n",
        "plt.figure(figsize=(5, 4))\n",
        "\n",
        "for chain in chains:\n",
        "    plt.plot(chain, '-o')\n",
        "\n",
        "plt.xlim([0, niters])\n",
        "plt.ylim([0, 1]);"
      ],
      "metadata": {
        "id": "fhZ7zFdQvltc"
      },
      "execution_count": null,
      "outputs": []
    },
    {
      "cell_type": "markdown",
      "source": [
        "Was this painful to write a sampler by hand?\n",
        "\n",
        "If not, bare in mind that we only wrote the simplest one possible! Sampling algorithms can get very complicated."
      ],
      "metadata": {
        "id": "kK6AWvzqvZnY"
      }
    },
    {
      "cell_type": "markdown",
      "source": [
        "# Probabilistic programming.\n",
        "\n",
        "\n",
        "[Probabilistic programming](https://en.wikipedia.org/wiki/Probabilistic_programming) is a paradigm in computer programming that enables the creation of models and algorithms capable of handling uncertainty and randomness. It combines principles from probability theory and programming to build systems that can reason about uncertain data and make informed decisions. This approach allows developers to express complex models in a natural and intuitive way, enabling tasks such as Bayesian inference, machine learning, and statistical analysis to be performed more effectively.\n",
        "\n",
        "In this section we will give an overview of the modern landscape of probabilistic programming languages (PPLs), and demonstrate abilities of one of them.\n",
        "\n",
        "Familiarity with a PPL will equip participants with a tool allowing them to focus on the scientific problem of interest, while inference is being taken care of by the inference engine. We will show how to use the [NumPyro](https://num.pyro.ai/en/latest/index.html#) library to perform exact Bayesian inference (using Markov Chain Monte Carlo).\n",
        "\n",
        "## Probabilistic programming languages (PPLs)\n",
        "\n",
        "Luckily, we do not need to write a sampler by hand every time, because probabilistic programming languages (PPLs) are there to help.\n",
        "\n",
        "A PPL allows to formalize a Bayesian model and perform inference with the help of powerful algorithms. A user needs to only formulate the model (and maybe chose a sampler) and press the inference button.\n",
        "\n",
        "\n",
        "### 1st generation: Bugs, WinBugs, Jags, etc.\n",
        "\n",
        "- Inference engine based on Monte Carlo methods.\n",
        "\n",
        "- They did not scale to large data samples/high-dimensional models.\n",
        "\n",
        "### 2nd generation: Infer.net, Factorie, Amidst, etc.\n",
        "\n",
        "- Inference engine based on message passage algorithms and/or variational\n",
        "inference methods.\n",
        "\n",
        "- They did scale to large data samples/high-dimensional models.\n",
        "\n",
        "- Restricted probabilistic model family (i.e. factor graphs, conjuage exponential family, etc.)\n",
        "\n",
        "### 3rd generation: Stan, TensorFlow Probability, PyMC3, Pyro, Numpyro, Turing.jl, NIMBLE, Edward, InferPy, etc\n",
        "\n",
        "- Hamiltonian Monte-Carlo, Black Box Variational Inference, etc\n",
        "\n",
        "- They did scale to large data samples/high-dimensional models.\n",
        "\n",
        "- Enable probabilistic models with deep neural networks:\n",
        "  - Rely on deep learning frameworks (TensorFlow, Pytorch, Theano, etc).\n",
        "  - Specialized hardware like GPUs, TPUs, etc.\n",
        "  - Automatic differentiation methods."
      ],
      "metadata": {
        "id": "H_Bft9yOvZkU"
      }
    },
    {
      "cell_type": "markdown",
      "source": [
        "## Introduction to NumPyro\n",
        "\n",
        "[NumPyro](https://num.pyro.ai/en/stable/index.html) is a probabilistic programming library that provides a NumPy backend for Pyro. It relies on JAX for automatic differentiation and JIT compilation to GPU / CPU.\n",
        "\n",
        "NumPyro provides access to a wide range of [probability distributions](https://num.pyro.ai/en/latest/distributions.html).\n",
        "\n",
        "There is a choice of samplers which one can use to perform inference with NumPyro, with particular focus on **MCMC** algorithms."
      ],
      "metadata": {
        "id": "-FmT0msBwGN7"
      }
    },
    {
      "cell_type": "markdown",
      "source": [
        "### [TO DO]: exmplain NumPyro primititves"
      ],
      "metadata": {
        "id": "r0iHADt4hJMM"
      }
    },
    {
      "cell_type": "markdown",
      "source": [
        "### Coin tossing with NumPyro"
      ],
      "metadata": {
        "id": "TNpyXK79wJJL"
      }
    },
    {
      "cell_type": "code",
      "source": [
        "# Numpyro\n",
        "import numpyro\n",
        "import numpyro.distributions as npdist\n",
        "import random as rnd\n",
        "from numpyro.infer import Predictive, init_to_median, MCMC, NUTS\n",
        "from numpyro.diagnostics import hpdi"
      ],
      "metadata": {
        "id": "xsmHvFEuwLA-"
      },
      "execution_count": null,
      "outputs": []
    },
    {
      "cell_type": "code",
      "source": [
        "n = 100    # number of trials\n",
        "h = 61     # number of successes\n",
        "alpha = 2  # hyperparameters\n",
        "beta = 2\n",
        "\n",
        "niter = 1000"
      ],
      "metadata": {
        "id": "fMdCfQvmwMxM"
      },
      "execution_count": null,
      "outputs": []
    },
    {
      "cell_type": "markdown",
      "source": [
        "### Model"
      ],
      "metadata": {
        "id": "4kEaCTbCwO_Z"
      }
    },
    {
      "cell_type": "code",
      "source": [
        "def model(n, alpha=2, beta=2, h=None):\n",
        "\n",
        "    # prior\n",
        "    p = numpyro.sample('p', npdist.Beta(alpha, beta))\n",
        "\n",
        "    # likelihood\n",
        "    numpyro.sample('obs', npdist.Binomial(n, p), obs=h)"
      ],
      "metadata": {
        "id": "78IEWFsBwQle"
      },
      "execution_count": null,
      "outputs": []
    },
    {
      "cell_type": "markdown",
      "source": [
        "### Prior predictive"
      ],
      "metadata": {
        "id": "ye7XY9p6wSl4"
      }
    },
    {
      "cell_type": "code",
      "source": [
        "rng_key = random.PRNGKey(0)\n",
        "rng_key, rng_key_ = random.split(rng_key)\n",
        "prior_predictive = Predictive(model, num_samples=1000)\n",
        "prior_predictions = prior_predictive(rng_key_, n)"
      ],
      "metadata": {
        "id": "vry-uL3-wUUi"
      },
      "execution_count": null,
      "outputs": []
    },
    {
      "cell_type": "code",
      "source": [
        "prior_predictions.keys()"
      ],
      "metadata": {
        "id": "U7bSyOSvwVwN"
      },
      "execution_count": null,
      "outputs": []
    },
    {
      "cell_type": "code",
      "source": [
        "pred_obs = prior_predictions['p']\n",
        "mean_prior_pred = np.mean(pred_obs, axis=0)\n",
        "hpdi_prior_pred = hpdi(pred_obs, 0.89)"
      ],
      "metadata": {
        "id": "l8_PKb4LwXgd"
      },
      "execution_count": null,
      "outputs": []
    },
    {
      "cell_type": "code",
      "source": [
        "plt.figure(figsize=(4, 4))\n",
        "plt.hist(pred_obs, label = \"Prior distribution\", density=True)\n",
        "plt.legend(loc=3)"
      ],
      "metadata": {
        "id": "amiNSgYcwZDN"
      },
      "execution_count": null,
      "outputs": []
    },
    {
      "cell_type": "markdown",
      "source": [
        "### Inference"
      ],
      "metadata": {
        "id": "T5qvv0B9wes4"
      }
    },
    {
      "cell_type": "code",
      "source": [
        "rng_key = random.PRNGKey(0)\n",
        "rng_key, rng_key_ = random.split(rng_key)\n",
        "\n",
        "# specify inference algorithm\n",
        "kernel = NUTS(model)\n",
        "\n",
        "# define number of samples and chains\n",
        "mcmc = MCMC(kernel, num_warmup=1000, num_samples=2000, num_chains=4)"
      ],
      "metadata": {
        "id": "GKUinNIawgdH"
      },
      "execution_count": null,
      "outputs": []
    },
    {
      "cell_type": "code",
      "source": [
        "#run MCMC\n",
        "mcmc.run(rng_key_, n=n, h=h)"
      ],
      "metadata": {
        "id": "Xl9LZnUnwiJs"
      },
      "execution_count": null,
      "outputs": []
    },
    {
      "cell_type": "code",
      "source": [
        "# inpect summary\n",
        "# r_hat is an importnat convergene diagnostoc, we want it to be close to 1\n",
        "mcmc.print_summary()"
      ],
      "metadata": {
        "id": "u8fLXToywjq4"
      },
      "execution_count": null,
      "outputs": []
    },
    {
      "cell_type": "code",
      "source": [
        "# exatract samples of parameter p\n",
        "p_samples = mcmc.get_samples()\n",
        "p_posterior_samples = p_samples['p']"
      ],
      "metadata": {
        "id": "IQWSPmDgwl6F"
      },
      "execution_count": null,
      "outputs": []
    },
    {
      "cell_type": "code",
      "source": [
        "plt.figure(figsize=(4, 4))\n",
        "plt.hist(pred_obs, label = \"Prior distribution\", density=True)\n",
        "plt.hist(p_posterior_samples, label = \"Posterior distribution\", density=True)\n",
        "plt.legend()"
      ],
      "metadata": {
        "id": "uIScfZsYwnox"
      },
      "execution_count": null,
      "outputs": []
    },
    {
      "cell_type": "markdown",
      "source": [
        "### Check convergence"
      ],
      "metadata": {
        "id": "feRqpSuIwrtK"
      }
    },
    {
      "cell_type": "code",
      "source": [
        "import arviz as az"
      ],
      "metadata": {
        "id": "FEYwYmjiwtd8"
      },
      "execution_count": null,
      "outputs": []
    },
    {
      "cell_type": "code",
      "source": [
        "mcmc.print_summary()\n",
        "data = az.from_numpyro(mcmc)\n",
        "az.plot_trace(data, compact=True);"
      ],
      "metadata": {
        "id": "amSa6HLpwvG6"
      },
      "execution_count": null,
      "outputs": []
    },
    {
      "cell_type": "markdown",
      "source": [
        "### Posterior predicitve\n",
        "\n",
        "We can use the obtained samples to generate posterior predictive desitribution on the outcome."
      ],
      "metadata": {
        "id": "AIsNXjmGwxTh"
      }
    },
    {
      "cell_type": "code",
      "source": [
        "rng_key, rng_key_ = random.split(rng_key)\n",
        "predictive = Predictive(model, p_samples)\n",
        "posterior_predictions = predictive(rng_key_, n=n)\n",
        "post_obs = posterior_predictions['obs']"
      ],
      "metadata": {
        "id": "ICXaQt7hwyo8"
      },
      "execution_count": null,
      "outputs": []
    },
    {
      "cell_type": "code",
      "source": [
        "mean_post_pred = np.mean(post_obs, axis=0)\n",
        "hpdi_post_pred = hpdi(post_obs, 0.9)"
      ],
      "metadata": {
        "id": "wda1JXKqw0JG"
      },
      "execution_count": null,
      "outputs": []
    },
    {
      "cell_type": "code",
      "source": [
        "# what is the mean number of successes?\n",
        "mean_post_pred"
      ],
      "metadata": {
        "id": "ESYw4ZSnw2fm"
      },
      "execution_count": null,
      "outputs": []
    },
    {
      "cell_type": "code",
      "source": [
        "# what is the unceratinty around this mean?\n",
        "hpdi_post_pred"
      ],
      "metadata": {
        "id": "uk4fNgBkw343"
      },
      "execution_count": null,
      "outputs": []
    },
    {
      "cell_type": "markdown",
      "source": [
        "**Group task NN:** change hyperparamaters of the model. How are they changing the results?"
      ],
      "metadata": {
        "id": "99cKsK6Zw7Ju"
      }
    },
    {
      "cell_type": "markdown",
      "source": [
        "## Bayesian Linear regression"
      ],
      "metadata": {
        "id": "boF7xN_KxEsb"
      }
    },
    {
      "cell_type": "markdown",
      "source": [
        "### [TO DO]: fix data import from GitHub repo"
      ],
      "metadata": {
        "id": "JcxcsEvzhae-"
      }
    },
    {
      "cell_type": "code",
      "source": [
        "#import pandas as pd\n",
        "#import urllib.request\n",
        "\n",
        "## Download the data file\n",
        "#url = \"https://github.com/elizavetasemenova/indaba-pracs-2023/blob/intro-to-probability/data/Howell1.csv\"\n",
        "#filename = \"Howell.csv\"\n",
        "#urllib.request.urlretrieve(url, filename)\n",
        "\n",
        "## Load data into a DataFrame\n",
        "#df = pd.read_csv(filename)\n",
        "\n",
        "## Display the first few rows of the DataFrame\n",
        "#print(df.head())"
      ],
      "metadata": {
        "id": "MI_prkcUpkyK"
      },
      "execution_count": null,
      "outputs": []
    },
    {
      "cell_type": "code",
      "source": [
        "#!wget https://github.com/elizavetasemenova/indaba-pracs-2023/blob/intro-to-probability/data/Howell1.csv"
      ],
      "metadata": {
        "id": "BFRLT7F0lEUA"
      },
      "execution_count": null,
      "outputs": []
    },
    {
      "cell_type": "code",
      "source": [
        "from google.colab import drive\n",
        "drive.mount('/content/drive')\n",
        "\n",
        "df=pd.read_csv('drive/MyDrive/Howell1.csv', sep=\";\")\n",
        "df.head()"
      ],
      "metadata": {
        "id": "hfniiXt2n4Gv"
      },
      "execution_count": null,
      "outputs": []
    },
    {
      "cell_type": "code",
      "source": [
        "weight = df.weight.values\n",
        "height = df.height.values\n",
        "weight_pred = np.array([45, 40, 65, 31, 53])"
      ],
      "metadata": {
        "id": "ogwGfL8Pxgy4"
      },
      "execution_count": null,
      "outputs": []
    },
    {
      "cell_type": "code",
      "source": [
        "# plot the data\n",
        "plt.figure(figsize=(6, 4))\n",
        "plt.scatter(x='weight', y='height', data=df)"
      ],
      "metadata": {
        "id": "MsnQHl6cxjUV"
      },
      "execution_count": null,
      "outputs": []
    },
    {
      "cell_type": "code",
      "source": [
        "# model\n",
        "\n",
        "def model(weight=None, height=None):\n",
        "\n",
        "    # priors\n",
        "    b0 = numpyro.sample('b0', dist.Normal(120,50))\n",
        "    b1 = numpyro.sample('b1', dist.Normal(0,1))\n",
        "    sigma = numpyro.sample('sigma', dist.HalfNormal(10.))\n",
        "\n",
        "    # deterministic transformation\n",
        "    mu = b0 + b1 * weight\n",
        "\n",
        "    # likelihood\n",
        "    numpyro.sample('obs', dist.Normal(mu, sigma), obs=height)"
      ],
      "metadata": {
        "id": "MWZ5spdHxk3B"
      },
      "execution_count": null,
      "outputs": []
    },
    {
      "cell_type": "code",
      "source": [
        "# prior predictive\n",
        "\n",
        "rng_key = random.PRNGKey(0)\n",
        "rng_key, rng_key_ = random.split(rng_key)\n",
        "prior_predictive = Predictive(model, num_samples=100)\n",
        "prior_predictions = prior_predictive(rng_key_, weight)"
      ],
      "metadata": {
        "id": "CLcWxtBXxmlg"
      },
      "execution_count": null,
      "outputs": []
    },
    {
      "cell_type": "code",
      "source": [
        "prior_predictions.keys()"
      ],
      "metadata": {
        "id": "lJ_bRdVpxoAN"
      },
      "execution_count": null,
      "outputs": []
    },
    {
      "cell_type": "code",
      "source": [
        "pred_obs = prior_predictions['obs']\n",
        "mean_prior_pred = np.mean(pred_obs, axis=0)\n",
        "hpdi_prior_pred = hpdi(pred_obs, 0.89)"
      ],
      "metadata": {
        "id": "gjRE0L0rxrCm"
      },
      "execution_count": null,
      "outputs": []
    },
    {
      "cell_type": "code",
      "source": [
        "def plot_regression(x, y_mean, y_hpdi, height, ttl='Predictions with 89% CI)'):\n",
        "    # Sort values for plotting by x axis\n",
        "    idx = np.argsort(x)\n",
        "    weight = x[idx]\n",
        "    mean = y_mean[idx]\n",
        "    hpdi = y_hpdi[:, idx]\n",
        "    ht = height[idx]\n",
        "\n",
        "    # Plot\n",
        "    fig, ax = plt.subplots(nrows=1, ncols=1, figsize=(6, 6))\n",
        "    ax.plot(weight, mean)\n",
        "    ax.plot(weight, ht, 'o')\n",
        "    ax.fill_between(weight, hpdi[0], hpdi[1], alpha=0.3, interpolate=True)\n",
        "    ax.set(xlabel='weight', ylabel='height', title=ttl);\n",
        "    return ax"
      ],
      "metadata": {
        "id": "eTZrWjSgxs0Z"
      },
      "execution_count": null,
      "outputs": []
    },
    {
      "cell_type": "code",
      "source": [
        "ax = plot_regression(weight, mean_prior_pred, hpdi_prior_pred, height, ttl=\"Prior predictive\")"
      ],
      "metadata": {
        "id": "lw900WcPxvOm"
      },
      "execution_count": null,
      "outputs": []
    },
    {
      "cell_type": "code",
      "source": [
        "# Inference\n",
        "\n",
        "rng_key = random.PRNGKey(0)\n",
        "rng_key, rng_key_ = random.split(rng_key)\n",
        "\n",
        "# Run NUTS.\n",
        "kernel = NUTS(model)\n",
        "mcmc = MCMC(kernel, num_warmup=1000, num_samples=2000, num_chains=4)\n",
        "mcmc.run(rng_key_, weight=weight, height=height)\n",
        "mcmc.print_summary()\n",
        "samples_1 = mcmc.get_samples()"
      ],
      "metadata": {
        "id": "V3buGur5xwwK"
      },
      "execution_count": null,
      "outputs": []
    },
    {
      "cell_type": "code",
      "source": [
        "# Check convergence\n",
        "\n",
        "mcmc.print_summary()\n",
        "data = az.from_numpyro(mcmc)\n",
        "az.plot_trace(data, compact=True);"
      ],
      "metadata": {
        "id": "c8QiMUX6xyQt"
      },
      "execution_count": null,
      "outputs": []
    },
    {
      "cell_type": "code",
      "source": [
        "# Posterior predictive\n",
        "\n",
        "rng_key, rng_key_ = random.split(rng_key)\n",
        "predictive = Predictive(model, samples_1)\n",
        "posterior_predictions = predictive(rng_key_, weight=weight)\n",
        "post_obs = posterior_predictions['obs']\n",
        "\n",
        "mean_post_pred = np.mean(post_obs, axis=0)\n",
        "hpdi_post_pred = hpdi(post_obs, 0.9)\n",
        "\n",
        "ax = plot_regression(weight, mean_post_pred, hpdi_post_pred, height, ttl=\"Posterior predictive\")\n",
        "ax.set(xlabel='weight (scaled)', ylabel='height (scaled)');"
      ],
      "metadata": {
        "id": "4jVdyLI5xz9Q"
      },
      "execution_count": null,
      "outputs": []
    },
    {
      "cell_type": "code",
      "source": [
        "# predict for new data\n",
        "\n",
        "predictive = Predictive(model, samples_1)\n",
        "predictions = predictive(rng_key_, weight=weight_pred)['obs']\n",
        "\n",
        "mean_pred = np.mean(predictions, axis=0)\n",
        "hpdi_pred = hpdi(predictions, 0.89)\n",
        "\n",
        "d = {'weight_pred': weight_pred, 'mean_pred': mean_pred, 'lower': hpdi_pred[0,], 'upper': hpdi_pred[1,]}\n",
        "df_res = pd.DataFrame(data=d)\n",
        "df_res.head()"
      ],
      "metadata": {
        "id": "Qr28ciBLx1oy"
      },
      "execution_count": null,
      "outputs": []
    },
    {
      "cell_type": "markdown",
      "source": [
        "**Group task NN:** modify the model in a way that it fits better (e.g. apply transformations to input data, or try a polynomial)"
      ],
      "metadata": {
        "id": "w_M_ryGxx4kT"
      }
    },
    {
      "cell_type": "code",
      "source": [
        "def model_polyn_2(weight, height=None):\n",
        "\n",
        "    weight_std = (weight - np.mean(weight))/np.std(weight)\n",
        "    weight_std_2 = weight_std ** 2\n",
        "\n",
        "    # priors\n",
        "    b0 = numpyro.sample('b0', dist.Normal(160,20))\n",
        "    b1 = numpyro.sample('b1', dist.Normal(0,5))\n",
        "    b2 = numpyro.sample('b2', dist.Normal(0,5))\n",
        "    sigma = numpyro.sample('sigma', dist.HalfNormal(50.))\n",
        "\n",
        "    mu = b0 + b1 * weight_std + b2 * weight_std_2\n",
        "\n",
        "    # likelihood\n",
        "    numpyro.sample('obs', dist.Normal(mu, sigma), obs=height)"
      ],
      "metadata": {
        "id": "sWzRqSnVqbas"
      },
      "execution_count": null,
      "outputs": []
    },
    {
      "cell_type": "code",
      "source": [
        "# prior predictive\n",
        "rng_key = random.PRNGKey(0)\n",
        "rng_key, rng_key_ = random.split(rng_key)\n",
        "prior_predictive = Predictive(model_polyn_2, num_samples=100)\n",
        "prior_predictions = prior_predictive(rng_key_, weight=weight)\n",
        "pred_obs = prior_predictions['obs']\n",
        "mean_prior_pred = np.mean(pred_obs, axis=0)\n",
        "hpdi_prior_pred = hpdi(pred_obs, 0.89)\n",
        "ax = plot_regression(weight, mean_prior_pred, hpdi_prior_pred, height, ttl=\"Prior predictive\")"
      ],
      "metadata": {
        "id": "N97dquF7qd-t"
      },
      "execution_count": null,
      "outputs": []
    },
    {
      "cell_type": "code",
      "source": [
        "# inference\n",
        "rng_key = random.PRNGKey(0)\n",
        "rng_key, rng_key_ = random.split(rng_key)\n",
        "kernel = NUTS(model_polyn_2)\n",
        "mcmc = MCMC(kernel, num_warmup=1000, num_samples=2000) # same drill - nu multiple chains :(\n",
        "mcmc.run(rng_key_, weight=weight, height=height)\n",
        "mcmc.print_summary()\n",
        "samples_3= mcmc.get_samples()"
      ],
      "metadata": {
        "id": "Di-gKr-KqhAq"
      },
      "execution_count": null,
      "outputs": []
    },
    {
      "cell_type": "code",
      "source": [
        "# posterior predictive\n",
        "rng_key, rng_key_ = random.split(rng_key)\n",
        "predictive = Predictive(model_polyn_2, samples_3)\n",
        "posterior_predictions = predictive(rng_key_, weight=weight)\n",
        "post_obs = posterior_predictions['obs']\n",
        "mean_post_pred = np.mean(post_obs, axis=0)\n",
        "hpdi_post_pred = hpdi(post_obs, 0.9)\n",
        "\n",
        "ax = plot_regression(weight, mean_post_pred, hpdi_post_pred, height, ttl=\"Posterior predictive\")\n",
        "ax.set(xlabel='weight', ylabel='height');"
      ],
      "metadata": {
        "id": "Q4kfGb5iqkJp"
      },
      "execution_count": null,
      "outputs": []
    },
    {
      "cell_type": "markdown",
      "source": [
        "## Outro\n",
        "\n",
        "### How to chose a PPL?\n",
        "\n",
        "- functionality (e.g. availability of discrete parameters)\n",
        "- open to custom distributions (and samplers)\n",
        "- preformance\n",
        "- well documented\n",
        "- abundant library of examples\n",
        "- active (and supportive) community\n",
        "\n",
        "### Take home messages\n",
        "\n",
        "#### 1. Advantages of Bayesian inference\n",
        "\n",
        "- allows to use domain knowledge about the research question\n",
        "- incorporate various sources of knowledge\n",
        "- can answer a broad variety of question by computing desired qunatities from posterior samples\n",
        "- can work with small data\n",
        "\n",
        "#### 2. Disadvantages of Bayesian inference\n",
        "\n",
        "- computationally involved\n",
        "- even running a model in a PPL can take a lot of time\n",
        "- for MCMC moethods convergence is achieved, in theory, only at infinite number of iterations\n",
        "\n",
        "#### 3. PPLs\n",
        "\n",
        "- modern approach to inference\n",
        "- provide the iference \"button\"\n",
        "- only the model needs to be formulated\n",
        "- each PPL has its own syntaxis\n",
        "\n",
        "\n",
        "## Literuature and resources\n",
        "\n",
        "Pyro:\n",
        "- https://pyro.ai/\n",
        "\n",
        "NumPyro:\n",
        "- https://num.pyro.ai/en/stable/index.html"
      ],
      "metadata": {
        "id": "4-QOIDwUyCSp"
      }
    },
    {
      "cell_type": "code",
      "source": [],
      "metadata": {
        "id": "H8i_SYG5x-w7"
      },
      "execution_count": null,
      "outputs": []
    }
  ]
}