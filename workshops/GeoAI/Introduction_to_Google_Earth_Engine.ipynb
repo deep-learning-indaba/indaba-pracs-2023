{
  "cells": [
    {
      "cell_type": "markdown",
      "metadata": {
        "id": "Yo8o-22bt0bK"
      },
      "source": [
        "# Important Prerequisite: Create EE enabled GCP Project\n",
        "Steps to create a new EE enabled project\n",
        "\n",
        "* Visit [code.earthengine.google.com](https://code.earthengine.google.com)\n",
        "  * If you don't have an EE enabled project you will get a pop up. Select\n",
        "    `I WANT TO REGESTER A NEW PROJECT`.\n",
        "  * If you do have an EE enabled project you can stop here (select this project later in `ee.authenticate()` step bellow).\n",
        "* Follow the steps to create the project (make sure to select the `Unpaid usage` option.)\n",
        "* You can either create a new project (via the `Create a new Google Cloud Project` option), or select an existing project (via the `Choose an existing Google Cloud Project` option).\n",
        "* Click `CONFIRM` to finish the process."
      ]
    },
    {
      "cell_type": "code",
      "execution_count": null,
      "metadata": {
        "id": "40PF2MLrJN2h"
      },
      "outputs": [],
      "source": [
        "!pip install country_converter --upgrade"
      ]
    },
    {
      "cell_type": "markdown",
      "metadata": {
        "id": "U_dKI5P7eGci"
      },
      "source": [
        "# Imports and authenticate"
      ]
    },
    {
      "cell_type": "code",
      "execution_count": null,
      "metadata": {
        "id": "-zputpgqeDiF"
      },
      "outputs": [],
      "source": [
        "from datetime import datetime\n",
        "from typing import Any\n",
        "from branca.element import Figure\n",
        "import country_converter as coco\n",
        "import ee\n",
        "import folium\n",
        "import functools\n",
        "import google\n",
        "from google.colab import auth\n",
        "import matplotlib.pyplot as plt\n",
        "import numpy as np\n",
        "import pandas as pd"
      ]
    },
    {
      "cell_type": "code",
      "execution_count": null,
      "metadata": {
        "id": "5ZyjrrlKeH7S"
      },
      "outputs": [],
      "source": [
        "# Trigger the authentication flow.\n",
        "ee.Authenticate()\n",
        "\n",
        "# Initialize the library.\n",
        "ee.Initialize()"
      ]
    },
    {
      "cell_type": "code",
      "execution_count": null,
      "metadata": {
        "id": "TbUV5wWTGFQO",
        "cellView": "form"
      },
      "outputs": [],
      "source": [
        "# @title Visualization method\n",
        "ELEVATION_VISPARAMS = {\n",
        "    'min': 0,\n",
        "    'max': 4000,\n",
        "    'dimensions': 512,\n",
        "    'palette': ['006633', 'E5FFCC', '662A00', 'D8D8D8', 'F5F5F5'],\n",
        "    'opacity': 0.7,\n",
        "}\n",
        "WORLD_POP_VISPARAMS = {\n",
        "    'min': 0,\n",
        "    'max': 300,\n",
        "    'opacity': 0.9,\n",
        "    'palette': ['283618', 'ffffff'],\n",
        "}\n",
        "\n",
        "DYNAMIC_WORLD_VISPARAMS = {\n",
        "    'min': 0,\n",
        "    'max': 8,\n",
        "    'opacity': 0.5,\n",
        "    'palette': [\n",
        "        '419bdf',\n",
        "        '397d49',\n",
        "        '88b053',\n",
        "        '7a87c6',\n",
        "        'e49635',\n",
        "        'dfc35a',\n",
        "        'c4281b',\n",
        "        'a59b8f',\n",
        "        'b39fe1',\n",
        "    ],\n",
        "}\n",
        "\n",
        "DESERTIFICATION_VISPARAMS = {\n",
        "    'min': 0,\n",
        "    'max': 1,\n",
        "    'opacity': 0.5,\n",
        "    'palette': ['344E41', 'E6A644'],\n",
        "}\n",
        "\n",
        "S2_VISPARAMS = {'min': 0.0, 'max': 1.0, 'bands': ['B4', 'B3', 'B2']}\n",
        "\n",
        "\n",
        "def _plot_ee_polygons(\n",
        "    polygons,\n",
        "    name='',\n",
        "    map=None,\n",
        "    border_color='red',\n",
        "    fill_color='transparent',\n",
        "    **kwargs,\n",
        "):\n",
        "  if not map:\n",
        "    map = folium.Map(\n",
        "        location=polygons[0].centroid(1).getInfo()['coordinates'][::-1],\n",
        "        **kwargs,\n",
        "    )\n",
        "\n",
        "  for polygon in polygons:\n",
        "    geo_j = polygon.toGeoJSON()\n",
        "    geo_j = folium.GeoJson(\n",
        "        geo_j,\n",
        "        name=name,\n",
        "        style_function=lambda feature: {\n",
        "            'fillColor': fill_color,\n",
        "            'color': border_color,\n",
        "            'weight': 2,\n",
        "        },\n",
        "    )\n",
        "    geo_j.add_to(map)\n",
        "  return map\n",
        "\n",
        "\n",
        "def _plot_ee_points(\n",
        "    points,\n",
        "    names=None,\n",
        "    map=None,\n",
        "    border_color='red',\n",
        "    fill_color='transparent',\n",
        "    **kwargs,\n",
        "):\n",
        "  if not map:\n",
        "    points_centroid = (\n",
        "        ee.Geometry.MultiPoint(points).centroid().getInfo()['coordinates'][::-1]\n",
        "    )\n",
        "    map = folium.Map(location=points_centroid, **kwargs)\n",
        "\n",
        "  for idx, point in enumerate(points):\n",
        "    lat, lon = point.getInfo()['coordinates']\n",
        "    if names:\n",
        "      point_name = names[idx]\n",
        "    else:\n",
        "      point_name = ''\n",
        "    folium.Marker(\n",
        "        location=[lon, lat],\n",
        "        popup=point_name if point_name else None,\n",
        "    ).add_to(map)\n",
        "  return map\n",
        "\n",
        "\n",
        "def _plot_ee_image(\n",
        "    image, name='', visParams=None, coords=(0, 0), map=None, **kwargs\n",
        "):\n",
        "  # Set visualization parameters.\n",
        "  if not visParams:\n",
        "    visParams = {}\n",
        "  # Create a folium map object.\n",
        "  if not map:\n",
        "    map = folium.Map(location=coords, **kwargs)\n",
        "  mapID = image.getMapId(visParams)\n",
        "  image_layer = folium.raster_layers.TileLayer(\n",
        "      tiles=mapID['tile_fetcher'].url_format,\n",
        "      attr='Map Data © Google Earth Engine',\n",
        "      name=name,\n",
        "      overlay=True,\n",
        "      control=True,\n",
        "  )\n",
        "\n",
        "  image_layer.add_to(map)\n",
        "\n",
        "  return map\n",
        "\n",
        "\n",
        "def _display_map(map, width=800, height=400):\n",
        "  # Add a layer control panel to the map.\n",
        "  map.add_child(folium.LayerControl())\n",
        "  figure = Figure(width=width, height=height)\n",
        "  figure.add_child(map)\n",
        "  return figure"
      ]
    },
    {
      "cell_type": "markdown",
      "metadata": {
        "id": "8I_Fr0L5AFmu"
      },
      "source": [
        "## Test the API\n",
        "\n",
        "Test the API by printing the elevation of Mount Everest."
      ]
    },
    {
      "cell_type": "code",
      "execution_count": null,
      "metadata": {
        "id": "v7pD6pDOAhOW"
      },
      "outputs": [],
      "source": [
        "# Print the elevation of Mount Everest.\n",
        "demo = ee.Image('USGS/SRTMGL1_003')\n",
        "xy = ee.Geometry.Point([86.9250, 27.9881])\n",
        "elev = demo.sample(xy, 30).first().get('elevation').getInfo()\n",
        "print('Mount Everest elevation (m):', elev)"
      ]
    },
    {
      "cell_type": "code",
      "execution_count": null,
      "metadata": {
        "id": "FxmBFjnpGJ_3"
      },
      "outputs": [],
      "source": [
        "map = _plot_ee_image(\n",
        "    demo, 'Elevation Map', visParams=ELEVATION_VISPARAMS, zoom_start=3\n",
        ")\n",
        "_display_map(map)"
      ]
    },
    {
      "cell_type": "markdown",
      "metadata": {
        "id": "xsK23fBUBbGi"
      },
      "source": [
        "# Section 1: Average Land Surface Temperature for a point"
      ]
    },
    {
      "cell_type": "markdown",
      "metadata": {
        "id": "eVzaThMjPMjb"
      },
      "source": [
        "In this section we'll look at a simple usecase for EE: retreive a dataset value at a specific point, for a specific period of time. For this we'll need to familiarize ourselves with the following:\n",
        "* **Defining an ImageCollection**: An Image collection is a sequence of one or more Images (usually across time and space). An ImageCollection can be loaded by pasting an Earth Engine asset ID into the ImageCollection constructor. You can find ImageCollection IDs in the [data catalog](https://developers.google.com/earth-engine/datasets)\n",
        "* Defining ee.Geometry objects.\n",
        "* **Filtering**: Filtering an ImageCollection with respect to time and space.\n",
        "* Execute requests, retreive and parse results.\n",
        "\n",
        "We will use the Land Surface Temperature product [MOD11A1](https://developers.google.com/earth-engine/datasets/catalog/MODIS_061_MOD11A1) from [MODIS](https://developers.google.com/earth-engine/datasets/catalog/modis)"
      ]
    },
    {
      "cell_type": "markdown",
      "metadata": {
        "id": "gejjmOn7c17K"
      },
      "source": [
        "\n",
        "<img src='https://drive.google.com/uc?id=18n7sfrSuOCOh113BBMesITsso3qLJRqx'>"
      ]
    },
    {
      "cell_type": "code",
      "execution_count": null,
      "metadata": {
        "id": "bh2YaOIkbcLq"
      },
      "outputs": [],
      "source": [
        "# Import the MODIS land surface temperature collection.\n",
        "mod11a1 = ee.ImageCollection('MODIS/006/MOD11A1')\n",
        "# Select bands of interest. here LST_Day_1km represents the land surface\n",
        "# temperature while QC_Day is a quality field that is used later to filter the\n",
        "# data.\n",
        "lst = mod11a1.select(['LST_Day_1km', 'QC_Day'])"
      ]
    },
    {
      "cell_type": "code",
      "execution_count": null,
      "metadata": {
        "id": "LxGBwC3BfIPg"
      },
      "outputs": [],
      "source": [
        "cairo_point = ee.Geometry.Point(31.233334, 30.033333)\n",
        "cape_town_point = ee.Geometry.Point(18.424, -33.919)"
      ]
    },
    {
      "cell_type": "code",
      "source": [
        "map = _plot_ee_points(\n",
        "    [cairo_point, cape_town_point], names=['Cairo', 'Cape Town'], zoom_start=3\n",
        ")\n",
        "_display_map(map, width=600, height=600)"
      ],
      "metadata": {
        "id": "wiv_rX3O08-R"
      },
      "execution_count": null,
      "outputs": []
    },
    {
      "cell_type": "code",
      "execution_count": null,
      "metadata": {
        "id": "bUQ95OGMJb5c",
        "cellView": "form"
      },
      "outputs": [],
      "source": [
        "# We specify date range as sometimes there could be no data for a specific day.\n",
        "# The `date` object type can be either a string in the format `YYYY-mm-dd` or\n",
        "# a datetime.datetime object.\n",
        "start_date = '2022-01-01'  # @param {\"type\": \"string\"}\n",
        "end_date = '2022-01-07'  # @param {\"type\": \"string\"}\n",
        "\n",
        "# Compute the average LST, this computational graph will be shared between both\n",
        "# Cairo and Cape Town LST calculation for brevity.\n",
        "avg_lst = (\n",
        "    lst.select('LST_Day_1km')\n",
        "    .filterDate(start_date, end_date)\n",
        "    .mean()\n",
        ")\n",
        "# For each point, sample the LST and execute the computational graph using\n",
        "# `getInfo`.\n",
        "cairo_lst = (\n",
        "    avg_lst.sample(cairo_point, scale=1000)\n",
        "    .first()  # Take the Feature from the single element FeatureCollection.\n",
        "    .get('LST_Day_1km')  # Retreive the property of interest.\n",
        "    .getInfo()  # Execute and get the result.\n",
        ")\n",
        "# Do the same for Cape Town.\n",
        "cape_town_lst = (\n",
        "    avg_lst.sample(cape_town_point, scale=1000)\n",
        "    .first()\n",
        "    .get('LST_Day_1km')\n",
        "    .getInfo()\n",
        ")\n",
        "print(\n",
        "    f'Average LST in Cairo between {start_date} and {end_date} is'\n",
        "    f' {cairo_lst:.2f}'\n",
        ")\n",
        "print(\n",
        "    f'Average LST in Cape Town on {start_date} and {end_date} is'\n",
        "    f' {cape_town_lst:.2f}'\n",
        ")"
      ]
    },
    {
      "cell_type": "markdown",
      "metadata": {
        "id": "PUsiEFZCp36E"
      },
      "source": [
        "# Section 2: Plot LST time series for both Cairo and Cape Town"
      ]
    },
    {
      "cell_type": "markdown",
      "source": [
        "In this section we'll move further than simply retreiving a point value to creating a time-series for those points.\n",
        "For this we'll use the [`getRegion`](https://developers.google.com/earth-engine/apidocs/ee-imagecollection-getregion) which retreives all pixel values for all the images in the collection."
      ],
      "metadata": {
        "id": "B888hezD29xq"
      }
    },
    {
      "cell_type": "code",
      "execution_count": null,
      "metadata": {
        "id": "vQaYVBiyq-83",
        "cellView": "form"
      },
      "outputs": [],
      "source": [
        "# @title Helper functions to process and parse the result\n",
        "def _parse_result_as_df(result: list[list[Any]]) -> pd.DataFrame:\n",
        "  \"\"\"Parses EE's `getRegion(...).getInfo` result format into a pandas dataframe.\n",
        "\n",
        "  Args:\n",
        "    result: A list of lists representing a table. With the first element\n",
        "      containing the column names and the following rows representing the table\n",
        "      content. The table will always contain 4 columns: id, lon, lat and time,\n",
        "      the remaining columns correspond to the bands values.\n",
        "\n",
        "  Returns:\n",
        "    a dataframe of the result table.\n",
        "  \"\"\"\n",
        "  header = result[0]\n",
        "  data = result[1:]\n",
        "  df = pd.DataFrame(data, columns=header)\n",
        "  df['date'] = pd.to_datetime(df['time'], unit='ms')\n",
        "  return df"
      ]
    },
    {
      "cell_type": "code",
      "execution_count": null,
      "metadata": {
        "id": "BJkwGLrsp3p3"
      },
      "outputs": [],
      "source": [
        "start = '2020-01-01'  # @param {\"type\": \"string\"}\n",
        "end = '2022-12-31'  # @param {\"type\": \"string\"}\n",
        "\n",
        "\n",
        "# Fetch time-series for Cairo\n",
        "cairo_lst = (\n",
        "    lst.filterDate(start, end).getRegion(cairo_point, scale=1000).getInfo()\n",
        ")\n",
        "cairo_lst = _parse_result_as_df(cairo_lst)\n",
        "# Fetch time-series for Cape Town.\n",
        "cape_town_lst = (\n",
        "    lst.filterDate(start, end).getRegion(cape_town_point, scale=1000).getInfo()\n",
        ")\n",
        "cape_town_lst = _parse_result_as_df(cape_town_lst)"
      ]
    },
    {
      "cell_type": "code",
      "execution_count": null,
      "metadata": {
        "id": "8Pn_11SavIHe"
      },
      "outputs": [],
      "source": [
        "cairo_lst.head()"
      ]
    },
    {
      "cell_type": "markdown",
      "source": [
        "### Filter pixels with bad quality"
      ],
      "metadata": {
        "id": "e5jxmWeD9FUs"
      }
    },
    {
      "cell_type": "code",
      "execution_count": null,
      "metadata": {
        "id": "gbQzPIJerXr3"
      },
      "outputs": [],
      "source": [
        "def _is_quality_ok(qc: float, threshold=0):\n",
        "  \"\"\"Filter out records with bad quality.\n",
        "\n",
        "  Args:\n",
        "    qc: An 8 bit integer with information on the quality of the corresponding\n",
        "      LST value. More details here\n",
        "      https://developers.google.com/earth-engine/datasets/catalog/MODIS_061_MOD11A1\n",
        "    threshold:  Quality threshold, with two values (0 and 1) as follows\n",
        "      * 0: Only consider good quality data.\n",
        "      * 1: Consider both good and \"other\" quality data.\n",
        "  \"\"\"\n",
        "  assert threshold in (\n",
        "      0,\n",
        "      1,\n",
        "  ), 'the provided threshold is an invalid quality value.'\n",
        "  if pd.isna(qc):\n",
        "    return False\n",
        "  qc = int(qc)\n",
        "  qc = bin(qc)[2:].rjust(8, '0')\n",
        "  if int(qc[-4:-2], 2) > threshold:\n",
        "    return False\n",
        "  return True\n",
        "\n",
        "\n",
        "cairo_lst = cairo_lst[cairo_lst['QC_Day'].apply(_is_quality_ok)]\n",
        "cape_town_lst = cape_town_lst[cape_town_lst['QC_Day'].apply(_is_quality_ok)]"
      ]
    },
    {
      "cell_type": "code",
      "execution_count": null,
      "metadata": {
        "id": "MZo7oXh_u9lT"
      },
      "outputs": [],
      "source": [
        "ax = cairo_lst.plot.scatter(\n",
        "    x='date',\n",
        "    y='LST_Day_1km',\n",
        "    figsize=(10, 4),\n",
        "    label='Cairo',\n",
        ")\n",
        "cape_town_lst.plot.scatter(\n",
        "    x='date',\n",
        "    y='LST_Day_1km',\n",
        "    figsize=(10, 4),\n",
        "    ax=ax,\n",
        "    color='orange',\n",
        "    label='Cape Town',\n",
        ")\n",
        "_ = plt.legend()"
      ]
    },
    {
      "cell_type": "markdown",
      "metadata": {
        "id": "PPoR-8fojxe4"
      },
      "source": [
        "Notice how the graph illustrates the seasons inversion between the northern (Cairo) and southern (Cape Town) hemispheres."
      ]
    },
    {
      "cell_type": "markdown",
      "source": [
        "The plotted temperature above is appears in strange units, This is due to the scaling EE does for precision safety.\n",
        "\n",
        "## Exercise\n",
        "Refer to the documentation of [MOD11A1](https://developers.google.com/earth-engine/datasets/catalog/MODIS_061_MOD11A1) to determine the scaling factor for `LST_Day_1km` band, apply this factor on the time series data we fetched previously and visualize the result."
      ],
      "metadata": {
        "id": "s-rQD2S89XfK"
      }
    },
    {
      "cell_type": "code",
      "source": [
        "def _rescale(lst: float):\n",
        "  if not lst or pd.isna(lst):\n",
        "    return\n",
        "  # TODO: Insert Solution here\n",
        "  pass\n",
        "\n",
        "\n",
        "cairo_lst['LST_Kelvin'] = cairo_lst['LST_Day_1km'].apply(_rescale)\n",
        "cape_town_lst['LST_Kelvin'] = cape_town_lst['LST_Day_1km'].apply(_rescale)\n",
        "\n",
        "if not cairo_lst['LST_Kelvin'].isna().all():\n",
        "  ax = cairo_lst.plot.scatter(\n",
        "      x='date',\n",
        "      y='LST_Kelvin',\n",
        "      figsize=(10, 4),\n",
        "      label='Cairo',\n",
        "  )\n",
        "  cape_town_lst.plot.scatter(\n",
        "      x='date',\n",
        "      y='LST_Kelvin',\n",
        "      figsize=(10, 4),\n",
        "      ax=ax,\n",
        "      color='orange',\n",
        "      label='Cape Town',\n",
        "  )\n",
        "  _ = plt.legend()"
      ],
      "metadata": {
        "id": "qLDPNCpO-4iD"
      },
      "execution_count": null,
      "outputs": []
    },
    {
      "cell_type": "markdown",
      "source": [
        "**Bonus**: Plot the temperature in celsius (as opposed to Kelvin)."
      ],
      "metadata": {
        "id": "zfgv8N4aD8-6"
      }
    },
    {
      "cell_type": "code",
      "source": [
        "def _kelvin_to_celsius(k: float):\n",
        "  if not k or pd.isna(k):\n",
        "    return\n",
        "  # TODO: Insert Solution here\n",
        "  pass\n",
        "\n",
        "cairo_lst['LST_Celsius'] = cairo_lst['LST_Kelvin'].apply(\n",
        "    _kelvin_to_celsius\n",
        ")\n",
        "cape_town_lst['LST_Celsius'] = cape_town_lst['LST_Kelvin'].apply(\n",
        "    _kelvin_to_celsius\n",
        ")\n",
        "\n",
        "if not cairo_lst['LST_Celsius'].isna().all():\n",
        "  ax = cairo_lst.plot.scatter(\n",
        "      x='date',\n",
        "      y='LST_Celsius',\n",
        "      figsize=(10, 4),\n",
        "      label='Cairo',\n",
        "  )\n",
        "  cape_town_lst.plot.scatter(\n",
        "      x='date',\n",
        "      y='LST_Celsius',\n",
        "      figsize=(10, 4),\n",
        "      ax=ax,\n",
        "      color='orange',\n",
        "      label='Cape Town',\n",
        "  )\n",
        "  _ = plt.legend()"
      ],
      "metadata": {
        "id": "VlSWUersASYh"
      },
      "execution_count": null,
      "outputs": []
    },
    {
      "cell_type": "code",
      "source": [
        "# @title [Uncomment for solution]\n",
        "# def _rescale_and_convert_to_celsius(lst: float):\n",
        "#   if not lst or pd.isna(lst):\n",
        "#     return\n",
        "#   return 0.02 * lst - 273.15\n",
        "\n",
        "\n",
        "# cairo_lst['LST_Celsius'] = cairo_lst['LST_Day_1km'].apply(\n",
        "#     _rescale_and_convert_to_celsius\n",
        "# )\n",
        "# cape_town_lst['LST_Celsius'] = cape_town_lst['LST_Day_1km'].apply(\n",
        "#     _rescale_and_convert_to_celsius\n",
        "# )\n",
        "\n",
        "# ax = cairo_lst.plot.scatter(\n",
        "#     x='date',\n",
        "#     y='LST_Celsius',\n",
        "#     figsize=(10, 4),\n",
        "#     label='Cairo',\n",
        "# )\n",
        "# cape_town_lst.plot.scatter(\n",
        "#     x='date',\n",
        "#     y='LST_Celsius',\n",
        "#     figsize=(10, 4),\n",
        "#     ax=ax,\n",
        "#     color='orange',\n",
        "#     label='Cape Town',\n",
        "# )\n",
        "# _ = plt.legend()"
      ],
      "metadata": {
        "cellView": "form",
        "id": "p25CjVm4_aFz"
      },
      "execution_count": null,
      "outputs": []
    },
    {
      "cell_type": "markdown",
      "metadata": {
        "id": "cI4a2s-GBm6F"
      },
      "source": [
        "# Section 3: Population counting"
      ]
    },
    {
      "cell_type": "markdown",
      "metadata": {
        "id": "Pq_CyM2G99bT"
      },
      "source": [
        "In this section we want to find the population  over regions. For this we ues the [WorldPop](https://developers.google.com/earth-engine/datasets/catalog/WorldPop_GP_100m_pop?hl=en#bands) dataset. We'll explore different ways of how to formulate this problem."
      ]
    },
    {
      "cell_type": "code",
      "execution_count": null,
      "metadata": {
        "id": "OhpU2TmDMHy5"
      },
      "outputs": [],
      "source": [
        "# @title Choose a country to focus on. {run: 'auto'}\n",
        "selected_country = 'Ghana' #@param ['East Africa', 'West Africa', 'Algeria', 'Angola', 'Austria', 'Belgium', 'Benin', 'Botswana', 'Bulgaria', 'Burkina Faso', 'Burundi', 'Cameroon', 'Central African Rep.', 'Chad', 'Congo (Brazzaville)', 'Congo (Kinshasa)', 'Croatia', 'Cyprus', 'Czech Rep.', 'Denmark', 'Djibouti', 'Egypt', 'Eq. Guinea', 'Eritrea', 'Estonia', 'Ethiopia', 'Finland', 'France', 'Gabon', 'Gambia', 'Germany', 'Ghana', 'Greece', 'Guinea', 'Guinea Bissau', 'Hungary', 'Ireland', 'Italy', 'Ivory Coast', 'Kenya', 'Latvia', 'Lesotho', 'Liberia', 'Libya', 'Lithuania', 'Luxembourg', 'Madagascar', 'Malawi', 'Mali', 'Mauritania', 'Morocco', 'Mozambique', 'Namibia', 'Netherlands', 'Niger', 'Nigeria', 'Poland', 'Portugal', 'Romania', 'Rwanda', 'S. Sudan', 'Senegal', 'Sierra Leone', 'Slovakia', 'Slovenia', 'Somalia', 'South Africa', 'Spain', 'Sudan', 'Swaziland', 'Sweden', 'Tanzania', 'Togo', 'Tunisia', 'Uganda', 'United Kingdom', 'Zambia', 'Zimbabwe']\n",
        "country_code = coco.convert(selected_country, to='ISO3')"
      ]
    },
    {
      "cell_type": "code",
      "execution_count": null,
      "metadata": {
        "id": "ed-Qt-afMAwk"
      },
      "outputs": [],
      "source": [
        "world_pop = ee.ImageCollection(\"WorldPop/GP/100m/pop\")"
      ]
    },
    {
      "cell_type": "code",
      "execution_count": null,
      "metadata": {
        "id": "KCR7-UzeYdBm"
      },
      "outputs": [],
      "source": [
        "image = (\n",
        "    world_pop.filterDate('2020', '2021')\n",
        "    .filter(ee.Filter.eq('country', country_code))\n",
        "    .first()\n",
        ")\n",
        "map = _plot_ee_image(\n",
        "    image,\n",
        "    f'{selected_country} population map',\n",
        "    zoom_start=7,\n",
        "    coords=image.geometry().centroid(1).getInfo()['coordinates'][::-1],\n",
        "    visParams=WORLD_POP_VISPARAMS,\n",
        ")\n",
        "_display_map(map, width=600, height=600)"
      ]
    },
    {
      "cell_type": "markdown",
      "source": [
        "You will explore mapping reduction operations over feature collections.\n",
        "* **Map**: EE makes it easy to compute and abstract operations over over collections using the [`ImageCollection.map`](https://developers.google.com/earth-engine/apidocs/ee-imagecollection-map) method. It maps any funtion *`func`* that takes an `ee.Image` and produce a `ee.Feature` like object.\n",
        "* **Image.reduceRegions**: Applies a reduction of the image over a list of geometries (represented as `FeatureCollections`)."
      ],
      "metadata": {
        "id": "JhmXNKsgXmo_"
      }
    },
    {
      "cell_type": "markdown",
      "source": [
        "<img src='https://drive.google.com/uc?id=1LIn7vFANH16H540Uk3p4usvZC8bM86fe'>"
      ],
      "metadata": {
        "id": "beD8wcv9Xsj2"
      }
    },
    {
      "cell_type": "markdown",
      "metadata": {
        "id": "HOs83I-00fQv"
      },
      "source": [
        "## Using a bounding box"
      ]
    },
    {
      "cell_type": "markdown",
      "source": [
        "As a naive way of counting population, we'll consider a hand picked bounding box over as a proxy for a region geometry. We'll explore more precise ways of defining region boundaries in the next section."
      ],
      "metadata": {
        "id": "pdzBa92EHMw9"
      }
    },
    {
      "cell_type": "code",
      "execution_count": null,
      "metadata": {
        "id": "Ybg-0ZUJNpNp"
      },
      "outputs": [],
      "source": [
        "# You can use http://bboxfinder.com to draw bounding boxes.\n",
        "min_lng = -0.450011  # @param {\"type\": \"number\"}\n",
        "min_lat = 5.504414  # @param {\"type\": \"number\"}\n",
        "max_lng = 0.040598  # @param {\"type\": \"number\"}\n",
        "max_lat = 5.801311  # @param {\"type\": \"number\"}\n",
        "bbox = ee.Geometry.BBox(min_lng, min_lat, max_lng, max_lat)\n",
        "\n",
        "map = _plot_ee_polygons([bbox], 'Accra Bounding Box', zoom_start=10)\n",
        "map = _plot_ee_image(image, 'WorldPop', visParams=WORLD_POP_VISPARAMS, map=map)\n",
        "_display_map(map)"
      ]
    },
    {
      "cell_type": "code",
      "execution_count": null,
      "metadata": {
        "id": "UfLThmZ75hvF",
        "cellView": "form"
      },
      "outputs": [],
      "source": [
        "# @title Helper function for parsing the result.\n",
        "def _parse_reduce_region_result(result):\n",
        "  properties = [{**f['properties'], 'id': f['id']} for f in result['features']]\n",
        "  df = pd.DataFrame(properties)\n",
        "  return df"
      ]
    },
    {
      "cell_type": "code",
      "execution_count": null,
      "metadata": {
        "id": "BzqCB1Z7UTsK"
      },
      "outputs": [],
      "source": [
        "def _get_sum_over_geometry(\n",
        "    image: ee.Image, geometry_collection: ee.FeatureCollection\n",
        ") -> ee.FeatureCollection:\n",
        "  \"\"\"Reduces `image` values using `sum` over one or more geometry features.\n",
        "\n",
        "  Args:\n",
        "    image: Image to reduce.\n",
        "    geometry_collection: Collection of polygon-like features (e.g. bbox,\n",
        "      polygon, multipolygon) to reduce over.\n",
        "\n",
        "  Returns:\n",
        "    A feature collection with each feature representing the reduction of `image`\n",
        "    over the corresponding geometry from `geometry_collection`.\n",
        "  \"\"\"\n",
        "  result = image.reduceRegions(\n",
        "      geometry_collection,\n",
        "      ee.Reducer.sum(),\n",
        "  )\n",
        "  # Remove the geometry data from the feature to reduce the size of the returned\n",
        "  # data via `getInfo`.\n",
        "  result = result.map(lambda f: ee.Feature(None, f.toDictionary()))\n",
        "  return result\n",
        "\n",
        "\n",
        "bbox_feature = ee.Feature(bbox)\n",
        "bbox_population = (\n",
        "    world_pop.filter(ee.Filter.eq('country', country_code))\n",
        "    .map(lambda image: _get_sum_over_geometry(image, [bbox_feature]))\n",
        "    # Since each mapped call returns a feature collection, flatten the\n",
        "    # collection of collections.\n",
        "    .flatten()\n",
        "    .getInfo()\n",
        ")\n",
        "bbox_df = _parse_reduce_region_result(bbox_population)\n",
        "# Parse the year from the id field.\n",
        "bbox_df['year'] = pd.to_datetime(bbox_df['id'].apply(lambda s: s[4:8]))\n",
        "bbox_df.set_index('year')['sum'].plot(\n",
        "    figsize=(10, 4),\n",
        "    title='Approximate population with a Bounding Box.',\n",
        "    marker='o',\n",
        ")"
      ]
    },
    {
      "cell_type": "markdown",
      "metadata": {
        "id": "Uu2X3y2PBOXA"
      },
      "source": [
        "## Using Standard polygons from the FAO."
      ]
    },
    {
      "cell_type": "markdown",
      "metadata": {
        "id": "wsq4j65NBWdO"
      },
      "source": [
        "[FAO GAUL](https://developers.google.com/earth-engine/datasets/catalog/FAO_GAUL_2015_level1) provide polygons for first level administrative regions worldwide. We'll use these as geometries to reduce over, providing a convenient way of population data extraction that can be done everywhere in the world.\n",
        "Other polygon datasets\n",
        "* [FAO GAUL Admin 0](https://developers.google.com/earth-engine/datasets/catalog/FAO_GAUL_2015_level0): Country level polygons.\n",
        "* [FAO GAUL Admin 2](https://developers.google.com/earth-engine/datasets/catalog/FAO_GAUL_2015_level2): Locality level polygons."
      ]
    },
    {
      "cell_type": "code",
      "execution_count": null,
      "metadata": {
        "id": "De3NHKN-DTds"
      },
      "outputs": [],
      "source": [
        "admin_boundaries = ee.FeatureCollection(\"FAO/GAUL/2015/level1\")"
      ]
    },
    {
      "cell_type": "code",
      "execution_count": null,
      "metadata": {
        "id": "i1PBSM-CS_F2"
      },
      "outputs": [],
      "source": [
        "selected_admins = admin_boundaries.filter(\n",
        "    ee.Filter.eq('ADM0_NAME', selected_country)\n",
        ")\n",
        "admins_geometries = [\n",
        "    ee.Geometry.MultiPolygon(f['geometry']['coordinates'])\n",
        "    for f in selected_admins.getInfo()['features']\n",
        "]"
      ]
    },
    {
      "cell_type": "code",
      "execution_count": null,
      "metadata": {
        "id": "mYIkeO0sFafe"
      },
      "outputs": [],
      "source": [
        "map = _plot_ee_polygons(admins_geometries, name=f'{selected_country} administrative boundaries', zoom_start=7, border_color='Blue', fill_color='cyan')\n",
        "_display_map(map)"
      ]
    },
    {
      "cell_type": "code",
      "execution_count": null,
      "metadata": {
        "id": "tDaDrF1BHRYr"
      },
      "outputs": [],
      "source": [
        "population_series_by_admin = (\n",
        "    world_pop.select('population')\n",
        "    .filter(ee.Filter.eq('country', 'GHA'))\n",
        "    .filterDate('2005-01-01', '2021-01-01')\n",
        "    .map(lambda image: _get_sum_over_geometry(image, selected_admins))\n",
        "    .flatten()\n",
        ")"
      ]
    },
    {
      "cell_type": "code",
      "execution_count": null,
      "metadata": {
        "id": "DmJ9kGyJF9cx"
      },
      "outputs": [],
      "source": [
        "population_series_by_admin = population_series_by_admin.getInfo()\n",
        "population_df = _parse_reduce_region_result(population_series_by_admin)\n",
        "# Parse the year from the id field.\n",
        "population_df['year'] = pd.to_datetime(\n",
        "    population_df['id'].apply(lambda s: s[4:8])\n",
        ")"
      ]
    },
    {
      "cell_type": "code",
      "execution_count": null,
      "metadata": {
        "id": "mcY3Wz8aM0nd"
      },
      "outputs": [],
      "source": [
        "population_df.set_index('year').groupby('ADM1_NAME')['sum'].plot(\n",
        "    legend=True,\n",
        "    figsize=(20, 8),\n",
        "    ylabel='Estimated Population',\n",
        "    title=f'Population of administrative regions in {selected_country}',\n",
        "    marker='o',\n",
        ")\n",
        "plt.legend()"
      ]
    },
    {
      "cell_type": "markdown",
      "source": [
        "### Excersise\n",
        "Go through this section again but with a different country."
      ],
      "metadata": {
        "id": "sSDkpMvypzuw"
      }
    },
    {
      "cell_type": "markdown",
      "metadata": {
        "id": "sM5tWR9KhCP8"
      },
      "source": [
        "# Section 4: Desertification mapping with Dynamic World"
      ]
    },
    {
      "cell_type": "markdown",
      "metadata": {
        "id": "7irLH39-nkFB"
      },
      "source": [
        "[Dynamic World](https://developers.google.com/earth-engine/datasets/catalog/GOOGLE_DYNAMICWORLD_V1) is a Sentinel-2 based product that classifies land surface into one of the following classes\n",
        "1. Water\n",
        "2. Trees\n",
        "3. Grass\n",
        "4. Flooded Vegetation\n",
        "5. Crops\n",
        "6. Shrub and Scrub\n",
        "7. Built land\n",
        "8. Bare land\n",
        "9. Snow and Ice"
      ]
    },
    {
      "cell_type": "code",
      "source": [
        "dynamic_world = ee.ImageCollection('GOOGLE/DYNAMICWORLD/V1')\n",
        "sentinel_2 = ee.ImageCollection('COPERNICUS/S2_HARMONIZED')\n",
        "\n",
        "image = (\n",
        "    dynamic_world.filterDate('2022-01-01', '2023-01-01')\n",
        "    .select('label')\n",
        "    .mosaic()\n",
        ")\n",
        "map = _plot_ee_image(\n",
        "    image,\n",
        "    name='Dynamic world',\n",
        "    zoom_start=16,\n",
        "    coords=(5.6515477, -0.1868334),\n",
        "    visParams=DYNAMIC_WORLD_VISPARAMS,\n",
        ")\n",
        "_display_map(map)"
      ],
      "metadata": {
        "id": "bNk5ABW7qhyb"
      },
      "execution_count": null,
      "outputs": []
    },
    {
      "cell_type": "markdown",
      "metadata": {
        "id": "icxvw64Kv3gD"
      },
      "source": [
        "In this section we'll define a simple algorithm to detect desertification between year $i$ and $j$ where $i < j$.\n",
        "Using dynamic world:\n",
        "* For each pixel in the world we'll take the `mode` Dynamic World class throughout both year `i` and `j` to get $Mo_i$ and $Mo_j$.\n",
        "* The pixel is classified as desertification if and only if\n",
        " $$Mo_i \\in \\{trees, grass, crops\\}$$ and\n",
        " $$Mo_j = bare$$"
      ]
    },
    {
      "cell_type": "code",
      "execution_count": null,
      "metadata": {
        "id": "W_O9TWiehHTC"
      },
      "outputs": [],
      "source": [
        "YEAR_i = 2015  # @param {\"type\": \"number\"}\n",
        "YEAR_j = 2023  # @param {\"type\": \"number\"}\n",
        "class_labels = [\n",
        "    \"water\",\n",
        "    \"trees\",\n",
        "    \"grass\",\n",
        "    \"flooded_vegetation\",\n",
        "    \"crops\",\n",
        "    \"shrub_and_scrub\",\n",
        "    \"built\",\n",
        "    \"bare\",\n",
        "    \"snow_and_ice\",\n",
        "]\n",
        "DW_PROBABILITY_THRESHOLD = 0.40  # @param {\"type\": \"number\"}\n",
        "\n",
        "\n",
        "def _get_masked_dw_image_for_year(year):\n",
        "  # First, in order to ensure we have full coverage over the entire world (with\n",
        "  # sufficient pixels without clouds) we form a full image over the earth by\n",
        "  # calculating tthe mean\n",
        "  dw_interval = dynamic_world.filterDate(f\"{year}-01-01\", f\"{year}-12-31\")\n",
        "  mask = (\n",
        "      dw_interval.select(class_labels)\n",
        "      .mean()\n",
        "      .reduce(ee.Reducer.max())\n",
        "      .gte(DW_PROBABILITY_THRESHOLD)\n",
        "  )\n",
        "  dw_image = dw_interval.select(\"label\").mode().mask(mask)\n",
        "  return dw_image\n",
        "\n",
        "\n",
        "def _get_sentinel_2_image_for_date(year):\n",
        "  s2_image = (\n",
        "      sentinel_2.filterDate(f\"{year}-01-01\", f\"{year}-12-31\")\n",
        "      .filter(ee.Filter.lt(\"CLOUDY_PIXEL_PERCENTAGE\", 10))\n",
        "      .select([\"B4\", \"B3\", \"B2\"])\n",
        "      # Construct a mosaic out of the sentinel-2 images.\n",
        "      .mosaic()\n",
        "      .multiply(0.0001)\n",
        "  )\n",
        "  return s2_image\n",
        "\n",
        "\n",
        "dw_i = _get_masked_dw_image_for_year(YEAR_i)\n",
        "dw_j = _get_masked_dw_image_for_year(YEAR_j)\n",
        "\n",
        "s2_i = _get_sentinel_2_image_for_date(YEAR_i)\n",
        "s2_j = _get_sentinel_2_image_for_date(YEAR_j)"
      ]
    },
    {
      "cell_type": "code",
      "execution_count": null,
      "metadata": {
        "id": "l8_jqSRLiiif"
      },
      "outputs": [],
      "source": [
        "def _is_dw_green(dw_image):\n",
        "  # trees, grass, crops\n",
        "  green_labels = [1, 2, 4, 5]\n",
        "\n",
        "  green_image = dw_image.eq(green_labels[0])\n",
        "  for other_green_label in green_labels:\n",
        "    green_image = green_image.Or(dw_image.eq(other_green_label))\n",
        "  return green_image\n",
        "\n",
        "\n",
        "green_i = _is_dw_green(dw_i)\n",
        "bare_j = dw_j.eq(7)\n",
        "desertification = green_i.And(bare_j).unmask(0)"
      ]
    },
    {
      "cell_type": "code",
      "execution_count": null,
      "metadata": {
        "id": "bV180H0K2s-z"
      },
      "outputs": [],
      "source": [
        "map = _plot_ee_image(\n",
        "    desertification,\n",
        "    name='Desertification',\n",
        "    visParams=DESERTIFICATION_VISPARAMS,\n",
        "    zoom_start=11,\n",
        "    coords=(18.1008527, 33.9783173),\n",
        ")\n",
        "map = _plot_ee_image(s2_i, f'S2 {YEAR_i}', visParams=S2_VISPARAMS, map=map)\n",
        "map = _plot_ee_image(s2_j, f'S2 {YEAR_j}', visParams=S2_VISPARAMS, map=map)\n",
        "map = _plot_ee_image(\n",
        "    dw_i,\n",
        "    f'Dynamic World {YEAR_i}',\n",
        "    visParams=DYNAMIC_WORLD_VISPARAMS,\n",
        "    map=map,\n",
        ")\n",
        "map = _plot_ee_image(\n",
        "    dw_j,\n",
        "    f'Dynamic World {YEAR_j}',\n",
        "    visParams=DYNAMIC_WORLD_VISPARAMS,\n",
        "    map=map,\n",
        ")\n",
        "\n",
        "_display_map(map)"
      ]
    },
    {
      "cell_type": "markdown",
      "source": [
        "# Further reading"
      ],
      "metadata": {
        "id": "EJOhii_gfzAQ"
      }
    },
    {
      "cell_type": "markdown",
      "source": [
        "* [EE Community tutorials](https://developers.google.com/earth-engine/tutorials/community/intro-to-python-api): These are tutorials made by the GEE users community. It provides both good introduction to how to use EE with Python and cool geospatial applications at the same time."
      ],
      "metadata": {
        "id": "4c0_8kKDtupi"
      }
    },
    {
      "cell_type": "code",
      "source": [],
      "metadata": {
        "id": "Waj5mpRvg_pJ"
      },
      "execution_count": null,
      "outputs": []
    }
  ],
  "metadata": {
    "colab": {
      "provenance": [],
      "toc_visible": true
    },
    "kernelspec": {
      "display_name": "Python 3",
      "name": "python3"
    },
    "language_info": {
      "name": "python"
    }
  },
  "nbformat": 4,
  "nbformat_minor": 0
}